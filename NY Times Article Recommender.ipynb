{
 "cells": [
  {
   "cell_type": "markdown",
   "metadata": {},
   "source": [
    "### Article Selection\n",
    "API calls are made making use of NY Times Developer platform. This will extract metadata and article snippets from NY Times archives based on the search conditions used. API will primarily use the news_desk attribute to import specific number of articles from each section. The sectional topics to be used are listed out in the developer website with over 100 topics available. Peripheral topics based on city/regional news, obituaries, job advertisments, classifieds, booming, crosswords etc. are excluded to work with only general topics."
   ]
  },
  {
   "cell_type": "code",
   "execution_count": 1,
   "metadata": {},
   "outputs": [
    {
     "data": {
      "text/html": [
       "<div>\n",
       "<style>\n",
       "    .dataframe thead tr:only-child th {\n",
       "        text-align: right;\n",
       "    }\n",
       "\n",
       "    .dataframe thead th {\n",
       "        text-align: left;\n",
       "    }\n",
       "\n",
       "    .dataframe tbody tr th {\n",
       "        vertical-align: top;\n",
       "    }\n",
       "</style>\n",
       "<table border=\"1\" class=\"dataframe\">\n",
       "  <thead>\n",
       "    <tr style=\"text-align: right;\">\n",
       "      <th></th>\n",
       "      <th>Section</th>\n",
       "    </tr>\n",
       "  </thead>\n",
       "  <tbody>\n",
       "    <tr>\n",
       "      <th>0</th>\n",
       "      <td>Adventure Sports</td>\n",
       "    </tr>\n",
       "    <tr>\n",
       "      <th>1</th>\n",
       "      <td>Arts &amp; Leisure</td>\n",
       "    </tr>\n",
       "    <tr>\n",
       "      <th>2</th>\n",
       "      <td>Arts</td>\n",
       "    </tr>\n",
       "    <tr>\n",
       "      <th>3</th>\n",
       "      <td>Automobiles</td>\n",
       "    </tr>\n",
       "    <tr>\n",
       "      <th>4</th>\n",
       "      <td>Blogs</td>\n",
       "    </tr>\n",
       "  </tbody>\n",
       "</table>\n",
       "</div>"
      ],
      "text/plain": [
       "            Section\n",
       "0  Adventure Sports\n",
       "1    Arts & Leisure\n",
       "2              Arts\n",
       "3       Automobiles\n",
       "4             Blogs"
      ]
     },
     "execution_count": 1,
     "metadata": {},
     "output_type": "execute_result"
    }
   ],
   "source": [
    "import pandas as pd\n",
    "import numpy as np\n",
    "import warnings\n",
    "\n",
    "warnings.filterwarnings('ignore')\n",
    "\n",
    "news_desk = pd.read_csv(\"data/news_desk.csv\")\n",
    "\n",
    "news_desk.head()"
   ]
  },
  {
   "cell_type": "markdown",
   "metadata": {},
   "source": [
    "### API Calls\n",
    "API calling will build a basic framework for extracting articles in bulk from the NY Times website. Due to the rate limiting restriction put up by NY Times, a decorater is used to make dynamic function calls so that the API requests do not exceed 1 call/second. There is also a day-wise limit of 1000 calls. An additional feature is added which will parallelize this process making use of multiple CPU cores and this will speed things up a bit. Brief description of Lock() function used for rate limiting can be found here."
   ]
  },
  {
   "cell_type": "code",
   "execution_count": 1,
   "metadata": {},
   "outputs": [],
   "source": [
    "import time, threading\n",
    "\n",
    "def rate_limited(max_per_second):\n",
    "  '''Decorator that make functions not to be called faster than 1 call/second'''\n",
    "  lock = threading.Lock()\n",
    "  minInterval = 1.0 / float(max_per_second)\n",
    "  def decorate(func):\n",
    "    lastTimeCalled = [0.0]\n",
    "    def rateLimitedFunction(args,*kargs):\n",
    "      lock.acquire()\n",
    "      elapsed = time.clock() - lastTimeCalled[0]\n",
    "      leftToWait = minInterval - elapsed\n",
    "      if leftToWait>0:\n",
    "        time.sleep(leftToWait)\n",
    "      lock.release()\n",
    "      ret = func(args,*kargs)\n",
    "      lastTimeCalled[0] = time.clock()\n",
    "      return ret\n",
    "    return rateLimitedFunction\n",
    "  return decorate\n",
    "\n",
    "\n",
    "from threading import Thread\n",
    "import requests\n",
    "\n",
    "@rate_limited(0.9)\n",
    "def process_id(id):\n",
    "    try:\n",
    "        r = requests.get(url % id)\n",
    "        json_data = r.json()\n",
    "        print('Appended '+str(page_index.index(id))+ ' out of '+ str(len(page_index)))\n",
    "        return json_data\n",
    "    except:\n",
    "        json_data = ''\n",
    "        print('Skipping...')\n",
    "        return json_data\n",
    "\n",
    "def process_range(id_range, store=None):\n",
    "    if store is None:\n",
    "        store = {}\n",
    "    for id in id_range:\n",
    "        store[id] = process_id(id)\n",
    "    return store\n",
    "\n",
    "\n",
    "def threaded_process_range(nthreads, id_range):\n",
    "    store = {}\n",
    "    threads = []\n",
    "\n",
    "    for i in range(nthreads):\n",
    "        ids = id_range[i::nthreads]\n",
    "        t = Thread(target=process_range, args=(ids,store))\n",
    "        threads.append(t)\n",
    "\n",
    "    [t.start() for t in threads]\n",
    "    [t.join() for t in threads]\n",
    "    return store\n",
    "\n",
    "news_desk = list(news_desk['Section'])\n",
    "base_url = 'https://api.nytimes.com/svc/search/v2/articlesearch.json?api-key=a141a689509b459ba12e2b93b83883fd'\n",
    "\n",
    "article_raw = []\n",
    "for nd in news_desk[65:67]:\n",
    "    param_url = '&fq=news_desk:'+str(nd)+'&sort=newest&page=%s'\n",
    "    url = base_url + param_url\n",
    "    print(str(nd)+\":\")\n",
    "    page_index = list(range(7))\n",
    "    try:\n",
    "        articles_1 = threaded_process_range(2, page_index)\n",
    "        articles_2 = [articles_1[k]['response']['docs'] for k in page_index if (type(articles_1[k]) is dict) and ('response' in articles_1[k])]\n",
    "        articles_3 = [item for sublist in articles_2 for item in sublist]\n",
    "        articles_4 = [{key:item[key] for key in ['web_url','pub_date']} for item in articles_3]\n",
    "        articles_5 = pd.DataFrame(articles_4)\n",
    "        articles_5['news_desk'] = str(nd)\n",
    "        article_raw.append(articles_5)\n",
    "    except:\n",
    "        print('Skipping...')\n",
    "\n",
    "url_data = pd.concat(article_raw).reset_index(drop = True)\n",
    "#url_data.to_csv('data/url_data.csv', index = False)\n"
   ]
  },
  {
   "cell_type": "markdown",
   "metadata": {},
   "source": [
    "### Web Scraping\n",
    "Using the metadata obtained from API calls, the specific URLs with the BeautifulSoup package scraped the article text data. A decorater was used along with the scrape function to limit the rate. URLs with videos/slideshows are excluded from the dataset as they do not have text data. The article content is enclosed within 'p' tags and a loop was used to extract all article content. Article length frequency distribution is observed to exclude articles which failed to scrape meaningful content. Such articles can be identified by high bars in the graph with small article lengths."
   ]
  },
  {
   "cell_type": "code",
   "execution_count": 56,
   "metadata": {
    "scrolled": true
   },
   "outputs": [
    {
     "name": "stderr",
     "output_type": "stream",
     "text": [
      "/Users/saketguddeti/anaconda3/lib/python3.6/site-packages/ipykernel_launcher.py:47: RuntimeWarning: invalid value encountered in less\n"
     ]
    },
    {
     "data": {
      "text/html": [
       "\n",
       "    <div class=\"bk-root\">\n",
       "        <a href=\"http://bokeh.pydata.org\" target=\"_blank\" class=\"bk-logo bk-logo-small bk-logo-notebook\"></a>\n",
       "        <span id=\"465ad42f-075d-4e26-953c-8f284baaa353\">Loading BokehJS ...</span>\n",
       "    </div>"
      ]
     },
     "metadata": {},
     "output_type": "display_data"
    },
    {
     "data": {
      "application/javascript": [
       "\n",
       "(function(global) {\n",
       "  function now() {\n",
       "    return new Date();\n",
       "  }\n",
       "\n",
       "  var force = true;\n",
       "\n",
       "  if (typeof (window._bokeh_onload_callbacks) === \"undefined\" || force === true) {\n",
       "    window._bokeh_onload_callbacks = [];\n",
       "    window._bokeh_is_loading = undefined;\n",
       "  }\n",
       "\n",
       "\n",
       "  \n",
       "  if (typeof (window._bokeh_timeout) === \"undefined\" || force === true) {\n",
       "    window._bokeh_timeout = Date.now() + 5000;\n",
       "    window._bokeh_failed_load = false;\n",
       "  }\n",
       "\n",
       "  var NB_LOAD_WARNING = {'data': {'text/html':\n",
       "     \"<div style='background-color: #fdd'>\\n\"+\n",
       "     \"<p>\\n\"+\n",
       "     \"BokehJS does not appear to have successfully loaded. If loading BokehJS from CDN, this \\n\"+\n",
       "     \"may be due to a slow or bad network connection. Possible fixes:\\n\"+\n",
       "     \"</p>\\n\"+\n",
       "     \"<ul>\\n\"+\n",
       "     \"<li>re-rerun `output_notebook()` to attempt to load from CDN again, or</li>\\n\"+\n",
       "     \"<li>use INLINE resources instead, as so:</li>\\n\"+\n",
       "     \"</ul>\\n\"+\n",
       "     \"<code>\\n\"+\n",
       "     \"from bokeh.resources import INLINE\\n\"+\n",
       "     \"output_notebook(resources=INLINE)\\n\"+\n",
       "     \"</code>\\n\"+\n",
       "     \"</div>\"}};\n",
       "\n",
       "  function display_loaded() {\n",
       "    if (window.Bokeh !== undefined) {\n",
       "      var el = document.getElementById(\"465ad42f-075d-4e26-953c-8f284baaa353\");\n",
       "      el.textContent = \"BokehJS \" + Bokeh.version + \" successfully loaded.\";\n",
       "    } else if (Date.now() < window._bokeh_timeout) {\n",
       "      setTimeout(display_loaded, 100)\n",
       "    }\n",
       "  }\n",
       "\n",
       "  function run_callbacks() {\n",
       "    window._bokeh_onload_callbacks.forEach(function(callback) { callback() });\n",
       "    delete window._bokeh_onload_callbacks\n",
       "    console.info(\"Bokeh: all callbacks have finished\");\n",
       "  }\n",
       "\n",
       "  function load_libs(js_urls, callback) {\n",
       "    window._bokeh_onload_callbacks.push(callback);\n",
       "    if (window._bokeh_is_loading > 0) {\n",
       "      console.log(\"Bokeh: BokehJS is being loaded, scheduling callback at\", now());\n",
       "      return null;\n",
       "    }\n",
       "    if (js_urls == null || js_urls.length === 0) {\n",
       "      run_callbacks();\n",
       "      return null;\n",
       "    }\n",
       "    console.log(\"Bokeh: BokehJS not loaded, scheduling load and callback at\", now());\n",
       "    window._bokeh_is_loading = js_urls.length;\n",
       "    for (var i = 0; i < js_urls.length; i++) {\n",
       "      var url = js_urls[i];\n",
       "      var s = document.createElement('script');\n",
       "      s.src = url;\n",
       "      s.async = false;\n",
       "      s.onreadystatechange = s.onload = function() {\n",
       "        window._bokeh_is_loading--;\n",
       "        if (window._bokeh_is_loading === 0) {\n",
       "          console.log(\"Bokeh: all BokehJS libraries loaded\");\n",
       "          run_callbacks()\n",
       "        }\n",
       "      };\n",
       "      s.onerror = function() {\n",
       "        console.warn(\"failed to load library \" + url);\n",
       "      };\n",
       "      console.log(\"Bokeh: injecting script tag for BokehJS library: \", url);\n",
       "      document.getElementsByTagName(\"head\")[0].appendChild(s);\n",
       "    }\n",
       "  };var element = document.getElementById(\"465ad42f-075d-4e26-953c-8f284baaa353\");\n",
       "  if (element == null) {\n",
       "    console.log(\"Bokeh: ERROR: autoload.js configured with elementid '465ad42f-075d-4e26-953c-8f284baaa353' but no matching script tag was found. \")\n",
       "    return false;\n",
       "  }\n",
       "\n",
       "  var js_urls = [\"https://cdn.pydata.org/bokeh/release/bokeh-0.12.5.min.js\", \"https://cdn.pydata.org/bokeh/release/bokeh-widgets-0.12.5.min.js\"];\n",
       "\n",
       "  var inline_js = [\n",
       "    function(Bokeh) {\n",
       "      Bokeh.set_log_level(\"info\");\n",
       "    },\n",
       "    \n",
       "    function(Bokeh) {\n",
       "      \n",
       "    },\n",
       "    \n",
       "    function(Bokeh) {\n",
       "      \n",
       "      document.getElementById(\"465ad42f-075d-4e26-953c-8f284baaa353\").textContent = \"BokehJS is loading...\";\n",
       "\n",
       "    },\n",
       "    function(Bokeh) {\n",
       "      console.log(\"Bokeh: injecting CSS: https://cdn.pydata.org/bokeh/release/bokeh-0.12.5.min.css\");\n",
       "      Bokeh.embed.inject_css(\"https://cdn.pydata.org/bokeh/release/bokeh-0.12.5.min.css\");\n",
       "      console.log(\"Bokeh: injecting CSS: https://cdn.pydata.org/bokeh/release/bokeh-widgets-0.12.5.min.css\");\n",
       "      Bokeh.embed.inject_css(\"https://cdn.pydata.org/bokeh/release/bokeh-widgets-0.12.5.min.css\");\n",
       "    }\n",
       "  ];\n",
       "\n",
       "  function run_inline_js() {\n",
       "    \n",
       "    if ((window.Bokeh !== undefined) || (force === true)) {\n",
       "      for (var i = 0; i < inline_js.length; i++) {\n",
       "        inline_js[i](window.Bokeh);\n",
       "      }if (force === true) {\n",
       "        display_loaded();\n",
       "      }} else if (Date.now() < window._bokeh_timeout) {\n",
       "      setTimeout(run_inline_js, 100);\n",
       "    } else if (!window._bokeh_failed_load) {\n",
       "      console.log(\"Bokeh: BokehJS failed to load within specified timeout.\");\n",
       "      window._bokeh_failed_load = true;\n",
       "    } else if (force !== true) {\n",
       "      var cell = $(document.getElementById(\"465ad42f-075d-4e26-953c-8f284baaa353\")).parents('.cell').data().cell;\n",
       "      cell.output_area.append_execute_result(NB_LOAD_WARNING)\n",
       "    }\n",
       "\n",
       "  }\n",
       "\n",
       "  if (window._bokeh_is_loading === 0) {\n",
       "    console.log(\"Bokeh: BokehJS loaded, going straight to plotting\");\n",
       "    run_inline_js();\n",
       "  } else {\n",
       "    load_libs(js_urls, function() {\n",
       "      console.log(\"Bokeh: BokehJS plotting callback run at\", now());\n",
       "      run_inline_js();\n",
       "    });\n",
       "  }\n",
       "}(this));"
      ]
     },
     "metadata": {},
     "output_type": "display_data"
    },
    {
     "data": {
      "text/html": [
       "\n",
       "\n",
       "    <div class=\"bk-root\">\n",
       "        <div class=\"bk-plotdiv\" id=\"75b9c74f-3769-4777-9f9b-150b49e629a2\"></div>\n",
       "    </div>\n",
       "<script type=\"text/javascript\">\n",
       "  \n",
       "  (function(global) {\n",
       "    function now() {\n",
       "      return new Date();\n",
       "    }\n",
       "\n",
       "    var force = false;\n",
       "\n",
       "    if (typeof (window._bokeh_onload_callbacks) === \"undefined\" || force === true) {\n",
       "      window._bokeh_onload_callbacks = [];\n",
       "      window._bokeh_is_loading = undefined;\n",
       "    }\n",
       "\n",
       "\n",
       "    \n",
       "    if (typeof (window._bokeh_timeout) === \"undefined\" || force === true) {\n",
       "      window._bokeh_timeout = Date.now() + 0;\n",
       "      window._bokeh_failed_load = false;\n",
       "    }\n",
       "\n",
       "    var NB_LOAD_WARNING = {'data': {'text/html':\n",
       "       \"<div style='background-color: #fdd'>\\n\"+\n",
       "       \"<p>\\n\"+\n",
       "       \"BokehJS does not appear to have successfully loaded. If loading BokehJS from CDN, this \\n\"+\n",
       "       \"may be due to a slow or bad network connection. Possible fixes:\\n\"+\n",
       "       \"</p>\\n\"+\n",
       "       \"<ul>\\n\"+\n",
       "       \"<li>re-rerun `output_notebook()` to attempt to load from CDN again, or</li>\\n\"+\n",
       "       \"<li>use INLINE resources instead, as so:</li>\\n\"+\n",
       "       \"</ul>\\n\"+\n",
       "       \"<code>\\n\"+\n",
       "       \"from bokeh.resources import INLINE\\n\"+\n",
       "       \"output_notebook(resources=INLINE)\\n\"+\n",
       "       \"</code>\\n\"+\n",
       "       \"</div>\"}};\n",
       "\n",
       "    function display_loaded() {\n",
       "      if (window.Bokeh !== undefined) {\n",
       "        var el = document.getElementById(\"75b9c74f-3769-4777-9f9b-150b49e629a2\");\n",
       "        el.textContent = \"BokehJS \" + Bokeh.version + \" successfully loaded.\";\n",
       "      } else if (Date.now() < window._bokeh_timeout) {\n",
       "        setTimeout(display_loaded, 100)\n",
       "      }\n",
       "    }\n",
       "\n",
       "    function run_callbacks() {\n",
       "      window._bokeh_onload_callbacks.forEach(function(callback) { callback() });\n",
       "      delete window._bokeh_onload_callbacks\n",
       "      console.info(\"Bokeh: all callbacks have finished\");\n",
       "    }\n",
       "\n",
       "    function load_libs(js_urls, callback) {\n",
       "      window._bokeh_onload_callbacks.push(callback);\n",
       "      if (window._bokeh_is_loading > 0) {\n",
       "        console.log(\"Bokeh: BokehJS is being loaded, scheduling callback at\", now());\n",
       "        return null;\n",
       "      }\n",
       "      if (js_urls == null || js_urls.length === 0) {\n",
       "        run_callbacks();\n",
       "        return null;\n",
       "      }\n",
       "      console.log(\"Bokeh: BokehJS not loaded, scheduling load and callback at\", now());\n",
       "      window._bokeh_is_loading = js_urls.length;\n",
       "      for (var i = 0; i < js_urls.length; i++) {\n",
       "        var url = js_urls[i];\n",
       "        var s = document.createElement('script');\n",
       "        s.src = url;\n",
       "        s.async = false;\n",
       "        s.onreadystatechange = s.onload = function() {\n",
       "          window._bokeh_is_loading--;\n",
       "          if (window._bokeh_is_loading === 0) {\n",
       "            console.log(\"Bokeh: all BokehJS libraries loaded\");\n",
       "            run_callbacks()\n",
       "          }\n",
       "        };\n",
       "        s.onerror = function() {\n",
       "          console.warn(\"failed to load library \" + url);\n",
       "        };\n",
       "        console.log(\"Bokeh: injecting script tag for BokehJS library: \", url);\n",
       "        document.getElementsByTagName(\"head\")[0].appendChild(s);\n",
       "      }\n",
       "    };var element = document.getElementById(\"75b9c74f-3769-4777-9f9b-150b49e629a2\");\n",
       "    if (element == null) {\n",
       "      console.log(\"Bokeh: ERROR: autoload.js configured with elementid '75b9c74f-3769-4777-9f9b-150b49e629a2' but no matching script tag was found. \")\n",
       "      return false;\n",
       "    }\n",
       "\n",
       "    var js_urls = [];\n",
       "\n",
       "    var inline_js = [\n",
       "      function(Bokeh) {\n",
       "        (function() {\n",
       "          var fn = function() {\n",
       "            var docs_json = {\"bb6e8fd1-6e1c-4f53-8baa-9672b88fe4fa\":{\"roots\":{\"references\":[{\"attributes\":{},\"id\":\"4650b4a4-fb67-4955-ba1b-83fa27ee3790\",\"type\":\"BasicTicker\"},{\"attributes\":{\"dimension\":1,\"plot\":{\"id\":\"93128624-a96a-4126-b8d7-c412aea20bd0\",\"subtype\":\"Figure\",\"type\":\"Plot\"},\"ticker\":{\"id\":\"fd8eaabb-9738-49d4-8c8a-e3d16764bccb\",\"type\":\"BasicTicker\"}},\"id\":\"2611905e-300d-4737-9bb1-1686516db739\",\"type\":\"Grid\"},{\"attributes\":{},\"id\":\"8555aeea-6820-4baa-b260-413cd85eaa7e\",\"type\":\"BasicTickFormatter\"},{\"attributes\":{},\"id\":\"1873d922-a19c-48e3-ac33-ab47f2179da7\",\"type\":\"ToolEvents\"},{\"attributes\":{\"plot\":{\"id\":\"93128624-a96a-4126-b8d7-c412aea20bd0\",\"subtype\":\"Figure\",\"type\":\"Plot\"}},\"id\":\"1b46adb3-739f-4be8-a9af-3b14453cd31f\",\"type\":\"PanTool\"},{\"attributes\":{\"bottom\":{\"field\":\"bottom\"},\"fill_alpha\":{\"value\":0.1},\"fill_color\":{\"value\":\"#1f77b4\"},\"left\":{\"field\":\"left\"},\"line_alpha\":{\"value\":0.1},\"line_color\":{\"value\":\"#1f77b4\"},\"right\":{\"field\":\"right\"},\"top\":{\"field\":\"top\"}},\"id\":\"a45cfc56-a3d6-4338-9c95-7f9b96683346\",\"type\":\"Quad\"},{\"attributes\":{},\"id\":\"b7968d78-2015-4e4c-aa48-45336b113b99\",\"type\":\"BasicTickFormatter\"},{\"attributes\":{\"bottom_units\":\"screen\",\"fill_alpha\":{\"value\":0.5},\"fill_color\":{\"value\":\"lightgrey\"},\"left_units\":\"screen\",\"level\":\"overlay\",\"line_alpha\":{\"value\":1.0},\"line_color\":{\"value\":\"black\"},\"line_dash\":[4,4],\"line_width\":{\"value\":2},\"plot\":null,\"render_mode\":\"css\",\"right_units\":\"screen\",\"top_units\":\"screen\"},\"id\":\"7321dc66-1b0d-495b-a12d-890a2de245bb\",\"type\":\"BoxAnnotation\"},{\"attributes\":{\"callback\":null,\"plot\":{\"id\":\"93128624-a96a-4126-b8d7-c412aea20bd0\",\"subtype\":\"Figure\",\"type\":\"Plot\"},\"tooltips\":[[\"Value\",\"@data_value\"]]},\"id\":\"0ce52c2a-943d-480f-8cab-c91862dfe3a0\",\"type\":\"HoverTool\"},{\"attributes\":{\"plot\":{\"id\":\"93128624-a96a-4126-b8d7-c412aea20bd0\",\"subtype\":\"Figure\",\"type\":\"Plot\"}},\"id\":\"e46c3c21-a6cc-4da5-b8b7-4aab9902baca\",\"type\":\"HelpTool\"},{\"attributes\":{\"plot\":{\"id\":\"93128624-a96a-4126-b8d7-c412aea20bd0\",\"subtype\":\"Figure\",\"type\":\"Plot\"}},\"id\":\"eb7187d3-a06b-41a0-a3b6-435da6781959\",\"type\":\"ResetTool\"},{\"attributes\":{\"data_source\":{\"id\":\"69a37710-55c7-4659-b1b2-fc908b4c5170\",\"type\":\"ColumnDataSource\"},\"glyph\":{\"id\":\"c11276d8-6475-4be1-8cbb-f3c8e874fa49\",\"type\":\"Quad\"},\"hover_glyph\":null,\"muted_glyph\":null,\"nonselection_glyph\":{\"id\":\"a45cfc56-a3d6-4338-9c95-7f9b96683346\",\"type\":\"Quad\"},\"selection_glyph\":null},\"id\":\"b0e8c643-bc1c-4069-8bc6-384835b6c527\",\"type\":\"GlyphRenderer\"},{\"attributes\":{\"plot\":null,\"text\":\"\"},\"id\":\"0624bc59-e446-4d1f-8a3d-fa41f41248a7\",\"type\":\"Title\"},{\"attributes\":{\"callback\":null,\"column_names\":[\"bottom\",\"data_value\",\"left\",\"right\",\"top\",\"index\"],\"data\":{\"bottom\":[0,0,0,0,0,0,0,0,0,0,0,0,0,0,0,0,0,0,0,0,0,0,0,0,0,0,0,0,0,0,0,0,0,0,0,0,0,0,0,0,0,0,0,0,0,0,0,0,0,0],\"data_value\":[38,39,58,8,8,18,6,5,9,10,8,8,10,12,12,3,7,12,11,9,11,5,7,21,13,9,9,7,3,2,5,5,11,6,4,11,8,6,13,4,11,18,15,22,10,19,14,8,9,14],\"index\":[0,1,2,3,4,5,6,7,8,9,10,11,12,13,14,15,16,17,18,19,20,21,22,23,24,25,26,27,28,29,30,31,32,33,34,35,36,37,38,39,40,41,42,43,44,45,46,47,48,49],\"left\":{\"__ndarray__\":\"AAAAAAAAAABxPQrXo/AzQHE9Ctej8ENAKlyPwvXoTUBxPQrXo/BTQM3MzMzM7FhAKlyPwvXoXUDD9Shcj3JhQHE9Ctej8GNAH4XrUbhuZkDNzMzMzOxoQHsUrkfhamtAKlyPwvXobUDsUbgehTNwQMP1KFyPcnFAmpmZmZmxckBxPQrXo/BzQEjhehSuL3VAH4XrUbhudkD2KFyPwq13QM3MzMzM7HhApHA9CtcrekB7FK5H4Wp7QFK4HoXrqXxAKlyPwvXofUABAAAAACh/QOxRuB6FM4BA16NwPQrTgEDD9Shcj3KBQK5H4XoUEoJAmpmZmZmxgkCF61G4HlGDQHE9Ctej8INAXY/C9SiQhEBI4XoUri+FQDQzMzMzz4VAH4XrUbhuhkAL16NwPQ6HQPYoXI/CrYdA4noUrkdNiEDNzMzMzOyIQLkehetRjIlApHA9CtcrikCQwvUoXMuKQHsUrkfhaotAZ2ZmZmYKjEBSuB6F66mMQD4K16NwSY1AKlyPwvXojUAVrkfheoiOQA==\",\"dtype\":\"float64\",\"shape\":[50]},\"right\":{\"__ndarray__\":\"cT0K16PwM0BxPQrXo/BDQCpcj8L16E1AcT0K16PwU0DNzMzMzOxYQCpcj8L16F1Aw/UoXI9yYUBxPQrXo/BjQB+F61G4bmZAzczMzMzsaEB7FK5H4WprQCpcj8L16G1A7FG4HoUzcEDD9Shcj3JxQJqZmZmZsXJAcT0K16Pwc0BI4XoUri91QB+F61G4bnZA9ihcj8Ktd0DNzMzMzOx4QKRwPQrXK3pAexSuR+Fqe0BSuB6F66l8QCpcj8L16H1AAQAAAAAof0DsUbgehTOAQNejcD0K04BAw/UoXI9ygUCuR+F6FBKCQJqZmZmZsYJAhetRuB5Rg0BxPQrXo/CDQF2PwvUokIRASOF6FK4vhUA0MzMzM8+FQB+F61G4boZAC9ejcD0Oh0D2KFyPwq2HQOJ6FK5HTYhAzczMzMzsiEC5HoXrUYyJQKRwPQrXK4pAkML1KFzLikB7FK5H4WqLQGdmZmZmCoxAUrgeheupjEA+CtejcEmNQCpcj8L16I1AFa5H4XqIjkAAAAAAACiPQA==\",\"dtype\":\"float64\",\"shape\":[50]},\"top\":[38,39,58,8,8,18,6,5,9,10,8,8,10,12,12,3,7,12,11,9,11,5,7,21,13,9,9,7,3,2,5,5,11,6,4,11,8,6,13,4,11,18,15,22,10,19,14,8,9,14]}},\"id\":\"69a37710-55c7-4659-b1b2-fc908b4c5170\",\"type\":\"ColumnDataSource\"},{\"attributes\":{\"axis_label\":\"Frequency\",\"formatter\":{\"id\":\"8555aeea-6820-4baa-b260-413cd85eaa7e\",\"type\":\"BasicTickFormatter\"},\"plot\":{\"id\":\"93128624-a96a-4126-b8d7-c412aea20bd0\",\"subtype\":\"Figure\",\"type\":\"Plot\"},\"ticker\":{\"id\":\"fd8eaabb-9738-49d4-8c8a-e3d16764bccb\",\"type\":\"BasicTicker\"}},\"id\":\"94fe3ad6-2f37-4e67-a117-4b644cdaceb8\",\"type\":\"LinearAxis\"},{\"attributes\":{\"callback\":null},\"id\":\"d9b40174-0776-4b77-adcb-cd45bfc0098e\",\"type\":\"DataRange1d\"},{\"attributes\":{\"plot\":{\"id\":\"93128624-a96a-4126-b8d7-c412aea20bd0\",\"subtype\":\"Figure\",\"type\":\"Plot\"},\"ticker\":{\"id\":\"4650b4a4-fb67-4955-ba1b-83fa27ee3790\",\"type\":\"BasicTicker\"}},\"id\":\"c595e2ee-70f8-4d22-a868-b51a8b7b6a71\",\"type\":\"Grid\"},{\"attributes\":{\"plot\":{\"id\":\"93128624-a96a-4126-b8d7-c412aea20bd0\",\"subtype\":\"Figure\",\"type\":\"Plot\"}},\"id\":\"7e90118a-f0f2-47fb-9ce4-5ce898417c3f\",\"type\":\"SaveTool\"},{\"attributes\":{\"overlay\":{\"id\":\"7321dc66-1b0d-495b-a12d-890a2de245bb\",\"type\":\"BoxAnnotation\"},\"plot\":{\"id\":\"93128624-a96a-4126-b8d7-c412aea20bd0\",\"subtype\":\"Figure\",\"type\":\"Plot\"}},\"id\":\"6b132ac7-7598-4dce-93f0-beae3350c8a4\",\"type\":\"BoxZoomTool\"},{\"attributes\":{},\"id\":\"fd8eaabb-9738-49d4-8c8a-e3d16764bccb\",\"type\":\"BasicTicker\"},{\"attributes\":{\"axis_label\":\"Length of Article\",\"formatter\":{\"id\":\"b7968d78-2015-4e4c-aa48-45336b113b99\",\"type\":\"BasicTickFormatter\"},\"plot\":{\"id\":\"93128624-a96a-4126-b8d7-c412aea20bd0\",\"subtype\":\"Figure\",\"type\":\"Plot\"},\"ticker\":{\"id\":\"4650b4a4-fb67-4955-ba1b-83fa27ee3790\",\"type\":\"BasicTicker\"}},\"id\":\"f50db73a-396d-4e33-b046-77c395ea1abd\",\"type\":\"LinearAxis\"},{\"attributes\":{\"active_drag\":\"auto\",\"active_scroll\":\"auto\",\"active_tap\":\"auto\",\"tools\":[{\"id\":\"1b46adb3-739f-4be8-a9af-3b14453cd31f\",\"type\":\"PanTool\"},{\"id\":\"9cb557f9-e79d-4eaf-8af1-ebc27e560a62\",\"type\":\"WheelZoomTool\"},{\"id\":\"6b132ac7-7598-4dce-93f0-beae3350c8a4\",\"type\":\"BoxZoomTool\"},{\"id\":\"7e90118a-f0f2-47fb-9ce4-5ce898417c3f\",\"type\":\"SaveTool\"},{\"id\":\"eb7187d3-a06b-41a0-a3b6-435da6781959\",\"type\":\"ResetTool\"},{\"id\":\"e46c3c21-a6cc-4da5-b8b7-4aab9902baca\",\"type\":\"HelpTool\"},{\"id\":\"0ce52c2a-943d-480f-8cab-c91862dfe3a0\",\"type\":\"HoverTool\"}]},\"id\":\"15e20226-fb3b-483b-b975-6b6e83e241fe\",\"type\":\"Toolbar\"},{\"attributes\":{\"plot\":{\"id\":\"93128624-a96a-4126-b8d7-c412aea20bd0\",\"subtype\":\"Figure\",\"type\":\"Plot\"}},\"id\":\"9cb557f9-e79d-4eaf-8af1-ebc27e560a62\",\"type\":\"WheelZoomTool\"},{\"attributes\":{\"callback\":null},\"id\":\"422aea97-8774-4b9d-9f62-09d08b83da68\",\"type\":\"DataRange1d\"},{\"attributes\":{\"below\":[{\"id\":\"f50db73a-396d-4e33-b046-77c395ea1abd\",\"type\":\"LinearAxis\"}],\"left\":[{\"id\":\"94fe3ad6-2f37-4e67-a117-4b644cdaceb8\",\"type\":\"LinearAxis\"}],\"plot_height\":450,\"plot_width\":550,\"renderers\":[{\"id\":\"f50db73a-396d-4e33-b046-77c395ea1abd\",\"type\":\"LinearAxis\"},{\"id\":\"c595e2ee-70f8-4d22-a868-b51a8b7b6a71\",\"type\":\"Grid\"},{\"id\":\"94fe3ad6-2f37-4e67-a117-4b644cdaceb8\",\"type\":\"LinearAxis\"},{\"id\":\"2611905e-300d-4737-9bb1-1686516db739\",\"type\":\"Grid\"},{\"id\":\"7321dc66-1b0d-495b-a12d-890a2de245bb\",\"type\":\"BoxAnnotation\"},{\"id\":\"b0e8c643-bc1c-4069-8bc6-384835b6c527\",\"type\":\"GlyphRenderer\"}],\"title\":{\"id\":\"0624bc59-e446-4d1f-8a3d-fa41f41248a7\",\"type\":\"Title\"},\"tool_events\":{\"id\":\"1873d922-a19c-48e3-ac33-ab47f2179da7\",\"type\":\"ToolEvents\"},\"toolbar\":{\"id\":\"15e20226-fb3b-483b-b975-6b6e83e241fe\",\"type\":\"Toolbar\"},\"x_range\":{\"id\":\"422aea97-8774-4b9d-9f62-09d08b83da68\",\"type\":\"DataRange1d\"},\"y_range\":{\"id\":\"d9b40174-0776-4b77-adcb-cd45bfc0098e\",\"type\":\"DataRange1d\"}},\"id\":\"93128624-a96a-4126-b8d7-c412aea20bd0\",\"subtype\":\"Figure\",\"type\":\"Plot\"},{\"attributes\":{\"bottom\":{\"field\":\"bottom\"},\"fill_color\":{\"value\":\"#1f77b4\"},\"left\":{\"field\":\"left\"},\"line_color\":{\"value\":\"white\"},\"right\":{\"field\":\"right\"},\"top\":{\"field\":\"top\"}},\"id\":\"c11276d8-6475-4be1-8cbb-f3c8e874fa49\",\"type\":\"Quad\"}],\"root_ids\":[\"93128624-a96a-4126-b8d7-c412aea20bd0\"]},\"title\":\"Bokeh Application\",\"version\":\"0.12.5\"}};\n",
       "            var render_items = [{\"docid\":\"bb6e8fd1-6e1c-4f53-8baa-9672b88fe4fa\",\"elementid\":\"75b9c74f-3769-4777-9f9b-150b49e629a2\",\"modelid\":\"93128624-a96a-4126-b8d7-c412aea20bd0\"}];\n",
       "            \n",
       "            Bokeh.embed.embed_items(docs_json, render_items);\n",
       "          };\n",
       "          if (document.readyState != \"loading\") fn();\n",
       "          else document.addEventListener(\"DOMContentLoaded\", fn);\n",
       "        })();\n",
       "\n",
       "      },\n",
       "      function(Bokeh) {\n",
       "      }\n",
       "    ];\n",
       "\n",
       "    function run_inline_js() {\n",
       "      \n",
       "      if ((window.Bokeh !== undefined) || (force === true)) {\n",
       "        for (var i = 0; i < inline_js.length; i++) {\n",
       "          inline_js[i](window.Bokeh);\n",
       "        }if (force === true) {\n",
       "          display_loaded();\n",
       "        }} else if (Date.now() < window._bokeh_timeout) {\n",
       "        setTimeout(run_inline_js, 100);\n",
       "      } else if (!window._bokeh_failed_load) {\n",
       "        console.log(\"Bokeh: BokehJS failed to load within specified timeout.\");\n",
       "        window._bokeh_failed_load = true;\n",
       "      } else if (force !== true) {\n",
       "        var cell = $(document.getElementById(\"75b9c74f-3769-4777-9f9b-150b49e629a2\")).parents('.cell').data().cell;\n",
       "        cell.output_area.append_execute_result(NB_LOAD_WARNING)\n",
       "      }\n",
       "\n",
       "    }\n",
       "\n",
       "    if (window._bokeh_is_loading === 0) {\n",
       "      console.log(\"Bokeh: BokehJS loaded, going straight to plotting\");\n",
       "      run_inline_js();\n",
       "    } else {\n",
       "      load_libs(js_urls, function() {\n",
       "        console.log(\"Bokeh: BokehJS plotting callback run at\", now());\n",
       "        run_inline_js();\n",
       "      });\n",
       "    }\n",
       "  }(this));\n",
       "</script>"
      ]
     },
     "metadata": {},
     "output_type": "display_data"
    }
   ],
   "source": [
    "from bs4 import BeautifulSoup\n",
    "\n",
    "@rate_limited(1)\n",
    "def extract_content(url):\n",
    "    r = requests.get(url)\n",
    "    soup = BeautifulSoup(r.text, 'html.parser')\n",
    "    \n",
    "    name_box = soup.findAll('p', attrs={'class': 'story-body-text story-content'})\n",
    "    content = [x.text for x in name_box]\n",
    "    content_final = ' '.join(content)\n",
    "    \n",
    "    if(content_final == ''):\n",
    "        name_box = soup.findAll('p')\n",
    "        content = [x.text for x in name_box]\n",
    "        content_final = ' '.join(content)\n",
    "\n",
    "    return(content_final)\n",
    "\n",
    "url_data = pd.read_csv('data/url_data.csv')\n",
    "url_data['video_flag'] = url_data['web_url'].str.contains('/video/')\n",
    "url_data['slideshow_flag'] = url_data['web_url'].str.contains('/slideshow/')\n",
    "url_data = url_data.loc[(url_data['video_flag'] == False) & (url_data['slideshow_flag'] == False),]\n",
    "url_data = url_data.drop(['video_flag','slideshow_flag'], axis = 1)\n",
    "\n",
    "content = []\n",
    "for index, i in enumerate(url_data['web_url']):\n",
    "    try:\n",
    "        print(index)\n",
    "        a = extract_content(i)    \n",
    "        content.append(a)\n",
    "    except:\n",
    "        content.append('')\n",
    "        print('Skipping...')\n",
    "        \n",
    "content_data = url_data\n",
    "content_data['content'] = content\n",
    "content_data.to_csv('data/content_data.csv', index = False)\n",
    "import pandas as pd\n",
    "content_data = pd.read_csv('data/content_data.csv')\n",
    "content_data['length'] = content_data['content'].str.strip().str.len()\n",
    "\n",
    "import bokeh.plotting as bp\n",
    "from bokeh.io import show, output_notebook\n",
    "from bokeh.models import HoverTool\n",
    "import numpy as np\n",
    "\n",
    "array = list(content_data['length'][content_data['length'].values < 1000])\n",
    "hist, edges = np.histogram(array, bins=50)\n",
    "\n",
    "source = bp.ColumnDataSource(pd.DataFrame({\n",
    "    'left' : edges[:-1],\n",
    "    'top' : hist,\n",
    "    'right' : edges[1:],\n",
    "    'bottom' : 0,\n",
    "    'data_value' : hist\n",
    "}))\n",
    "\n",
    "p = bp.figure(width = 550, height = 450)\n",
    "p.quad(top='top', bottom='bottom', left='left', right='right', line_color=\"white\", source = source)\n",
    "p.add_tools(HoverTool(tooltips= [(\"Value\", \"@data_value\")]))\n",
    "p.xaxis.axis_label = 'Length of Article'\n",
    "p.yaxis.axis_label = 'Frequency'\n",
    "output_notebook()\n",
    "show(p)"
   ]
  },
  {
   "cell_type": "markdown",
   "metadata": {},
   "source": [
    "Looking over the frequency distribution of article length below 1000, there is a spike in the 1st-3rd bar denoting articles with advertisement content, waste text with no relavant information. These articles will be filtered from the corpus."
   ]
  },
  {
   "cell_type": "code",
   "execution_count": 58,
   "metadata": {},
   "outputs": [
    {
     "data": {
      "text/html": [
       "\n",
       "    <div class=\"bk-root\">\n",
       "        <a href=\"http://bokeh.pydata.org\" target=\"_blank\" class=\"bk-logo bk-logo-small bk-logo-notebook\"></a>\n",
       "        <span id=\"da4e682b-f3ef-45b2-b8f9-beebac1b1ad4\">Loading BokehJS ...</span>\n",
       "    </div>"
      ]
     },
     "metadata": {},
     "output_type": "display_data"
    },
    {
     "data": {
      "application/javascript": [
       "\n",
       "(function(global) {\n",
       "  function now() {\n",
       "    return new Date();\n",
       "  }\n",
       "\n",
       "  var force = true;\n",
       "\n",
       "  if (typeof (window._bokeh_onload_callbacks) === \"undefined\" || force === true) {\n",
       "    window._bokeh_onload_callbacks = [];\n",
       "    window._bokeh_is_loading = undefined;\n",
       "  }\n",
       "\n",
       "\n",
       "  \n",
       "  if (typeof (window._bokeh_timeout) === \"undefined\" || force === true) {\n",
       "    window._bokeh_timeout = Date.now() + 5000;\n",
       "    window._bokeh_failed_load = false;\n",
       "  }\n",
       "\n",
       "  var NB_LOAD_WARNING = {'data': {'text/html':\n",
       "     \"<div style='background-color: #fdd'>\\n\"+\n",
       "     \"<p>\\n\"+\n",
       "     \"BokehJS does not appear to have successfully loaded. If loading BokehJS from CDN, this \\n\"+\n",
       "     \"may be due to a slow or bad network connection. Possible fixes:\\n\"+\n",
       "     \"</p>\\n\"+\n",
       "     \"<ul>\\n\"+\n",
       "     \"<li>re-rerun `output_notebook()` to attempt to load from CDN again, or</li>\\n\"+\n",
       "     \"<li>use INLINE resources instead, as so:</li>\\n\"+\n",
       "     \"</ul>\\n\"+\n",
       "     \"<code>\\n\"+\n",
       "     \"from bokeh.resources import INLINE\\n\"+\n",
       "     \"output_notebook(resources=INLINE)\\n\"+\n",
       "     \"</code>\\n\"+\n",
       "     \"</div>\"}};\n",
       "\n",
       "  function display_loaded() {\n",
       "    if (window.Bokeh !== undefined) {\n",
       "      var el = document.getElementById(\"da4e682b-f3ef-45b2-b8f9-beebac1b1ad4\");\n",
       "      el.textContent = \"BokehJS \" + Bokeh.version + \" successfully loaded.\";\n",
       "    } else if (Date.now() < window._bokeh_timeout) {\n",
       "      setTimeout(display_loaded, 100)\n",
       "    }\n",
       "  }\n",
       "\n",
       "  function run_callbacks() {\n",
       "    window._bokeh_onload_callbacks.forEach(function(callback) { callback() });\n",
       "    delete window._bokeh_onload_callbacks\n",
       "    console.info(\"Bokeh: all callbacks have finished\");\n",
       "  }\n",
       "\n",
       "  function load_libs(js_urls, callback) {\n",
       "    window._bokeh_onload_callbacks.push(callback);\n",
       "    if (window._bokeh_is_loading > 0) {\n",
       "      console.log(\"Bokeh: BokehJS is being loaded, scheduling callback at\", now());\n",
       "      return null;\n",
       "    }\n",
       "    if (js_urls == null || js_urls.length === 0) {\n",
       "      run_callbacks();\n",
       "      return null;\n",
       "    }\n",
       "    console.log(\"Bokeh: BokehJS not loaded, scheduling load and callback at\", now());\n",
       "    window._bokeh_is_loading = js_urls.length;\n",
       "    for (var i = 0; i < js_urls.length; i++) {\n",
       "      var url = js_urls[i];\n",
       "      var s = document.createElement('script');\n",
       "      s.src = url;\n",
       "      s.async = false;\n",
       "      s.onreadystatechange = s.onload = function() {\n",
       "        window._bokeh_is_loading--;\n",
       "        if (window._bokeh_is_loading === 0) {\n",
       "          console.log(\"Bokeh: all BokehJS libraries loaded\");\n",
       "          run_callbacks()\n",
       "        }\n",
       "      };\n",
       "      s.onerror = function() {\n",
       "        console.warn(\"failed to load library \" + url);\n",
       "      };\n",
       "      console.log(\"Bokeh: injecting script tag for BokehJS library: \", url);\n",
       "      document.getElementsByTagName(\"head\")[0].appendChild(s);\n",
       "    }\n",
       "  };var element = document.getElementById(\"da4e682b-f3ef-45b2-b8f9-beebac1b1ad4\");\n",
       "  if (element == null) {\n",
       "    console.log(\"Bokeh: ERROR: autoload.js configured with elementid 'da4e682b-f3ef-45b2-b8f9-beebac1b1ad4' but no matching script tag was found. \")\n",
       "    return false;\n",
       "  }\n",
       "\n",
       "  var js_urls = [\"https://cdn.pydata.org/bokeh/release/bokeh-0.12.5.min.js\", \"https://cdn.pydata.org/bokeh/release/bokeh-widgets-0.12.5.min.js\"];\n",
       "\n",
       "  var inline_js = [\n",
       "    function(Bokeh) {\n",
       "      Bokeh.set_log_level(\"info\");\n",
       "    },\n",
       "    \n",
       "    function(Bokeh) {\n",
       "      \n",
       "    },\n",
       "    \n",
       "    function(Bokeh) {\n",
       "      \n",
       "      document.getElementById(\"da4e682b-f3ef-45b2-b8f9-beebac1b1ad4\").textContent = \"BokehJS is loading...\";\n",
       "\n",
       "    },\n",
       "    function(Bokeh) {\n",
       "      console.log(\"Bokeh: injecting CSS: https://cdn.pydata.org/bokeh/release/bokeh-0.12.5.min.css\");\n",
       "      Bokeh.embed.inject_css(\"https://cdn.pydata.org/bokeh/release/bokeh-0.12.5.min.css\");\n",
       "      console.log(\"Bokeh: injecting CSS: https://cdn.pydata.org/bokeh/release/bokeh-widgets-0.12.5.min.css\");\n",
       "      Bokeh.embed.inject_css(\"https://cdn.pydata.org/bokeh/release/bokeh-widgets-0.12.5.min.css\");\n",
       "    }\n",
       "  ];\n",
       "\n",
       "  function run_inline_js() {\n",
       "    \n",
       "    if ((window.Bokeh !== undefined) || (force === true)) {\n",
       "      for (var i = 0; i < inline_js.length; i++) {\n",
       "        inline_js[i](window.Bokeh);\n",
       "      }if (force === true) {\n",
       "        display_loaded();\n",
       "      }} else if (Date.now() < window._bokeh_timeout) {\n",
       "      setTimeout(run_inline_js, 100);\n",
       "    } else if (!window._bokeh_failed_load) {\n",
       "      console.log(\"Bokeh: BokehJS failed to load within specified timeout.\");\n",
       "      window._bokeh_failed_load = true;\n",
       "    } else if (force !== true) {\n",
       "      var cell = $(document.getElementById(\"da4e682b-f3ef-45b2-b8f9-beebac1b1ad4\")).parents('.cell').data().cell;\n",
       "      cell.output_area.append_execute_result(NB_LOAD_WARNING)\n",
       "    }\n",
       "\n",
       "  }\n",
       "\n",
       "  if (window._bokeh_is_loading === 0) {\n",
       "    console.log(\"Bokeh: BokehJS loaded, going straight to plotting\");\n",
       "    run_inline_js();\n",
       "  } else {\n",
       "    load_libs(js_urls, function() {\n",
       "      console.log(\"Bokeh: BokehJS plotting callback run at\", now());\n",
       "      run_inline_js();\n",
       "    });\n",
       "  }\n",
       "}(this));"
      ]
     },
     "metadata": {},
     "output_type": "display_data"
    },
    {
     "data": {
      "text/html": [
       "\n",
       "\n",
       "    <div class=\"bk-root\">\n",
       "        <div class=\"bk-plotdiv\" id=\"85e9b580-e709-46f1-8b8f-27dc855a98ab\"></div>\n",
       "    </div>\n",
       "<script type=\"text/javascript\">\n",
       "  \n",
       "  (function(global) {\n",
       "    function now() {\n",
       "      return new Date();\n",
       "    }\n",
       "\n",
       "    var force = false;\n",
       "\n",
       "    if (typeof (window._bokeh_onload_callbacks) === \"undefined\" || force === true) {\n",
       "      window._bokeh_onload_callbacks = [];\n",
       "      window._bokeh_is_loading = undefined;\n",
       "    }\n",
       "\n",
       "\n",
       "    \n",
       "    if (typeof (window._bokeh_timeout) === \"undefined\" || force === true) {\n",
       "      window._bokeh_timeout = Date.now() + 0;\n",
       "      window._bokeh_failed_load = false;\n",
       "    }\n",
       "\n",
       "    var NB_LOAD_WARNING = {'data': {'text/html':\n",
       "       \"<div style='background-color: #fdd'>\\n\"+\n",
       "       \"<p>\\n\"+\n",
       "       \"BokehJS does not appear to have successfully loaded. If loading BokehJS from CDN, this \\n\"+\n",
       "       \"may be due to a slow or bad network connection. Possible fixes:\\n\"+\n",
       "       \"</p>\\n\"+\n",
       "       \"<ul>\\n\"+\n",
       "       \"<li>re-rerun `output_notebook()` to attempt to load from CDN again, or</li>\\n\"+\n",
       "       \"<li>use INLINE resources instead, as so:</li>\\n\"+\n",
       "       \"</ul>\\n\"+\n",
       "       \"<code>\\n\"+\n",
       "       \"from bokeh.resources import INLINE\\n\"+\n",
       "       \"output_notebook(resources=INLINE)\\n\"+\n",
       "       \"</code>\\n\"+\n",
       "       \"</div>\"}};\n",
       "\n",
       "    function display_loaded() {\n",
       "      if (window.Bokeh !== undefined) {\n",
       "        var el = document.getElementById(\"85e9b580-e709-46f1-8b8f-27dc855a98ab\");\n",
       "        el.textContent = \"BokehJS \" + Bokeh.version + \" successfully loaded.\";\n",
       "      } else if (Date.now() < window._bokeh_timeout) {\n",
       "        setTimeout(display_loaded, 100)\n",
       "      }\n",
       "    }\n",
       "\n",
       "    function run_callbacks() {\n",
       "      window._bokeh_onload_callbacks.forEach(function(callback) { callback() });\n",
       "      delete window._bokeh_onload_callbacks\n",
       "      console.info(\"Bokeh: all callbacks have finished\");\n",
       "    }\n",
       "\n",
       "    function load_libs(js_urls, callback) {\n",
       "      window._bokeh_onload_callbacks.push(callback);\n",
       "      if (window._bokeh_is_loading > 0) {\n",
       "        console.log(\"Bokeh: BokehJS is being loaded, scheduling callback at\", now());\n",
       "        return null;\n",
       "      }\n",
       "      if (js_urls == null || js_urls.length === 0) {\n",
       "        run_callbacks();\n",
       "        return null;\n",
       "      }\n",
       "      console.log(\"Bokeh: BokehJS not loaded, scheduling load and callback at\", now());\n",
       "      window._bokeh_is_loading = js_urls.length;\n",
       "      for (var i = 0; i < js_urls.length; i++) {\n",
       "        var url = js_urls[i];\n",
       "        var s = document.createElement('script');\n",
       "        s.src = url;\n",
       "        s.async = false;\n",
       "        s.onreadystatechange = s.onload = function() {\n",
       "          window._bokeh_is_loading--;\n",
       "          if (window._bokeh_is_loading === 0) {\n",
       "            console.log(\"Bokeh: all BokehJS libraries loaded\");\n",
       "            run_callbacks()\n",
       "          }\n",
       "        };\n",
       "        s.onerror = function() {\n",
       "          console.warn(\"failed to load library \" + url);\n",
       "        };\n",
       "        console.log(\"Bokeh: injecting script tag for BokehJS library: \", url);\n",
       "        document.getElementsByTagName(\"head\")[0].appendChild(s);\n",
       "      }\n",
       "    };var element = document.getElementById(\"85e9b580-e709-46f1-8b8f-27dc855a98ab\");\n",
       "    if (element == null) {\n",
       "      console.log(\"Bokeh: ERROR: autoload.js configured with elementid '85e9b580-e709-46f1-8b8f-27dc855a98ab' but no matching script tag was found. \")\n",
       "      return false;\n",
       "    }\n",
       "\n",
       "    var js_urls = [];\n",
       "\n",
       "    var inline_js = [\n",
       "      function(Bokeh) {\n",
       "        (function() {\n",
       "          var fn = function() {\n",
       "            var docs_json = {\"ef63cb8a-4d04-46ea-ae43-fe1c7dde7913\":{\"roots\":{\"references\":[{\"attributes\":{},\"id\":\"23172f6a-d038-4761-9957-9ef5af5344c6\",\"type\":\"BasicTickFormatter\"},{\"attributes\":{\"axis_label\":\"Frequency\",\"formatter\":{\"id\":\"7d3a8a6a-9db2-46d0-a88d-24d0fa22c6ac\",\"type\":\"BasicTickFormatter\"},\"plot\":{\"id\":\"c119c12f-f346-4a25-b6a4-8f2c431dcde4\",\"subtype\":\"Figure\",\"type\":\"Plot\"},\"ticker\":{\"id\":\"567370cf-2eea-44d1-af1c-d8339e58014f\",\"type\":\"BasicTicker\"}},\"id\":\"927f1c54-646a-4343-a8cf-be7e39f0bef6\",\"type\":\"LinearAxis\"},{\"attributes\":{\"callback\":null},\"id\":\"211dca46-ccf4-400f-ad57-1a16868a6210\",\"type\":\"DataRange1d\"},{\"attributes\":{\"bottom_units\":\"screen\",\"fill_alpha\":{\"value\":0.5},\"fill_color\":{\"value\":\"lightgrey\"},\"left_units\":\"screen\",\"level\":\"overlay\",\"line_alpha\":{\"value\":1.0},\"line_color\":{\"value\":\"black\"},\"line_dash\":[4,4],\"line_width\":{\"value\":2},\"plot\":null,\"render_mode\":\"css\",\"right_units\":\"screen\",\"top_units\":\"screen\"},\"id\":\"46c7f8e9-8c75-415b-9956-149e2f9210d9\",\"type\":\"BoxAnnotation\"},{\"attributes\":{},\"id\":\"7d3a8a6a-9db2-46d0-a88d-24d0fa22c6ac\",\"type\":\"BasicTickFormatter\"},{\"attributes\":{\"callback\":null,\"column_names\":[\"bottom\",\"data_value\",\"left\",\"right\",\"top\",\"index\"],\"data\":{\"bottom\":[0,0,0,0,0,0,0,0,0,0,0,0,0,0,0,0,0,0,0,0,0,0,0,0,0,0,0,0,0,0,0,0,0,0,0,0,0,0,0,0,0,0,0,0,0,0,0,0,0,0,0,0,0,0,0,0,0,0,0,0,0,0,0,0,0,0,0,0,0,0,0,0,0,0,0,0,0,0,0,0,0,0,0,0,0,0,0,0,0,0,0,0,0,0,0,0,0,0,0,0],\"data_value\":[426,419,497,515,492,566,472,398,349,262,134,85,65,35,15,19,23,20,19,14,12,9,4,11,6,5,3,5,3,7,7,4,3,9,2,3,3,2,0,0,4,1,0,0,2,1,0,0,1,0,0,0,0,0,0,0,0,0,1,0,0,0,0,0,0,0,1,0,0,0,1,0,0,0,0,0,0,0,0,0,0,0,0,0,0,0,0,0,0,0,0,1,0,0,0,0,0,0,0,1],\"index\":[0,1,2,3,4,5,6,7,8,9,10,11,12,13,14,15,16,17,18,19,20,21,22,23,24,25,26,27,28,29,30,31,32,33,34,35,36,37,38,39,40,41,42,43,44,45,46,47,48,49,50,51,52,53,54,55,56,57,58,59,60,61,62,63,64,65,66,67,68,69,70,71,72,73,74,75,76,77,78,79,80,81,82,83,84,85,86,87,88,89,90,91,92,93,94,95,96,97,98,99],\"left\":{\"__ndarray__\":\"AAAAAADAUEAzMzMzM2eNQDMzMzMzW5xAZmZmZmYBpUAzMzMzM9WrQAAAAACAVLFAZmZmZma+tEDNzMzMTCi4QDMzMzMzkrtAmZmZmRn8vkAAAAAAADPBQDMzMzPz58JAZmZmZuacxECZmZmZ2VHGQM3MzMzMBshAAAAAAMC7yUAzMzMzs3DLQGZmZmamJc1AmZmZmZnazkBmZmZmxkfQQAAAAABAItFAmZmZmbn80UAzMzMzM9fSQM3MzMyssdNAZmZmZiaM1EAAAAAAoGbVQJmZmZkZQdZAMzMzM5Mb10DNzMzMDPbXQGZmZmaG0NhAAAAAAACr2UCZmZmZeYXaQDMzMzPzX9tAzczMzGw63EBmZmZm5hTdQAAAAABg791AmZmZmdnJ3kAzMzMzU6TfQGZmZmZmP+BAMzMzM6Os4EAAAAAA4BnhQM3MzMwch+FAmZmZmVn04UBmZmZmlmHiQDMzMzPTzuJAAAAAABA840DNzMzMTKnjQJmZmZmJFuRAZmZmZsaD5EAzMzMzA/HkQAAAAABAXuVAzczMzHzL5UCZmZmZuTjmQGZmZmb2peZAMzMzMzMT50AAAAAAcIDnQM3MzMys7edAmZmZmela6EBmZmZmJsjoQDMzMzNjNelAAAAAAKCi6UDNzMzM3A/qQJmZmZkZfepAZmZmZlbq6kAzMzMzk1frQAAAAADQxOtAzczMzAwy7ECZmZmZSZ/sQGZmZmaGDO1AMzMzM8N57UAAAAAAAOftQM3MzMw8VO5AmZmZmXnB7kBmZmZmti7vQDMzMzPzm+9AAAAAAJgE8EBmZmZmNjvwQM3MzMzUcfBAMzMzM3Oo8ECZmZmZEd/wQAAAAACwFfFAZmZmZk5M8UDNzMzM7ILxQDMzMzOLufFAmZmZmSnw8UAAAAAAyCbyQGZmZmZmXfJAzczMzASU8kAzMzMzo8ryQJmZmZlBAfNAAAAAAOA380BmZmZmfm7zQM3MzMwcpfNAMzMzM7vb80CZmZmZWRL0QAAAAAD4SPRAZmZmZpZ/9EDNzMzMNLb0QDMzMzPT7PRAmZmZmXEj9UA=\",\"dtype\":\"float64\",\"shape\":[100]},\"right\":{\"__ndarray__\":\"MzMzMzNnjUAzMzMzM1ucQGZmZmZmAaVAMzMzMzPVq0AAAAAAgFSxQGZmZmZmvrRAzczMzEwouEAzMzMzM5K7QJmZmZkZ/L5AAAAAAAAzwUAzMzMz8+fCQGZmZmbmnMRAmZmZmdlRxkDNzMzMzAbIQAAAAADAu8lAMzMzM7Nwy0BmZmZmpiXNQJmZmZmZ2s5AZmZmZsZH0EAAAAAAQCLRQJmZmZm5/NFAMzMzMzPX0kDNzMzMrLHTQGZmZmYmjNRAAAAAAKBm1UCZmZmZGUHWQDMzMzOTG9dAzczMzAz210BmZmZmhtDYQAAAAAAAq9lAmZmZmXmF2kAzMzMz81/bQM3MzMxsOtxAZmZmZuYU3UAAAAAAYO/dQJmZmZnZyd5AMzMzM1Ok30BmZmZmZj/gQDMzMzOjrOBAAAAAAOAZ4UDNzMzMHIfhQJmZmZlZ9OFAZmZmZpZh4kAzMzMz087iQAAAAAAQPONAzczMzEyp40CZmZmZiRbkQGZmZmbGg+RAMzMzMwPx5EAAAAAAQF7lQM3MzMx8y+VAmZmZmbk45kBmZmZm9qXmQDMzMzMzE+dAAAAAAHCA50DNzMzMrO3nQJmZmZnpWuhAZmZmZibI6EAzMzMzYzXpQAAAAACgoulAzczMzNwP6kCZmZmZGX3qQGZmZmZW6upAMzMzM5NX60AAAAAA0MTrQM3MzMwMMuxAmZmZmUmf7EBmZmZmhgztQDMzMzPDee1AAAAAAADn7UDNzMzMPFTuQJmZmZl5we5AZmZmZrYu70AzMzMz85vvQAAAAACYBPBAZmZmZjY78EDNzMzM1HHwQDMzMzNzqPBAmZmZmRHf8EAAAAAAsBXxQGZmZmZOTPFAzczMzOyC8UAzMzMzi7nxQJmZmZkp8PFAAAAAAMgm8kBmZmZmZl3yQM3MzMwElPJAMzMzM6PK8kCZmZmZQQHzQAAAAADgN/NAZmZmZn5u80DNzMzMHKXzQDMzMzO72/NAmZmZmVkS9EAAAAAA+Ej0QGZmZmaWf/RAzczMzDS29EAzMzMz0+z0QJmZmZlxI/VAAAAAABBa9UA=\",\"dtype\":\"float64\",\"shape\":[100]},\"top\":[426,419,497,515,492,566,472,398,349,262,134,85,65,35,15,19,23,20,19,14,12,9,4,11,6,5,3,5,3,7,7,4,3,9,2,3,3,2,0,0,4,1,0,0,2,1,0,0,1,0,0,0,0,0,0,0,0,0,1,0,0,0,0,0,0,0,1,0,0,0,1,0,0,0,0,0,0,0,0,0,0,0,0,0,0,0,0,0,0,0,0,1,0,0,0,0,0,0,0,1]}},\"id\":\"1fc44610-67f6-4feb-aae1-f871904fad8e\",\"type\":\"ColumnDataSource\"},{\"attributes\":{\"data_source\":{\"id\":\"1fc44610-67f6-4feb-aae1-f871904fad8e\",\"type\":\"ColumnDataSource\"},\"glyph\":{\"id\":\"d1b2db9c-34a0-4475-9eff-15eba559afd9\",\"type\":\"Quad\"},\"hover_glyph\":null,\"muted_glyph\":null,\"nonselection_glyph\":{\"id\":\"6c594b99-ec9b-4001-a3aa-70fe7ffccb7d\",\"type\":\"Quad\"},\"selection_glyph\":null},\"id\":\"f7a06cec-36c5-4cff-a0f5-ef261e480f65\",\"type\":\"GlyphRenderer\"},{\"attributes\":{\"below\":[{\"id\":\"96cf36d3-404b-48dd-af16-222e07920a80\",\"type\":\"LinearAxis\"}],\"left\":[{\"id\":\"927f1c54-646a-4343-a8cf-be7e39f0bef6\",\"type\":\"LinearAxis\"}],\"plot_height\":450,\"plot_width\":550,\"renderers\":[{\"id\":\"96cf36d3-404b-48dd-af16-222e07920a80\",\"type\":\"LinearAxis\"},{\"id\":\"4a16056a-6ae7-4b45-bb03-7583c24ecfb0\",\"type\":\"Grid\"},{\"id\":\"927f1c54-646a-4343-a8cf-be7e39f0bef6\",\"type\":\"LinearAxis\"},{\"id\":\"c69c0251-1355-417e-af79-d31db64e85a7\",\"type\":\"Grid\"},{\"id\":\"46c7f8e9-8c75-415b-9956-149e2f9210d9\",\"type\":\"BoxAnnotation\"},{\"id\":\"f7a06cec-36c5-4cff-a0f5-ef261e480f65\",\"type\":\"GlyphRenderer\"}],\"title\":{\"id\":\"0df78b19-1ce5-4221-83af-3c7dcc9d18a0\",\"type\":\"Title\"},\"tool_events\":{\"id\":\"e2a3841c-85af-4a10-82f7-a3998436dc95\",\"type\":\"ToolEvents\"},\"toolbar\":{\"id\":\"bd368b5a-73c7-46c2-8e11-ec0ecdfa458a\",\"type\":\"Toolbar\"},\"x_range\":{\"id\":\"8f12a6c7-7fac-420e-a33a-cbc1c2f60e13\",\"type\":\"DataRange1d\"},\"y_range\":{\"id\":\"211dca46-ccf4-400f-ad57-1a16868a6210\",\"type\":\"DataRange1d\"}},\"id\":\"c119c12f-f346-4a25-b6a4-8f2c431dcde4\",\"subtype\":\"Figure\",\"type\":\"Plot\"},{\"attributes\":{\"plot\":{\"id\":\"c119c12f-f346-4a25-b6a4-8f2c431dcde4\",\"subtype\":\"Figure\",\"type\":\"Plot\"}},\"id\":\"443e1e0b-4dde-4392-a30a-98afe2dde7c3\",\"type\":\"HelpTool\"},{\"attributes\":{\"callback\":null,\"plot\":{\"id\":\"c119c12f-f346-4a25-b6a4-8f2c431dcde4\",\"subtype\":\"Figure\",\"type\":\"Plot\"},\"tooltips\":[[\"Value\",\"@data_value\"]]},\"id\":\"7f005027-6ae3-43fd-b4fe-f5725e7e1c20\",\"type\":\"HoverTool\"},{\"attributes\":{\"dimension\":1,\"plot\":{\"id\":\"c119c12f-f346-4a25-b6a4-8f2c431dcde4\",\"subtype\":\"Figure\",\"type\":\"Plot\"},\"ticker\":{\"id\":\"567370cf-2eea-44d1-af1c-d8339e58014f\",\"type\":\"BasicTicker\"}},\"id\":\"c69c0251-1355-417e-af79-d31db64e85a7\",\"type\":\"Grid\"},{\"attributes\":{},\"id\":\"e2a3841c-85af-4a10-82f7-a3998436dc95\",\"type\":\"ToolEvents\"},{\"attributes\":{\"plot\":{\"id\":\"c119c12f-f346-4a25-b6a4-8f2c431dcde4\",\"subtype\":\"Figure\",\"type\":\"Plot\"}},\"id\":\"57f3c085-a99d-442a-9b76-1dc4acb7c3d7\",\"type\":\"PanTool\"},{\"attributes\":{\"bottom\":{\"field\":\"bottom\"},\"fill_alpha\":{\"value\":0.1},\"fill_color\":{\"value\":\"#1f77b4\"},\"left\":{\"field\":\"left\"},\"line_alpha\":{\"value\":0.1},\"line_color\":{\"value\":\"#1f77b4\"},\"right\":{\"field\":\"right\"},\"top\":{\"field\":\"top\"}},\"id\":\"6c594b99-ec9b-4001-a3aa-70fe7ffccb7d\",\"type\":\"Quad\"},{\"attributes\":{\"plot\":null,\"text\":\"\"},\"id\":\"0df78b19-1ce5-4221-83af-3c7dcc9d18a0\",\"type\":\"Title\"},{\"attributes\":{},\"id\":\"567370cf-2eea-44d1-af1c-d8339e58014f\",\"type\":\"BasicTicker\"},{\"attributes\":{\"active_drag\":\"auto\",\"active_scroll\":\"auto\",\"active_tap\":\"auto\",\"tools\":[{\"id\":\"57f3c085-a99d-442a-9b76-1dc4acb7c3d7\",\"type\":\"PanTool\"},{\"id\":\"7e0c09ef-8782-4b99-8f6a-b4f4cd334fc5\",\"type\":\"WheelZoomTool\"},{\"id\":\"0477f22d-4e22-468d-8d74-95213f63ead4\",\"type\":\"BoxZoomTool\"},{\"id\":\"98392ad3-7b75-4133-a338-3133296af0ad\",\"type\":\"SaveTool\"},{\"id\":\"ad3988b1-caf3-464b-a654-7e935cf6bf1e\",\"type\":\"ResetTool\"},{\"id\":\"443e1e0b-4dde-4392-a30a-98afe2dde7c3\",\"type\":\"HelpTool\"},{\"id\":\"7f005027-6ae3-43fd-b4fe-f5725e7e1c20\",\"type\":\"HoverTool\"}]},\"id\":\"bd368b5a-73c7-46c2-8e11-ec0ecdfa458a\",\"type\":\"Toolbar\"},{\"attributes\":{\"plot\":{\"id\":\"c119c12f-f346-4a25-b6a4-8f2c431dcde4\",\"subtype\":\"Figure\",\"type\":\"Plot\"}},\"id\":\"ad3988b1-caf3-464b-a654-7e935cf6bf1e\",\"type\":\"ResetTool\"},{\"attributes\":{\"plot\":{\"id\":\"c119c12f-f346-4a25-b6a4-8f2c431dcde4\",\"subtype\":\"Figure\",\"type\":\"Plot\"},\"ticker\":{\"id\":\"80e7f174-ae74-4599-92bd-7543e5b4bd71\",\"type\":\"BasicTicker\"}},\"id\":\"4a16056a-6ae7-4b45-bb03-7583c24ecfb0\",\"type\":\"Grid\"},{\"attributes\":{\"axis_label\":\"Length of Article\",\"formatter\":{\"id\":\"23172f6a-d038-4761-9957-9ef5af5344c6\",\"type\":\"BasicTickFormatter\"},\"plot\":{\"id\":\"c119c12f-f346-4a25-b6a4-8f2c431dcde4\",\"subtype\":\"Figure\",\"type\":\"Plot\"},\"ticker\":{\"id\":\"80e7f174-ae74-4599-92bd-7543e5b4bd71\",\"type\":\"BasicTicker\"}},\"id\":\"96cf36d3-404b-48dd-af16-222e07920a80\",\"type\":\"LinearAxis\"},{\"attributes\":{},\"id\":\"80e7f174-ae74-4599-92bd-7543e5b4bd71\",\"type\":\"BasicTicker\"},{\"attributes\":{\"overlay\":{\"id\":\"46c7f8e9-8c75-415b-9956-149e2f9210d9\",\"type\":\"BoxAnnotation\"},\"plot\":{\"id\":\"c119c12f-f346-4a25-b6a4-8f2c431dcde4\",\"subtype\":\"Figure\",\"type\":\"Plot\"}},\"id\":\"0477f22d-4e22-468d-8d74-95213f63ead4\",\"type\":\"BoxZoomTool\"},{\"attributes\":{\"callback\":null},\"id\":\"8f12a6c7-7fac-420e-a33a-cbc1c2f60e13\",\"type\":\"DataRange1d\"},{\"attributes\":{\"plot\":{\"id\":\"c119c12f-f346-4a25-b6a4-8f2c431dcde4\",\"subtype\":\"Figure\",\"type\":\"Plot\"}},\"id\":\"7e0c09ef-8782-4b99-8f6a-b4f4cd334fc5\",\"type\":\"WheelZoomTool\"},{\"attributes\":{\"bottom\":{\"field\":\"bottom\"},\"fill_color\":{\"value\":\"#1f77b4\"},\"left\":{\"field\":\"left\"},\"line_color\":{\"value\":\"white\"},\"right\":{\"field\":\"right\"},\"top\":{\"field\":\"top\"}},\"id\":\"d1b2db9c-34a0-4475-9eff-15eba559afd9\",\"type\":\"Quad\"},{\"attributes\":{\"plot\":{\"id\":\"c119c12f-f346-4a25-b6a4-8f2c431dcde4\",\"subtype\":\"Figure\",\"type\":\"Plot\"}},\"id\":\"98392ad3-7b75-4133-a338-3133296af0ad\",\"type\":\"SaveTool\"}],\"root_ids\":[\"c119c12f-f346-4a25-b6a4-8f2c431dcde4\"]},\"title\":\"Bokeh Application\",\"version\":\"0.12.5\"}};\n",
       "            var render_items = [{\"docid\":\"ef63cb8a-4d04-46ea-ae43-fe1c7dde7913\",\"elementid\":\"85e9b580-e709-46f1-8b8f-27dc855a98ab\",\"modelid\":\"c119c12f-f346-4a25-b6a4-8f2c431dcde4\"}];\n",
       "            \n",
       "            Bokeh.embed.embed_items(docs_json, render_items);\n",
       "          };\n",
       "          if (document.readyState != \"loading\") fn();\n",
       "          else document.addEventListener(\"DOMContentLoaded\", fn);\n",
       "        })();\n",
       "\n",
       "      },\n",
       "      function(Bokeh) {\n",
       "      }\n",
       "    ];\n",
       "\n",
       "    function run_inline_js() {\n",
       "      \n",
       "      if ((window.Bokeh !== undefined) || (force === true)) {\n",
       "        for (var i = 0; i < inline_js.length; i++) {\n",
       "          inline_js[i](window.Bokeh);\n",
       "        }if (force === true) {\n",
       "          display_loaded();\n",
       "        }} else if (Date.now() < window._bokeh_timeout) {\n",
       "        setTimeout(run_inline_js, 100);\n",
       "      } else if (!window._bokeh_failed_load) {\n",
       "        console.log(\"Bokeh: BokehJS failed to load within specified timeout.\");\n",
       "        window._bokeh_failed_load = true;\n",
       "      } else if (force !== true) {\n",
       "        var cell = $(document.getElementById(\"85e9b580-e709-46f1-8b8f-27dc855a98ab\")).parents('.cell').data().cell;\n",
       "        cell.output_area.append_execute_result(NB_LOAD_WARNING)\n",
       "      }\n",
       "\n",
       "    }\n",
       "\n",
       "    if (window._bokeh_is_loading === 0) {\n",
       "      console.log(\"Bokeh: BokehJS loaded, going straight to plotting\");\n",
       "      run_inline_js();\n",
       "    } else {\n",
       "      load_libs(js_urls, function() {\n",
       "        console.log(\"Bokeh: BokehJS plotting callback run at\", now());\n",
       "        run_inline_js();\n",
       "      });\n",
       "    }\n",
       "  }(this));\n",
       "</script>"
      ]
     },
     "metadata": {},
     "output_type": "display_data"
    }
   ],
   "source": [
    "# Filtering articles with length less than 60 (first three bars)\n",
    "content_data = content_data.loc[content_data['length'] > 60,]\n",
    "\n",
    "# Filtering articles with very large length (removing outliers)\n",
    "content_data = content_data.loc[content_data['length'] < 160000,]\n",
    "\n",
    "# Article length distribution over entire corpus\n",
    "array = content_data['length'].values\n",
    "hist, edges = np.histogram(array, bins=100)\n",
    "\n",
    "source = bp.ColumnDataSource(pd.DataFrame({\n",
    "    'left' : edges[:-1],\n",
    "    'top' : hist,\n",
    "    'right' : edges[1:],\n",
    "    'bottom' : 0,\n",
    "    'data_value' : hist\n",
    "}))\n",
    "\n",
    "p = bp.figure(width = 550, height = 450)\n",
    "p.quad(top='top', bottom='bottom', left='left', right='right', line_color=\"white\", source = source)\n",
    "p.add_tools(HoverTool(tooltips= [(\"Value\", \"@data_value\")]))\n",
    "p.xaxis.axis_label = 'Length of Article'\n",
    "p.yaxis.axis_label = 'Frequency'\n",
    "output_notebook()\n",
    "show(p)"
   ]
  },
  {
   "cell_type": "markdown",
   "metadata": {},
   "source": [
    "### Topic Modelling\n",
    "The first step after cleaning article corpus is to use a generative model for finding topic distribution across all articles. We will use the Latent Dirichlet Allocation (LDA) model to generate distribution. Document-term matrix is created using CountVectorizer to tokenize words greater than 3 characters (alphanumeric) and remove tokens which appear in less than 30 documents or in more than 20% of documents."
   ]
  },
  {
   "cell_type": "code",
   "execution_count": 61,
   "metadata": {},
   "outputs": [
    {
     "data": {
      "text/html": [
       "\n",
       "    <div class=\"bk-root\">\n",
       "        <a href=\"http://bokeh.pydata.org\" target=\"_blank\" class=\"bk-logo bk-logo-small bk-logo-notebook\"></a>\n",
       "        <span id=\"0143a3bd-7021-4f86-82a6-bb0c84b43855\">Loading BokehJS ...</span>\n",
       "    </div>"
      ]
     },
     "metadata": {},
     "output_type": "display_data"
    },
    {
     "data": {
      "application/javascript": [
       "\n",
       "(function(global) {\n",
       "  function now() {\n",
       "    return new Date();\n",
       "  }\n",
       "\n",
       "  var force = true;\n",
       "\n",
       "  if (typeof (window._bokeh_onload_callbacks) === \"undefined\" || force === true) {\n",
       "    window._bokeh_onload_callbacks = [];\n",
       "    window._bokeh_is_loading = undefined;\n",
       "  }\n",
       "\n",
       "\n",
       "  \n",
       "  if (typeof (window._bokeh_timeout) === \"undefined\" || force === true) {\n",
       "    window._bokeh_timeout = Date.now() + 5000;\n",
       "    window._bokeh_failed_load = false;\n",
       "  }\n",
       "\n",
       "  var NB_LOAD_WARNING = {'data': {'text/html':\n",
       "     \"<div style='background-color: #fdd'>\\n\"+\n",
       "     \"<p>\\n\"+\n",
       "     \"BokehJS does not appear to have successfully loaded. If loading BokehJS from CDN, this \\n\"+\n",
       "     \"may be due to a slow or bad network connection. Possible fixes:\\n\"+\n",
       "     \"</p>\\n\"+\n",
       "     \"<ul>\\n\"+\n",
       "     \"<li>re-rerun `output_notebook()` to attempt to load from CDN again, or</li>\\n\"+\n",
       "     \"<li>use INLINE resources instead, as so:</li>\\n\"+\n",
       "     \"</ul>\\n\"+\n",
       "     \"<code>\\n\"+\n",
       "     \"from bokeh.resources import INLINE\\n\"+\n",
       "     \"output_notebook(resources=INLINE)\\n\"+\n",
       "     \"</code>\\n\"+\n",
       "     \"</div>\"}};\n",
       "\n",
       "  function display_loaded() {\n",
       "    if (window.Bokeh !== undefined) {\n",
       "      var el = document.getElementById(\"0143a3bd-7021-4f86-82a6-bb0c84b43855\");\n",
       "      el.textContent = \"BokehJS \" + Bokeh.version + \" successfully loaded.\";\n",
       "    } else if (Date.now() < window._bokeh_timeout) {\n",
       "      setTimeout(display_loaded, 100)\n",
       "    }\n",
       "  }\n",
       "\n",
       "  function run_callbacks() {\n",
       "    window._bokeh_onload_callbacks.forEach(function(callback) { callback() });\n",
       "    delete window._bokeh_onload_callbacks\n",
       "    console.info(\"Bokeh: all callbacks have finished\");\n",
       "  }\n",
       "\n",
       "  function load_libs(js_urls, callback) {\n",
       "    window._bokeh_onload_callbacks.push(callback);\n",
       "    if (window._bokeh_is_loading > 0) {\n",
       "      console.log(\"Bokeh: BokehJS is being loaded, scheduling callback at\", now());\n",
       "      return null;\n",
       "    }\n",
       "    if (js_urls == null || js_urls.length === 0) {\n",
       "      run_callbacks();\n",
       "      return null;\n",
       "    }\n",
       "    console.log(\"Bokeh: BokehJS not loaded, scheduling load and callback at\", now());\n",
       "    window._bokeh_is_loading = js_urls.length;\n",
       "    for (var i = 0; i < js_urls.length; i++) {\n",
       "      var url = js_urls[i];\n",
       "      var s = document.createElement('script');\n",
       "      s.src = url;\n",
       "      s.async = false;\n",
       "      s.onreadystatechange = s.onload = function() {\n",
       "        window._bokeh_is_loading--;\n",
       "        if (window._bokeh_is_loading === 0) {\n",
       "          console.log(\"Bokeh: all BokehJS libraries loaded\");\n",
       "          run_callbacks()\n",
       "        }\n",
       "      };\n",
       "      s.onerror = function() {\n",
       "        console.warn(\"failed to load library \" + url);\n",
       "      };\n",
       "      console.log(\"Bokeh: injecting script tag for BokehJS library: \", url);\n",
       "      document.getElementsByTagName(\"head\")[0].appendChild(s);\n",
       "    }\n",
       "  };var element = document.getElementById(\"0143a3bd-7021-4f86-82a6-bb0c84b43855\");\n",
       "  if (element == null) {\n",
       "    console.log(\"Bokeh: ERROR: autoload.js configured with elementid '0143a3bd-7021-4f86-82a6-bb0c84b43855' but no matching script tag was found. \")\n",
       "    return false;\n",
       "  }\n",
       "\n",
       "  var js_urls = [\"https://cdn.pydata.org/bokeh/release/bokeh-0.12.5.min.js\", \"https://cdn.pydata.org/bokeh/release/bokeh-widgets-0.12.5.min.js\"];\n",
       "\n",
       "  var inline_js = [\n",
       "    function(Bokeh) {\n",
       "      Bokeh.set_log_level(\"info\");\n",
       "    },\n",
       "    \n",
       "    function(Bokeh) {\n",
       "      \n",
       "    },\n",
       "    \n",
       "    function(Bokeh) {\n",
       "      \n",
       "      document.getElementById(\"0143a3bd-7021-4f86-82a6-bb0c84b43855\").textContent = \"BokehJS is loading...\";\n",
       "\n",
       "    },\n",
       "    function(Bokeh) {\n",
       "      console.log(\"Bokeh: injecting CSS: https://cdn.pydata.org/bokeh/release/bokeh-0.12.5.min.css\");\n",
       "      Bokeh.embed.inject_css(\"https://cdn.pydata.org/bokeh/release/bokeh-0.12.5.min.css\");\n",
       "      console.log(\"Bokeh: injecting CSS: https://cdn.pydata.org/bokeh/release/bokeh-widgets-0.12.5.min.css\");\n",
       "      Bokeh.embed.inject_css(\"https://cdn.pydata.org/bokeh/release/bokeh-widgets-0.12.5.min.css\");\n",
       "    }\n",
       "  ];\n",
       "\n",
       "  function run_inline_js() {\n",
       "    \n",
       "    if ((window.Bokeh !== undefined) || (force === true)) {\n",
       "      for (var i = 0; i < inline_js.length; i++) {\n",
       "        inline_js[i](window.Bokeh);\n",
       "      }if (force === true) {\n",
       "        display_loaded();\n",
       "      }} else if (Date.now() < window._bokeh_timeout) {\n",
       "      setTimeout(run_inline_js, 100);\n",
       "    } else if (!window._bokeh_failed_load) {\n",
       "      console.log(\"Bokeh: BokehJS failed to load within specified timeout.\");\n",
       "      window._bokeh_failed_load = true;\n",
       "    } else if (force !== true) {\n",
       "      var cell = $(document.getElementById(\"0143a3bd-7021-4f86-82a6-bb0c84b43855\")).parents('.cell').data().cell;\n",
       "      cell.output_area.append_execute_result(NB_LOAD_WARNING)\n",
       "    }\n",
       "\n",
       "  }\n",
       "\n",
       "  if (window._bokeh_is_loading === 0) {\n",
       "    console.log(\"Bokeh: BokehJS loaded, going straight to plotting\");\n",
       "    run_inline_js();\n",
       "  } else {\n",
       "    load_libs(js_urls, function() {\n",
       "      console.log(\"Bokeh: BokehJS plotting callback run at\", now());\n",
       "      run_inline_js();\n",
       "    });\n",
       "  }\n",
       "}(this));"
      ]
     },
     "metadata": {},
     "output_type": "display_data"
    },
    {
     "data": {
      "text/html": [
       "\n",
       "\n",
       "    <div class=\"bk-root\">\n",
       "        <div class=\"bk-plotdiv\" id=\"8c77ea9c-9e99-4fbe-be99-2b5fe76b4dc9\"></div>\n",
       "    </div>\n",
       "<script type=\"text/javascript\">\n",
       "  \n",
       "  (function(global) {\n",
       "    function now() {\n",
       "      return new Date();\n",
       "    }\n",
       "\n",
       "    var force = false;\n",
       "\n",
       "    if (typeof (window._bokeh_onload_callbacks) === \"undefined\" || force === true) {\n",
       "      window._bokeh_onload_callbacks = [];\n",
       "      window._bokeh_is_loading = undefined;\n",
       "    }\n",
       "\n",
       "\n",
       "    \n",
       "    if (typeof (window._bokeh_timeout) === \"undefined\" || force === true) {\n",
       "      window._bokeh_timeout = Date.now() + 0;\n",
       "      window._bokeh_failed_load = false;\n",
       "    }\n",
       "\n",
       "    var NB_LOAD_WARNING = {'data': {'text/html':\n",
       "       \"<div style='background-color: #fdd'>\\n\"+\n",
       "       \"<p>\\n\"+\n",
       "       \"BokehJS does not appear to have successfully loaded. If loading BokehJS from CDN, this \\n\"+\n",
       "       \"may be due to a slow or bad network connection. Possible fixes:\\n\"+\n",
       "       \"</p>\\n\"+\n",
       "       \"<ul>\\n\"+\n",
       "       \"<li>re-rerun `output_notebook()` to attempt to load from CDN again, or</li>\\n\"+\n",
       "       \"<li>use INLINE resources instead, as so:</li>\\n\"+\n",
       "       \"</ul>\\n\"+\n",
       "       \"<code>\\n\"+\n",
       "       \"from bokeh.resources import INLINE\\n\"+\n",
       "       \"output_notebook(resources=INLINE)\\n\"+\n",
       "       \"</code>\\n\"+\n",
       "       \"</div>\"}};\n",
       "\n",
       "    function display_loaded() {\n",
       "      if (window.Bokeh !== undefined) {\n",
       "        var el = document.getElementById(\"8c77ea9c-9e99-4fbe-be99-2b5fe76b4dc9\");\n",
       "        el.textContent = \"BokehJS \" + Bokeh.version + \" successfully loaded.\";\n",
       "      } else if (Date.now() < window._bokeh_timeout) {\n",
       "        setTimeout(display_loaded, 100)\n",
       "      }\n",
       "    }\n",
       "\n",
       "    function run_callbacks() {\n",
       "      window._bokeh_onload_callbacks.forEach(function(callback) { callback() });\n",
       "      delete window._bokeh_onload_callbacks\n",
       "      console.info(\"Bokeh: all callbacks have finished\");\n",
       "    }\n",
       "\n",
       "    function load_libs(js_urls, callback) {\n",
       "      window._bokeh_onload_callbacks.push(callback);\n",
       "      if (window._bokeh_is_loading > 0) {\n",
       "        console.log(\"Bokeh: BokehJS is being loaded, scheduling callback at\", now());\n",
       "        return null;\n",
       "      }\n",
       "      if (js_urls == null || js_urls.length === 0) {\n",
       "        run_callbacks();\n",
       "        return null;\n",
       "      }\n",
       "      console.log(\"Bokeh: BokehJS not loaded, scheduling load and callback at\", now());\n",
       "      window._bokeh_is_loading = js_urls.length;\n",
       "      for (var i = 0; i < js_urls.length; i++) {\n",
       "        var url = js_urls[i];\n",
       "        var s = document.createElement('script');\n",
       "        s.src = url;\n",
       "        s.async = false;\n",
       "        s.onreadystatechange = s.onload = function() {\n",
       "          window._bokeh_is_loading--;\n",
       "          if (window._bokeh_is_loading === 0) {\n",
       "            console.log(\"Bokeh: all BokehJS libraries loaded\");\n",
       "            run_callbacks()\n",
       "          }\n",
       "        };\n",
       "        s.onerror = function() {\n",
       "          console.warn(\"failed to load library \" + url);\n",
       "        };\n",
       "        console.log(\"Bokeh: injecting script tag for BokehJS library: \", url);\n",
       "        document.getElementsByTagName(\"head\")[0].appendChild(s);\n",
       "      }\n",
       "    };var element = document.getElementById(\"8c77ea9c-9e99-4fbe-be99-2b5fe76b4dc9\");\n",
       "    if (element == null) {\n",
       "      console.log(\"Bokeh: ERROR: autoload.js configured with elementid '8c77ea9c-9e99-4fbe-be99-2b5fe76b4dc9' but no matching script tag was found. \")\n",
       "      return false;\n",
       "    }\n",
       "\n",
       "    var js_urls = [];\n",
       "\n",
       "    var inline_js = [\n",
       "      function(Bokeh) {\n",
       "        (function() {\n",
       "          var fn = function() {\n",
       "            var docs_json = {\"898b92c4-8e8f-48b1-bf70-825080ee534e\":{\"roots\":{\"references\":[{\"attributes\":{\"dimension\":1,\"plot\":{\"id\":\"c82ec176-0e35-4fc1-a3a3-44c899511b54\",\"subtype\":\"Figure\",\"type\":\"Plot\"},\"ticker\":{\"id\":\"9b17df12-5dcb-4e34-9d15-2f7f34489b05\",\"type\":\"BasicTicker\"}},\"id\":\"c18b5079-72b7-408b-9385-83295ae680e6\",\"type\":\"Grid\"},{\"attributes\":{\"line_alpha\":{\"value\":0.1},\"line_color\":{\"value\":\"#1f77b4\"},\"line_width\":{\"value\":2},\"x\":{\"field\":\"x\"},\"y\":{\"field\":\"y\"}},\"id\":\"5e9c8f5b-3d79-4b3e-8cd5-580db65744fa\",\"type\":\"Line\"},{\"attributes\":{\"fill_color\":{\"value\":\"white\"},\"line_color\":{\"value\":\"#1f77b4\"},\"size\":{\"units\":\"screen\",\"value\":8},\"x\":{\"field\":\"x\"},\"y\":{\"field\":\"y\"}},\"id\":\"2c7cecb6-8a68-453d-8247-155026583061\",\"type\":\"Circle\"},{\"attributes\":{\"line_color\":{\"value\":\"#1f77b4\"},\"line_width\":{\"value\":2},\"x\":{\"field\":\"x\"},\"y\":{\"field\":\"y\"}},\"id\":\"f884e4de-544d-4dc8-b6ca-46e5364167be\",\"type\":\"Line\"},{\"attributes\":{\"fill_alpha\":{\"value\":0.1},\"fill_color\":{\"value\":\"#1f77b4\"},\"line_alpha\":{\"value\":0.1},\"line_color\":{\"value\":\"#1f77b4\"},\"size\":{\"units\":\"screen\",\"value\":8},\"x\":{\"field\":\"x\"},\"y\":{\"field\":\"y\"}},\"id\":\"caa493f4-3855-41c0-bd0e-e96433f0a6b5\",\"type\":\"Circle\"},{\"attributes\":{\"data_source\":{\"id\":\"ea3867a8-9a27-4637-9456-f5a9b9c06238\",\"type\":\"ColumnDataSource\"},\"glyph\":{\"id\":\"2c7cecb6-8a68-453d-8247-155026583061\",\"type\":\"Circle\"},\"hover_glyph\":null,\"muted_glyph\":null,\"nonselection_glyph\":{\"id\":\"caa493f4-3855-41c0-bd0e-e96433f0a6b5\",\"type\":\"Circle\"},\"selection_glyph\":null},\"id\":\"6b8355d7-a18d-4a72-9562-025ba8ceb1aa\",\"type\":\"GlyphRenderer\"},{\"attributes\":{\"plot\":null,\"text\":\"\"},\"id\":\"760649a8-dd6f-4cf5-935e-412c9028b031\",\"type\":\"Title\"},{\"attributes\":{\"below\":[{\"id\":\"e248cc81-8944-4d9e-8bce-d909ac232b2b\",\"type\":\"LinearAxis\"}],\"left\":[{\"id\":\"00eb6a1f-43ff-4594-ab1b-5ce575ff04e4\",\"type\":\"LinearAxis\"}],\"plot_height\":400,\"plot_width\":400,\"renderers\":[{\"id\":\"e248cc81-8944-4d9e-8bce-d909ac232b2b\",\"type\":\"LinearAxis\"},{\"id\":\"727afb66-f6c3-43fb-adab-ac214d5e2036\",\"type\":\"Grid\"},{\"id\":\"00eb6a1f-43ff-4594-ab1b-5ce575ff04e4\",\"type\":\"LinearAxis\"},{\"id\":\"c18b5079-72b7-408b-9385-83295ae680e6\",\"type\":\"Grid\"},{\"id\":\"8c53998f-1e6a-4df5-9dcd-83d707dc2ea5\",\"type\":\"BoxAnnotation\"},{\"id\":\"49182b11-0a47-4f02-85cd-ea7b161e4079\",\"type\":\"GlyphRenderer\"},{\"id\":\"6b8355d7-a18d-4a72-9562-025ba8ceb1aa\",\"type\":\"GlyphRenderer\"}],\"title\":{\"id\":\"760649a8-dd6f-4cf5-935e-412c9028b031\",\"type\":\"Title\"},\"tool_events\":{\"id\":\"fcc22d64-40db-4a35-b0d2-3bedfe5d99ed\",\"type\":\"ToolEvents\"},\"toolbar\":{\"id\":\"15d9772f-bf6d-41de-a774-534cdb6d963d\",\"type\":\"Toolbar\"},\"x_range\":{\"id\":\"3591f185-dcd7-4725-aca8-4d2b6936de88\",\"type\":\"DataRange1d\"},\"y_range\":{\"id\":\"9a366df9-0a91-461a-af74-809924a88d49\",\"type\":\"DataRange1d\"}},\"id\":\"c82ec176-0e35-4fc1-a3a3-44c899511b54\",\"subtype\":\"Figure\",\"type\":\"Plot\"},{\"attributes\":{\"axis_label\":\"Topic Similarity\",\"formatter\":{\"id\":\"3f03ea46-9467-46e9-91ed-391306f282eb\",\"type\":\"BasicTickFormatter\"},\"plot\":{\"id\":\"c82ec176-0e35-4fc1-a3a3-44c899511b54\",\"subtype\":\"Figure\",\"type\":\"Plot\"},\"ticker\":{\"id\":\"9b17df12-5dcb-4e34-9d15-2f7f34489b05\",\"type\":\"BasicTicker\"}},\"id\":\"00eb6a1f-43ff-4594-ab1b-5ce575ff04e4\",\"type\":\"LinearAxis\"},{\"attributes\":{\"plot\":{\"id\":\"c82ec176-0e35-4fc1-a3a3-44c899511b54\",\"subtype\":\"Figure\",\"type\":\"Plot\"}},\"id\":\"566b9d88-b90e-4247-ae7b-8e5d567ecbc8\",\"type\":\"WheelZoomTool\"},{\"attributes\":{\"plot\":{\"id\":\"c82ec176-0e35-4fc1-a3a3-44c899511b54\",\"subtype\":\"Figure\",\"type\":\"Plot\"}},\"id\":\"83f4a7a5-d6d9-49e2-8b21-2efa84eb41ef\",\"type\":\"ResetTool\"},{\"attributes\":{\"callback\":null,\"column_names\":[\"x\",\"y\"],\"data\":{\"x\":[1,12,23,34,45,56,67,78,89,100],\"y\":[0.999999999999999,0.2701337590857088,0.18928418091486246,0.13702128309488892,0.1155249316515021,0.10169885484677733,0.08775460438612065,0.07541308551121666,0.06634053230385271,0.0652257697279985]}},\"id\":\"ea3867a8-9a27-4637-9456-f5a9b9c06238\",\"type\":\"ColumnDataSource\"},{\"attributes\":{\"plot\":{\"id\":\"c82ec176-0e35-4fc1-a3a3-44c899511b54\",\"subtype\":\"Figure\",\"type\":\"Plot\"}},\"id\":\"964286ca-4bcc-4e7d-8c64-d5e24223f662\",\"type\":\"PanTool\"},{\"attributes\":{},\"id\":\"c6843447-a91d-49ba-af01-c412f1ff9540\",\"type\":\"BasicTickFormatter\"},{\"attributes\":{\"plot\":{\"id\":\"c82ec176-0e35-4fc1-a3a3-44c899511b54\",\"subtype\":\"Figure\",\"type\":\"Plot\"},\"ticker\":{\"id\":\"52570d62-a36d-41d1-9147-776b911b9e23\",\"type\":\"BasicTicker\"}},\"id\":\"727afb66-f6c3-43fb-adab-ac214d5e2036\",\"type\":\"Grid\"},{\"attributes\":{\"data_source\":{\"id\":\"43d13448-5bad-4e9a-96ce-06f794658fdf\",\"type\":\"ColumnDataSource\"},\"glyph\":{\"id\":\"f884e4de-544d-4dc8-b6ca-46e5364167be\",\"type\":\"Line\"},\"hover_glyph\":null,\"muted_glyph\":null,\"nonselection_glyph\":{\"id\":\"5e9c8f5b-3d79-4b3e-8cd5-580db65744fa\",\"type\":\"Line\"},\"selection_glyph\":null},\"id\":\"49182b11-0a47-4f02-85cd-ea7b161e4079\",\"type\":\"GlyphRenderer\"},{\"attributes\":{\"callback\":null,\"column_names\":[\"x\",\"y\"],\"data\":{\"x\":[1,12,23,34,45,56,67,78,89,100],\"y\":[0.999999999999999,0.2701337590857088,0.18928418091486246,0.13702128309488892,0.1155249316515021,0.10169885484677733,0.08775460438612065,0.07541308551121666,0.06634053230385271,0.0652257697279985]}},\"id\":\"43d13448-5bad-4e9a-96ce-06f794658fdf\",\"type\":\"ColumnDataSource\"},{\"attributes\":{\"active_drag\":\"auto\",\"active_scroll\":\"auto\",\"active_tap\":\"auto\",\"tools\":[{\"id\":\"964286ca-4bcc-4e7d-8c64-d5e24223f662\",\"type\":\"PanTool\"},{\"id\":\"566b9d88-b90e-4247-ae7b-8e5d567ecbc8\",\"type\":\"WheelZoomTool\"},{\"id\":\"8ccb65b5-dec1-4871-9a90-4df37f1616e2\",\"type\":\"BoxZoomTool\"},{\"id\":\"07441529-7246-4f9e-9baf-fb8e8c07873f\",\"type\":\"SaveTool\"},{\"id\":\"83f4a7a5-d6d9-49e2-8b21-2efa84eb41ef\",\"type\":\"ResetTool\"},{\"id\":\"30189770-70bb-4fea-833a-483d0927e230\",\"type\":\"HelpTool\"}]},\"id\":\"15d9772f-bf6d-41de-a774-534cdb6d963d\",\"type\":\"Toolbar\"},{\"attributes\":{\"overlay\":{\"id\":\"8c53998f-1e6a-4df5-9dcd-83d707dc2ea5\",\"type\":\"BoxAnnotation\"},\"plot\":{\"id\":\"c82ec176-0e35-4fc1-a3a3-44c899511b54\",\"subtype\":\"Figure\",\"type\":\"Plot\"}},\"id\":\"8ccb65b5-dec1-4871-9a90-4df37f1616e2\",\"type\":\"BoxZoomTool\"},{\"attributes\":{\"callback\":null},\"id\":\"9a366df9-0a91-461a-af74-809924a88d49\",\"type\":\"DataRange1d\"},{\"attributes\":{\"callback\":null},\"id\":\"3591f185-dcd7-4725-aca8-4d2b6936de88\",\"type\":\"DataRange1d\"},{\"attributes\":{},\"id\":\"3f03ea46-9467-46e9-91ed-391306f282eb\",\"type\":\"BasicTickFormatter\"},{\"attributes\":{},\"id\":\"fcc22d64-40db-4a35-b0d2-3bedfe5d99ed\",\"type\":\"ToolEvents\"},{\"attributes\":{\"plot\":{\"id\":\"c82ec176-0e35-4fc1-a3a3-44c899511b54\",\"subtype\":\"Figure\",\"type\":\"Plot\"}},\"id\":\"07441529-7246-4f9e-9baf-fb8e8c07873f\",\"type\":\"SaveTool\"},{\"attributes\":{\"axis_label\":\"Number of Topics\",\"formatter\":{\"id\":\"c6843447-a91d-49ba-af01-c412f1ff9540\",\"type\":\"BasicTickFormatter\"},\"plot\":{\"id\":\"c82ec176-0e35-4fc1-a3a3-44c899511b54\",\"subtype\":\"Figure\",\"type\":\"Plot\"},\"ticker\":{\"id\":\"52570d62-a36d-41d1-9147-776b911b9e23\",\"type\":\"BasicTicker\"}},\"id\":\"e248cc81-8944-4d9e-8bce-d909ac232b2b\",\"type\":\"LinearAxis\"},{\"attributes\":{\"plot\":{\"id\":\"c82ec176-0e35-4fc1-a3a3-44c899511b54\",\"subtype\":\"Figure\",\"type\":\"Plot\"}},\"id\":\"30189770-70bb-4fea-833a-483d0927e230\",\"type\":\"HelpTool\"},{\"attributes\":{},\"id\":\"52570d62-a36d-41d1-9147-776b911b9e23\",\"type\":\"BasicTicker\"},{\"attributes\":{},\"id\":\"9b17df12-5dcb-4e34-9d15-2f7f34489b05\",\"type\":\"BasicTicker\"},{\"attributes\":{\"bottom_units\":\"screen\",\"fill_alpha\":{\"value\":0.5},\"fill_color\":{\"value\":\"lightgrey\"},\"left_units\":\"screen\",\"level\":\"overlay\",\"line_alpha\":{\"value\":1.0},\"line_color\":{\"value\":\"black\"},\"line_dash\":[4,4],\"line_width\":{\"value\":2},\"plot\":null,\"render_mode\":\"css\",\"right_units\":\"screen\",\"top_units\":\"screen\"},\"id\":\"8c53998f-1e6a-4df5-9dcd-83d707dc2ea5\",\"type\":\"BoxAnnotation\"}],\"root_ids\":[\"c82ec176-0e35-4fc1-a3a3-44c899511b54\"]},\"title\":\"Bokeh Application\",\"version\":\"0.12.5\"}};\n",
       "            var render_items = [{\"docid\":\"898b92c4-8e8f-48b1-bf70-825080ee534e\",\"elementid\":\"8c77ea9c-9e99-4fbe-be99-2b5fe76b4dc9\",\"modelid\":\"c82ec176-0e35-4fc1-a3a3-44c899511b54\"}];\n",
       "            \n",
       "            Bokeh.embed.embed_items(docs_json, render_items);\n",
       "          };\n",
       "          if (document.readyState != \"loading\") fn();\n",
       "          else document.addEventListener(\"DOMContentLoaded\", fn);\n",
       "        })();\n",
       "\n",
       "      },\n",
       "      function(Bokeh) {\n",
       "      }\n",
       "    ];\n",
       "\n",
       "    function run_inline_js() {\n",
       "      \n",
       "      if ((window.Bokeh !== undefined) || (force === true)) {\n",
       "        for (var i = 0; i < inline_js.length; i++) {\n",
       "          inline_js[i](window.Bokeh);\n",
       "        }if (force === true) {\n",
       "          display_loaded();\n",
       "        }} else if (Date.now() < window._bokeh_timeout) {\n",
       "        setTimeout(run_inline_js, 100);\n",
       "      } else if (!window._bokeh_failed_load) {\n",
       "        console.log(\"Bokeh: BokehJS failed to load within specified timeout.\");\n",
       "        window._bokeh_failed_load = true;\n",
       "      } else if (force !== true) {\n",
       "        var cell = $(document.getElementById(\"8c77ea9c-9e99-4fbe-be99-2b5fe76b4dc9\")).parents('.cell').data().cell;\n",
       "        cell.output_area.append_execute_result(NB_LOAD_WARNING)\n",
       "      }\n",
       "\n",
       "    }\n",
       "\n",
       "    if (window._bokeh_is_loading === 0) {\n",
       "      console.log(\"Bokeh: BokehJS loaded, going straight to plotting\");\n",
       "      run_inline_js();\n",
       "    } else {\n",
       "      load_libs(js_urls, function() {\n",
       "        console.log(\"Bokeh: BokehJS plotting callback run at\", now());\n",
       "        run_inline_js();\n",
       "      });\n",
       "    }\n",
       "  }(this));\n",
       "</script>"
      ]
     },
     "metadata": {},
     "output_type": "display_data"
    }
   ],
   "source": [
    "import gensim\n",
    "from sklearn.feature_extraction.text import CountVectorizer\n",
    "\n",
    "# Using CountVectorizor to find three letter tokens, removing stop_words, \n",
    "# removing tokens that don't appear in at least 30 documents,\n",
    "# removing tokens that appear in more than 20% of the documents\n",
    "vect = CountVectorizer(min_df=30, max_df=0.2, stop_words='english', token_pattern='(?u)\\\\b\\\\w\\\\w\\\\w+\\\\b')\n",
    "\n",
    "X = vect.fit_transform(content_data['content'])\n",
    "\n",
    "# Convert sparse matrix to gensim corpus.\n",
    "corpus = gensim.matutils.Sparse2Corpus(X, documents_columns=False)\n",
    "\n",
    "# Mapping from word IDs to words (To be used in LdaModel's id2word parameter)\n",
    "id_map = dict((v, k) for k, v in vect.vocabulary_.items())\n",
    "\n",
    "from sklearn.metrics.pairwise import cosine_similarity\n",
    "def topic_sim(lda_model, num_topic):\n",
    "    topic_word = lda_model.get_topics()\n",
    "    avg_sim = []\n",
    "    for i in range(num_topic):\n",
    "        arr1 = topic_word[i]\n",
    "        sim = []\n",
    "        for j in range(num_topic):\n",
    "            arr2 = topic_word[j]\n",
    "            sim_value = cosine_similarity(arr1.reshape(1,-1),arr2.reshape(1,-1))\n",
    "            sim.append(sim_value)\n",
    "        avg_sim.append(np.mean(sim))\n",
    "    return(np.mean(avg_sim))        \n",
    "\n",
    "x = np.linspace(1, 100, 10).astype(int)\n",
    "topic_overlap = []\n",
    "for i in x:\n",
    "    ldamodel = gensim.models.ldamodel.LdaModel(corpus, num_topics = i, \n",
    "                                               id2word = id_map, passes = 25, random_state = 34)\n",
    "    topic_overlap.append(topic_sim(ldamodel, i))\n",
    "\n",
    "\n",
    "p = bp.figure(plot_width=400, plot_height=400)\n",
    "p.line(list(x), topic_overlap, line_width=2)\n",
    "p.circle(list(x), topic_overlap, fill_color=\"white\", size=8)\n",
    "p.xaxis.axis_label = 'Number of Topics'\n",
    "p.yaxis.axis_label = 'Topic Similarity'\n",
    "output_notebook()\n",
    "show(p)"
   ]
  },
  {
   "cell_type": "code",
   "execution_count": 60,
   "metadata": {
    "scrolled": false
   },
   "outputs": [
    {
     "data": {
      "application/vnd.jupyter.widget-view+json": {
       "model_id": "53195c4b9c6a47f193695c820a822119",
       "version_major": 2,
       "version_minor": 0
      },
      "text/html": [
       "<p>Failed to display Jupyter Widget of type <code>HBox</code>.</p>\n",
       "<p>\n",
       "  If you're reading this message in the Jupyter Notebook or JupyterLab Notebook, it may mean\n",
       "  that the widgets JavaScript is still loading. If this message persists, it\n",
       "  likely means that the widgets JavaScript library is either not installed or\n",
       "  not enabled. See the <a href=\"https://ipywidgets.readthedocs.io/en/stable/user_install.html\">Jupyter\n",
       "  Widgets Documentation</a> for setup instructions.\n",
       "</p>\n",
       "<p>\n",
       "  If you're reading this message in another frontend (for example, a static\n",
       "  rendering on GitHub or <a href=\"https://nbviewer.jupyter.org/\">NBViewer</a>),\n",
       "  it may mean that your frontend doesn't currently support widgets.\n",
       "</p>\n"
      ],
      "text/plain": [
       "HBox(children=(VBox(children=(Label(value=''), HBox(children=(Text(value='', placeholder='Type a query for NY Times article listing'), Button(description='Search articles', style=ButtonStyle()))), Label(value=''))), Label(value=''), Label(value=''), VBox(children=(HBox(children=(Label(value='Username:'), Text(value='saket', placeholder='Enter your name'))), HBox(children=(Label(value='->->->->->'), Button(description='Get recommendations', layout=Layout(width='150px'), style=ButtonStyle())))))))"
      ]
     },
     "metadata": {},
     "output_type": "display_data"
    },
    {
     "data": {
      "text/html": [
       "<script>$('div.output_area > div.output_subarea.jupyter-widgets-view > div.p-Widget.p-Panel.jupyter-widgets.widget-container.widget-box.widget-vbox').fadeOut();</script>"
      ],
      "text/plain": [
       "<IPython.core.display.HTML object>"
      ]
     },
     "metadata": {},
     "output_type": "display_data"
    },
    {
     "data": {
      "application/vnd.jupyter.widget-view+json": {
       "model_id": "d2ff3a9a71fb469992fa73dcae017174",
       "version_major": 2,
       "version_minor": 0
      },
      "text/html": [
       "<p>Failed to display Jupyter Widget of type <code>VBox</code>.</p>\n",
       "<p>\n",
       "  If you're reading this message in the Jupyter Notebook or JupyterLab Notebook, it may mean\n",
       "  that the widgets JavaScript is still loading. If this message persists, it\n",
       "  likely means that the widgets JavaScript library is either not installed or\n",
       "  not enabled. See the <a href=\"https://ipywidgets.readthedocs.io/en/stable/user_install.html\">Jupyter\n",
       "  Widgets Documentation</a> for setup instructions.\n",
       "</p>\n",
       "<p>\n",
       "  If you're reading this message in another frontend (for example, a static\n",
       "  rendering on GitHub or <a href=\"https://nbviewer.jupyter.org/\">NBViewer</a>),\n",
       "  it may mean that your frontend doesn't currently support widgets.\n",
       "</p>\n"
      ],
      "text/plain": [
       "VBox(children=(VBox(children=(HBox(children=(Button(description='By Looking to Asia, the Australian Open Found Itself', layout=Layout(height='40px', width='80%'), style=ButtonStyle(button_color='SkyBlue', font_weight='bold')), SelectionSlider(continuous_update=False, description='Rate Article 1', index=1, options=('Less', 'Neutral', 'More'), value='Neutral'))), Textarea(value='The Australian Open has grown to be the largest annual sporting event in the Southern Hemisphere and is considered the Grand Slam of the Asia Pacific.', disabled=True, layout=Layout(height='50px', width='99.5%')))), VBox(children=(HBox(children=(Button(description='Picking the Right Home Rental for a Mexico Beach Vacation', layout=Layout(height='40px', width='80%'), style=ButtonStyle(button_color='SkyBlue', font_weight='bold')), SelectionSlider(continuous_update=False, description='Rate Article 2', index=1, options=('Less', 'Neutral', 'More'), value='Neutral'))), Textarea(value='Long before Airbnb was a thing, my family rented houses for our holidays rather than stay in hotels. Houses were easier with small children who needed room to run. We liked going to markets in foreign countries and cooking with fresh, local ingred...', disabled=True, layout=Layout(height='50px', width='99.5%')))), VBox(children=(HBox(children=(Button(description='Weezer’s Pop-Rock Defies a Hip-Hop World on ‘Pacific Daydream’', layout=Layout(height='40px', width='80%'), style=ButtonStyle(button_color='SkyBlue', font_weight='bold')), SelectionSlider(continuous_update=False, description='Rate Article 3', index=1, options=('Less', 'Neutral', 'More'), value='Neutral'))), Textarea(value='The band’s 11th album meshes its fondness for bygone rock eras with the digital arsenal available now.', disabled=True, layout=Layout(height='50px', width='99.5%')))), VBox(children=(HBox(children=(Button(description='TriBeCa, by Way of Venice Beach', layout=Layout(height='40px', width='80%'), style=ButtonStyle(button_color='SkyBlue', font_weight='bold')), SelectionSlider(continuous_update=False, description='Rate Article 4', index=1, options=('Less', 'Neutral', 'More'), value='Neutral'))), Textarea(value='A former Sha Na Na member and his wife create a New York-style loft in Southern California.', disabled=True, layout=Layout(height='50px', width='99.5%')))), VBox(children=(HBox(children=(Button(description='Trump Heads to Asia With an Ambitious Agenda but Little to Offer', layout=Layout(height='40px', width='80%'), style=ButtonStyle(button_color='SkyBlue', font_weight='bold')), SelectionSlider(continuous_update=False, description='Rate Article 5', index=1, options=('Less', 'Neutral', 'More'), value='Neutral'))), Textarea(value='The White House is framing the trip as a chance for the president to showcase his budding relationships with President Xi Jinping of China and Prime Minister Shinzo Abe of Japan.', disabled=True, layout=Layout(height='50px', width='99.5%')))), VBox(children=(HBox(children=(Button(description='Leon Cooper, Who Carried on a Battle for Tarawa, Dies at 98', layout=Layout(height='40px', width='80%'), style=ButtonStyle(button_color='SkyBlue', font_weight='bold')), SelectionSlider(continuous_update=False, description='Rate Article 6', index=1, options=('Less', 'Neutral', 'More'), value='Neutral'))), Textarea(value='A veteran of the fight to take a Pacific atoll in World War II, he fought for the return of Marines’ remains and to restore a beach as “hallowed ground.”', disabled=True, layout=Layout(height='50px', width='99.5%')))), VBox(children=(HBox(children=(Button(description='In Danang, Vietnam, Trump Makes a Friendlier American Landing', layout=Layout(height='40px', width='80%'), style=ButtonStyle(button_color='SkyBlue', font_weight='bold')), SelectionSlider(continuous_update=False, description='Rate Article 7', index=1, options=('Less', 'Neutral', 'More'), value='Neutral'))), Textarea(value='Once a vital American war base, the city is host to an APEC summit where Vietnam will reaffirm warmer ties with the United States and seek help with China.', disabled=True, layout=Layout(height='50px', width='99.5%')))), VBox(children=(HBox(children=(Button(description='Trump Opens Asia Trip Talking Tough in Campaign-Style Rally', layout=Layout(height='40px', width='80%'), style=ButtonStyle(button_color='SkyBlue', font_weight='bold')), SelectionSlider(continuous_update=False, description='Rate Article 8', index=1, options=('Less', 'Neutral', 'More'), value='Neutral'))), Textarea(value='President Trump promoted American military might and his own domestic record as he arrived in Japan to start a 12-day, five-country tour through Asia.', disabled=True, layout=Layout(height='50px', width='99.5%')))), VBox(children=(HBox(children=(Button(description='Shore Towns Use Sand Dredged From Inlets to Widen Beaches', layout=Layout(height='40px', width='80%'), style=ButtonStyle(button_color='SkyBlue', font_weight='bold')), SelectionSlider(continuous_update=False, description='Rate Article 9', index=1, options=('Less', 'Neutral', 'More'), value='Neutral'))), Textarea(value='Two common problems in coastal areas &#8212; eroded beaches, and clogged inlets hazardous for boat traffic &#8212; have a mutual solution.', disabled=True, layout=Layout(height='50px', width='99.5%')))), VBox(children=(HBox(children=(Button(description='Golf-Johnson in Hunt for Another Win, Tied With Potter at Pebble', layout=Layout(height='40px', width='80%'), style=ButtonStyle(button_color='SkyBlue', font_weight='bold')), SelectionSlider(continuous_update=False, description='Rate Article 10', index=1, options=('Less', 'Neutral', 'More'), value='Neutral'))), Textarea(value='World number one Dustin Johnson stayed on track for a second successive victory on the PGA Tour but was joined in the lead by journeyman Ted Potter, Jr. after the third round at the Pebble Beach Pro-Am in California on Saturday.', disabled=True, layout=Layout(height='50px', width='99.5%'))))), layout=Layout(border='solid'))"
      ]
     },
     "metadata": {},
     "output_type": "display_data"
    },
    {
     "name": "stdout",
     "output_type": "stream",
     "text": [
      "  name  pref\n",
      "0  sak     4\n",
      "Article 10 rated More by sak\n",
      "  name  pref\n",
      "0  sak     5\n",
      "Article 9 rated More by sak\n",
      "  name  pref\n",
      "0  sak     4\n",
      "Article 8 rated Less by sak\n"
     ]
    }
   ],
   "source": [
    "from ipywidgets import widgets, HBox, VBox, Layout, Button, Label\n",
    "from IPython.display import display, HTML, clear_output\n",
    "import requests\n",
    "import webbrowser\n",
    "import pandas as pd\n",
    "import numpy as np\n",
    "\n",
    "arr1 = ['sak','kau']\n",
    "arr2 = [3,5]\n",
    "df = pd.DataFrame(list(zip(arr1,arr2)), columns = ['name','pref'])\n",
    "df.to_csv('data/df.csv', index = False)\n",
    "\n",
    "htmlscript_ipywidget_disable_closing = '''<script>\n",
    "disable = true\n",
    "function disable_ipyw_close(){\n",
    "    if(disable){\n",
    "        $('div.widget-area > div.prompt > button.close').hide()\n",
    "    }\n",
    "    else{\n",
    "        $('div.widget-area > div.prompt > button.close').show()    \n",
    "    }\n",
    "    disable = !disable\n",
    "}\n",
    "$( document ).ready(disable_ipyw_close);\n",
    "</script>\n",
    "\n",
    "<form action=\"javascript:disable_ipyw_close()\"><input style=\"opacity: 0.5\" type=\"submit\" value=\"Disable ipywidget closing\"></form>'''\n",
    "\n",
    "wodget_hide = HTML('''<script>\n",
    "code_show=true; \n",
    "function code_toggle() {\n",
    "    if (code_show){\n",
    "        $('div.cell.code_cell.rendered.selected div.input').hide();\n",
    "    } else {\n",
    "        $('div.cell.code_cell.rendered.selected div.input').show();\n",
    "    }\n",
    "    code_show = !code_show\n",
    "} \n",
    "\n",
    "$( document ).ready(code_toggle);\n",
    "</script>\n",
    "\n",
    "To show/hide this cell's raw code input, click <a href=\"javascript:code_toggle()\">here</a>.''')\n",
    "\n",
    "widget_hide = HTML('''<script>$('div.output_area > div.output_subarea.jupyter-widgets-view > div.p-Widget.p-Panel.jupyter-widgets.widget-container.widget-box.widget-vbox').fadeOut();</script>''')\n",
    "    \n",
    "def onclick(sender):\n",
    "    display(widget_hide)\n",
    "    if(text_query.value == ''):\n",
    "        print('Input cannot be blank')\n",
    "        return\n",
    "    \n",
    "    base_url = 'https://api.nytimes.com/svc/search/v2/articlesearch.json?api-key=a141a689509b459ba12e2b93b83883fd'\n",
    "    param_url = '&q='+str(text_query.value)+'&page=0'\n",
    "    url = base_url + param_url\n",
    "    \n",
    "    r = requests.get(url)\n",
    "    json_data = r.json()\n",
    "    article_meta_data = json_data['response']['docs']\n",
    "    \n",
    "    headlines = []\n",
    "    urls = []\n",
    "    snippets = []\n",
    "    for artc in article_meta_data:\n",
    "        url = artc['web_url']\n",
    "        headline = artc['headline']['main']\n",
    "        snippet = artc['snippet']\n",
    "        headlines.append(headline)\n",
    "        urls.append(url)\n",
    "        snippets.append(snippet)\n",
    "    \n",
    "    def redirect_link(sender):\n",
    "        ind = items_hl.index(sender)\n",
    "        link = urls[ind]\n",
    "        webbrowser.open(link)\n",
    "    \n",
    "    scale = {'Less':-1, 'Neutral':0, 'More':1}\n",
    "    \n",
    "    def on_value_change(change):\n",
    "        if(text_user.value == ''):\n",
    "            print('Enter your name before giving preference')\n",
    "            return\n",
    "        ind = items_rate.index(change['owner'])\n",
    "        pref_data = pd.read_csv('data/df.csv')\n",
    "        usr = text_user.value\n",
    "        pref_data.loc[pref_data['name'] == usr,'pref'] += scale[change['new']]\n",
    "        pref_data.to_csv('data/df.csv', index = False)\n",
    "        usr_data = pref_data.loc[pref_data['name'] == usr,]\n",
    "        print(usr_data)\n",
    "        print('Article '+str(ind+1)+' rated '+str(change['new'])+' by '+str(usr))\n",
    "    \n",
    "    items_hl = [Button(description=w, border = 'solid', layout = Layout(width='80%', height='40px')) for w in headlines]\n",
    "    for hl in items_hl:\n",
    "        hl.style.button_color = 'SkyBlue'\n",
    "        hl.style.font_weight = 'bold'\n",
    "        hl.on_click(redirect_link)\n",
    "        \n",
    "    items_sn = [widgets.Textarea(w, disabled = True, layout = Layout(width = '99.5%', height = '50px')) for w in snippets]\n",
    "\n",
    "#     items_rate = [widgets.IntSlider(value=3, min=1, max=5, step=2, description='Rate Article '+str(i+1), disabled=False, continuous_update=False,\n",
    "#                                     orientation='horizontal', readout=True, readout_format='d') \n",
    "#                   for i in range(len(article_meta_data))]\n",
    "    items_rate = [widgets.SelectionSlider(options=['Less', 'Neutral', 'More'], value = 'Neutral', \n",
    "                                          description='Rate Article '+str(i+1), disabled=False, \n",
    "                                          continuous_update=False, orientation='horizontal', readout=True) \n",
    "                  for i in range(len(article_meta_data))]\n",
    "    for rt in items_rate:\n",
    "        rt.observe(on_value_change, names = 'value')\n",
    "\n",
    "    items = [VBox([HBox([items_hl[i], items_rate[i]]), items_sn[i]]) for i in range(len(article_meta_data))]\n",
    "    box = VBox(items, layout = Layout(border = 'solid'))\n",
    "    display(box)\n",
    "\n",
    "text_query = widgets.Text(placeholder='Type a query for NY Times article listing')\n",
    "button_query = widgets.Button(description = 'Search articles')\n",
    "query = HBox([text_query, button_query])\n",
    "query = VBox([Label(\"\"), query, Label(\"\")])\n",
    "button_query.on_click(onclick)\n",
    "\n",
    "\n",
    "text_user = widgets.Text(placeholder='Enter your name', value = 'saket')\n",
    "user_input = HBox([Label(\"Username:\"),text_user])\n",
    "rec_button = widgets.Button(description = 'Get recommendations', layout = Layout(width = '150px'))\n",
    "user = VBox([user_input,HBox([Label(\"->->->->->\"),rec_button])])\n",
    "\n",
    "display(HBox([query, Label(\"\"),Label(\"\"), user]))\n",
    "# HTML(htmlscript_ipywidget_disable_closing)"
   ]
  },
  {
   "cell_type": "code",
   "execution_count": null,
   "metadata": {
    "collapsed": true
   },
   "outputs": [],
   "source": [
    "\n"
   ]
  }
 ],
 "metadata": {
  "kernelspec": {
   "display_name": "Python 3",
   "language": "python",
   "name": "python3"
  },
  "language_info": {
   "codemirror_mode": {
    "name": "ipython",
    "version": 3
   },
   "file_extension": ".py",
   "mimetype": "text/x-python",
   "name": "python",
   "nbconvert_exporter": "python",
   "pygments_lexer": "ipython3",
   "version": "3.6.1"
  },
  "widgets": {
   "application/vnd.jupyter.widget-state+json": {
    "state": {
     "034bd798c2114fe2831a226a49a83c7d": {
      "model_module": "@jupyter-widgets/controls",
      "model_module_version": "1.1.0",
      "model_name": "DescriptionStyleModel",
      "state": {
       "description_width": ""
      }
     },
     "0607b68614384343acc5f455a6b26e9c": {
      "model_module": "@jupyter-widgets/controls",
      "model_module_version": "1.1.0",
      "model_name": "ButtonModel",
      "state": {
       "description": "Tottenham Hotspur Versus Arsenal-Fans' View",
       "layout": "IPY_MODEL_9d6c4debc10145849a396ad26a502a65",
       "style": "IPY_MODEL_b73119d152ec4faea36cbbdbd5e038ac"
      }
     },
     "0640c90eb4ed46e3892c408ee39eba75": {
      "model_module": "@jupyter-widgets/controls",
      "model_module_version": "1.1.0",
      "model_name": "ButtonModel",
      "state": {
       "description": "Five Memorable Tottenham Hotspur Versus Arsenal Matches",
       "layout": "IPY_MODEL_a84fba61beab426287b843d996869b18",
       "style": "IPY_MODEL_f2261d1e7f6a4f98bab914bdf3e69518"
      }
     },
     "064d06c8c5f4478caed20443b237773a": {
      "model_module": "@jupyter-widgets/controls",
      "model_module_version": "1.1.0",
      "model_name": "DescriptionStyleModel",
      "state": {
       "description_width": ""
      }
     },
     "08a87bc3ab064c7f9597be033fc69eae": {
      "model_module": "@jupyter-widgets/base",
      "model_module_version": "1.0.0",
      "model_name": "LayoutModel",
      "state": {}
     },
     "09d238f2040b40dd9fe8849ca979fc3a": {
      "model_module": "@jupyter-widgets/controls",
      "model_module_version": "1.1.0",
      "model_name": "TextareaModel",
      "state": {
       "disabled": true,
       "layout": "IPY_MODEL_0b6d0c46c3b545478b88cd90437e7bc7",
       "style": "IPY_MODEL_064d06c8c5f4478caed20443b237773a",
       "value": "Manchester United reels in a star, but it (and Arsenal, and Chelsea) still has far to go to catch Pep Guardiola’s Manchester City."
      }
     },
     "0ab5f60ae6e0447d8a50c3c450bc8344": {
      "model_module": "@jupyter-widgets/controls",
      "model_module_version": "1.1.0",
      "model_name": "TextareaModel",
      "state": {
       "disabled": true,
       "layout": "IPY_MODEL_bc5bbf269434400e8cb6218e0437599e",
       "style": "IPY_MODEL_034bd798c2114fe2831a226a49a83c7d",
       "value": "Arsenal have bolstered their attacking line-up by signing striker Pierre-Emerick Aubameyang from Borussia Dortmund on a long-term contract for a club-record fee, the Premier League club said on Wednesday."
      }
     },
     "0b6d0c46c3b545478b88cd90437e7bc7": {
      "model_module": "@jupyter-widgets/base",
      "model_module_version": "1.0.0",
      "model_name": "LayoutModel",
      "state": {
       "height": "50px",
       "width": "99.5%"
      }
     },
     "113bdaa0404649bfba1198a2d7060221": {
      "model_module": "@jupyter-widgets/base",
      "model_module_version": "1.0.0",
      "model_name": "LayoutModel",
      "state": {}
     },
     "11dfda28769d44708f2b7b5c8c76cd6d": {
      "model_module": "@jupyter-widgets/base",
      "model_module_version": "1.0.0",
      "model_name": "LayoutModel",
      "state": {}
     },
     "141d3336137c47cb9d979d94d59a6787": {
      "model_module": "@jupyter-widgets/controls",
      "model_module_version": "1.1.0",
      "model_name": "VBoxModel",
      "state": {
       "children": [
        "IPY_MODEL_8a5247a8d8554ae590efef9c4a368ce5",
        "IPY_MODEL_fc034b892bd7486ea5dbda6e1fad5f08"
       ],
       "layout": "IPY_MODEL_4e494dd8130947e4a42253ce09c80208"
      }
     },
     "1806b95ce9f94cc4ac077479f9096dde": {
      "model_module": "@jupyter-widgets/base",
      "model_module_version": "1.0.0",
      "model_name": "LayoutModel",
      "state": {}
     },
     "1836c31967ca480a8708af46513ad703": {
      "model_module": "@jupyter-widgets/controls",
      "model_module_version": "1.1.0",
      "model_name": "DescriptionStyleModel",
      "state": {
       "description_width": ""
      }
     },
     "18edf19800eb41da8d3a6150549dd4d1": {
      "model_module": "@jupyter-widgets/controls",
      "model_module_version": "1.1.0",
      "model_name": "DescriptionStyleModel",
      "state": {
       "description_width": ""
      }
     },
     "1a46490460474521a7f26a401b2e48cc": {
      "model_module": "@jupyter-widgets/controls",
      "model_module_version": "1.1.0",
      "model_name": "VBoxModel",
      "state": {
       "children": [
        "IPY_MODEL_9e575bfb15804dcb8ba328e6260fd6f5",
        "IPY_MODEL_88b4294e16674fea8c4132e59ed5aa0d"
       ],
       "layout": "IPY_MODEL_c3643e881c284b5ebd8e3644088306e0"
      }
     },
     "1a5811168ed54199b6723520e7227d8d": {
      "model_module": "@jupyter-widgets/base",
      "model_module_version": "1.0.0",
      "model_name": "LayoutModel",
      "state": {}
     },
     "1c33b04bd2fa4bcabbf4933e748f4621": {
      "model_module": "@jupyter-widgets/base",
      "model_module_version": "1.0.0",
      "model_name": "LayoutModel",
      "state": {}
     },
     "1ca44567d2bd44b480271a7acb38a234": {
      "model_module": "@jupyter-widgets/base",
      "model_module_version": "1.0.0",
      "model_name": "LayoutModel",
      "state": {
       "height": "40px",
       "width": "80%"
      }
     },
     "1fd714f2a9ea4a938d0d823263742391": {
      "model_module": "@jupyter-widgets/controls",
      "model_module_version": "1.1.0",
      "model_name": "HBoxModel",
      "state": {
       "children": [
        "IPY_MODEL_98621e7af85749299fc52af4b205e808",
        "IPY_MODEL_46d2768b4efc44f8a2e769ce54c36f3c"
       ],
       "layout": "IPY_MODEL_81515883e6514a038b983f81f45b5152"
      }
     },
     "212e92c477da4a1ea68908f3fb94d3cf": {
      "model_module": "@jupyter-widgets/controls",
      "model_module_version": "1.1.0",
      "model_name": "DescriptionStyleModel",
      "state": {
       "description_width": ""
      }
     },
     "2174515f304949e28eefedf9badb545a": {
      "model_module": "@jupyter-widgets/controls",
      "model_module_version": "1.1.0",
      "model_name": "ButtonStyleModel",
      "state": {
       "button_color": "SkyBlue",
       "font_weight": "bold"
      }
     },
     "24ac415578494ea99af86279235a4c9d": {
      "model_module": "@jupyter-widgets/controls",
      "model_module_version": "1.1.0",
      "model_name": "ButtonModel",
      "state": {
       "description": "Statbox-Tottenham Hotspur Versus Arsenal",
       "layout": "IPY_MODEL_e47f03fa898b41aea03d60501ebd0e4f",
       "style": "IPY_MODEL_ea03e360da6746f48662a6d58acc6546"
      }
     },
     "25c2c8da510a4c44aa681d1fa034b981": {
      "model_module": "@jupyter-widgets/base",
      "model_module_version": "1.0.0",
      "model_name": "LayoutModel",
      "state": {}
     },
     "2874b942cdc14e25a589ada4901ed8e2": {
      "model_module": "@jupyter-widgets/controls",
      "model_module_version": "1.1.0",
      "model_name": "DescriptionStyleModel",
      "state": {
       "description_width": ""
      }
     },
     "291220dfa2154e699377a912aa5fab1e": {
      "model_module": "@jupyter-widgets/base",
      "model_module_version": "1.0.0",
      "model_name": "LayoutModel",
      "state": {
       "height": "40px",
       "width": "80%"
      }
     },
     "29131d56a2f743a7be00a96f379da498": {
      "model_module": "@jupyter-widgets/base",
      "model_module_version": "1.0.0",
      "model_name": "LayoutModel",
      "state": {}
     },
     "2b05191957ae42ba8a0489ba9fb7b226": {
      "model_module": "@jupyter-widgets/controls",
      "model_module_version": "1.1.0",
      "model_name": "HBoxModel",
      "state": {
       "children": [
        "IPY_MODEL_ae5a2c0f09934ccaa17aa950679b4626",
        "IPY_MODEL_71f6f5dc1e28443e9f59a5ee40a8d086"
       ],
       "layout": "IPY_MODEL_79e1ae102fd94dcbb2a61fd5285bde75"
      }
     },
     "2b25ab901c424e9fae769955ca1aa779": {
      "model_module": "@jupyter-widgets/controls",
      "model_module_version": "1.1.0",
      "model_name": "DescriptionStyleModel",
      "state": {
       "description_width": ""
      }
     },
     "2d5c96f0f845409d883afe625107ee74": {
      "model_module": "@jupyter-widgets/controls",
      "model_module_version": "1.1.0",
      "model_name": "ButtonModel",
      "state": {
       "description": "Arsenal Football Club",
       "layout": "IPY_MODEL_ea2be55cc31d427fb61bd8da6ab416df",
       "style": "IPY_MODEL_be816ba630d3443492b667728f0597cd"
      }
     },
     "302305cc436b49548104b75bc009215b": {
      "model_module": "@jupyter-widgets/base",
      "model_module_version": "1.0.0",
      "model_name": "LayoutModel",
      "state": {}
     },
     "3066604b5864479aa003c5aee22cfbc0": {
      "model_module": "@jupyter-widgets/base",
      "model_module_version": "1.0.0",
      "model_name": "LayoutModel",
      "state": {
       "height": "50px",
       "width": "99.5%"
      }
     },
     "317346f59ebb4a00af819ae19d38c39a": {
      "model_module": "@jupyter-widgets/controls",
      "model_module_version": "1.1.0",
      "model_name": "LabelModel",
      "state": {
       "layout": "IPY_MODEL_ff68a3c1aff34d0e8dd365dc0a2f57a0",
       "style": "IPY_MODEL_67fc09b6f7c2446399fbc4d59e7b50cf"
      }
     },
     "31d7411ce5e842c98aac607ca3cb5fa5": {
      "model_module": "@jupyter-widgets/controls",
      "model_module_version": "1.1.0",
      "model_name": "TextareaModel",
      "state": {
       "disabled": true,
       "layout": "IPY_MODEL_54b33c7d5aa1471e81199931d2bd0114",
       "style": "IPY_MODEL_2b25ab901c424e9fae769955ca1aa779",
       "value": "News about Arsenal Football Club, including commentary and archival articles published in The New York Times."
      }
     },
     "320e0e57d139485eadf463dac95ea8d1": {
      "model_module": "@jupyter-widgets/controls",
      "model_module_version": "1.1.0",
      "model_name": "ButtonStyleModel",
      "state": {
       "button_color": "SkyBlue",
       "font_weight": "bold"
      }
     },
     "32f08c555a204b30b4b7d5c8fd11a7c1": {
      "model_module": "@jupyter-widgets/base",
      "model_module_version": "1.0.0",
      "model_name": "LayoutModel",
      "state": {}
     },
     "3339c262054c418da9b5eae6b3f40f45": {
      "model_module": "@jupyter-widgets/controls",
      "model_module_version": "1.1.0",
      "model_name": "VBoxModel",
      "state": {
       "children": [
        "IPY_MODEL_5a5a4455589749e59010e4669245ab89",
        "IPY_MODEL_fc2e6c81aa85487bb51d380bf8b43dfd",
        "IPY_MODEL_317346f59ebb4a00af819ae19d38c39a"
       ],
       "layout": "IPY_MODEL_29131d56a2f743a7be00a96f379da498"
      }
     },
     "362b05b7242e43bcbaa851a4fc7265de": {
      "model_module": "@jupyter-widgets/controls",
      "model_module_version": "1.1.0",
      "model_name": "ButtonStyleModel",
      "state": {
       "button_color": "SkyBlue",
       "font_weight": "bold"
      }
     },
     "37091e29e2044f6fbb39bb0293795718": {
      "model_module": "@jupyter-widgets/base",
      "model_module_version": "1.0.0",
      "model_name": "LayoutModel",
      "state": {
       "height": "40px",
       "width": "80%"
      }
     },
     "388ee6d3a68b4f7a88be71a5a3c30b6b": {
      "model_module": "@jupyter-widgets/controls",
      "model_module_version": "1.1.0",
      "model_name": "DescriptionStyleModel",
      "state": {
       "description_width": ""
      }
     },
     "3982fb502cf340baad8375ac2663b8a3": {
      "model_module": "@jupyter-widgets/controls",
      "model_module_version": "1.1.0",
      "model_name": "TextareaModel",
      "state": {
       "disabled": true,
       "layout": "IPY_MODEL_4a3f45f9d7e745cb98f2271a3a12cef2",
       "style": "IPY_MODEL_d67e40396e774752bb6e61539f17b697",
       "value": "Tottenham Hotspur and Arsenal will meet for the 195th time in all competitions on Saturday. We look at some notable clashes between the sides."
      }
     },
     "3a4b418060ed470683c6c81a087d04ab": {
      "model_module": "@jupyter-widgets/controls",
      "model_module_version": "1.1.0",
      "model_name": "TextareaModel",
      "state": {
       "disabled": true,
       "layout": "IPY_MODEL_efd9fd49ed794f55bad729dc54b0b740",
       "style": "IPY_MODEL_99ca38838cfc44a2a8ac7888c1988931",
       "value": "Eight points out of a Champions League place, Arsenal ought to be in crisis. But the much-hyped signing of Pierre-Emerick Aubameyang soothed some critics, and obscured larger problems."
      }
     },
     "3a75af098249426abdf975c0d8860f72": {
      "model_module": "@jupyter-widgets/controls",
      "model_module_version": "1.1.0",
      "model_name": "HBoxModel",
      "state": {
       "children": [
        "IPY_MODEL_9d862706df8940edbd60cfa08f2b441d",
        "IPY_MODEL_cf8b2b28eee5438db73e44e1760ec747"
       ],
       "layout": "IPY_MODEL_45972ee37ac24723af5ff6b080ac500a"
      }
     },
     "3b7c56642ce141b5a5d4b4b66755f4cc": {
      "model_module": "@jupyter-widgets/controls",
      "model_module_version": "1.1.0",
      "model_name": "DescriptionStyleModel",
      "state": {
       "description_width": ""
      }
     },
     "3bfeffb9b29d48cfb83e2f2c76f6fedd": {
      "model_module": "@jupyter-widgets/controls",
      "model_module_version": "1.1.0",
      "model_name": "TextModel",
      "state": {
       "layout": "IPY_MODEL_aec28c23e4d34a96b49eed61df817e0e",
       "placeholder": "Type a query for NY Times article listing",
       "style": "IPY_MODEL_8409f51a19ac46aba2a12df73dd111c2",
       "value": "arsenal"
      }
     },
     "421aa87a684140bfa79390db15a60f4e": {
      "model_module": "@jupyter-widgets/base",
      "model_module_version": "1.0.0",
      "model_name": "LayoutModel",
      "state": {
       "height": "40px",
       "width": "80%"
      }
     },
     "4261a6fe5f87499bb66fdffc43b4720a": {
      "model_module": "@jupyter-widgets/controls",
      "model_module_version": "1.1.0",
      "model_name": "TextareaModel",
      "state": {
       "disabled": true,
       "layout": "IPY_MODEL_6a06a8e952a946128b36e6755b9e795e",
       "style": "IPY_MODEL_2874b942cdc14e25a589ada4901ed8e2",
       "value": "Facts and figures ahead of Saturday's Premier League match between Tottenham Hotspur and Arsenal at Wembley."
      }
     },
     "4397821267c5499fbcf819f4ded2aa4a": {
      "model_module": "@jupyter-widgets/controls",
      "model_module_version": "1.1.0",
      "model_name": "VBoxModel",
      "state": {
       "children": [
        "IPY_MODEL_7f133ab3f7204b27a8f17f8c808f7f9a",
        "IPY_MODEL_5022f37a764b4dc8a2c68a8e4f14c987"
       ],
       "layout": "IPY_MODEL_517d1a7273ce4667bbbd0909def7f055"
      }
     },
     "45972ee37ac24723af5ff6b080ac500a": {
      "model_module": "@jupyter-widgets/base",
      "model_module_version": "1.0.0",
      "model_name": "LayoutModel",
      "state": {}
     },
     "46d2768b4efc44f8a2e769ce54c36f3c": {
      "model_module": "@jupyter-widgets/controls",
      "model_module_version": "1.1.0",
      "model_name": "ButtonModel",
      "state": {
       "description": "Get recommendations",
       "layout": "IPY_MODEL_c7da13790cde413aa083f5ebee73cc53",
       "style": "IPY_MODEL_8edf65bd75be4582aad55d5390fab490"
      }
     },
     "4733e31d0f95441084b9ae4ecd986fc8": {
      "model_module": "@jupyter-widgets/controls",
      "model_module_version": "1.1.0",
      "model_name": "ButtonModel",
      "state": {
       "description": "Search articles",
       "layout": "IPY_MODEL_6b8b02a8653b48a995c5e9256a9c6027",
       "style": "IPY_MODEL_d8003360b55b46c391c609dc308e8094"
      }
     },
     "487ba081e1114c96966fc9a74c59ed22": {
      "model_module": "@jupyter-widgets/base",
      "model_module_version": "1.0.0",
      "model_name": "LayoutModel",
      "state": {}
     },
     "4890151849fa4539840744f6f5234db9": {
      "model_module": "@jupyter-widgets/controls",
      "model_module_version": "1.1.0",
      "model_name": "SelectionSliderModel",
      "state": {
       "_options_labels": [
        "Less",
        "Neutral",
        "More"
       ],
       "continuous_update": false,
       "description": "Rate Article 2",
       "index": 1,
       "layout": "IPY_MODEL_1806b95ce9f94cc4ac077479f9096dde",
       "style": "IPY_MODEL_a7581f90e3c8444d9aecbacc0be4192f"
      }
     },
     "4a3f45f9d7e745cb98f2271a3a12cef2": {
      "model_module": "@jupyter-widgets/base",
      "model_module_version": "1.0.0",
      "model_name": "LayoutModel",
      "state": {
       "height": "50px",
       "width": "99.5%"
      }
     },
     "4dd67686995443fdaac3298f6a54b456": {
      "model_module": "@jupyter-widgets/controls",
      "model_module_version": "1.1.0",
      "model_name": "VBoxModel",
      "state": {
       "children": [
        "IPY_MODEL_b1ef6bb779ca45048e976ffff84c9b6a",
        "IPY_MODEL_4261a6fe5f87499bb66fdffc43b4720a"
       ],
       "layout": "IPY_MODEL_113bdaa0404649bfba1198a2d7060221"
      }
     },
     "4e494dd8130947e4a42253ce09c80208": {
      "model_module": "@jupyter-widgets/base",
      "model_module_version": "1.0.0",
      "model_name": "LayoutModel",
      "state": {}
     },
     "501589ddfd044581a612c1ef63f828b2": {
      "model_module": "@jupyter-widgets/base",
      "model_module_version": "1.0.0",
      "model_name": "LayoutModel",
      "state": {
       "height": "40px",
       "width": "80%"
      }
     },
     "5022f37a764b4dc8a2c68a8e4f14c987": {
      "model_module": "@jupyter-widgets/controls",
      "model_module_version": "1.1.0",
      "model_name": "TextareaModel",
      "state": {
       "disabled": true,
       "layout": "IPY_MODEL_54f64f9b62b54eea9653a960b3b5a33f",
       "style": "IPY_MODEL_212e92c477da4a1ea68908f3fb94d3cf",
       "value": "News about Arsenal Football Club, including commentary and archival articles published in The New York Times."
      }
     },
     "514ea6d7b6ff4fccba0eb81e55eb2662": {
      "model_module": "@jupyter-widgets/controls",
      "model_module_version": "1.1.0",
      "model_name": "LabelModel",
      "state": {
       "layout": "IPY_MODEL_56dbf023f665482791aa0a20b59245f9",
       "style": "IPY_MODEL_3b7c56642ce141b5a5d4b4b66755f4cc"
      }
     },
     "517d1a7273ce4667bbbd0909def7f055": {
      "model_module": "@jupyter-widgets/base",
      "model_module_version": "1.0.0",
      "model_name": "LayoutModel",
      "state": {}
     },
     "54b33c7d5aa1471e81199931d2bd0114": {
      "model_module": "@jupyter-widgets/base",
      "model_module_version": "1.0.0",
      "model_name": "LayoutModel",
      "state": {
       "height": "50px",
       "width": "99.5%"
      }
     },
     "54f64f9b62b54eea9653a960b3b5a33f": {
      "model_module": "@jupyter-widgets/base",
      "model_module_version": "1.0.0",
      "model_name": "LayoutModel",
      "state": {
       "height": "50px",
       "width": "99.5%"
      }
     },
     "56dbf023f665482791aa0a20b59245f9": {
      "model_module": "@jupyter-widgets/base",
      "model_module_version": "1.0.0",
      "model_name": "LayoutModel",
      "state": {}
     },
     "58169b4f9dd048d0bbd19d912a6d353f": {
      "model_module": "@jupyter-widgets/controls",
      "model_module_version": "1.1.0",
      "model_name": "DescriptionStyleModel",
      "state": {
       "description_width": ""
      }
     },
     "58cde7fa83684cd3a2aa3cafe0ca6881": {
      "model_module": "@jupyter-widgets/controls",
      "model_module_version": "1.1.0",
      "model_name": "HBoxModel",
      "state": {
       "children": [
        "IPY_MODEL_0640c90eb4ed46e3892c408ee39eba75",
        "IPY_MODEL_72c6f0e0d115472290c8f36b370d4e12"
       ],
       "layout": "IPY_MODEL_302305cc436b49548104b75bc009215b"
      }
     },
     "591bc1800e924e1587aee762dce12d50": {
      "model_module": "@jupyter-widgets/controls",
      "model_module_version": "1.1.0",
      "model_name": "VBoxModel",
      "state": {
       "children": [
        "IPY_MODEL_62f4d5c07838479d89fab78dd854d513",
        "IPY_MODEL_4397821267c5499fbcf819f4ded2aa4a",
        "IPY_MODEL_621b1221cc294d34aeeb21c31c235f65",
        "IPY_MODEL_4dd67686995443fdaac3298f6a54b456",
        "IPY_MODEL_672936fb14f4448ab233a89252126963",
        "IPY_MODEL_1a46490460474521a7f26a401b2e48cc",
        "IPY_MODEL_bda7679ddafc4996a09eb2d55eb68455",
        "IPY_MODEL_141d3336137c47cb9d979d94d59a6787",
        "IPY_MODEL_859a4843e243444e8cadf4fb9937e226",
        "IPY_MODEL_dc9025af5ee145f2a1962559a3560c4d"
       ],
       "layout": "IPY_MODEL_cc2d5737915f4b05b94f043a9b388623"
      }
     },
     "5962ef79339e43ec9bd4efa4187ab459": {
      "model_module": "@jupyter-widgets/base",
      "model_module_version": "1.0.0",
      "model_name": "LayoutModel",
      "state": {}
     },
     "5a5a4455589749e59010e4669245ab89": {
      "model_module": "@jupyter-widgets/controls",
      "model_module_version": "1.1.0",
      "model_name": "LabelModel",
      "state": {
       "layout": "IPY_MODEL_f4e4800c920b432ca610c322dc4afc1b",
       "style": "IPY_MODEL_f1bcf7cf56714369a7fb28ee999f53be"
      }
     },
     "5a9c884563384108b93e661f021940a4": {
      "model_module": "@jupyter-widgets/base",
      "model_module_version": "1.0.0",
      "model_name": "LayoutModel",
      "state": {
       "height": "50px",
       "width": "99.5%"
      }
     },
     "5c04a715d7254f7cb3aa9695633d3298": {
      "model_module": "@jupyter-widgets/base",
      "model_module_version": "1.0.0",
      "model_name": "LayoutModel",
      "state": {}
     },
     "5db6fcd219194bb2aa2b9053a67ad351": {
      "model_module": "@jupyter-widgets/controls",
      "model_module_version": "1.1.0",
      "model_name": "DescriptionStyleModel",
      "state": {
       "description_width": ""
      }
     },
     "621b1221cc294d34aeeb21c31c235f65": {
      "model_module": "@jupyter-widgets/controls",
      "model_module_version": "1.1.0",
      "model_name": "VBoxModel",
      "state": {
       "children": [
        "IPY_MODEL_c312f1c55dd84288bf5899b1e49f6c57",
        "IPY_MODEL_31d7411ce5e842c98aac607ca3cb5fa5"
       ],
       "layout": "IPY_MODEL_1c33b04bd2fa4bcabbf4933e748f4621"
      }
     },
     "62f4d5c07838479d89fab78dd854d513": {
      "model_module": "@jupyter-widgets/controls",
      "model_module_version": "1.1.0",
      "model_name": "VBoxModel",
      "state": {
       "children": [
        "IPY_MODEL_9ba2b438bd7248199b50816abd123ba4",
        "IPY_MODEL_3a4b418060ed470683c6c81a087d04ab"
       ],
       "layout": "IPY_MODEL_11dfda28769d44708f2b7b5c8c76cd6d"
      }
     },
     "672936fb14f4448ab233a89252126963": {
      "model_module": "@jupyter-widgets/controls",
      "model_module_version": "1.1.0",
      "model_name": "VBoxModel",
      "state": {
       "children": [
        "IPY_MODEL_838487cfce63485eb9570b0c19f12ffd",
        "IPY_MODEL_0ab5f60ae6e0447d8a50c3c450bc8344"
       ],
       "layout": "IPY_MODEL_1a5811168ed54199b6723520e7227d8d"
      }
     },
     "67fc09b6f7c2446399fbc4d59e7b50cf": {
      "model_module": "@jupyter-widgets/controls",
      "model_module_version": "1.1.0",
      "model_name": "DescriptionStyleModel",
      "state": {
       "description_width": ""
      }
     },
     "6a06a8e952a946128b36e6755b9e795e": {
      "model_module": "@jupyter-widgets/base",
      "model_module_version": "1.0.0",
      "model_name": "LayoutModel",
      "state": {
       "height": "50px",
       "width": "99.5%"
      }
     },
     "6a98813256f44a8aaede73e2af5189a3": {
      "model_module": "@jupyter-widgets/base",
      "model_module_version": "1.0.0",
      "model_name": "LayoutModel",
      "state": {}
     },
     "6b8b02a8653b48a995c5e9256a9c6027": {
      "model_module": "@jupyter-widgets/base",
      "model_module_version": "1.0.0",
      "model_name": "LayoutModel",
      "state": {}
     },
     "6bfc60625e3b4794a02e192802657588": {
      "model_module": "@jupyter-widgets/controls",
      "model_module_version": "1.1.0",
      "model_name": "DescriptionStyleModel",
      "state": {
       "description_width": ""
      }
     },
     "6d0ac60d5d5d458e88f2fa152a992990": {
      "model_module": "@jupyter-widgets/controls",
      "model_module_version": "1.1.0",
      "model_name": "DescriptionStyleModel",
      "state": {
       "description_width": ""
      }
     },
     "70846d5171d84bc484d6a1979f9efb7c": {
      "model_module": "@jupyter-widgets/base",
      "model_module_version": "1.0.0",
      "model_name": "LayoutModel",
      "state": {}
     },
     "71698cbefab74b228123fbcd51390225": {
      "model_module": "@jupyter-widgets/base",
      "model_module_version": "1.0.0",
      "model_name": "LayoutModel",
      "state": {}
     },
     "717dac607e4e403c851b8c0e4ac65414": {
      "model_module": "@jupyter-widgets/base",
      "model_module_version": "1.0.0",
      "model_name": "LayoutModel",
      "state": {}
     },
     "71f6f5dc1e28443e9f59a5ee40a8d086": {
      "model_module": "@jupyter-widgets/controls",
      "model_module_version": "1.1.0",
      "model_name": "TextModel",
      "state": {
       "layout": "IPY_MODEL_5962ef79339e43ec9bd4efa4187ab459",
       "placeholder": "Enter your name",
       "style": "IPY_MODEL_6bfc60625e3b4794a02e192802657588",
       "value": "saket"
      }
     },
     "7284bf6863314315901193a0ec6d6e72": {
      "model_module": "@jupyter-widgets/base",
      "model_module_version": "1.0.0",
      "model_name": "LayoutModel",
      "state": {}
     },
     "72c6f0e0d115472290c8f36b370d4e12": {
      "model_module": "@jupyter-widgets/controls",
      "model_module_version": "1.1.0",
      "model_name": "SelectionSliderModel",
      "state": {
       "_options_labels": [
        "Less",
        "Neutral",
        "More"
       ],
       "continuous_update": false,
       "description": "Rate Article 7",
       "index": 1,
       "layout": "IPY_MODEL_487ba081e1114c96966fc9a74c59ed22",
       "style": "IPY_MODEL_18edf19800eb41da8d3a6150549dd4d1"
      }
     },
     "79a80ab1af974deb838b5543609a2e0d": {
      "model_module": "@jupyter-widgets/controls",
      "model_module_version": "1.1.0",
      "model_name": "TextareaModel",
      "state": {
       "disabled": true,
       "layout": "IPY_MODEL_e1c56d295b8440ce9c931f338cc80f07",
       "style": "IPY_MODEL_f138c963049c42cfa7a18fe2777148cc",
       "value": "Aaron Ramsey scored a hat-trick on Saturday as Arsenal thrashed Everton 5-1 in the Premier League at the Emirates with a display of free-flowing football that the Gunners have sorely lacked away from home this season."
      }
     },
     "79e1ae102fd94dcbb2a61fd5285bde75": {
      "model_module": "@jupyter-widgets/base",
      "model_module_version": "1.0.0",
      "model_name": "LayoutModel",
      "state": {}
     },
     "7a918da5ea584e7e985aaa0589604f31": {
      "model_module": "@jupyter-widgets/controls",
      "model_module_version": "1.1.0",
      "model_name": "SelectionSliderModel",
      "state": {
       "_options_labels": [
        "Less",
        "Neutral",
        "More"
       ],
       "continuous_update": false,
       "description": "Rate Article 3",
       "index": 1,
       "layout": "IPY_MODEL_ce38e8a6700345be85f150cecb3342ce",
       "style": "IPY_MODEL_f0c8bf10a7fb427ea4112cb991e76f92"
      }
     },
     "7d571f1b96a448fa8b561c5eac759226": {
      "model_module": "@jupyter-widgets/controls",
      "model_module_version": "1.1.0",
      "model_name": "SelectionSliderModel",
      "state": {
       "_options_labels": [
        "Less",
        "Neutral",
        "More"
       ],
       "continuous_update": false,
       "description": "Rate Article 6",
       "index": 1,
       "layout": "IPY_MODEL_e394526313924c9d9c7060acb2ae047a",
       "style": "IPY_MODEL_95f57cb6110440d595d2bea4c4edb72c"
      }
     },
     "7f133ab3f7204b27a8f17f8c808f7f9a": {
      "model_module": "@jupyter-widgets/controls",
      "model_module_version": "1.1.0",
      "model_name": "HBoxModel",
      "state": {
       "children": [
        "IPY_MODEL_c6fb469ed62c47d89bea6b967309ab35",
        "IPY_MODEL_4890151849fa4539840744f6f5234db9"
       ],
       "layout": "IPY_MODEL_cb67d971a3a84215873a1ada88b53757"
      }
     },
     "81515883e6514a038b983f81f45b5152": {
      "model_module": "@jupyter-widgets/base",
      "model_module_version": "1.0.0",
      "model_name": "LayoutModel",
      "state": {}
     },
     "81f4d4ec7246435392e0ef5cdde9e69b": {
      "model_module": "@jupyter-widgets/controls",
      "model_module_version": "1.1.0",
      "model_name": "ButtonModel",
      "state": {
       "description": "Arsenal Sign Aubameyang in Club-Record Transfer",
       "layout": "IPY_MODEL_1ca44567d2bd44b480271a7acb38a234",
       "style": "IPY_MODEL_ca50608368d64924a1b5b7766dd1e896"
      }
     },
     "838487cfce63485eb9570b0c19f12ffd": {
      "model_module": "@jupyter-widgets/controls",
      "model_module_version": "1.1.0",
      "model_name": "HBoxModel",
      "state": {
       "children": [
        "IPY_MODEL_81f4d4ec7246435392e0ef5cdde9e69b",
        "IPY_MODEL_86490f54531c4a2d94424aa21c5a8853"
       ],
       "layout": "IPY_MODEL_97a58a390828487b81aa0c0c2fdedc89"
      }
     },
     "8409f51a19ac46aba2a12df73dd111c2": {
      "model_module": "@jupyter-widgets/controls",
      "model_module_version": "1.1.0",
      "model_name": "DescriptionStyleModel",
      "state": {
       "description_width": ""
      }
     },
     "859a4843e243444e8cadf4fb9937e226": {
      "model_module": "@jupyter-widgets/controls",
      "model_module_version": "1.1.0",
      "model_name": "VBoxModel",
      "state": {
       "children": [
        "IPY_MODEL_c9c7471cf52e4f8b9e64f1b07d9c2a58",
        "IPY_MODEL_09d238f2040b40dd9fe8849ca979fc3a"
       ],
       "layout": "IPY_MODEL_bb97244de3f34e138eb880a1214a7dbe"
      }
     },
     "86490f54531c4a2d94424aa21c5a8853": {
      "model_module": "@jupyter-widgets/controls",
      "model_module_version": "1.1.0",
      "model_name": "SelectionSliderModel",
      "state": {
       "_options_labels": [
        "Less",
        "Neutral",
        "More"
       ],
       "continuous_update": false,
       "description": "Rate Article 5",
       "index": 1,
       "layout": "IPY_MODEL_eb130a1d9b1243d58ee7e34e194330f3",
       "style": "IPY_MODEL_d88f6a4178c3423eba8d6faa0198b3c9"
      }
     },
     "87de651633894cecae53340c6371e8f5": {
      "model_module": "@jupyter-widgets/controls",
      "model_module_version": "1.1.0",
      "model_name": "HBoxModel",
      "state": {
       "children": [
        "IPY_MODEL_3339c262054c418da9b5eae6b3f40f45",
        "IPY_MODEL_b2a0bdbd059c439d9cdc8563260aa59d",
        "IPY_MODEL_514ea6d7b6ff4fccba0eb81e55eb2662",
        "IPY_MODEL_c2d9b22cd1ce4f819ebc619aeb1a62c3"
       ],
       "layout": "IPY_MODEL_25c2c8da510a4c44aa681d1fa034b981"
      }
     },
     "88b4294e16674fea8c4132e59ed5aa0d": {
      "model_module": "@jupyter-widgets/controls",
      "model_module_version": "1.1.0",
      "model_name": "TextareaModel",
      "state": {
       "disabled": true,
       "layout": "IPY_MODEL_3066604b5864479aa003c5aee22cfbc0",
       "style": "IPY_MODEL_388ee6d3a68b4f7a88be71a5a3c30b6b",
       "value": "Arsenal midfielder Mesut Ozil has signed a new contract to extend his stay in north London, the Premier League club said on Thursday."
      }
     },
     "8a5247a8d8554ae590efef9c4a368ce5": {
      "model_module": "@jupyter-widgets/controls",
      "model_module_version": "1.1.0",
      "model_name": "HBoxModel",
      "state": {
       "children": [
        "IPY_MODEL_0607b68614384343acc5f455a6b26e9c",
        "IPY_MODEL_c2d92adf968b450585ca864be2f3ce07"
       ],
       "layout": "IPY_MODEL_71698cbefab74b228123fbcd51390225"
      }
     },
     "8ae8fc5be85b421eb7182e3e3807d628": {
      "model_module": "@jupyter-widgets/base",
      "model_module_version": "1.0.0",
      "model_name": "LayoutModel",
      "state": {}
     },
     "8edf65bd75be4582aad55d5390fab490": {
      "model_module": "@jupyter-widgets/controls",
      "model_module_version": "1.1.0",
      "model_name": "ButtonStyleModel",
      "state": {}
     },
     "91da4509b6fb48c78805be55cd566af6": {
      "model_module": "@jupyter-widgets/controls",
      "model_module_version": "1.1.0",
      "model_name": "DescriptionStyleModel",
      "state": {
       "description_width": ""
      }
     },
     "95f57cb6110440d595d2bea4c4edb72c": {
      "model_module": "@jupyter-widgets/controls",
      "model_module_version": "1.1.0",
      "model_name": "DescriptionStyleModel",
      "state": {
       "description_width": ""
      }
     },
     "97210ec589b6415685f9569751dd72da": {
      "model_module": "@jupyter-widgets/controls",
      "model_module_version": "1.1.0",
      "model_name": "ButtonModel",
      "state": {
       "description": "Arsenal Is in Crisis, but a Signing Changes the Mood",
       "layout": "IPY_MODEL_37091e29e2044f6fbb39bb0293795718",
       "style": "IPY_MODEL_b2c3b0b1679245a8bacbdc81f704f86d"
      }
     },
     "97a58a390828487b81aa0c0c2fdedc89": {
      "model_module": "@jupyter-widgets/base",
      "model_module_version": "1.0.0",
      "model_name": "LayoutModel",
      "state": {}
     },
     "98621e7af85749299fc52af4b205e808": {
      "model_module": "@jupyter-widgets/controls",
      "model_module_version": "1.1.0",
      "model_name": "LabelModel",
      "state": {
       "layout": "IPY_MODEL_717dac607e4e403c851b8c0e4ac65414",
       "style": "IPY_MODEL_e67fc41ff64340ae9fbff7292d66c106",
       "value": "->->->->->"
      }
     },
     "9954c574e737460d997833eb0930f80d": {
      "model_module": "@jupyter-widgets/controls",
      "model_module_version": "1.1.0",
      "model_name": "ButtonStyleModel",
      "state": {
       "button_color": "SkyBlue",
       "font_weight": "bold"
      }
     },
     "99a083ae15fa4ba4bd48e71b32fd9906": {
      "model_module": "@jupyter-widgets/base",
      "model_module_version": "1.0.0",
      "model_name": "LayoutModel",
      "state": {}
     },
     "99ca38838cfc44a2a8ac7888c1988931": {
      "model_module": "@jupyter-widgets/controls",
      "model_module_version": "1.1.0",
      "model_name": "DescriptionStyleModel",
      "state": {
       "description_width": ""
      }
     },
     "9ba2b438bd7248199b50816abd123ba4": {
      "model_module": "@jupyter-widgets/controls",
      "model_module_version": "1.1.0",
      "model_name": "HBoxModel",
      "state": {
       "children": [
        "IPY_MODEL_97210ec589b6415685f9569751dd72da",
        "IPY_MODEL_f12dd77679d845d79d7c829993a05593"
       ],
       "layout": "IPY_MODEL_99a083ae15fa4ba4bd48e71b32fd9906"
      }
     },
     "9d6c4debc10145849a396ad26a502a65": {
      "model_module": "@jupyter-widgets/base",
      "model_module_version": "1.0.0",
      "model_name": "LayoutModel",
      "state": {
       "height": "40px",
       "width": "80%"
      }
     },
     "9d862706df8940edbd60cfa08f2b441d": {
      "model_module": "@jupyter-widgets/controls",
      "model_module_version": "1.1.0",
      "model_name": "ButtonModel",
      "state": {
       "description": "Ramsey Hat-Trick Helps Arsenal to Thrash Everton 5-1",
       "layout": "IPY_MODEL_d8aa4c5e5b854c789ca241627b3380ec",
       "style": "IPY_MODEL_362b05b7242e43bcbaa851a4fc7265de"
      }
     },
     "9dca0d9d41dd47f1913404d4d8233a59": {
      "model_module": "@jupyter-widgets/controls",
      "model_module_version": "1.1.0",
      "model_name": "ButtonModel",
      "state": {
       "description": "Ozil Commits Long-Term Future to Arsenal",
       "layout": "IPY_MODEL_291220dfa2154e699377a912aa5fab1e",
       "style": "IPY_MODEL_9954c574e737460d997833eb0930f80d"
      }
     },
     "9e575bfb15804dcb8ba328e6260fd6f5": {
      "model_module": "@jupyter-widgets/controls",
      "model_module_version": "1.1.0",
      "model_name": "HBoxModel",
      "state": {
       "children": [
        "IPY_MODEL_9dca0d9d41dd47f1913404d4d8233a59",
        "IPY_MODEL_7d571f1b96a448fa8b561c5eac759226"
       ],
       "layout": "IPY_MODEL_cb1022644b744565901e0db6ffdc3ea5"
      }
     },
     "a3bca117f35b4e38abdf20311bd93609": {
      "model_module": "@jupyter-widgets/base",
      "model_module_version": "1.0.0",
      "model_name": "LayoutModel",
      "state": {}
     },
     "a51fbaa1875742cd99e449a1b1ecf6c8": {
      "model_module": "@jupyter-widgets/base",
      "model_module_version": "1.0.0",
      "model_name": "LayoutModel",
      "state": {}
     },
     "a7581f90e3c8444d9aecbacc0be4192f": {
      "model_module": "@jupyter-widgets/controls",
      "model_module_version": "1.1.0",
      "model_name": "DescriptionStyleModel",
      "state": {
       "description_width": ""
      }
     },
     "a84fba61beab426287b843d996869b18": {
      "model_module": "@jupyter-widgets/base",
      "model_module_version": "1.0.0",
      "model_name": "LayoutModel",
      "state": {
       "height": "40px",
       "width": "80%"
      }
     },
     "acb920cebde74aaf881d297b2ae963d0": {
      "model_module": "@jupyter-widgets/controls",
      "model_module_version": "1.1.0",
      "model_name": "DescriptionStyleModel",
      "state": {
       "description_width": ""
      }
     },
     "ae5a2c0f09934ccaa17aa950679b4626": {
      "model_module": "@jupyter-widgets/controls",
      "model_module_version": "1.1.0",
      "model_name": "LabelModel",
      "state": {
       "layout": "IPY_MODEL_d2dd19d17043410ab0c18ef4fe4f28bd",
       "style": "IPY_MODEL_6d0ac60d5d5d458e88f2fa152a992990",
       "value": "Username:"
      }
     },
     "aec28c23e4d34a96b49eed61df817e0e": {
      "model_module": "@jupyter-widgets/base",
      "model_module_version": "1.0.0",
      "model_name": "LayoutModel",
      "state": {}
     },
     "b1ef6bb779ca45048e976ffff84c9b6a": {
      "model_module": "@jupyter-widgets/controls",
      "model_module_version": "1.1.0",
      "model_name": "HBoxModel",
      "state": {
       "children": [
        "IPY_MODEL_24ac415578494ea99af86279235a4c9d",
        "IPY_MODEL_f79b744e6cf140a6a31abb2e42b0e584"
       ],
       "layout": "IPY_MODEL_08a87bc3ab064c7f9597be033fc69eae"
      }
     },
     "b2629113a4b74816931e0b4a2d771bb2": {
      "model_module": "@jupyter-widgets/base",
      "model_module_version": "1.0.0",
      "model_name": "LayoutModel",
      "state": {}
     },
     "b2a0bdbd059c439d9cdc8563260aa59d": {
      "model_module": "@jupyter-widgets/controls",
      "model_module_version": "1.1.0",
      "model_name": "LabelModel",
      "state": {
       "layout": "IPY_MODEL_5c04a715d7254f7cb3aa9695633d3298",
       "style": "IPY_MODEL_ecac2debbf584251bb18574ee295e293"
      }
     },
     "b2c0ed71d20d4453b7fe31c17b5caac2": {
      "model_module": "@jupyter-widgets/base",
      "model_module_version": "1.0.0",
      "model_name": "LayoutModel",
      "state": {}
     },
     "b2c3b0b1679245a8bacbdc81f704f86d": {
      "model_module": "@jupyter-widgets/controls",
      "model_module_version": "1.1.0",
      "model_name": "ButtonStyleModel",
      "state": {
       "button_color": "SkyBlue",
       "font_weight": "bold"
      }
     },
     "b73119d152ec4faea36cbbdbd5e038ac": {
      "model_module": "@jupyter-widgets/controls",
      "model_module_version": "1.1.0",
      "model_name": "ButtonStyleModel",
      "state": {
       "button_color": "SkyBlue",
       "font_weight": "bold"
      }
     },
     "bb97244de3f34e138eb880a1214a7dbe": {
      "model_module": "@jupyter-widgets/base",
      "model_module_version": "1.0.0",
      "model_name": "LayoutModel",
      "state": {}
     },
     "bc5bbf269434400e8cb6218e0437599e": {
      "model_module": "@jupyter-widgets/base",
      "model_module_version": "1.0.0",
      "model_name": "LayoutModel",
      "state": {
       "height": "50px",
       "width": "99.5%"
      }
     },
     "bda7679ddafc4996a09eb2d55eb68455": {
      "model_module": "@jupyter-widgets/controls",
      "model_module_version": "1.1.0",
      "model_name": "VBoxModel",
      "state": {
       "children": [
        "IPY_MODEL_58cde7fa83684cd3a2aa3cafe0ca6881",
        "IPY_MODEL_3982fb502cf340baad8375ac2663b8a3"
       ],
       "layout": "IPY_MODEL_a3bca117f35b4e38abdf20311bd93609"
      }
     },
     "be816ba630d3443492b667728f0597cd": {
      "model_module": "@jupyter-widgets/controls",
      "model_module_version": "1.1.0",
      "model_name": "ButtonStyleModel",
      "state": {
       "button_color": "SkyBlue",
       "font_weight": "bold"
      }
     },
     "c2d92adf968b450585ca864be2f3ce07": {
      "model_module": "@jupyter-widgets/controls",
      "model_module_version": "1.1.0",
      "model_name": "SelectionSliderModel",
      "state": {
       "_options_labels": [
        "Less",
        "Neutral",
        "More"
       ],
       "continuous_update": false,
       "description": "Rate Article 8",
       "index": 1,
       "layout": "IPY_MODEL_7284bf6863314315901193a0ec6d6e72",
       "style": "IPY_MODEL_f0d14bb309754883a0c79faceb79cd48"
      }
     },
     "c2d9b22cd1ce4f819ebc619aeb1a62c3": {
      "model_module": "@jupyter-widgets/controls",
      "model_module_version": "1.1.0",
      "model_name": "VBoxModel",
      "state": {
       "children": [
        "IPY_MODEL_2b05191957ae42ba8a0489ba9fb7b226",
        "IPY_MODEL_1fd714f2a9ea4a938d0d823263742391"
       ],
       "layout": "IPY_MODEL_6a98813256f44a8aaede73e2af5189a3"
      }
     },
     "c312f1c55dd84288bf5899b1e49f6c57": {
      "model_module": "@jupyter-widgets/controls",
      "model_module_version": "1.1.0",
      "model_name": "HBoxModel",
      "state": {
       "children": [
        "IPY_MODEL_2d5c96f0f845409d883afe625107ee74",
        "IPY_MODEL_7a918da5ea584e7e985aaa0589604f31"
       ],
       "layout": "IPY_MODEL_32f08c555a204b30b4b7d5c8fd11a7c1"
      }
     },
     "c3643e881c284b5ebd8e3644088306e0": {
      "model_module": "@jupyter-widgets/base",
      "model_module_version": "1.0.0",
      "model_name": "LayoutModel",
      "state": {}
     },
     "c6fb469ed62c47d89bea6b967309ab35": {
      "model_module": "@jupyter-widgets/controls",
      "model_module_version": "1.1.0",
      "model_name": "ButtonModel",
      "state": {
       "description": "Arsenal Football Club",
       "layout": "IPY_MODEL_421aa87a684140bfa79390db15a60f4e",
       "style": "IPY_MODEL_2174515f304949e28eefedf9badb545a"
      }
     },
     "c7da13790cde413aa083f5ebee73cc53": {
      "model_module": "@jupyter-widgets/base",
      "model_module_version": "1.0.0",
      "model_name": "LayoutModel",
      "state": {
       "width": "150px"
      }
     },
     "c9c7471cf52e4f8b9e64f1b07d9c2a58": {
      "model_module": "@jupyter-widgets/controls",
      "model_module_version": "1.1.0",
      "model_name": "HBoxModel",
      "state": {
       "children": [
        "IPY_MODEL_d64c9fb96ce3469e9dbc36e94c65addb",
        "IPY_MODEL_e9b3a3ad140b4309a6ee0358c2a5072c"
       ],
       "layout": "IPY_MODEL_b2629113a4b74816931e0b4a2d771bb2"
      }
     },
     "ca50608368d64924a1b5b7766dd1e896": {
      "model_module": "@jupyter-widgets/controls",
      "model_module_version": "1.1.0",
      "model_name": "ButtonStyleModel",
      "state": {
       "button_color": "SkyBlue",
       "font_weight": "bold"
      }
     },
     "cb1022644b744565901e0db6ffdc3ea5": {
      "model_module": "@jupyter-widgets/base",
      "model_module_version": "1.0.0",
      "model_name": "LayoutModel",
      "state": {}
     },
     "cb67d971a3a84215873a1ada88b53757": {
      "model_module": "@jupyter-widgets/base",
      "model_module_version": "1.0.0",
      "model_name": "LayoutModel",
      "state": {}
     },
     "cc2d5737915f4b05b94f043a9b388623": {
      "model_module": "@jupyter-widgets/base",
      "model_module_version": "1.0.0",
      "model_name": "LayoutModel",
      "state": {
       "border": "solid"
      }
     },
     "ce38e8a6700345be85f150cecb3342ce": {
      "model_module": "@jupyter-widgets/base",
      "model_module_version": "1.0.0",
      "model_name": "LayoutModel",
      "state": {}
     },
     "cf8b2b28eee5438db73e44e1760ec747": {
      "model_module": "@jupyter-widgets/controls",
      "model_module_version": "1.1.0",
      "model_name": "SelectionSliderModel",
      "state": {
       "_options_labels": [
        "Less",
        "Neutral",
        "More"
       ],
       "continuous_update": false,
       "description": "Rate Article 10",
       "index": 1,
       "layout": "IPY_MODEL_ee075eef81e94834bb985da532bbfc6a",
       "style": "IPY_MODEL_91da4509b6fb48c78805be55cd566af6"
      }
     },
     "d2dd19d17043410ab0c18ef4fe4f28bd": {
      "model_module": "@jupyter-widgets/base",
      "model_module_version": "1.0.0",
      "model_name": "LayoutModel",
      "state": {}
     },
     "d64c9fb96ce3469e9dbc36e94c65addb": {
      "model_module": "@jupyter-widgets/controls",
      "model_module_version": "1.1.0",
      "model_name": "ButtonModel",
      "state": {
       "description": "On Sánchez, City Passes and United Strikes",
       "layout": "IPY_MODEL_501589ddfd044581a612c1ef63f828b2",
       "style": "IPY_MODEL_320e0e57d139485eadf463dac95ea8d1"
      }
     },
     "d67e40396e774752bb6e61539f17b697": {
      "model_module": "@jupyter-widgets/controls",
      "model_module_version": "1.1.0",
      "model_name": "DescriptionStyleModel",
      "state": {
       "description_width": ""
      }
     },
     "d8003360b55b46c391c609dc308e8094": {
      "model_module": "@jupyter-widgets/controls",
      "model_module_version": "1.1.0",
      "model_name": "ButtonStyleModel",
      "state": {}
     },
     "d88f6a4178c3423eba8d6faa0198b3c9": {
      "model_module": "@jupyter-widgets/controls",
      "model_module_version": "1.1.0",
      "model_name": "DescriptionStyleModel",
      "state": {
       "description_width": ""
      }
     },
     "d8aa4c5e5b854c789ca241627b3380ec": {
      "model_module": "@jupyter-widgets/base",
      "model_module_version": "1.0.0",
      "model_name": "LayoutModel",
      "state": {
       "height": "40px",
       "width": "80%"
      }
     },
     "dc9025af5ee145f2a1962559a3560c4d": {
      "model_module": "@jupyter-widgets/controls",
      "model_module_version": "1.1.0",
      "model_name": "VBoxModel",
      "state": {
       "children": [
        "IPY_MODEL_3a75af098249426abdf975c0d8860f72",
        "IPY_MODEL_79a80ab1af974deb838b5543609a2e0d"
       ],
       "layout": "IPY_MODEL_b2c0ed71d20d4453b7fe31c17b5caac2"
      }
     },
     "e1c56d295b8440ce9c931f338cc80f07": {
      "model_module": "@jupyter-widgets/base",
      "model_module_version": "1.0.0",
      "model_name": "LayoutModel",
      "state": {
       "height": "50px",
       "width": "99.5%"
      }
     },
     "e394526313924c9d9c7060acb2ae047a": {
      "model_module": "@jupyter-widgets/base",
      "model_module_version": "1.0.0",
      "model_name": "LayoutModel",
      "state": {}
     },
     "e47f03fa898b41aea03d60501ebd0e4f": {
      "model_module": "@jupyter-widgets/base",
      "model_module_version": "1.0.0",
      "model_name": "LayoutModel",
      "state": {
       "height": "40px",
       "width": "80%"
      }
     },
     "e67fc41ff64340ae9fbff7292d66c106": {
      "model_module": "@jupyter-widgets/controls",
      "model_module_version": "1.1.0",
      "model_name": "DescriptionStyleModel",
      "state": {
       "description_width": ""
      }
     },
     "e9b3a3ad140b4309a6ee0358c2a5072c": {
      "model_module": "@jupyter-widgets/controls",
      "model_module_version": "1.1.0",
      "model_name": "SelectionSliderModel",
      "state": {
       "_options_labels": [
        "Less",
        "Neutral",
        "More"
       ],
       "continuous_update": false,
       "description": "Rate Article 9",
       "index": 1,
       "layout": "IPY_MODEL_70846d5171d84bc484d6a1979f9efb7c",
       "style": "IPY_MODEL_acb920cebde74aaf881d297b2ae963d0"
      }
     },
     "ea03e360da6746f48662a6d58acc6546": {
      "model_module": "@jupyter-widgets/controls",
      "model_module_version": "1.1.0",
      "model_name": "ButtonStyleModel",
      "state": {
       "button_color": "SkyBlue",
       "font_weight": "bold"
      }
     },
     "ea2be55cc31d427fb61bd8da6ab416df": {
      "model_module": "@jupyter-widgets/base",
      "model_module_version": "1.0.0",
      "model_name": "LayoutModel",
      "state": {
       "height": "40px",
       "width": "80%"
      }
     },
     "eb130a1d9b1243d58ee7e34e194330f3": {
      "model_module": "@jupyter-widgets/base",
      "model_module_version": "1.0.0",
      "model_name": "LayoutModel",
      "state": {}
     },
     "ecac2debbf584251bb18574ee295e293": {
      "model_module": "@jupyter-widgets/controls",
      "model_module_version": "1.1.0",
      "model_name": "DescriptionStyleModel",
      "state": {
       "description_width": ""
      }
     },
     "ee075eef81e94834bb985da532bbfc6a": {
      "model_module": "@jupyter-widgets/base",
      "model_module_version": "1.0.0",
      "model_name": "LayoutModel",
      "state": {}
     },
     "efd9fd49ed794f55bad729dc54b0b740": {
      "model_module": "@jupyter-widgets/base",
      "model_module_version": "1.0.0",
      "model_name": "LayoutModel",
      "state": {
       "height": "50px",
       "width": "99.5%"
      }
     },
     "f0c8bf10a7fb427ea4112cb991e76f92": {
      "model_module": "@jupyter-widgets/controls",
      "model_module_version": "1.1.0",
      "model_name": "DescriptionStyleModel",
      "state": {
       "description_width": ""
      }
     },
     "f0d14bb309754883a0c79faceb79cd48": {
      "model_module": "@jupyter-widgets/controls",
      "model_module_version": "1.1.0",
      "model_name": "DescriptionStyleModel",
      "state": {
       "description_width": ""
      }
     },
     "f12dd77679d845d79d7c829993a05593": {
      "model_module": "@jupyter-widgets/controls",
      "model_module_version": "1.1.0",
      "model_name": "SelectionSliderModel",
      "state": {
       "_options_labels": [
        "Less",
        "Neutral",
        "More"
       ],
       "continuous_update": false,
       "description": "Rate Article 1",
       "index": 1,
       "layout": "IPY_MODEL_f77b071fc4f547669b76eab3d04c6ba3",
       "style": "IPY_MODEL_58169b4f9dd048d0bbd19d912a6d353f"
      }
     },
     "f138c963049c42cfa7a18fe2777148cc": {
      "model_module": "@jupyter-widgets/controls",
      "model_module_version": "1.1.0",
      "model_name": "DescriptionStyleModel",
      "state": {
       "description_width": ""
      }
     },
     "f1bcf7cf56714369a7fb28ee999f53be": {
      "model_module": "@jupyter-widgets/controls",
      "model_module_version": "1.1.0",
      "model_name": "DescriptionStyleModel",
      "state": {
       "description_width": ""
      }
     },
     "f2261d1e7f6a4f98bab914bdf3e69518": {
      "model_module": "@jupyter-widgets/controls",
      "model_module_version": "1.1.0",
      "model_name": "ButtonStyleModel",
      "state": {
       "button_color": "SkyBlue",
       "font_weight": "bold"
      }
     },
     "f4e4800c920b432ca610c322dc4afc1b": {
      "model_module": "@jupyter-widgets/base",
      "model_module_version": "1.0.0",
      "model_name": "LayoutModel",
      "state": {}
     },
     "f77b071fc4f547669b76eab3d04c6ba3": {
      "model_module": "@jupyter-widgets/base",
      "model_module_version": "1.0.0",
      "model_name": "LayoutModel",
      "state": {}
     },
     "f79b744e6cf140a6a31abb2e42b0e584": {
      "model_module": "@jupyter-widgets/controls",
      "model_module_version": "1.1.0",
      "model_name": "SelectionSliderModel",
      "state": {
       "_options_labels": [
        "Less",
        "Neutral",
        "More"
       ],
       "continuous_update": false,
       "description": "Rate Article 4",
       "index": 1,
       "layout": "IPY_MODEL_8ae8fc5be85b421eb7182e3e3807d628",
       "style": "IPY_MODEL_1836c31967ca480a8708af46513ad703"
      }
     },
     "fc034b892bd7486ea5dbda6e1fad5f08": {
      "model_module": "@jupyter-widgets/controls",
      "model_module_version": "1.1.0",
      "model_name": "TextareaModel",
      "state": {
       "disabled": true,
       "layout": "IPY_MODEL_5a9c884563384108b93e661f021940a4",
       "style": "IPY_MODEL_5db6fcd219194bb2aa2b9053a67ad351",
       "value": "Tottenham Hotspur host North London neighbours Arsenal in the early Saturday kickoff at Wembley.    "
      }
     },
     "fc2e6c81aa85487bb51d380bf8b43dfd": {
      "model_module": "@jupyter-widgets/controls",
      "model_module_version": "1.1.0",
      "model_name": "HBoxModel",
      "state": {
       "children": [
        "IPY_MODEL_3bfeffb9b29d48cfb83e2f2c76f6fedd",
        "IPY_MODEL_4733e31d0f95441084b9ae4ecd986fc8"
       ],
       "layout": "IPY_MODEL_a51fbaa1875742cd99e449a1b1ecf6c8"
      }
     },
     "ff68a3c1aff34d0e8dd365dc0a2f57a0": {
      "model_module": "@jupyter-widgets/base",
      "model_module_version": "1.0.0",
      "model_name": "LayoutModel",
      "state": {}
     }
    },
    "version_major": 2,
    "version_minor": 0
   }
  }
 },
 "nbformat": 4,
 "nbformat_minor": 2
}
