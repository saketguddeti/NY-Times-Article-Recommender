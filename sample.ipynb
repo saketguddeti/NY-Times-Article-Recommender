{
 "cells": [
  {
   "cell_type": "code",
   "execution_count": 1,
   "metadata": {},
   "outputs": [
    {
     "data": {
      "application/vnd.jupyter.widget-view+json": {
       "model_id": "04c1468a14cc4126b0082fb525c5e64a",
       "version_major": 2,
       "version_minor": 0
      },
      "text/html": [
       "<p>Failed to display Jupyter Widget of type <code>VBox</code>.</p>\n",
       "<p>\n",
       "  If you're reading this message in the Jupyter Notebook or JupyterLab Notebook, it may mean\n",
       "  that the widgets JavaScript is still loading. If this message persists, it\n",
       "  likely means that the widgets JavaScript library is either not installed or\n",
       "  not enabled. See the <a href=\"https://ipywidgets.readthedocs.io/en/stable/user_install.html\">Jupyter\n",
       "  Widgets Documentation</a> for setup instructions.\n",
       "</p>\n",
       "<p>\n",
       "  If you're reading this message in another frontend (for example, a static\n",
       "  rendering on GitHub or <a href=\"https://nbviewer.jupyter.org/\">NBViewer</a>),\n",
       "  it may mean that your frontend doesn't currently support widgets.\n",
       "</p>\n"
      ],
      "text/plain": [
       "VBox(children=(Button(description='Display Chart', style=ButtonStyle()), Output()))"
      ]
     },
     "metadata": {},
     "output_type": "display_data"
    }
   ],
   "source": [
    "import ipywidgets as widgets\n",
    "button = widgets.Button(description='Display Chart')\n",
    "out = widgets.Output()\n",
    "def on_button_clicked(b):\n",
    "    button.description = 'clicked'\n",
    "    with out:\n",
    "        print('Ay')\n",
    "\n",
    "button.on_click(on_button_clicked)\n",
    "widgets.VBox([button, out])"
   ]
  },
  {
   "cell_type": "code",
   "execution_count": null,
   "metadata": {},
   "outputs": [],
   "source": []
  }
 ],
 "metadata": {
  "kernelspec": {
   "display_name": "Python 3",
   "language": "python",
   "name": "python3"
  },
  "language_info": {
   "codemirror_mode": {
    "name": "ipython",
    "version": 3
   },
   "file_extension": ".py",
   "mimetype": "text/x-python",
   "name": "python",
   "nbconvert_exporter": "python",
   "pygments_lexer": "ipython3",
   "version": "3.6.1"
  },
  "widgets": {
   "application/vnd.jupyter.widget-state+json": {
    "state": {
     "04c1468a14cc4126b0082fb525c5e64a": {
      "model_module": "@jupyter-widgets/controls",
      "model_module_version": "1.1.0",
      "model_name": "VBoxModel",
      "state": {
       "children": [
        "IPY_MODEL_8efcac908a164186b91c59f80b10ca72",
        "IPY_MODEL_0e8bf89f0a3747d9bef7fb35bc8e9efb"
       ],
       "layout": "IPY_MODEL_3236dd5ab7614ade9d90b9e6db9f071d"
      }
     },
     "076987bf25e946439adb0c10d7667077": {
      "model_module": "@jupyter-widgets/base",
      "model_module_version": "1.0.0",
      "model_name": "LayoutModel",
      "state": {}
     },
     "0e8bf89f0a3747d9bef7fb35bc8e9efb": {
      "model_module": "@jupyter-widgets/output",
      "model_module_version": "1.0.0",
      "model_name": "OutputModel",
      "state": {
       "layout": "IPY_MODEL_5eb1236fa910487f952c2d4c3c60eb3d"
      }
     },
     "12d3d5dc7f6541889fa721255b7ad2d3": {
      "model_module": "@jupyter-widgets/controls",
      "model_module_version": "1.1.0",
      "model_name": "SelectionSliderModel",
      "state": {
       "_options_labels": [
        "Less",
        "Neutral",
        "More"
       ],
       "continuous_update": false,
       "description": "Rate Article",
       "index": 1,
       "layout": "IPY_MODEL_fa9881afdcb6416d99a211e2429fbb0c",
       "style": "IPY_MODEL_5afef286a2fc47b2bb1f2859079c55ef"
      }
     },
     "226160f3584144dc8d0aace4d3893fc0": {
      "model_module": "@jupyter-widgets/controls",
      "model_module_version": "1.1.0",
      "model_name": "ButtonModel",
      "state": {
       "description": "clicked",
       "layout": "IPY_MODEL_669df1babb424872b29d3a8f110e05ac",
       "style": "IPY_MODEL_31d608b74646490f9d1159678a4f76c4"
      }
     },
     "27a160288a694da589d3108639a4e951": {
      "model_module": "@jupyter-widgets/controls",
      "model_module_version": "1.1.0",
      "model_name": "ButtonModel",
      "state": {
       "description": "Display Chart",
       "layout": "IPY_MODEL_076987bf25e946439adb0c10d7667077",
       "style": "IPY_MODEL_eebc79b7116244638da896cbe4a190a2"
      }
     },
     "31d608b74646490f9d1159678a4f76c4": {
      "model_module": "@jupyter-widgets/controls",
      "model_module_version": "1.1.0",
      "model_name": "ButtonStyleModel",
      "state": {}
     },
     "3236dd5ab7614ade9d90b9e6db9f071d": {
      "model_module": "@jupyter-widgets/base",
      "model_module_version": "1.0.0",
      "model_name": "LayoutModel",
      "state": {}
     },
     "35b2e9f56f1441e0b01c68f5b1f68974": {
      "model_module": "@jupyter-widgets/output",
      "model_module_version": "1.0.0",
      "model_name": "OutputModel",
      "state": {
       "layout": "IPY_MODEL_a0ddc15e97424603bd981ab020ead935",
       "outputs": [
        {
         "name": "stdout",
         "output_type": "stream",
         "text": "Ay\nAy\nAy\nAy\n"
        }
       ]
      }
     },
     "5afef286a2fc47b2bb1f2859079c55ef": {
      "model_module": "@jupyter-widgets/controls",
      "model_module_version": "1.1.0",
      "model_name": "DescriptionStyleModel",
      "state": {
       "description_width": ""
      }
     },
     "5b929826604442b1ad32c7a56083f683": {
      "model_module": "@jupyter-widgets/base",
      "model_module_version": "1.0.0",
      "model_name": "LayoutModel",
      "state": {}
     },
     "5eb1236fa910487f952c2d4c3c60eb3d": {
      "model_module": "@jupyter-widgets/base",
      "model_module_version": "1.0.0",
      "model_name": "LayoutModel",
      "state": {}
     },
     "614d5769d0954c82863b423fae09fc68": {
      "model_module": "@jupyter-widgets/base",
      "model_module_version": "1.0.0",
      "model_name": "LayoutModel",
      "state": {}
     },
     "669df1babb424872b29d3a8f110e05ac": {
      "model_module": "@jupyter-widgets/base",
      "model_module_version": "1.0.0",
      "model_name": "LayoutModel",
      "state": {}
     },
     "69240b8949ea4ba29013abf05cd7cb31": {
      "model_module": "@jupyter-widgets/controls",
      "model_module_version": "1.1.0",
      "model_name": "VBoxModel",
      "state": {
       "children": [
        "IPY_MODEL_27a160288a694da589d3108639a4e951",
        "IPY_MODEL_c3ff212109e64723a66402ace397036a"
       ],
       "layout": "IPY_MODEL_bdeb265c8aff4e17a9278c4e4fa5e89d"
      }
     },
     "8efcac908a164186b91c59f80b10ca72": {
      "model_module": "@jupyter-widgets/controls",
      "model_module_version": "1.1.0",
      "model_name": "ButtonModel",
      "state": {
       "description": "Display Chart",
       "layout": "IPY_MODEL_979a9fea3251484a8569efde6a7ae202",
       "style": "IPY_MODEL_edb52820406f4a26aa5096ac2b06e1e9"
      }
     },
     "979a9fea3251484a8569efde6a7ae202": {
      "model_module": "@jupyter-widgets/base",
      "model_module_version": "1.0.0",
      "model_name": "LayoutModel",
      "state": {}
     },
     "a0ddc15e97424603bd981ab020ead935": {
      "model_module": "@jupyter-widgets/base",
      "model_module_version": "1.0.0",
      "model_name": "LayoutModel",
      "state": {}
     },
     "bdeb265c8aff4e17a9278c4e4fa5e89d": {
      "model_module": "@jupyter-widgets/base",
      "model_module_version": "1.0.0",
      "model_name": "LayoutModel",
      "state": {}
     },
     "c3ff212109e64723a66402ace397036a": {
      "model_module": "@jupyter-widgets/output",
      "model_module_version": "1.0.0",
      "model_name": "OutputModel",
      "state": {
       "layout": "IPY_MODEL_614d5769d0954c82863b423fae09fc68"
      }
     },
     "e26ba6737c60405e89cdc767f027a2fe": {
      "model_module": "@jupyter-widgets/controls",
      "model_module_version": "1.1.0",
      "model_name": "VBoxModel",
      "state": {
       "children": [
        "IPY_MODEL_226160f3584144dc8d0aace4d3893fc0",
        "IPY_MODEL_35b2e9f56f1441e0b01c68f5b1f68974"
       ],
       "layout": "IPY_MODEL_5b929826604442b1ad32c7a56083f683"
      }
     },
     "edb52820406f4a26aa5096ac2b06e1e9": {
      "model_module": "@jupyter-widgets/controls",
      "model_module_version": "1.1.0",
      "model_name": "ButtonStyleModel",
      "state": {}
     },
     "eebc79b7116244638da896cbe4a190a2": {
      "model_module": "@jupyter-widgets/controls",
      "model_module_version": "1.1.0",
      "model_name": "ButtonStyleModel",
      "state": {}
     },
     "fa9881afdcb6416d99a211e2429fbb0c": {
      "model_module": "@jupyter-widgets/base",
      "model_module_version": "1.0.0",
      "model_name": "LayoutModel",
      "state": {}
     }
    },
    "version_major": 2,
    "version_minor": 0
   }
  }
 },
 "nbformat": 4,
 "nbformat_minor": 2
}
