{
 "cells": [
  {
   "cell_type": "markdown",
   "metadata": {},
   "source": [
    "### Article Selection\n",
    "API calls are made making use of NY Times Developer platform. This will extract metadata and article snippets from NY Times archives based on the search conditions used. API will primarily use the news_desk attribute to import specific number of articles from each section. The sectional topics to be used are listed out in the developer website with over 100 topics available. Peripheral topics based on city/regional news, obituaries, job advertisments, classifieds, booming, crosswords etc. are excluded to work with only general topics."
   ]
  },
  {
   "cell_type": "code",
   "execution_count": 1,
   "metadata": {},
   "outputs": [
    {
     "data": {
      "text/html": [
       "<div>\n",
       "<style>\n",
       "    .dataframe thead tr:only-child th {\n",
       "        text-align: right;\n",
       "    }\n",
       "\n",
       "    .dataframe thead th {\n",
       "        text-align: left;\n",
       "    }\n",
       "\n",
       "    .dataframe tbody tr th {\n",
       "        vertical-align: top;\n",
       "    }\n",
       "</style>\n",
       "<table border=\"1\" class=\"dataframe\">\n",
       "  <thead>\n",
       "    <tr style=\"text-align: right;\">\n",
       "      <th></th>\n",
       "      <th>Section</th>\n",
       "    </tr>\n",
       "  </thead>\n",
       "  <tbody>\n",
       "    <tr>\n",
       "      <th>0</th>\n",
       "      <td>Adventure Sports</td>\n",
       "    </tr>\n",
       "    <tr>\n",
       "      <th>1</th>\n",
       "      <td>Arts &amp; Leisure</td>\n",
       "    </tr>\n",
       "    <tr>\n",
       "      <th>2</th>\n",
       "      <td>Arts</td>\n",
       "    </tr>\n",
       "    <tr>\n",
       "      <th>3</th>\n",
       "      <td>Automobiles</td>\n",
       "    </tr>\n",
       "    <tr>\n",
       "      <th>4</th>\n",
       "      <td>Blogs</td>\n",
       "    </tr>\n",
       "  </tbody>\n",
       "</table>\n",
       "</div>"
      ],
      "text/plain": [
       "            Section\n",
       "0  Adventure Sports\n",
       "1    Arts & Leisure\n",
       "2              Arts\n",
       "3       Automobiles\n",
       "4             Blogs"
      ]
     },
     "execution_count": 1,
     "metadata": {},
     "output_type": "execute_result"
    }
   ],
   "source": [
    "import pandas as pd\n",
    "import numpy as np\n",
    "\n",
    "news_desk = pd.read_csv(\"data/news_desk.csv\")\n",
    "\n",
    "news_desk.head()"
   ]
  },
  {
   "cell_type": "markdown",
   "metadata": {},
   "source": [
    "### API Calls\n",
    "API calling will build a basic framework for extracting articles in bulk from the NY Times website. Due to the rate limiting restriction put up by NY Times, a decorater is used to make dynamic function calls so that the API requests do not exceed 1 call/second. There is also a day-wise limit of 1000 calls. An additional feature is added which will parallelize this process making use of multiple CPU cores and this will speed things up a bit. Brief description of Lock() function used for rate limiting can be found here."
   ]
  },
  {
   "cell_type": "code",
   "execution_count": 9,
   "metadata": {},
   "outputs": [
    {
     "name": "stdout",
     "output_type": "stream",
     "text": [
      "Appended 1 out of 2\n",
      "Appended 0 out of 2\n"
     ]
    }
   ],
   "source": [
    "import time, threading\n",
    "\n",
    "def rate_limited(max_per_second):\n",
    "  '''Decorator that make functions not to be called faster than 1 call/second'''\n",
    "  lock = threading.Lock()\n",
    "  minInterval = 1.0 / float(max_per_second)\n",
    "  def decorate(func):\n",
    "    lastTimeCalled = [0.0]\n",
    "    def rateLimitedFunction(args,*kargs):\n",
    "      lock.acquire()\n",
    "      elapsed = time.clock() - lastTimeCalled[0]\n",
    "      leftToWait = minInterval - elapsed\n",
    "      if leftToWait>0:\n",
    "        time.sleep(leftToWait)\n",
    "      lock.release()\n",
    "      ret = func(args,*kargs)\n",
    "      lastTimeCalled[0] = time.clock()\n",
    "      return ret\n",
    "    return rateLimitedFunction\n",
    "  return decorate\n",
    "\n",
    "\n",
    "from threading import Thread\n",
    "import requests\n",
    "\n",
    "@rate_limited(0.9)\n",
    "def process_id(id):\n",
    "    try:\n",
    "        r = requests.get(url % id)\n",
    "        json_data = r.json()\n",
    "        print('Appended '+str(page_index.index(id))+ ' out of '+ str(len(page_index)))\n",
    "        return json_data\n",
    "    except:\n",
    "        json_data = ''\n",
    "        print('Skipping...')\n",
    "        return json_data\n",
    "\n",
    "def process_range(id_range, store=None):\n",
    "    if store is None:\n",
    "        store = {}\n",
    "    for id in id_range:\n",
    "        store[id] = process_id(id)\n",
    "    return store\n",
    "\n",
    "\n",
    "def threaded_process_range(nthreads, id_range):\n",
    "    store = {}\n",
    "    threads = []\n",
    "\n",
    "    for i in range(nthreads):\n",
    "        ids = id_range[i::nthreads]\n",
    "        t = Thread(target=process_range, args=(ids,store))\n",
    "        threads.append(t)\n",
    "\n",
    "    [t.start() for t in threads]\n",
    "    [t.join() for t in threads]\n",
    "    return store\n",
    "\n",
    "news_desk = list(news_desk['Section'])\n",
    "base_url = 'https://api.nytimes.com/svc/search/v2/articlesearch.json?api-key=a141a689509b459ba12e2b93b83883fd'\n",
    "\n",
    "article_raw = []\n",
    "for nd in news_desk[65:67]:\n",
    "    param_url = '&fq=news_desk:'+str(nd)+'&sort=newest&page=%s'\n",
    "    url = base_url + param_url\n",
    "    print(str(nd)+\":\")\n",
    "    page_index = list(range(7))\n",
    "    try:\n",
    "        articles_1 = threaded_process_range(2, page_index)\n",
    "        articles_2 = [articles_1[k]['response']['docs'] for k in page_index if (type(articles_1[k]) is dict) and ('response' in articles_1[k])]\n",
    "        articles_3 = [item for sublist in articles_2 for item in sublist]\n",
    "        articles_4 = [{key:item[key] for key in ['web_url','pub_date']} for item in articles_3]\n",
    "        articles_5 = pd.DataFrame(articles_4)\n",
    "        articles_5['news_desk'] = str(nd)\n",
    "        article_raw.append(articles_5)\n",
    "    except:\n",
    "        print('Skipping...')\n",
    "\n",
    "url_data = pd.concat(article_raw).reset_index(drop = True)\n",
    "#url_data.to_csv('data/url_data.csv', index = False)\n"
   ]
  },
  {
   "cell_type": "code",
   "execution_count": 1,
   "metadata": {
    "scrolled": false
   },
   "outputs": [
    {
     "data": {
      "application/vnd.jupyter.widget-view+json": {
       "model_id": "87de651633894cecae53340c6371e8f5",
       "version_major": 2,
       "version_minor": 0
      },
      "text/html": [
       "<p>Failed to display Jupyter Widget of type <code>HBox</code>.</p>\n",
       "<p>\n",
       "  If you're reading this message in the Jupyter Notebook or JupyterLab Notebook, it may mean\n",
       "  that the widgets JavaScript is still loading. If this message persists, it\n",
       "  likely means that the widgets JavaScript library is either not installed or\n",
       "  not enabled. See the <a href=\"https://ipywidgets.readthedocs.io/en/stable/user_install.html\">Jupyter\n",
       "  Widgets Documentation</a> for setup instructions.\n",
       "</p>\n",
       "<p>\n",
       "  If you're reading this message in another frontend (for example, a static\n",
       "  rendering on GitHub or <a href=\"https://nbviewer.jupyter.org/\">NBViewer</a>),\n",
       "  it may mean that your frontend doesn't currently support widgets.\n",
       "</p>\n"
      ],
      "text/plain": [
       "HBox(children=(VBox(children=(Label(value=''), HBox(children=(Text(value='', placeholder='Type a query for NY Times article listing'), Button(description='Search articles', style=ButtonStyle()))), Label(value=''))), Label(value=''), Label(value=''), VBox(children=(HBox(children=(Label(value='Username:'), Text(value='saket', placeholder='Enter your name'))), HBox(children=(Label(value='->->->->->'), Button(description='Get recommendations', layout=Layout(width='150px'), style=ButtonStyle())))))))"
      ]
     },
     "metadata": {},
     "output_type": "display_data"
    },
    {
     "data": {
      "text/html": [
       "<script>$('div.output_area > div.output_subarea.jupyter-widgets-view > div.p-Widget.p-Panel.jupyter-widgets.widget-container.widget-box.widget-vbox').fadeOut();</script>"
      ],
      "text/plain": [
       "<IPython.core.display.HTML object>"
      ]
     },
     "metadata": {},
     "output_type": "display_data"
    },
    {
     "data": {
      "application/vnd.jupyter.widget-view+json": {
       "model_id": "591bc1800e924e1587aee762dce12d50",
       "version_major": 2,
       "version_minor": 0
      },
      "text/html": [
       "<p>Failed to display Jupyter Widget of type <code>VBox</code>.</p>\n",
       "<p>\n",
       "  If you're reading this message in the Jupyter Notebook or JupyterLab Notebook, it may mean\n",
       "  that the widgets JavaScript is still loading. If this message persists, it\n",
       "  likely means that the widgets JavaScript library is either not installed or\n",
       "  not enabled. See the <a href=\"https://ipywidgets.readthedocs.io/en/stable/user_install.html\">Jupyter\n",
       "  Widgets Documentation</a> for setup instructions.\n",
       "</p>\n",
       "<p>\n",
       "  If you're reading this message in another frontend (for example, a static\n",
       "  rendering on GitHub or <a href=\"https://nbviewer.jupyter.org/\">NBViewer</a>),\n",
       "  it may mean that your frontend doesn't currently support widgets.\n",
       "</p>\n"
      ],
      "text/plain": [
       "VBox(children=(VBox(children=(HBox(children=(Button(description='Arsenal Is in Crisis, but a Signing Changes the Mood', layout=Layout(height='40px', width='80%'), style=ButtonStyle(button_color='SkyBlue', font_weight='bold')), SelectionSlider(continuous_update=False, description='Rate Article 1', index=1, options=('Less', 'Neutral', 'More'), value='Neutral'))), Textarea(value='Eight points out of a Champions League place, Arsenal ought to be in crisis. But the much-hyped signing of Pierre-Emerick Aubameyang soothed some critics, and obscured larger problems.', disabled=True, layout=Layout(height='50px', width='99.5%')))), VBox(children=(HBox(children=(Button(description='Arsenal Football Club', layout=Layout(height='40px', width='80%'), style=ButtonStyle(button_color='SkyBlue', font_weight='bold')), SelectionSlider(continuous_update=False, description='Rate Article 2', index=1, options=('Less', 'Neutral', 'More'), value='Neutral'))), Textarea(value='News about Arsenal Football Club, including commentary and archival articles published in The New York Times.', disabled=True, layout=Layout(height='50px', width='99.5%')))), VBox(children=(HBox(children=(Button(description='Arsenal Football Club', layout=Layout(height='40px', width='80%'), style=ButtonStyle(button_color='SkyBlue', font_weight='bold')), SelectionSlider(continuous_update=False, description='Rate Article 3', index=1, options=('Less', 'Neutral', 'More'), value='Neutral'))), Textarea(value='News about Arsenal Football Club, including commentary and archival articles published in The New York Times.', disabled=True, layout=Layout(height='50px', width='99.5%')))), VBox(children=(HBox(children=(Button(description='Statbox-Tottenham Hotspur Versus Arsenal', layout=Layout(height='40px', width='80%'), style=ButtonStyle(button_color='SkyBlue', font_weight='bold')), SelectionSlider(continuous_update=False, description='Rate Article 4', index=1, options=('Less', 'Neutral', 'More'), value='Neutral'))), Textarea(value=\"Facts and figures ahead of Saturday's Premier League match between Tottenham Hotspur and Arsenal at Wembley.\", disabled=True, layout=Layout(height='50px', width='99.5%')))), VBox(children=(HBox(children=(Button(description='Arsenal Sign Aubameyang in Club-Record Transfer', layout=Layout(height='40px', width='80%'), style=ButtonStyle(button_color='SkyBlue', font_weight='bold')), SelectionSlider(continuous_update=False, description='Rate Article 5', index=1, options=('Less', 'Neutral', 'More'), value='Neutral'))), Textarea(value='Arsenal have bolstered their attacking line-up by signing striker Pierre-Emerick Aubameyang from Borussia Dortmund on a long-term contract for a club-record fee, the Premier League club said on Wednesday.', disabled=True, layout=Layout(height='50px', width='99.5%')))), VBox(children=(HBox(children=(Button(description='Ozil Commits Long-Term Future to Arsenal', layout=Layout(height='40px', width='80%'), style=ButtonStyle(button_color='SkyBlue', font_weight='bold')), SelectionSlider(continuous_update=False, description='Rate Article 6', index=1, options=('Less', 'Neutral', 'More'), value='Neutral'))), Textarea(value='Arsenal midfielder Mesut Ozil has signed a new contract to extend his stay in north London, the Premier League club said on Thursday.', disabled=True, layout=Layout(height='50px', width='99.5%')))), VBox(children=(HBox(children=(Button(description='Five Memorable Tottenham Hotspur Versus Arsenal Matches', layout=Layout(height='40px', width='80%'), style=ButtonStyle(button_color='SkyBlue', font_weight='bold')), SelectionSlider(continuous_update=False, description='Rate Article 7', index=1, options=('Less', 'Neutral', 'More'), value='Neutral'))), Textarea(value='Tottenham Hotspur and Arsenal will meet for the 195th time in all competitions on Saturday. We look at some notable clashes between the sides.', disabled=True, layout=Layout(height='50px', width='99.5%')))), VBox(children=(HBox(children=(Button(description=\"Tottenham Hotspur Versus Arsenal-Fans' View\", layout=Layout(height='40px', width='80%'), style=ButtonStyle(button_color='SkyBlue', font_weight='bold')), SelectionSlider(continuous_update=False, description='Rate Article 8', index=1, options=('Less', 'Neutral', 'More'), value='Neutral'))), Textarea(value='Tottenham Hotspur host North London neighbours Arsenal in the early Saturday kickoff at Wembley.    ', disabled=True, layout=Layout(height='50px', width='99.5%')))), VBox(children=(HBox(children=(Button(description='On Sánchez, City Passes and United Strikes', layout=Layout(height='40px', width='80%'), style=ButtonStyle(button_color='SkyBlue', font_weight='bold')), SelectionSlider(continuous_update=False, description='Rate Article 9', index=1, options=('Less', 'Neutral', 'More'), value='Neutral'))), Textarea(value='Manchester United reels in a star, but it (and Arsenal, and Chelsea) still has far to go to catch Pep Guardiola’s Manchester City.', disabled=True, layout=Layout(height='50px', width='99.5%')))), VBox(children=(HBox(children=(Button(description='Ramsey Hat-Trick Helps Arsenal to Thrash Everton 5-1', layout=Layout(height='40px', width='80%'), style=ButtonStyle(button_color='SkyBlue', font_weight='bold')), SelectionSlider(continuous_update=False, description='Rate Article 10', index=1, options=('Less', 'Neutral', 'More'), value='Neutral'))), Textarea(value='Aaron Ramsey scored a hat-trick on Saturday as Arsenal thrashed Everton 5-1 in the Premier League at the Emirates with a display of free-flowing football that the Gunners have sorely lacked away from home this season.', disabled=True, layout=Layout(height='50px', width='99.5%'))))), layout=Layout(border='solid'))"
      ]
     },
     "metadata": {},
     "output_type": "display_data"
    }
   ],
   "source": [
    "from ipywidgets import widgets, HBox, VBox, Layout, Button, Label\n",
    "from IPython.display import display, HTML, clear_output\n",
    "import requests\n",
    "import webbrowser\n",
    "\n",
    "htmlscript_ipywidget_disable_closing = '''<script>\n",
    "disable = true\n",
    "function disable_ipyw_close(){\n",
    "    if(disable){\n",
    "        $('div.widget-area > div.prompt > button.close').hide()\n",
    "    }\n",
    "    else{\n",
    "        $('div.widget-area > div.prompt > button.close').show()    \n",
    "    }\n",
    "    disable = !disable\n",
    "}\n",
    "$( document ).ready(disable_ipyw_close);\n",
    "</script>\n",
    "\n",
    "<form action=\"javascript:disable_ipyw_close()\"><input style=\"opacity: 0.5\" type=\"submit\" value=\"Disable ipywidget closing\"></form>'''\n",
    "\n",
    "wodget_hide = HTML('''<script>\n",
    "code_show=true; \n",
    "function code_toggle() {\n",
    "    if (code_show){\n",
    "        $('div.cell.code_cell.rendered.selected div.input').hide();\n",
    "    } else {\n",
    "        $('div.cell.code_cell.rendered.selected div.input').show();\n",
    "    }\n",
    "    code_show = !code_show\n",
    "} \n",
    "\n",
    "$( document ).ready(code_toggle);\n",
    "</script>\n",
    "\n",
    "To show/hide this cell's raw code input, click <a href=\"javascript:code_toggle()\">here</a>.''')\n",
    "\n",
    "widget_hide = HTML('''<script>$('div.output_area > div.output_subarea.jupyter-widgets-view > div.p-Widget.p-Panel.jupyter-widgets.widget-container.widget-box.widget-vbox').fadeOut();</script>''')\n",
    "    \n",
    "def onclick(sender):\n",
    "    display(widget_hide)\n",
    "    if(text_query.value == ''):\n",
    "        print('Input cannot be blank')\n",
    "        return\n",
    "    \n",
    "    base_url = 'https://api.nytimes.com/svc/search/v2/articlesearch.json?api-key=a141a689509b459ba12e2b93b83883fd'\n",
    "    param_url = '&q='+str(text_query.value)+'&page=0'\n",
    "    url = base_url + param_url\n",
    "    \n",
    "    r = requests.get(url)\n",
    "    json_data = r.json()\n",
    "    article_meta_data = json_data['response']['docs']\n",
    "    \n",
    "    headlines = []\n",
    "    urls = []\n",
    "    snippets = []\n",
    "    for artc in article_meta_data:\n",
    "        url = artc['web_url']\n",
    "        headline = artc['headline']['main']\n",
    "        snippet = artc['snippet']\n",
    "        headlines.append(headline)\n",
    "        urls.append(url)\n",
    "        snippets.append(snippet)\n",
    "    \n",
    "    def redirect_link(sender):\n",
    "        ind = items_hl.index(sender)\n",
    "        link = urls[ind]\n",
    "        webbrowser.open(link)\n",
    "        \n",
    "    def on_value_change(change):\n",
    "        ind = items_rate.index(change['owner'])\n",
    "        print('Article '+str(ind+1)+' rated '+str(change['new']))\n",
    "    \n",
    "    items_hl = [Button(description=w, border = 'solid', layout = Layout(width='80%', height='40px')) for w in headlines]\n",
    "    for hl in items_hl:\n",
    "        hl.style.button_color = 'SkyBlue'\n",
    "        hl.style.font_weight = 'bold'\n",
    "        hl.on_click(redirect_link)\n",
    "        \n",
    "    items_sn = [widgets.Textarea(w, disabled = True, layout = Layout(width = '99.5%', height = '50px')) for w in snippets]\n",
    "\n",
    "#     items_rate = [widgets.IntSlider(value=3, min=1, max=5, step=2, description='Rate Article '+str(i+1), disabled=False, continuous_update=False,\n",
    "#                                     orientation='horizontal', readout=True, readout_format='d') \n",
    "#                   for i in range(len(article_meta_data))]\n",
    "    items_rate = [widgets.SelectionSlider(options=['Less', 'Neutral', 'More'], value = 'Neutral', \n",
    "                                          description='Rate Article '+str(i+1), disabled=False, \n",
    "                                          continuous_update=False, orientation='horizontal', readout=True) \n",
    "                  for i in range(len(article_meta_data))]\n",
    "    for rt in items_rate:\n",
    "        rt.observe(on_value_change, names = 'value')\n",
    "\n",
    "    items = [VBox([HBox([items_hl[i], items_rate[i]]), items_sn[i]]) for i in range(len(article_meta_data))]\n",
    "    box = VBox(items, layout = Layout(border = 'solid'))\n",
    "    display(box)\n",
    "\n",
    "text_query = widgets.Text(placeholder='Type a query for NY Times article listing')\n",
    "button_query = widgets.Button(description = 'Search articles')\n",
    "query = HBox([text_query, button_query])\n",
    "query = VBox([Label(\"\"), query, Label(\"\")])\n",
    "button_query.on_click(onclick)\n",
    "\n",
    "\n",
    "text_user = widgets.Text(placeholder='Enter your name', value = 'saket')\n",
    "user_input = HBox([Label(\"Username:\"),text_user])\n",
    "rec_button = widgets.Button(description = 'Get recommendations', layout = Layout(width = '150px'))\n",
    "user = VBox([user_input,HBox([Label(\"->->->->->\"),rec_button])])\n",
    "\n",
    "display(HBox([query, Label(\"\"),Label(\"\"), user]))\n",
    "# HTML(htmlscript_ipywidget_disable_closing)"
   ]
  },
  {
   "cell_type": "code",
   "execution_count": null,
   "metadata": {
    "collapsed": true
   },
   "outputs": [],
   "source": [
    "\n"
   ]
  }
 ],
 "metadata": {
  "celltoolbar": "Edit Metadata",
  "kernelspec": {
   "display_name": "Python 3",
   "language": "python",
   "name": "python3"
  },
  "language_info": {
   "codemirror_mode": {
    "name": "ipython",
    "version": 3
   },
   "file_extension": ".py",
   "mimetype": "text/x-python",
   "name": "python",
   "nbconvert_exporter": "python",
   "pygments_lexer": "ipython3",
   "version": "3.6.1"
  },
  "widgets": {
   "application/vnd.jupyter.widget-state+json": {
    "state": {
     "034bd798c2114fe2831a226a49a83c7d": {
      "model_module": "@jupyter-widgets/controls",
      "model_module_version": "1.1.0",
      "model_name": "DescriptionStyleModel",
      "state": {
       "description_width": ""
      }
     },
     "0607b68614384343acc5f455a6b26e9c": {
      "model_module": "@jupyter-widgets/controls",
      "model_module_version": "1.1.0",
      "model_name": "ButtonModel",
      "state": {
       "description": "Tottenham Hotspur Versus Arsenal-Fans' View",
       "layout": "IPY_MODEL_9d6c4debc10145849a396ad26a502a65",
       "style": "IPY_MODEL_b73119d152ec4faea36cbbdbd5e038ac"
      }
     },
     "0640c90eb4ed46e3892c408ee39eba75": {
      "model_module": "@jupyter-widgets/controls",
      "model_module_version": "1.1.0",
      "model_name": "ButtonModel",
      "state": {
       "description": "Five Memorable Tottenham Hotspur Versus Arsenal Matches",
       "layout": "IPY_MODEL_a84fba61beab426287b843d996869b18",
       "style": "IPY_MODEL_f2261d1e7f6a4f98bab914bdf3e69518"
      }
     },
     "064d06c8c5f4478caed20443b237773a": {
      "model_module": "@jupyter-widgets/controls",
      "model_module_version": "1.1.0",
      "model_name": "DescriptionStyleModel",
      "state": {
       "description_width": ""
      }
     },
     "08a87bc3ab064c7f9597be033fc69eae": {
      "model_module": "@jupyter-widgets/base",
      "model_module_version": "1.0.0",
      "model_name": "LayoutModel",
      "state": {}
     },
     "09d238f2040b40dd9fe8849ca979fc3a": {
      "model_module": "@jupyter-widgets/controls",
      "model_module_version": "1.1.0",
      "model_name": "TextareaModel",
      "state": {
       "disabled": true,
       "layout": "IPY_MODEL_0b6d0c46c3b545478b88cd90437e7bc7",
       "style": "IPY_MODEL_064d06c8c5f4478caed20443b237773a",
       "value": "Manchester United reels in a star, but it (and Arsenal, and Chelsea) still has far to go to catch Pep Guardiola’s Manchester City."
      }
     },
     "0ab5f60ae6e0447d8a50c3c450bc8344": {
      "model_module": "@jupyter-widgets/controls",
      "model_module_version": "1.1.0",
      "model_name": "TextareaModel",
      "state": {
       "disabled": true,
       "layout": "IPY_MODEL_bc5bbf269434400e8cb6218e0437599e",
       "style": "IPY_MODEL_034bd798c2114fe2831a226a49a83c7d",
       "value": "Arsenal have bolstered their attacking line-up by signing striker Pierre-Emerick Aubameyang from Borussia Dortmund on a long-term contract for a club-record fee, the Premier League club said on Wednesday."
      }
     },
     "0b6d0c46c3b545478b88cd90437e7bc7": {
      "model_module": "@jupyter-widgets/base",
      "model_module_version": "1.0.0",
      "model_name": "LayoutModel",
      "state": {
       "height": "50px",
       "width": "99.5%"
      }
     },
     "113bdaa0404649bfba1198a2d7060221": {
      "model_module": "@jupyter-widgets/base",
      "model_module_version": "1.0.0",
      "model_name": "LayoutModel",
      "state": {}
     },
     "11dfda28769d44708f2b7b5c8c76cd6d": {
      "model_module": "@jupyter-widgets/base",
      "model_module_version": "1.0.0",
      "model_name": "LayoutModel",
      "state": {}
     },
     "141d3336137c47cb9d979d94d59a6787": {
      "model_module": "@jupyter-widgets/controls",
      "model_module_version": "1.1.0",
      "model_name": "VBoxModel",
      "state": {
       "children": [
        "IPY_MODEL_8a5247a8d8554ae590efef9c4a368ce5",
        "IPY_MODEL_fc034b892bd7486ea5dbda6e1fad5f08"
       ],
       "layout": "IPY_MODEL_4e494dd8130947e4a42253ce09c80208"
      }
     },
     "1806b95ce9f94cc4ac077479f9096dde": {
      "model_module": "@jupyter-widgets/base",
      "model_module_version": "1.0.0",
      "model_name": "LayoutModel",
      "state": {}
     },
     "1836c31967ca480a8708af46513ad703": {
      "model_module": "@jupyter-widgets/controls",
      "model_module_version": "1.1.0",
      "model_name": "DescriptionStyleModel",
      "state": {
       "description_width": ""
      }
     },
     "18edf19800eb41da8d3a6150549dd4d1": {
      "model_module": "@jupyter-widgets/controls",
      "model_module_version": "1.1.0",
      "model_name": "DescriptionStyleModel",
      "state": {
       "description_width": ""
      }
     },
     "1a46490460474521a7f26a401b2e48cc": {
      "model_module": "@jupyter-widgets/controls",
      "model_module_version": "1.1.0",
      "model_name": "VBoxModel",
      "state": {
       "children": [
        "IPY_MODEL_9e575bfb15804dcb8ba328e6260fd6f5",
        "IPY_MODEL_88b4294e16674fea8c4132e59ed5aa0d"
       ],
       "layout": "IPY_MODEL_c3643e881c284b5ebd8e3644088306e0"
      }
     },
     "1a5811168ed54199b6723520e7227d8d": {
      "model_module": "@jupyter-widgets/base",
      "model_module_version": "1.0.0",
      "model_name": "LayoutModel",
      "state": {}
     },
     "1c33b04bd2fa4bcabbf4933e748f4621": {
      "model_module": "@jupyter-widgets/base",
      "model_module_version": "1.0.0",
      "model_name": "LayoutModel",
      "state": {}
     },
     "1ca44567d2bd44b480271a7acb38a234": {
      "model_module": "@jupyter-widgets/base",
      "model_module_version": "1.0.0",
      "model_name": "LayoutModel",
      "state": {
       "height": "40px",
       "width": "80%"
      }
     },
     "1fd714f2a9ea4a938d0d823263742391": {
      "model_module": "@jupyter-widgets/controls",
      "model_module_version": "1.1.0",
      "model_name": "HBoxModel",
      "state": {
       "children": [
        "IPY_MODEL_98621e7af85749299fc52af4b205e808",
        "IPY_MODEL_46d2768b4efc44f8a2e769ce54c36f3c"
       ],
       "layout": "IPY_MODEL_81515883e6514a038b983f81f45b5152"
      }
     },
     "212e92c477da4a1ea68908f3fb94d3cf": {
      "model_module": "@jupyter-widgets/controls",
      "model_module_version": "1.1.0",
      "model_name": "DescriptionStyleModel",
      "state": {
       "description_width": ""
      }
     },
     "2174515f304949e28eefedf9badb545a": {
      "model_module": "@jupyter-widgets/controls",
      "model_module_version": "1.1.0",
      "model_name": "ButtonStyleModel",
      "state": {
       "button_color": "SkyBlue",
       "font_weight": "bold"
      }
     },
     "24ac415578494ea99af86279235a4c9d": {
      "model_module": "@jupyter-widgets/controls",
      "model_module_version": "1.1.0",
      "model_name": "ButtonModel",
      "state": {
       "description": "Statbox-Tottenham Hotspur Versus Arsenal",
       "layout": "IPY_MODEL_e47f03fa898b41aea03d60501ebd0e4f",
       "style": "IPY_MODEL_ea03e360da6746f48662a6d58acc6546"
      }
     },
     "25c2c8da510a4c44aa681d1fa034b981": {
      "model_module": "@jupyter-widgets/base",
      "model_module_version": "1.0.0",
      "model_name": "LayoutModel",
      "state": {}
     },
     "2874b942cdc14e25a589ada4901ed8e2": {
      "model_module": "@jupyter-widgets/controls",
      "model_module_version": "1.1.0",
      "model_name": "DescriptionStyleModel",
      "state": {
       "description_width": ""
      }
     },
     "291220dfa2154e699377a912aa5fab1e": {
      "model_module": "@jupyter-widgets/base",
      "model_module_version": "1.0.0",
      "model_name": "LayoutModel",
      "state": {
       "height": "40px",
       "width": "80%"
      }
     },
     "29131d56a2f743a7be00a96f379da498": {
      "model_module": "@jupyter-widgets/base",
      "model_module_version": "1.0.0",
      "model_name": "LayoutModel",
      "state": {}
     },
     "2b05191957ae42ba8a0489ba9fb7b226": {
      "model_module": "@jupyter-widgets/controls",
      "model_module_version": "1.1.0",
      "model_name": "HBoxModel",
      "state": {
       "children": [
        "IPY_MODEL_ae5a2c0f09934ccaa17aa950679b4626",
        "IPY_MODEL_71f6f5dc1e28443e9f59a5ee40a8d086"
       ],
       "layout": "IPY_MODEL_79e1ae102fd94dcbb2a61fd5285bde75"
      }
     },
     "2b25ab901c424e9fae769955ca1aa779": {
      "model_module": "@jupyter-widgets/controls",
      "model_module_version": "1.1.0",
      "model_name": "DescriptionStyleModel",
      "state": {
       "description_width": ""
      }
     },
     "2d5c96f0f845409d883afe625107ee74": {
      "model_module": "@jupyter-widgets/controls",
      "model_module_version": "1.1.0",
      "model_name": "ButtonModel",
      "state": {
       "description": "Arsenal Football Club",
       "layout": "IPY_MODEL_ea2be55cc31d427fb61bd8da6ab416df",
       "style": "IPY_MODEL_be816ba630d3443492b667728f0597cd"
      }
     },
     "302305cc436b49548104b75bc009215b": {
      "model_module": "@jupyter-widgets/base",
      "model_module_version": "1.0.0",
      "model_name": "LayoutModel",
      "state": {}
     },
     "3066604b5864479aa003c5aee22cfbc0": {
      "model_module": "@jupyter-widgets/base",
      "model_module_version": "1.0.0",
      "model_name": "LayoutModel",
      "state": {
       "height": "50px",
       "width": "99.5%"
      }
     },
     "317346f59ebb4a00af819ae19d38c39a": {
      "model_module": "@jupyter-widgets/controls",
      "model_module_version": "1.1.0",
      "model_name": "LabelModel",
      "state": {
       "layout": "IPY_MODEL_ff68a3c1aff34d0e8dd365dc0a2f57a0",
       "style": "IPY_MODEL_67fc09b6f7c2446399fbc4d59e7b50cf"
      }
     },
     "31d7411ce5e842c98aac607ca3cb5fa5": {
      "model_module": "@jupyter-widgets/controls",
      "model_module_version": "1.1.0",
      "model_name": "TextareaModel",
      "state": {
       "disabled": true,
       "layout": "IPY_MODEL_54b33c7d5aa1471e81199931d2bd0114",
       "style": "IPY_MODEL_2b25ab901c424e9fae769955ca1aa779",
       "value": "News about Arsenal Football Club, including commentary and archival articles published in The New York Times."
      }
     },
     "320e0e57d139485eadf463dac95ea8d1": {
      "model_module": "@jupyter-widgets/controls",
      "model_module_version": "1.1.0",
      "model_name": "ButtonStyleModel",
      "state": {
       "button_color": "SkyBlue",
       "font_weight": "bold"
      }
     },
     "32f08c555a204b30b4b7d5c8fd11a7c1": {
      "model_module": "@jupyter-widgets/base",
      "model_module_version": "1.0.0",
      "model_name": "LayoutModel",
      "state": {}
     },
     "3339c262054c418da9b5eae6b3f40f45": {
      "model_module": "@jupyter-widgets/controls",
      "model_module_version": "1.1.0",
      "model_name": "VBoxModel",
      "state": {
       "children": [
        "IPY_MODEL_5a5a4455589749e59010e4669245ab89",
        "IPY_MODEL_fc2e6c81aa85487bb51d380bf8b43dfd",
        "IPY_MODEL_317346f59ebb4a00af819ae19d38c39a"
       ],
       "layout": "IPY_MODEL_29131d56a2f743a7be00a96f379da498"
      }
     },
     "362b05b7242e43bcbaa851a4fc7265de": {
      "model_module": "@jupyter-widgets/controls",
      "model_module_version": "1.1.0",
      "model_name": "ButtonStyleModel",
      "state": {
       "button_color": "SkyBlue",
       "font_weight": "bold"
      }
     },
     "37091e29e2044f6fbb39bb0293795718": {
      "model_module": "@jupyter-widgets/base",
      "model_module_version": "1.0.0",
      "model_name": "LayoutModel",
      "state": {
       "height": "40px",
       "width": "80%"
      }
     },
     "388ee6d3a68b4f7a88be71a5a3c30b6b": {
      "model_module": "@jupyter-widgets/controls",
      "model_module_version": "1.1.0",
      "model_name": "DescriptionStyleModel",
      "state": {
       "description_width": ""
      }
     },
     "3982fb502cf340baad8375ac2663b8a3": {
      "model_module": "@jupyter-widgets/controls",
      "model_module_version": "1.1.0",
      "model_name": "TextareaModel",
      "state": {
       "disabled": true,
       "layout": "IPY_MODEL_4a3f45f9d7e745cb98f2271a3a12cef2",
       "style": "IPY_MODEL_d67e40396e774752bb6e61539f17b697",
       "value": "Tottenham Hotspur and Arsenal will meet for the 195th time in all competitions on Saturday. We look at some notable clashes between the sides."
      }
     },
     "3a4b418060ed470683c6c81a087d04ab": {
      "model_module": "@jupyter-widgets/controls",
      "model_module_version": "1.1.0",
      "model_name": "TextareaModel",
      "state": {
       "disabled": true,
       "layout": "IPY_MODEL_efd9fd49ed794f55bad729dc54b0b740",
       "style": "IPY_MODEL_99ca38838cfc44a2a8ac7888c1988931",
       "value": "Eight points out of a Champions League place, Arsenal ought to be in crisis. But the much-hyped signing of Pierre-Emerick Aubameyang soothed some critics, and obscured larger problems."
      }
     },
     "3a75af098249426abdf975c0d8860f72": {
      "model_module": "@jupyter-widgets/controls",
      "model_module_version": "1.1.0",
      "model_name": "HBoxModel",
      "state": {
       "children": [
        "IPY_MODEL_9d862706df8940edbd60cfa08f2b441d",
        "IPY_MODEL_cf8b2b28eee5438db73e44e1760ec747"
       ],
       "layout": "IPY_MODEL_45972ee37ac24723af5ff6b080ac500a"
      }
     },
     "3b7c56642ce141b5a5d4b4b66755f4cc": {
      "model_module": "@jupyter-widgets/controls",
      "model_module_version": "1.1.0",
      "model_name": "DescriptionStyleModel",
      "state": {
       "description_width": ""
      }
     },
     "3bfeffb9b29d48cfb83e2f2c76f6fedd": {
      "model_module": "@jupyter-widgets/controls",
      "model_module_version": "1.1.0",
      "model_name": "TextModel",
      "state": {
       "layout": "IPY_MODEL_aec28c23e4d34a96b49eed61df817e0e",
       "placeholder": "Type a query for NY Times article listing",
       "style": "IPY_MODEL_8409f51a19ac46aba2a12df73dd111c2",
       "value": "arsenal"
      }
     },
     "421aa87a684140bfa79390db15a60f4e": {
      "model_module": "@jupyter-widgets/base",
      "model_module_version": "1.0.0",
      "model_name": "LayoutModel",
      "state": {
       "height": "40px",
       "width": "80%"
      }
     },
     "4261a6fe5f87499bb66fdffc43b4720a": {
      "model_module": "@jupyter-widgets/controls",
      "model_module_version": "1.1.0",
      "model_name": "TextareaModel",
      "state": {
       "disabled": true,
       "layout": "IPY_MODEL_6a06a8e952a946128b36e6755b9e795e",
       "style": "IPY_MODEL_2874b942cdc14e25a589ada4901ed8e2",
       "value": "Facts and figures ahead of Saturday's Premier League match between Tottenham Hotspur and Arsenal at Wembley."
      }
     },
     "4397821267c5499fbcf819f4ded2aa4a": {
      "model_module": "@jupyter-widgets/controls",
      "model_module_version": "1.1.0",
      "model_name": "VBoxModel",
      "state": {
       "children": [
        "IPY_MODEL_7f133ab3f7204b27a8f17f8c808f7f9a",
        "IPY_MODEL_5022f37a764b4dc8a2c68a8e4f14c987"
       ],
       "layout": "IPY_MODEL_517d1a7273ce4667bbbd0909def7f055"
      }
     },
     "45972ee37ac24723af5ff6b080ac500a": {
      "model_module": "@jupyter-widgets/base",
      "model_module_version": "1.0.0",
      "model_name": "LayoutModel",
      "state": {}
     },
     "46d2768b4efc44f8a2e769ce54c36f3c": {
      "model_module": "@jupyter-widgets/controls",
      "model_module_version": "1.1.0",
      "model_name": "ButtonModel",
      "state": {
       "description": "Get recommendations",
       "layout": "IPY_MODEL_c7da13790cde413aa083f5ebee73cc53",
       "style": "IPY_MODEL_8edf65bd75be4582aad55d5390fab490"
      }
     },
     "4733e31d0f95441084b9ae4ecd986fc8": {
      "model_module": "@jupyter-widgets/controls",
      "model_module_version": "1.1.0",
      "model_name": "ButtonModel",
      "state": {
       "description": "Search articles",
       "layout": "IPY_MODEL_6b8b02a8653b48a995c5e9256a9c6027",
       "style": "IPY_MODEL_d8003360b55b46c391c609dc308e8094"
      }
     },
     "487ba081e1114c96966fc9a74c59ed22": {
      "model_module": "@jupyter-widgets/base",
      "model_module_version": "1.0.0",
      "model_name": "LayoutModel",
      "state": {}
     },
     "4890151849fa4539840744f6f5234db9": {
      "model_module": "@jupyter-widgets/controls",
      "model_module_version": "1.1.0",
      "model_name": "SelectionSliderModel",
      "state": {
       "_options_labels": [
        "Less",
        "Neutral",
        "More"
       ],
       "continuous_update": false,
       "description": "Rate Article 2",
       "index": 1,
       "layout": "IPY_MODEL_1806b95ce9f94cc4ac077479f9096dde",
       "style": "IPY_MODEL_a7581f90e3c8444d9aecbacc0be4192f"
      }
     },
     "4a3f45f9d7e745cb98f2271a3a12cef2": {
      "model_module": "@jupyter-widgets/base",
      "model_module_version": "1.0.0",
      "model_name": "LayoutModel",
      "state": {
       "height": "50px",
       "width": "99.5%"
      }
     },
     "4dd67686995443fdaac3298f6a54b456": {
      "model_module": "@jupyter-widgets/controls",
      "model_module_version": "1.1.0",
      "model_name": "VBoxModel",
      "state": {
       "children": [
        "IPY_MODEL_b1ef6bb779ca45048e976ffff84c9b6a",
        "IPY_MODEL_4261a6fe5f87499bb66fdffc43b4720a"
       ],
       "layout": "IPY_MODEL_113bdaa0404649bfba1198a2d7060221"
      }
     },
     "4e494dd8130947e4a42253ce09c80208": {
      "model_module": "@jupyter-widgets/base",
      "model_module_version": "1.0.0",
      "model_name": "LayoutModel",
      "state": {}
     },
     "501589ddfd044581a612c1ef63f828b2": {
      "model_module": "@jupyter-widgets/base",
      "model_module_version": "1.0.0",
      "model_name": "LayoutModel",
      "state": {
       "height": "40px",
       "width": "80%"
      }
     },
     "5022f37a764b4dc8a2c68a8e4f14c987": {
      "model_module": "@jupyter-widgets/controls",
      "model_module_version": "1.1.0",
      "model_name": "TextareaModel",
      "state": {
       "disabled": true,
       "layout": "IPY_MODEL_54f64f9b62b54eea9653a960b3b5a33f",
       "style": "IPY_MODEL_212e92c477da4a1ea68908f3fb94d3cf",
       "value": "News about Arsenal Football Club, including commentary and archival articles published in The New York Times."
      }
     },
     "514ea6d7b6ff4fccba0eb81e55eb2662": {
      "model_module": "@jupyter-widgets/controls",
      "model_module_version": "1.1.0",
      "model_name": "LabelModel",
      "state": {
       "layout": "IPY_MODEL_56dbf023f665482791aa0a20b59245f9",
       "style": "IPY_MODEL_3b7c56642ce141b5a5d4b4b66755f4cc"
      }
     },
     "517d1a7273ce4667bbbd0909def7f055": {
      "model_module": "@jupyter-widgets/base",
      "model_module_version": "1.0.0",
      "model_name": "LayoutModel",
      "state": {}
     },
     "54b33c7d5aa1471e81199931d2bd0114": {
      "model_module": "@jupyter-widgets/base",
      "model_module_version": "1.0.0",
      "model_name": "LayoutModel",
      "state": {
       "height": "50px",
       "width": "99.5%"
      }
     },
     "54f64f9b62b54eea9653a960b3b5a33f": {
      "model_module": "@jupyter-widgets/base",
      "model_module_version": "1.0.0",
      "model_name": "LayoutModel",
      "state": {
       "height": "50px",
       "width": "99.5%"
      }
     },
     "56dbf023f665482791aa0a20b59245f9": {
      "model_module": "@jupyter-widgets/base",
      "model_module_version": "1.0.0",
      "model_name": "LayoutModel",
      "state": {}
     },
     "58169b4f9dd048d0bbd19d912a6d353f": {
      "model_module": "@jupyter-widgets/controls",
      "model_module_version": "1.1.0",
      "model_name": "DescriptionStyleModel",
      "state": {
       "description_width": ""
      }
     },
     "58cde7fa83684cd3a2aa3cafe0ca6881": {
      "model_module": "@jupyter-widgets/controls",
      "model_module_version": "1.1.0",
      "model_name": "HBoxModel",
      "state": {
       "children": [
        "IPY_MODEL_0640c90eb4ed46e3892c408ee39eba75",
        "IPY_MODEL_72c6f0e0d115472290c8f36b370d4e12"
       ],
       "layout": "IPY_MODEL_302305cc436b49548104b75bc009215b"
      }
     },
     "591bc1800e924e1587aee762dce12d50": {
      "model_module": "@jupyter-widgets/controls",
      "model_module_version": "1.1.0",
      "model_name": "VBoxModel",
      "state": {
       "children": [
        "IPY_MODEL_62f4d5c07838479d89fab78dd854d513",
        "IPY_MODEL_4397821267c5499fbcf819f4ded2aa4a",
        "IPY_MODEL_621b1221cc294d34aeeb21c31c235f65",
        "IPY_MODEL_4dd67686995443fdaac3298f6a54b456",
        "IPY_MODEL_672936fb14f4448ab233a89252126963",
        "IPY_MODEL_1a46490460474521a7f26a401b2e48cc",
        "IPY_MODEL_bda7679ddafc4996a09eb2d55eb68455",
        "IPY_MODEL_141d3336137c47cb9d979d94d59a6787",
        "IPY_MODEL_859a4843e243444e8cadf4fb9937e226",
        "IPY_MODEL_dc9025af5ee145f2a1962559a3560c4d"
       ],
       "layout": "IPY_MODEL_cc2d5737915f4b05b94f043a9b388623"
      }
     },
     "5962ef79339e43ec9bd4efa4187ab459": {
      "model_module": "@jupyter-widgets/base",
      "model_module_version": "1.0.0",
      "model_name": "LayoutModel",
      "state": {}
     },
     "5a5a4455589749e59010e4669245ab89": {
      "model_module": "@jupyter-widgets/controls",
      "model_module_version": "1.1.0",
      "model_name": "LabelModel",
      "state": {
       "layout": "IPY_MODEL_f4e4800c920b432ca610c322dc4afc1b",
       "style": "IPY_MODEL_f1bcf7cf56714369a7fb28ee999f53be"
      }
     },
     "5a9c884563384108b93e661f021940a4": {
      "model_module": "@jupyter-widgets/base",
      "model_module_version": "1.0.0",
      "model_name": "LayoutModel",
      "state": {
       "height": "50px",
       "width": "99.5%"
      }
     },
     "5c04a715d7254f7cb3aa9695633d3298": {
      "model_module": "@jupyter-widgets/base",
      "model_module_version": "1.0.0",
      "model_name": "LayoutModel",
      "state": {}
     },
     "5db6fcd219194bb2aa2b9053a67ad351": {
      "model_module": "@jupyter-widgets/controls",
      "model_module_version": "1.1.0",
      "model_name": "DescriptionStyleModel",
      "state": {
       "description_width": ""
      }
     },
     "621b1221cc294d34aeeb21c31c235f65": {
      "model_module": "@jupyter-widgets/controls",
      "model_module_version": "1.1.0",
      "model_name": "VBoxModel",
      "state": {
       "children": [
        "IPY_MODEL_c312f1c55dd84288bf5899b1e49f6c57",
        "IPY_MODEL_31d7411ce5e842c98aac607ca3cb5fa5"
       ],
       "layout": "IPY_MODEL_1c33b04bd2fa4bcabbf4933e748f4621"
      }
     },
     "62f4d5c07838479d89fab78dd854d513": {
      "model_module": "@jupyter-widgets/controls",
      "model_module_version": "1.1.0",
      "model_name": "VBoxModel",
      "state": {
       "children": [
        "IPY_MODEL_9ba2b438bd7248199b50816abd123ba4",
        "IPY_MODEL_3a4b418060ed470683c6c81a087d04ab"
       ],
       "layout": "IPY_MODEL_11dfda28769d44708f2b7b5c8c76cd6d"
      }
     },
     "672936fb14f4448ab233a89252126963": {
      "model_module": "@jupyter-widgets/controls",
      "model_module_version": "1.1.0",
      "model_name": "VBoxModel",
      "state": {
       "children": [
        "IPY_MODEL_838487cfce63485eb9570b0c19f12ffd",
        "IPY_MODEL_0ab5f60ae6e0447d8a50c3c450bc8344"
       ],
       "layout": "IPY_MODEL_1a5811168ed54199b6723520e7227d8d"
      }
     },
     "67fc09b6f7c2446399fbc4d59e7b50cf": {
      "model_module": "@jupyter-widgets/controls",
      "model_module_version": "1.1.0",
      "model_name": "DescriptionStyleModel",
      "state": {
       "description_width": ""
      }
     },
     "6a06a8e952a946128b36e6755b9e795e": {
      "model_module": "@jupyter-widgets/base",
      "model_module_version": "1.0.0",
      "model_name": "LayoutModel",
      "state": {
       "height": "50px",
       "width": "99.5%"
      }
     },
     "6a98813256f44a8aaede73e2af5189a3": {
      "model_module": "@jupyter-widgets/base",
      "model_module_version": "1.0.0",
      "model_name": "LayoutModel",
      "state": {}
     },
     "6b8b02a8653b48a995c5e9256a9c6027": {
      "model_module": "@jupyter-widgets/base",
      "model_module_version": "1.0.0",
      "model_name": "LayoutModel",
      "state": {}
     },
     "6bfc60625e3b4794a02e192802657588": {
      "model_module": "@jupyter-widgets/controls",
      "model_module_version": "1.1.0",
      "model_name": "DescriptionStyleModel",
      "state": {
       "description_width": ""
      }
     },
     "6d0ac60d5d5d458e88f2fa152a992990": {
      "model_module": "@jupyter-widgets/controls",
      "model_module_version": "1.1.0",
      "model_name": "DescriptionStyleModel",
      "state": {
       "description_width": ""
      }
     },
     "70846d5171d84bc484d6a1979f9efb7c": {
      "model_module": "@jupyter-widgets/base",
      "model_module_version": "1.0.0",
      "model_name": "LayoutModel",
      "state": {}
     },
     "71698cbefab74b228123fbcd51390225": {
      "model_module": "@jupyter-widgets/base",
      "model_module_version": "1.0.0",
      "model_name": "LayoutModel",
      "state": {}
     },
     "717dac607e4e403c851b8c0e4ac65414": {
      "model_module": "@jupyter-widgets/base",
      "model_module_version": "1.0.0",
      "model_name": "LayoutModel",
      "state": {}
     },
     "71f6f5dc1e28443e9f59a5ee40a8d086": {
      "model_module": "@jupyter-widgets/controls",
      "model_module_version": "1.1.0",
      "model_name": "TextModel",
      "state": {
       "layout": "IPY_MODEL_5962ef79339e43ec9bd4efa4187ab459",
       "placeholder": "Enter your name",
       "style": "IPY_MODEL_6bfc60625e3b4794a02e192802657588",
       "value": "saket"
      }
     },
     "7284bf6863314315901193a0ec6d6e72": {
      "model_module": "@jupyter-widgets/base",
      "model_module_version": "1.0.0",
      "model_name": "LayoutModel",
      "state": {}
     },
     "72c6f0e0d115472290c8f36b370d4e12": {
      "model_module": "@jupyter-widgets/controls",
      "model_module_version": "1.1.0",
      "model_name": "SelectionSliderModel",
      "state": {
       "_options_labels": [
        "Less",
        "Neutral",
        "More"
       ],
       "continuous_update": false,
       "description": "Rate Article 7",
       "index": 1,
       "layout": "IPY_MODEL_487ba081e1114c96966fc9a74c59ed22",
       "style": "IPY_MODEL_18edf19800eb41da8d3a6150549dd4d1"
      }
     },
     "79a80ab1af974deb838b5543609a2e0d": {
      "model_module": "@jupyter-widgets/controls",
      "model_module_version": "1.1.0",
      "model_name": "TextareaModel",
      "state": {
       "disabled": true,
       "layout": "IPY_MODEL_e1c56d295b8440ce9c931f338cc80f07",
       "style": "IPY_MODEL_f138c963049c42cfa7a18fe2777148cc",
       "value": "Aaron Ramsey scored a hat-trick on Saturday as Arsenal thrashed Everton 5-1 in the Premier League at the Emirates with a display of free-flowing football that the Gunners have sorely lacked away from home this season."
      }
     },
     "79e1ae102fd94dcbb2a61fd5285bde75": {
      "model_module": "@jupyter-widgets/base",
      "model_module_version": "1.0.0",
      "model_name": "LayoutModel",
      "state": {}
     },
     "7a918da5ea584e7e985aaa0589604f31": {
      "model_module": "@jupyter-widgets/controls",
      "model_module_version": "1.1.0",
      "model_name": "SelectionSliderModel",
      "state": {
       "_options_labels": [
        "Less",
        "Neutral",
        "More"
       ],
       "continuous_update": false,
       "description": "Rate Article 3",
       "index": 1,
       "layout": "IPY_MODEL_ce38e8a6700345be85f150cecb3342ce",
       "style": "IPY_MODEL_f0c8bf10a7fb427ea4112cb991e76f92"
      }
     },
     "7d571f1b96a448fa8b561c5eac759226": {
      "model_module": "@jupyter-widgets/controls",
      "model_module_version": "1.1.0",
      "model_name": "SelectionSliderModel",
      "state": {
       "_options_labels": [
        "Less",
        "Neutral",
        "More"
       ],
       "continuous_update": false,
       "description": "Rate Article 6",
       "index": 1,
       "layout": "IPY_MODEL_e394526313924c9d9c7060acb2ae047a",
       "style": "IPY_MODEL_95f57cb6110440d595d2bea4c4edb72c"
      }
     },
     "7f133ab3f7204b27a8f17f8c808f7f9a": {
      "model_module": "@jupyter-widgets/controls",
      "model_module_version": "1.1.0",
      "model_name": "HBoxModel",
      "state": {
       "children": [
        "IPY_MODEL_c6fb469ed62c47d89bea6b967309ab35",
        "IPY_MODEL_4890151849fa4539840744f6f5234db9"
       ],
       "layout": "IPY_MODEL_cb67d971a3a84215873a1ada88b53757"
      }
     },
     "81515883e6514a038b983f81f45b5152": {
      "model_module": "@jupyter-widgets/base",
      "model_module_version": "1.0.0",
      "model_name": "LayoutModel",
      "state": {}
     },
     "81f4d4ec7246435392e0ef5cdde9e69b": {
      "model_module": "@jupyter-widgets/controls",
      "model_module_version": "1.1.0",
      "model_name": "ButtonModel",
      "state": {
       "description": "Arsenal Sign Aubameyang in Club-Record Transfer",
       "layout": "IPY_MODEL_1ca44567d2bd44b480271a7acb38a234",
       "style": "IPY_MODEL_ca50608368d64924a1b5b7766dd1e896"
      }
     },
     "838487cfce63485eb9570b0c19f12ffd": {
      "model_module": "@jupyter-widgets/controls",
      "model_module_version": "1.1.0",
      "model_name": "HBoxModel",
      "state": {
       "children": [
        "IPY_MODEL_81f4d4ec7246435392e0ef5cdde9e69b",
        "IPY_MODEL_86490f54531c4a2d94424aa21c5a8853"
       ],
       "layout": "IPY_MODEL_97a58a390828487b81aa0c0c2fdedc89"
      }
     },
     "8409f51a19ac46aba2a12df73dd111c2": {
      "model_module": "@jupyter-widgets/controls",
      "model_module_version": "1.1.0",
      "model_name": "DescriptionStyleModel",
      "state": {
       "description_width": ""
      }
     },
     "859a4843e243444e8cadf4fb9937e226": {
      "model_module": "@jupyter-widgets/controls",
      "model_module_version": "1.1.0",
      "model_name": "VBoxModel",
      "state": {
       "children": [
        "IPY_MODEL_c9c7471cf52e4f8b9e64f1b07d9c2a58",
        "IPY_MODEL_09d238f2040b40dd9fe8849ca979fc3a"
       ],
       "layout": "IPY_MODEL_bb97244de3f34e138eb880a1214a7dbe"
      }
     },
     "86490f54531c4a2d94424aa21c5a8853": {
      "model_module": "@jupyter-widgets/controls",
      "model_module_version": "1.1.0",
      "model_name": "SelectionSliderModel",
      "state": {
       "_options_labels": [
        "Less",
        "Neutral",
        "More"
       ],
       "continuous_update": false,
       "description": "Rate Article 5",
       "index": 1,
       "layout": "IPY_MODEL_eb130a1d9b1243d58ee7e34e194330f3",
       "style": "IPY_MODEL_d88f6a4178c3423eba8d6faa0198b3c9"
      }
     },
     "87de651633894cecae53340c6371e8f5": {
      "model_module": "@jupyter-widgets/controls",
      "model_module_version": "1.1.0",
      "model_name": "HBoxModel",
      "state": {
       "children": [
        "IPY_MODEL_3339c262054c418da9b5eae6b3f40f45",
        "IPY_MODEL_b2a0bdbd059c439d9cdc8563260aa59d",
        "IPY_MODEL_514ea6d7b6ff4fccba0eb81e55eb2662",
        "IPY_MODEL_c2d9b22cd1ce4f819ebc619aeb1a62c3"
       ],
       "layout": "IPY_MODEL_25c2c8da510a4c44aa681d1fa034b981"
      }
     },
     "88b4294e16674fea8c4132e59ed5aa0d": {
      "model_module": "@jupyter-widgets/controls",
      "model_module_version": "1.1.0",
      "model_name": "TextareaModel",
      "state": {
       "disabled": true,
       "layout": "IPY_MODEL_3066604b5864479aa003c5aee22cfbc0",
       "style": "IPY_MODEL_388ee6d3a68b4f7a88be71a5a3c30b6b",
       "value": "Arsenal midfielder Mesut Ozil has signed a new contract to extend his stay in north London, the Premier League club said on Thursday."
      }
     },
     "8a5247a8d8554ae590efef9c4a368ce5": {
      "model_module": "@jupyter-widgets/controls",
      "model_module_version": "1.1.0",
      "model_name": "HBoxModel",
      "state": {
       "children": [
        "IPY_MODEL_0607b68614384343acc5f455a6b26e9c",
        "IPY_MODEL_c2d92adf968b450585ca864be2f3ce07"
       ],
       "layout": "IPY_MODEL_71698cbefab74b228123fbcd51390225"
      }
     },
     "8ae8fc5be85b421eb7182e3e3807d628": {
      "model_module": "@jupyter-widgets/base",
      "model_module_version": "1.0.0",
      "model_name": "LayoutModel",
      "state": {}
     },
     "8edf65bd75be4582aad55d5390fab490": {
      "model_module": "@jupyter-widgets/controls",
      "model_module_version": "1.1.0",
      "model_name": "ButtonStyleModel",
      "state": {}
     },
     "91da4509b6fb48c78805be55cd566af6": {
      "model_module": "@jupyter-widgets/controls",
      "model_module_version": "1.1.0",
      "model_name": "DescriptionStyleModel",
      "state": {
       "description_width": ""
      }
     },
     "95f57cb6110440d595d2bea4c4edb72c": {
      "model_module": "@jupyter-widgets/controls",
      "model_module_version": "1.1.0",
      "model_name": "DescriptionStyleModel",
      "state": {
       "description_width": ""
      }
     },
     "97210ec589b6415685f9569751dd72da": {
      "model_module": "@jupyter-widgets/controls",
      "model_module_version": "1.1.0",
      "model_name": "ButtonModel",
      "state": {
       "description": "Arsenal Is in Crisis, but a Signing Changes the Mood",
       "layout": "IPY_MODEL_37091e29e2044f6fbb39bb0293795718",
       "style": "IPY_MODEL_b2c3b0b1679245a8bacbdc81f704f86d"
      }
     },
     "97a58a390828487b81aa0c0c2fdedc89": {
      "model_module": "@jupyter-widgets/base",
      "model_module_version": "1.0.0",
      "model_name": "LayoutModel",
      "state": {}
     },
     "98621e7af85749299fc52af4b205e808": {
      "model_module": "@jupyter-widgets/controls",
      "model_module_version": "1.1.0",
      "model_name": "LabelModel",
      "state": {
       "layout": "IPY_MODEL_717dac607e4e403c851b8c0e4ac65414",
       "style": "IPY_MODEL_e67fc41ff64340ae9fbff7292d66c106",
       "value": "->->->->->"
      }
     },
     "9954c574e737460d997833eb0930f80d": {
      "model_module": "@jupyter-widgets/controls",
      "model_module_version": "1.1.0",
      "model_name": "ButtonStyleModel",
      "state": {
       "button_color": "SkyBlue",
       "font_weight": "bold"
      }
     },
     "99a083ae15fa4ba4bd48e71b32fd9906": {
      "model_module": "@jupyter-widgets/base",
      "model_module_version": "1.0.0",
      "model_name": "LayoutModel",
      "state": {}
     },
     "99ca38838cfc44a2a8ac7888c1988931": {
      "model_module": "@jupyter-widgets/controls",
      "model_module_version": "1.1.0",
      "model_name": "DescriptionStyleModel",
      "state": {
       "description_width": ""
      }
     },
     "9ba2b438bd7248199b50816abd123ba4": {
      "model_module": "@jupyter-widgets/controls",
      "model_module_version": "1.1.0",
      "model_name": "HBoxModel",
      "state": {
       "children": [
        "IPY_MODEL_97210ec589b6415685f9569751dd72da",
        "IPY_MODEL_f12dd77679d845d79d7c829993a05593"
       ],
       "layout": "IPY_MODEL_99a083ae15fa4ba4bd48e71b32fd9906"
      }
     },
     "9d6c4debc10145849a396ad26a502a65": {
      "model_module": "@jupyter-widgets/base",
      "model_module_version": "1.0.0",
      "model_name": "LayoutModel",
      "state": {
       "height": "40px",
       "width": "80%"
      }
     },
     "9d862706df8940edbd60cfa08f2b441d": {
      "model_module": "@jupyter-widgets/controls",
      "model_module_version": "1.1.0",
      "model_name": "ButtonModel",
      "state": {
       "description": "Ramsey Hat-Trick Helps Arsenal to Thrash Everton 5-1",
       "layout": "IPY_MODEL_d8aa4c5e5b854c789ca241627b3380ec",
       "style": "IPY_MODEL_362b05b7242e43bcbaa851a4fc7265de"
      }
     },
     "9dca0d9d41dd47f1913404d4d8233a59": {
      "model_module": "@jupyter-widgets/controls",
      "model_module_version": "1.1.0",
      "model_name": "ButtonModel",
      "state": {
       "description": "Ozil Commits Long-Term Future to Arsenal",
       "layout": "IPY_MODEL_291220dfa2154e699377a912aa5fab1e",
       "style": "IPY_MODEL_9954c574e737460d997833eb0930f80d"
      }
     },
     "9e575bfb15804dcb8ba328e6260fd6f5": {
      "model_module": "@jupyter-widgets/controls",
      "model_module_version": "1.1.0",
      "model_name": "HBoxModel",
      "state": {
       "children": [
        "IPY_MODEL_9dca0d9d41dd47f1913404d4d8233a59",
        "IPY_MODEL_7d571f1b96a448fa8b561c5eac759226"
       ],
       "layout": "IPY_MODEL_cb1022644b744565901e0db6ffdc3ea5"
      }
     },
     "a3bca117f35b4e38abdf20311bd93609": {
      "model_module": "@jupyter-widgets/base",
      "model_module_version": "1.0.0",
      "model_name": "LayoutModel",
      "state": {}
     },
     "a51fbaa1875742cd99e449a1b1ecf6c8": {
      "model_module": "@jupyter-widgets/base",
      "model_module_version": "1.0.0",
      "model_name": "LayoutModel",
      "state": {}
     },
     "a7581f90e3c8444d9aecbacc0be4192f": {
      "model_module": "@jupyter-widgets/controls",
      "model_module_version": "1.1.0",
      "model_name": "DescriptionStyleModel",
      "state": {
       "description_width": ""
      }
     },
     "a84fba61beab426287b843d996869b18": {
      "model_module": "@jupyter-widgets/base",
      "model_module_version": "1.0.0",
      "model_name": "LayoutModel",
      "state": {
       "height": "40px",
       "width": "80%"
      }
     },
     "acb920cebde74aaf881d297b2ae963d0": {
      "model_module": "@jupyter-widgets/controls",
      "model_module_version": "1.1.0",
      "model_name": "DescriptionStyleModel",
      "state": {
       "description_width": ""
      }
     },
     "ae5a2c0f09934ccaa17aa950679b4626": {
      "model_module": "@jupyter-widgets/controls",
      "model_module_version": "1.1.0",
      "model_name": "LabelModel",
      "state": {
       "layout": "IPY_MODEL_d2dd19d17043410ab0c18ef4fe4f28bd",
       "style": "IPY_MODEL_6d0ac60d5d5d458e88f2fa152a992990",
       "value": "Username:"
      }
     },
     "aec28c23e4d34a96b49eed61df817e0e": {
      "model_module": "@jupyter-widgets/base",
      "model_module_version": "1.0.0",
      "model_name": "LayoutModel",
      "state": {}
     },
     "b1ef6bb779ca45048e976ffff84c9b6a": {
      "model_module": "@jupyter-widgets/controls",
      "model_module_version": "1.1.0",
      "model_name": "HBoxModel",
      "state": {
       "children": [
        "IPY_MODEL_24ac415578494ea99af86279235a4c9d",
        "IPY_MODEL_f79b744e6cf140a6a31abb2e42b0e584"
       ],
       "layout": "IPY_MODEL_08a87bc3ab064c7f9597be033fc69eae"
      }
     },
     "b2629113a4b74816931e0b4a2d771bb2": {
      "model_module": "@jupyter-widgets/base",
      "model_module_version": "1.0.0",
      "model_name": "LayoutModel",
      "state": {}
     },
     "b2a0bdbd059c439d9cdc8563260aa59d": {
      "model_module": "@jupyter-widgets/controls",
      "model_module_version": "1.1.0",
      "model_name": "LabelModel",
      "state": {
       "layout": "IPY_MODEL_5c04a715d7254f7cb3aa9695633d3298",
       "style": "IPY_MODEL_ecac2debbf584251bb18574ee295e293"
      }
     },
     "b2c0ed71d20d4453b7fe31c17b5caac2": {
      "model_module": "@jupyter-widgets/base",
      "model_module_version": "1.0.0",
      "model_name": "LayoutModel",
      "state": {}
     },
     "b2c3b0b1679245a8bacbdc81f704f86d": {
      "model_module": "@jupyter-widgets/controls",
      "model_module_version": "1.1.0",
      "model_name": "ButtonStyleModel",
      "state": {
       "button_color": "SkyBlue",
       "font_weight": "bold"
      }
     },
     "b73119d152ec4faea36cbbdbd5e038ac": {
      "model_module": "@jupyter-widgets/controls",
      "model_module_version": "1.1.0",
      "model_name": "ButtonStyleModel",
      "state": {
       "button_color": "SkyBlue",
       "font_weight": "bold"
      }
     },
     "bb97244de3f34e138eb880a1214a7dbe": {
      "model_module": "@jupyter-widgets/base",
      "model_module_version": "1.0.0",
      "model_name": "LayoutModel",
      "state": {}
     },
     "bc5bbf269434400e8cb6218e0437599e": {
      "model_module": "@jupyter-widgets/base",
      "model_module_version": "1.0.0",
      "model_name": "LayoutModel",
      "state": {
       "height": "50px",
       "width": "99.5%"
      }
     },
     "bda7679ddafc4996a09eb2d55eb68455": {
      "model_module": "@jupyter-widgets/controls",
      "model_module_version": "1.1.0",
      "model_name": "VBoxModel",
      "state": {
       "children": [
        "IPY_MODEL_58cde7fa83684cd3a2aa3cafe0ca6881",
        "IPY_MODEL_3982fb502cf340baad8375ac2663b8a3"
       ],
       "layout": "IPY_MODEL_a3bca117f35b4e38abdf20311bd93609"
      }
     },
     "be816ba630d3443492b667728f0597cd": {
      "model_module": "@jupyter-widgets/controls",
      "model_module_version": "1.1.0",
      "model_name": "ButtonStyleModel",
      "state": {
       "button_color": "SkyBlue",
       "font_weight": "bold"
      }
     },
     "c2d92adf968b450585ca864be2f3ce07": {
      "model_module": "@jupyter-widgets/controls",
      "model_module_version": "1.1.0",
      "model_name": "SelectionSliderModel",
      "state": {
       "_options_labels": [
        "Less",
        "Neutral",
        "More"
       ],
       "continuous_update": false,
       "description": "Rate Article 8",
       "index": 1,
       "layout": "IPY_MODEL_7284bf6863314315901193a0ec6d6e72",
       "style": "IPY_MODEL_f0d14bb309754883a0c79faceb79cd48"
      }
     },
     "c2d9b22cd1ce4f819ebc619aeb1a62c3": {
      "model_module": "@jupyter-widgets/controls",
      "model_module_version": "1.1.0",
      "model_name": "VBoxModel",
      "state": {
       "children": [
        "IPY_MODEL_2b05191957ae42ba8a0489ba9fb7b226",
        "IPY_MODEL_1fd714f2a9ea4a938d0d823263742391"
       ],
       "layout": "IPY_MODEL_6a98813256f44a8aaede73e2af5189a3"
      }
     },
     "c312f1c55dd84288bf5899b1e49f6c57": {
      "model_module": "@jupyter-widgets/controls",
      "model_module_version": "1.1.0",
      "model_name": "HBoxModel",
      "state": {
       "children": [
        "IPY_MODEL_2d5c96f0f845409d883afe625107ee74",
        "IPY_MODEL_7a918da5ea584e7e985aaa0589604f31"
       ],
       "layout": "IPY_MODEL_32f08c555a204b30b4b7d5c8fd11a7c1"
      }
     },
     "c3643e881c284b5ebd8e3644088306e0": {
      "model_module": "@jupyter-widgets/base",
      "model_module_version": "1.0.0",
      "model_name": "LayoutModel",
      "state": {}
     },
     "c6fb469ed62c47d89bea6b967309ab35": {
      "model_module": "@jupyter-widgets/controls",
      "model_module_version": "1.1.0",
      "model_name": "ButtonModel",
      "state": {
       "description": "Arsenal Football Club",
       "layout": "IPY_MODEL_421aa87a684140bfa79390db15a60f4e",
       "style": "IPY_MODEL_2174515f304949e28eefedf9badb545a"
      }
     },
     "c7da13790cde413aa083f5ebee73cc53": {
      "model_module": "@jupyter-widgets/base",
      "model_module_version": "1.0.0",
      "model_name": "LayoutModel",
      "state": {
       "width": "150px"
      }
     },
     "c9c7471cf52e4f8b9e64f1b07d9c2a58": {
      "model_module": "@jupyter-widgets/controls",
      "model_module_version": "1.1.0",
      "model_name": "HBoxModel",
      "state": {
       "children": [
        "IPY_MODEL_d64c9fb96ce3469e9dbc36e94c65addb",
        "IPY_MODEL_e9b3a3ad140b4309a6ee0358c2a5072c"
       ],
       "layout": "IPY_MODEL_b2629113a4b74816931e0b4a2d771bb2"
      }
     },
     "ca50608368d64924a1b5b7766dd1e896": {
      "model_module": "@jupyter-widgets/controls",
      "model_module_version": "1.1.0",
      "model_name": "ButtonStyleModel",
      "state": {
       "button_color": "SkyBlue",
       "font_weight": "bold"
      }
     },
     "cb1022644b744565901e0db6ffdc3ea5": {
      "model_module": "@jupyter-widgets/base",
      "model_module_version": "1.0.0",
      "model_name": "LayoutModel",
      "state": {}
     },
     "cb67d971a3a84215873a1ada88b53757": {
      "model_module": "@jupyter-widgets/base",
      "model_module_version": "1.0.0",
      "model_name": "LayoutModel",
      "state": {}
     },
     "cc2d5737915f4b05b94f043a9b388623": {
      "model_module": "@jupyter-widgets/base",
      "model_module_version": "1.0.0",
      "model_name": "LayoutModel",
      "state": {
       "border": "solid"
      }
     },
     "ce38e8a6700345be85f150cecb3342ce": {
      "model_module": "@jupyter-widgets/base",
      "model_module_version": "1.0.0",
      "model_name": "LayoutModel",
      "state": {}
     },
     "cf8b2b28eee5438db73e44e1760ec747": {
      "model_module": "@jupyter-widgets/controls",
      "model_module_version": "1.1.0",
      "model_name": "SelectionSliderModel",
      "state": {
       "_options_labels": [
        "Less",
        "Neutral",
        "More"
       ],
       "continuous_update": false,
       "description": "Rate Article 10",
       "index": 1,
       "layout": "IPY_MODEL_ee075eef81e94834bb985da532bbfc6a",
       "style": "IPY_MODEL_91da4509b6fb48c78805be55cd566af6"
      }
     },
     "d2dd19d17043410ab0c18ef4fe4f28bd": {
      "model_module": "@jupyter-widgets/base",
      "model_module_version": "1.0.0",
      "model_name": "LayoutModel",
      "state": {}
     },
     "d64c9fb96ce3469e9dbc36e94c65addb": {
      "model_module": "@jupyter-widgets/controls",
      "model_module_version": "1.1.0",
      "model_name": "ButtonModel",
      "state": {
       "description": "On Sánchez, City Passes and United Strikes",
       "layout": "IPY_MODEL_501589ddfd044581a612c1ef63f828b2",
       "style": "IPY_MODEL_320e0e57d139485eadf463dac95ea8d1"
      }
     },
     "d67e40396e774752bb6e61539f17b697": {
      "model_module": "@jupyter-widgets/controls",
      "model_module_version": "1.1.0",
      "model_name": "DescriptionStyleModel",
      "state": {
       "description_width": ""
      }
     },
     "d8003360b55b46c391c609dc308e8094": {
      "model_module": "@jupyter-widgets/controls",
      "model_module_version": "1.1.0",
      "model_name": "ButtonStyleModel",
      "state": {}
     },
     "d88f6a4178c3423eba8d6faa0198b3c9": {
      "model_module": "@jupyter-widgets/controls",
      "model_module_version": "1.1.0",
      "model_name": "DescriptionStyleModel",
      "state": {
       "description_width": ""
      }
     },
     "d8aa4c5e5b854c789ca241627b3380ec": {
      "model_module": "@jupyter-widgets/base",
      "model_module_version": "1.0.0",
      "model_name": "LayoutModel",
      "state": {
       "height": "40px",
       "width": "80%"
      }
     },
     "dc9025af5ee145f2a1962559a3560c4d": {
      "model_module": "@jupyter-widgets/controls",
      "model_module_version": "1.1.0",
      "model_name": "VBoxModel",
      "state": {
       "children": [
        "IPY_MODEL_3a75af098249426abdf975c0d8860f72",
        "IPY_MODEL_79a80ab1af974deb838b5543609a2e0d"
       ],
       "layout": "IPY_MODEL_b2c0ed71d20d4453b7fe31c17b5caac2"
      }
     },
     "e1c56d295b8440ce9c931f338cc80f07": {
      "model_module": "@jupyter-widgets/base",
      "model_module_version": "1.0.0",
      "model_name": "LayoutModel",
      "state": {
       "height": "50px",
       "width": "99.5%"
      }
     },
     "e394526313924c9d9c7060acb2ae047a": {
      "model_module": "@jupyter-widgets/base",
      "model_module_version": "1.0.0",
      "model_name": "LayoutModel",
      "state": {}
     },
     "e47f03fa898b41aea03d60501ebd0e4f": {
      "model_module": "@jupyter-widgets/base",
      "model_module_version": "1.0.0",
      "model_name": "LayoutModel",
      "state": {
       "height": "40px",
       "width": "80%"
      }
     },
     "e67fc41ff64340ae9fbff7292d66c106": {
      "model_module": "@jupyter-widgets/controls",
      "model_module_version": "1.1.0",
      "model_name": "DescriptionStyleModel",
      "state": {
       "description_width": ""
      }
     },
     "e9b3a3ad140b4309a6ee0358c2a5072c": {
      "model_module": "@jupyter-widgets/controls",
      "model_module_version": "1.1.0",
      "model_name": "SelectionSliderModel",
      "state": {
       "_options_labels": [
        "Less",
        "Neutral",
        "More"
       ],
       "continuous_update": false,
       "description": "Rate Article 9",
       "index": 1,
       "layout": "IPY_MODEL_70846d5171d84bc484d6a1979f9efb7c",
       "style": "IPY_MODEL_acb920cebde74aaf881d297b2ae963d0"
      }
     },
     "ea03e360da6746f48662a6d58acc6546": {
      "model_module": "@jupyter-widgets/controls",
      "model_module_version": "1.1.0",
      "model_name": "ButtonStyleModel",
      "state": {
       "button_color": "SkyBlue",
       "font_weight": "bold"
      }
     },
     "ea2be55cc31d427fb61bd8da6ab416df": {
      "model_module": "@jupyter-widgets/base",
      "model_module_version": "1.0.0",
      "model_name": "LayoutModel",
      "state": {
       "height": "40px",
       "width": "80%"
      }
     },
     "eb130a1d9b1243d58ee7e34e194330f3": {
      "model_module": "@jupyter-widgets/base",
      "model_module_version": "1.0.0",
      "model_name": "LayoutModel",
      "state": {}
     },
     "ecac2debbf584251bb18574ee295e293": {
      "model_module": "@jupyter-widgets/controls",
      "model_module_version": "1.1.0",
      "model_name": "DescriptionStyleModel",
      "state": {
       "description_width": ""
      }
     },
     "ee075eef81e94834bb985da532bbfc6a": {
      "model_module": "@jupyter-widgets/base",
      "model_module_version": "1.0.0",
      "model_name": "LayoutModel",
      "state": {}
     },
     "efd9fd49ed794f55bad729dc54b0b740": {
      "model_module": "@jupyter-widgets/base",
      "model_module_version": "1.0.0",
      "model_name": "LayoutModel",
      "state": {
       "height": "50px",
       "width": "99.5%"
      }
     },
     "f0c8bf10a7fb427ea4112cb991e76f92": {
      "model_module": "@jupyter-widgets/controls",
      "model_module_version": "1.1.0",
      "model_name": "DescriptionStyleModel",
      "state": {
       "description_width": ""
      }
     },
     "f0d14bb309754883a0c79faceb79cd48": {
      "model_module": "@jupyter-widgets/controls",
      "model_module_version": "1.1.0",
      "model_name": "DescriptionStyleModel",
      "state": {
       "description_width": ""
      }
     },
     "f12dd77679d845d79d7c829993a05593": {
      "model_module": "@jupyter-widgets/controls",
      "model_module_version": "1.1.0",
      "model_name": "SelectionSliderModel",
      "state": {
       "_options_labels": [
        "Less",
        "Neutral",
        "More"
       ],
       "continuous_update": false,
       "description": "Rate Article 1",
       "index": 1,
       "layout": "IPY_MODEL_f77b071fc4f547669b76eab3d04c6ba3",
       "style": "IPY_MODEL_58169b4f9dd048d0bbd19d912a6d353f"
      }
     },
     "f138c963049c42cfa7a18fe2777148cc": {
      "model_module": "@jupyter-widgets/controls",
      "model_module_version": "1.1.0",
      "model_name": "DescriptionStyleModel",
      "state": {
       "description_width": ""
      }
     },
     "f1bcf7cf56714369a7fb28ee999f53be": {
      "model_module": "@jupyter-widgets/controls",
      "model_module_version": "1.1.0",
      "model_name": "DescriptionStyleModel",
      "state": {
       "description_width": ""
      }
     },
     "f2261d1e7f6a4f98bab914bdf3e69518": {
      "model_module": "@jupyter-widgets/controls",
      "model_module_version": "1.1.0",
      "model_name": "ButtonStyleModel",
      "state": {
       "button_color": "SkyBlue",
       "font_weight": "bold"
      }
     },
     "f4e4800c920b432ca610c322dc4afc1b": {
      "model_module": "@jupyter-widgets/base",
      "model_module_version": "1.0.0",
      "model_name": "LayoutModel",
      "state": {}
     },
     "f77b071fc4f547669b76eab3d04c6ba3": {
      "model_module": "@jupyter-widgets/base",
      "model_module_version": "1.0.0",
      "model_name": "LayoutModel",
      "state": {}
     },
     "f79b744e6cf140a6a31abb2e42b0e584": {
      "model_module": "@jupyter-widgets/controls",
      "model_module_version": "1.1.0",
      "model_name": "SelectionSliderModel",
      "state": {
       "_options_labels": [
        "Less",
        "Neutral",
        "More"
       ],
       "continuous_update": false,
       "description": "Rate Article 4",
       "index": 1,
       "layout": "IPY_MODEL_8ae8fc5be85b421eb7182e3e3807d628",
       "style": "IPY_MODEL_1836c31967ca480a8708af46513ad703"
      }
     },
     "fc034b892bd7486ea5dbda6e1fad5f08": {
      "model_module": "@jupyter-widgets/controls",
      "model_module_version": "1.1.0",
      "model_name": "TextareaModel",
      "state": {
       "disabled": true,
       "layout": "IPY_MODEL_5a9c884563384108b93e661f021940a4",
       "style": "IPY_MODEL_5db6fcd219194bb2aa2b9053a67ad351",
       "value": "Tottenham Hotspur host North London neighbours Arsenal in the early Saturday kickoff at Wembley.    "
      }
     },
     "fc2e6c81aa85487bb51d380bf8b43dfd": {
      "model_module": "@jupyter-widgets/controls",
      "model_module_version": "1.1.0",
      "model_name": "HBoxModel",
      "state": {
       "children": [
        "IPY_MODEL_3bfeffb9b29d48cfb83e2f2c76f6fedd",
        "IPY_MODEL_4733e31d0f95441084b9ae4ecd986fc8"
       ],
       "layout": "IPY_MODEL_a51fbaa1875742cd99e449a1b1ecf6c8"
      }
     },
     "ff68a3c1aff34d0e8dd365dc0a2f57a0": {
      "model_module": "@jupyter-widgets/base",
      "model_module_version": "1.0.0",
      "model_name": "LayoutModel",
      "state": {}
     }
    },
    "version_major": 2,
    "version_minor": 0
   }
  }
 },
 "nbformat": 4,
 "nbformat_minor": 2
}
