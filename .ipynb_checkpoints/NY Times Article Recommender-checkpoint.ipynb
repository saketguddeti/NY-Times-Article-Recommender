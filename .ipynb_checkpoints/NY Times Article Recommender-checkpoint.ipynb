{
 "cells": [
  {
   "cell_type": "markdown",
   "metadata": {},
   "source": [
    "### Article Selection\n",
    "API calls are made making use of NY Times Developer platform. This will extract metadata and article snippets from NY Times archives based on the search conditions used. API will primarily use the news_desk attribute to import specific number of articles from each section. The sectional topics to be used are listed out in the developer website with over 100 topics available. Peripheral topics based on city/regional news, obituaries, job advertisments, classifieds, booming, crosswords etc. are excluded to work with only general topics."
   ]
  },
  {
   "cell_type": "code",
   "execution_count": 62,
   "metadata": {},
   "outputs": [
    {
     "data": {
      "text/html": [
       "<div>\n",
       "<style>\n",
       "    .dataframe thead tr:only-child th {\n",
       "        text-align: right;\n",
       "    }\n",
       "\n",
       "    .dataframe thead th {\n",
       "        text-align: left;\n",
       "    }\n",
       "\n",
       "    .dataframe tbody tr th {\n",
       "        vertical-align: top;\n",
       "    }\n",
       "</style>\n",
       "<table border=\"1\" class=\"dataframe\">\n",
       "  <thead>\n",
       "    <tr style=\"text-align: right;\">\n",
       "      <th></th>\n",
       "      <th>Section</th>\n",
       "    </tr>\n",
       "  </thead>\n",
       "  <tbody>\n",
       "    <tr>\n",
       "      <th>0</th>\n",
       "      <td>Adventure Sports</td>\n",
       "    </tr>\n",
       "    <tr>\n",
       "      <th>1</th>\n",
       "      <td>Arts &amp; Leisure</td>\n",
       "    </tr>\n",
       "    <tr>\n",
       "      <th>2</th>\n",
       "      <td>Arts</td>\n",
       "    </tr>\n",
       "    <tr>\n",
       "      <th>3</th>\n",
       "      <td>Automobiles</td>\n",
       "    </tr>\n",
       "    <tr>\n",
       "      <th>4</th>\n",
       "      <td>Blogs</td>\n",
       "    </tr>\n",
       "  </tbody>\n",
       "</table>\n",
       "</div>"
      ],
      "text/plain": [
       "            Section\n",
       "0  Adventure Sports\n",
       "1    Arts & Leisure\n",
       "2              Arts\n",
       "3       Automobiles\n",
       "4             Blogs"
      ]
     },
     "execution_count": 62,
     "metadata": {},
     "output_type": "execute_result"
    }
   ],
   "source": [
    "import pandas as pd\n",
    "import numpy as np\n",
    "import warnings\n",
    "\n",
    "warnings.filterwarnings('ignore')\n",
    "\n",
    "news_desk = pd.read_csv(\"data/news_desk.csv\")\n",
    "\n",
    "news_desk.head()"
   ]
  },
  {
   "cell_type": "markdown",
   "metadata": {},
   "source": [
    "### API Calls\n",
    "API calling will build a basic framework for extracting articles in bulk from the NY Times website. Due to the rate limiting restriction put up by NY Times, a decorater is used to make dynamic function calls so that the API requests do not exceed 1 call/second. There is also a day-wise limit of 1000 calls. An additional feature is added which will parallelize this process making use of multiple CPU cores and this will speed things up a bit. Brief description of Lock() function used for rate limiting can be found here."
   ]
  },
  {
   "cell_type": "code",
   "execution_count": 1,
   "metadata": {},
   "outputs": [],
   "source": [
    "import time, threading\n",
    "\n",
    "def rate_limited(max_per_second):\n",
    "  '''Decorator that make functions not to be called faster than 1 call/second'''\n",
    "  lock = threading.Lock()\n",
    "  minInterval = 1.0 / float(max_per_second)\n",
    "  def decorate(func):\n",
    "    lastTimeCalled = [0.0]\n",
    "    def rateLimitedFunction(args,*kargs):\n",
    "      lock.acquire()\n",
    "      elapsed = time.clock() - lastTimeCalled[0]\n",
    "      leftToWait = minInterval - elapsed\n",
    "      if leftToWait>0:\n",
    "        time.sleep(leftToWait)\n",
    "      lock.release()\n",
    "      ret = func(args,*kargs)\n",
    "      lastTimeCalled[0] = time.clock()\n",
    "      return ret\n",
    "    return rateLimitedFunction\n",
    "  return decorate\n",
    "\n",
    "\n",
    "from threading import Thread\n",
    "import requests\n",
    "\n",
    "@rate_limited(0.9)\n",
    "def process_id(id):\n",
    "    try:\n",
    "        r = requests.get(url % id)\n",
    "        json_data = r.json()\n",
    "        print('Appended '+str(page_index.index(id))+ ' out of '+ str(len(page_index)))\n",
    "        return json_data\n",
    "    except:\n",
    "        json_data = ''\n",
    "        print('Skipping...')\n",
    "        return json_data\n",
    "\n",
    "def process_range(id_range, store=None):\n",
    "    if store is None:\n",
    "        store = {}\n",
    "    for id in id_range:\n",
    "        store[id] = process_id(id)\n",
    "    return store\n",
    "\n",
    "\n",
    "def threaded_process_range(nthreads, id_range):\n",
    "    store = {}\n",
    "    threads = []\n",
    "\n",
    "    for i in range(nthreads):\n",
    "        ids = id_range[i::nthreads]\n",
    "        t = Thread(target=process_range, args=(ids,store))\n",
    "        threads.append(t)\n",
    "\n",
    "    [t.start() for t in threads]\n",
    "    [t.join() for t in threads]\n",
    "    return store\n",
    "\n",
    "news_desk = list(news_desk['Section'])\n",
    "base_url = 'https://api.nytimes.com/svc/search/v2/articlesearch.json?api-key=a141a689509b459ba12e2b93b83883fd'\n",
    "\n",
    "article_raw = []\n",
    "for nd in news_desk[65:67]:\n",
    "    param_url = '&fq=news_desk:'+str(nd)+'&sort=newest&page=%s'\n",
    "    url = base_url + param_url\n",
    "    print(str(nd)+\":\")\n",
    "    page_index = list(range(7))\n",
    "    try:\n",
    "        articles_1 = threaded_process_range(2, page_index)\n",
    "        articles_2 = [articles_1[k]['response']['docs'] for k in page_index if (type(articles_1[k]) is dict) and ('response' in articles_1[k])]\n",
    "        articles_3 = [item for sublist in articles_2 for item in sublist]\n",
    "        articles_4 = [{key:item[key] for key in ['web_url','pub_date']} for item in articles_3]\n",
    "        articles_5 = pd.DataFrame(articles_4)\n",
    "        articles_5['news_desk'] = str(nd)\n",
    "        article_raw.append(articles_5)\n",
    "    except:\n",
    "        print('Skipping...')\n",
    "\n",
    "url_data = pd.concat(article_raw).reset_index(drop = True)\n",
    "#url_data.to_csv('data/url_data.csv', index = False)\n"
   ]
  },
  {
   "cell_type": "markdown",
   "metadata": {},
   "source": [
    "### Web Scraping\n",
    "Using the metadata obtained from API calls, the specific URLs with the BeautifulSoup package scraped the article text data. A decorater was used along with the scrape function to limit the rate. URLs with videos/slideshows are excluded from the dataset as they do not have text data. The article content is enclosed within 'p' tags and a loop was used to extract all article content. Article length frequency distribution is observed to exclude articles which failed to scrape meaningful content. Such articles can be identified by high bars in the graph with small article lengths."
   ]
  },
  {
   "cell_type": "code",
   "execution_count": 10,
   "metadata": {
    "scrolled": true
   },
   "outputs": [
    {
     "name": "stderr",
     "output_type": "stream",
     "text": [
      "/Users/saketguddeti/anaconda3/lib/python3.6/site-packages/ipykernel_launcher.py:47: RuntimeWarning: invalid value encountered in less\n"
     ]
    },
    {
     "data": {
      "text/html": [
       "\n",
       "    <div class=\"bk-root\">\n",
       "        <a href=\"http://bokeh.pydata.org\" target=\"_blank\" class=\"bk-logo bk-logo-small bk-logo-notebook\"></a>\n",
       "        <span id=\"037e1993-1b73-467e-9a94-b294cf58ec24\">Loading BokehJS ...</span>\n",
       "    </div>"
      ]
     },
     "metadata": {},
     "output_type": "display_data"
    },
    {
     "data": {
      "application/javascript": [
       "\n",
       "(function(global) {\n",
       "  function now() {\n",
       "    return new Date();\n",
       "  }\n",
       "\n",
       "  var force = true;\n",
       "\n",
       "  if (typeof (window._bokeh_onload_callbacks) === \"undefined\" || force === true) {\n",
       "    window._bokeh_onload_callbacks = [];\n",
       "    window._bokeh_is_loading = undefined;\n",
       "  }\n",
       "\n",
       "\n",
       "  \n",
       "  if (typeof (window._bokeh_timeout) === \"undefined\" || force === true) {\n",
       "    window._bokeh_timeout = Date.now() + 5000;\n",
       "    window._bokeh_failed_load = false;\n",
       "  }\n",
       "\n",
       "  var NB_LOAD_WARNING = {'data': {'text/html':\n",
       "     \"<div style='background-color: #fdd'>\\n\"+\n",
       "     \"<p>\\n\"+\n",
       "     \"BokehJS does not appear to have successfully loaded. If loading BokehJS from CDN, this \\n\"+\n",
       "     \"may be due to a slow or bad network connection. Possible fixes:\\n\"+\n",
       "     \"</p>\\n\"+\n",
       "     \"<ul>\\n\"+\n",
       "     \"<li>re-rerun `output_notebook()` to attempt to load from CDN again, or</li>\\n\"+\n",
       "     \"<li>use INLINE resources instead, as so:</li>\\n\"+\n",
       "     \"</ul>\\n\"+\n",
       "     \"<code>\\n\"+\n",
       "     \"from bokeh.resources import INLINE\\n\"+\n",
       "     \"output_notebook(resources=INLINE)\\n\"+\n",
       "     \"</code>\\n\"+\n",
       "     \"</div>\"}};\n",
       "\n",
       "  function display_loaded() {\n",
       "    if (window.Bokeh !== undefined) {\n",
       "      var el = document.getElementById(\"037e1993-1b73-467e-9a94-b294cf58ec24\");\n",
       "      el.textContent = \"BokehJS \" + Bokeh.version + \" successfully loaded.\";\n",
       "    } else if (Date.now() < window._bokeh_timeout) {\n",
       "      setTimeout(display_loaded, 100)\n",
       "    }\n",
       "  }\n",
       "\n",
       "  function run_callbacks() {\n",
       "    window._bokeh_onload_callbacks.forEach(function(callback) { callback() });\n",
       "    delete window._bokeh_onload_callbacks\n",
       "    console.info(\"Bokeh: all callbacks have finished\");\n",
       "  }\n",
       "\n",
       "  function load_libs(js_urls, callback) {\n",
       "    window._bokeh_onload_callbacks.push(callback);\n",
       "    if (window._bokeh_is_loading > 0) {\n",
       "      console.log(\"Bokeh: BokehJS is being loaded, scheduling callback at\", now());\n",
       "      return null;\n",
       "    }\n",
       "    if (js_urls == null || js_urls.length === 0) {\n",
       "      run_callbacks();\n",
       "      return null;\n",
       "    }\n",
       "    console.log(\"Bokeh: BokehJS not loaded, scheduling load and callback at\", now());\n",
       "    window._bokeh_is_loading = js_urls.length;\n",
       "    for (var i = 0; i < js_urls.length; i++) {\n",
       "      var url = js_urls[i];\n",
       "      var s = document.createElement('script');\n",
       "      s.src = url;\n",
       "      s.async = false;\n",
       "      s.onreadystatechange = s.onload = function() {\n",
       "        window._bokeh_is_loading--;\n",
       "        if (window._bokeh_is_loading === 0) {\n",
       "          console.log(\"Bokeh: all BokehJS libraries loaded\");\n",
       "          run_callbacks()\n",
       "        }\n",
       "      };\n",
       "      s.onerror = function() {\n",
       "        console.warn(\"failed to load library \" + url);\n",
       "      };\n",
       "      console.log(\"Bokeh: injecting script tag for BokehJS library: \", url);\n",
       "      document.getElementsByTagName(\"head\")[0].appendChild(s);\n",
       "    }\n",
       "  };var element = document.getElementById(\"037e1993-1b73-467e-9a94-b294cf58ec24\");\n",
       "  if (element == null) {\n",
       "    console.log(\"Bokeh: ERROR: autoload.js configured with elementid '037e1993-1b73-467e-9a94-b294cf58ec24' but no matching script tag was found. \")\n",
       "    return false;\n",
       "  }\n",
       "\n",
       "  var js_urls = [\"https://cdn.pydata.org/bokeh/release/bokeh-0.12.5.min.js\", \"https://cdn.pydata.org/bokeh/release/bokeh-widgets-0.12.5.min.js\"];\n",
       "\n",
       "  var inline_js = [\n",
       "    function(Bokeh) {\n",
       "      Bokeh.set_log_level(\"info\");\n",
       "    },\n",
       "    \n",
       "    function(Bokeh) {\n",
       "      \n",
       "    },\n",
       "    \n",
       "    function(Bokeh) {\n",
       "      \n",
       "      document.getElementById(\"037e1993-1b73-467e-9a94-b294cf58ec24\").textContent = \"BokehJS is loading...\";\n",
       "\n",
       "    },\n",
       "    function(Bokeh) {\n",
       "      console.log(\"Bokeh: injecting CSS: https://cdn.pydata.org/bokeh/release/bokeh-0.12.5.min.css\");\n",
       "      Bokeh.embed.inject_css(\"https://cdn.pydata.org/bokeh/release/bokeh-0.12.5.min.css\");\n",
       "      console.log(\"Bokeh: injecting CSS: https://cdn.pydata.org/bokeh/release/bokeh-widgets-0.12.5.min.css\");\n",
       "      Bokeh.embed.inject_css(\"https://cdn.pydata.org/bokeh/release/bokeh-widgets-0.12.5.min.css\");\n",
       "    }\n",
       "  ];\n",
       "\n",
       "  function run_inline_js() {\n",
       "    \n",
       "    if ((window.Bokeh !== undefined) || (force === true)) {\n",
       "      for (var i = 0; i < inline_js.length; i++) {\n",
       "        inline_js[i](window.Bokeh);\n",
       "      }if (force === true) {\n",
       "        display_loaded();\n",
       "      }} else if (Date.now() < window._bokeh_timeout) {\n",
       "      setTimeout(run_inline_js, 100);\n",
       "    } else if (!window._bokeh_failed_load) {\n",
       "      console.log(\"Bokeh: BokehJS failed to load within specified timeout.\");\n",
       "      window._bokeh_failed_load = true;\n",
       "    } else if (force !== true) {\n",
       "      var cell = $(document.getElementById(\"037e1993-1b73-467e-9a94-b294cf58ec24\")).parents('.cell').data().cell;\n",
       "      cell.output_area.append_execute_result(NB_LOAD_WARNING)\n",
       "    }\n",
       "\n",
       "  }\n",
       "\n",
       "  if (window._bokeh_is_loading === 0) {\n",
       "    console.log(\"Bokeh: BokehJS loaded, going straight to plotting\");\n",
       "    run_inline_js();\n",
       "  } else {\n",
       "    load_libs(js_urls, function() {\n",
       "      console.log(\"Bokeh: BokehJS plotting callback run at\", now());\n",
       "      run_inline_js();\n",
       "    });\n",
       "  }\n",
       "}(this));"
      ]
     },
     "metadata": {},
     "output_type": "display_data"
    },
    {
     "data": {
      "text/html": [
       "\n",
       "\n",
       "    <div class=\"bk-root\">\n",
       "        <div class=\"bk-plotdiv\" id=\"2c7f2fbf-501c-4217-839a-4eccdb7e01e7\"></div>\n",
       "    </div>\n",
       "<script type=\"text/javascript\">\n",
       "  \n",
       "  (function(global) {\n",
       "    function now() {\n",
       "      return new Date();\n",
       "    }\n",
       "\n",
       "    var force = false;\n",
       "\n",
       "    if (typeof (window._bokeh_onload_callbacks) === \"undefined\" || force === true) {\n",
       "      window._bokeh_onload_callbacks = [];\n",
       "      window._bokeh_is_loading = undefined;\n",
       "    }\n",
       "\n",
       "\n",
       "    \n",
       "    if (typeof (window._bokeh_timeout) === \"undefined\" || force === true) {\n",
       "      window._bokeh_timeout = Date.now() + 0;\n",
       "      window._bokeh_failed_load = false;\n",
       "    }\n",
       "\n",
       "    var NB_LOAD_WARNING = {'data': {'text/html':\n",
       "       \"<div style='background-color: #fdd'>\\n\"+\n",
       "       \"<p>\\n\"+\n",
       "       \"BokehJS does not appear to have successfully loaded. If loading BokehJS from CDN, this \\n\"+\n",
       "       \"may be due to a slow or bad network connection. Possible fixes:\\n\"+\n",
       "       \"</p>\\n\"+\n",
       "       \"<ul>\\n\"+\n",
       "       \"<li>re-rerun `output_notebook()` to attempt to load from CDN again, or</li>\\n\"+\n",
       "       \"<li>use INLINE resources instead, as so:</li>\\n\"+\n",
       "       \"</ul>\\n\"+\n",
       "       \"<code>\\n\"+\n",
       "       \"from bokeh.resources import INLINE\\n\"+\n",
       "       \"output_notebook(resources=INLINE)\\n\"+\n",
       "       \"</code>\\n\"+\n",
       "       \"</div>\"}};\n",
       "\n",
       "    function display_loaded() {\n",
       "      if (window.Bokeh !== undefined) {\n",
       "        var el = document.getElementById(\"2c7f2fbf-501c-4217-839a-4eccdb7e01e7\");\n",
       "        el.textContent = \"BokehJS \" + Bokeh.version + \" successfully loaded.\";\n",
       "      } else if (Date.now() < window._bokeh_timeout) {\n",
       "        setTimeout(display_loaded, 100)\n",
       "      }\n",
       "    }\n",
       "\n",
       "    function run_callbacks() {\n",
       "      window._bokeh_onload_callbacks.forEach(function(callback) { callback() });\n",
       "      delete window._bokeh_onload_callbacks\n",
       "      console.info(\"Bokeh: all callbacks have finished\");\n",
       "    }\n",
       "\n",
       "    function load_libs(js_urls, callback) {\n",
       "      window._bokeh_onload_callbacks.push(callback);\n",
       "      if (window._bokeh_is_loading > 0) {\n",
       "        console.log(\"Bokeh: BokehJS is being loaded, scheduling callback at\", now());\n",
       "        return null;\n",
       "      }\n",
       "      if (js_urls == null || js_urls.length === 0) {\n",
       "        run_callbacks();\n",
       "        return null;\n",
       "      }\n",
       "      console.log(\"Bokeh: BokehJS not loaded, scheduling load and callback at\", now());\n",
       "      window._bokeh_is_loading = js_urls.length;\n",
       "      for (var i = 0; i < js_urls.length; i++) {\n",
       "        var url = js_urls[i];\n",
       "        var s = document.createElement('script');\n",
       "        s.src = url;\n",
       "        s.async = false;\n",
       "        s.onreadystatechange = s.onload = function() {\n",
       "          window._bokeh_is_loading--;\n",
       "          if (window._bokeh_is_loading === 0) {\n",
       "            console.log(\"Bokeh: all BokehJS libraries loaded\");\n",
       "            run_callbacks()\n",
       "          }\n",
       "        };\n",
       "        s.onerror = function() {\n",
       "          console.warn(\"failed to load library \" + url);\n",
       "        };\n",
       "        console.log(\"Bokeh: injecting script tag for BokehJS library: \", url);\n",
       "        document.getElementsByTagName(\"head\")[0].appendChild(s);\n",
       "      }\n",
       "    };var element = document.getElementById(\"2c7f2fbf-501c-4217-839a-4eccdb7e01e7\");\n",
       "    if (element == null) {\n",
       "      console.log(\"Bokeh: ERROR: autoload.js configured with elementid '2c7f2fbf-501c-4217-839a-4eccdb7e01e7' but no matching script tag was found. \")\n",
       "      return false;\n",
       "    }\n",
       "\n",
       "    var js_urls = [];\n",
       "\n",
       "    var inline_js = [\n",
       "      function(Bokeh) {\n",
       "        (function() {\n",
       "          var fn = function() {\n",
       "            var docs_json = {\"44631f6e-b9c2-4e02-aed7-dc51598e9c89\":{\"roots\":{\"references\":[{\"attributes\":{\"plot\":{\"id\":\"f6e44e7f-0dd4-473f-9393-11ba95fe930a\",\"subtype\":\"Figure\",\"type\":\"Plot\"}},\"id\":\"4fda6467-fa84-451b-9aa1-ef714123fb15\",\"type\":\"SaveTool\"},{\"attributes\":{},\"id\":\"8d4f9c64-fca2-4eb3-9e6c-bf544adc3301\",\"type\":\"BasicTicker\"},{\"attributes\":{\"plot\":{\"id\":\"f6e44e7f-0dd4-473f-9393-11ba95fe930a\",\"subtype\":\"Figure\",\"type\":\"Plot\"}},\"id\":\"85323c71-0883-4251-ac1b-ceba3525d192\",\"type\":\"ResetTool\"},{\"attributes\":{\"plot\":{\"id\":\"f6e44e7f-0dd4-473f-9393-11ba95fe930a\",\"subtype\":\"Figure\",\"type\":\"Plot\"}},\"id\":\"e3da6055-8703-4c50-842e-6d3134d052a1\",\"type\":\"HelpTool\"},{\"attributes\":{\"active_drag\":\"auto\",\"active_scroll\":\"auto\",\"active_tap\":\"auto\",\"tools\":[{\"id\":\"48dd0858-7e35-4721-b5d1-1e8a1dbd4da0\",\"type\":\"PanTool\"},{\"id\":\"1434fa74-9274-4022-9ae1-303d893c9bf4\",\"type\":\"WheelZoomTool\"},{\"id\":\"031ad21d-9fc1-4f30-ad5a-94b58edbc543\",\"type\":\"BoxZoomTool\"},{\"id\":\"4fda6467-fa84-451b-9aa1-ef714123fb15\",\"type\":\"SaveTool\"},{\"id\":\"85323c71-0883-4251-ac1b-ceba3525d192\",\"type\":\"ResetTool\"},{\"id\":\"e3da6055-8703-4c50-842e-6d3134d052a1\",\"type\":\"HelpTool\"},{\"id\":\"dd5242c2-f8f8-4a97-9215-217a4f075eb5\",\"type\":\"HoverTool\"}]},\"id\":\"a40e476b-db9f-4cb7-a346-8a4b4c992a23\",\"type\":\"Toolbar\"},{\"attributes\":{\"plot\":null,\"text\":\"\"},\"id\":\"8baf784c-3c7d-4707-bba0-ebf1fff58b4d\",\"type\":\"Title\"},{\"attributes\":{},\"id\":\"cda5688c-5a08-4786-a5e6-1f03c5ca5341\",\"type\":\"ToolEvents\"},{\"attributes\":{\"callback\":null,\"plot\":{\"id\":\"f6e44e7f-0dd4-473f-9393-11ba95fe930a\",\"subtype\":\"Figure\",\"type\":\"Plot\"},\"tooltips\":[[\"Value\",\"@data_value\"]]},\"id\":\"dd5242c2-f8f8-4a97-9215-217a4f075eb5\",\"type\":\"HoverTool\"},{\"attributes\":{\"callback\":null},\"id\":\"cf28b4a6-ce06-4001-9e90-94ff50a6dc4d\",\"type\":\"DataRange1d\"},{\"attributes\":{},\"id\":\"7bdbe592-83db-490c-b178-406a1a7b6a87\",\"type\":\"BasicTickFormatter\"},{\"attributes\":{\"overlay\":{\"id\":\"1bbf125b-a6a4-45f0-8caa-4d903927aa41\",\"type\":\"BoxAnnotation\"},\"plot\":{\"id\":\"f6e44e7f-0dd4-473f-9393-11ba95fe930a\",\"subtype\":\"Figure\",\"type\":\"Plot\"}},\"id\":\"031ad21d-9fc1-4f30-ad5a-94b58edbc543\",\"type\":\"BoxZoomTool\"},{\"attributes\":{\"bottom\":{\"field\":\"bottom\"},\"fill_color\":{\"value\":\"#1f77b4\"},\"left\":{\"field\":\"left\"},\"line_color\":{\"value\":\"white\"},\"right\":{\"field\":\"right\"},\"top\":{\"field\":\"top\"}},\"id\":\"93c67067-4d6a-482a-a598-91bff2e65827\",\"type\":\"Quad\"},{\"attributes\":{},\"id\":\"15371ea2-cd7b-4586-a0fb-13e248b0688e\",\"type\":\"BasicTickFormatter\"},{\"attributes\":{\"callback\":null,\"column_names\":[\"bottom\",\"data_value\",\"left\",\"right\",\"top\",\"index\"],\"data\":{\"bottom\":[0,0,0,0,0,0,0,0,0,0,0,0,0,0,0,0,0,0,0,0,0,0,0,0,0,0,0,0,0,0,0,0,0,0,0,0,0,0,0,0,0,0,0,0,0,0,0,0,0,0],\"data_value\":[38,39,58,8,8,18,6,5,9,10,8,8,10,12,12,3,7,12,11,9,11,5,7,21,13,9,9,7,3,2,5,5,11,6,4,11,8,6,13,4,11,18,15,22,10,19,14,8,9,14],\"index\":[0,1,2,3,4,5,6,7,8,9,10,11,12,13,14,15,16,17,18,19,20,21,22,23,24,25,26,27,28,29,30,31,32,33,34,35,36,37,38,39,40,41,42,43,44,45,46,47,48,49],\"left\":{\"__ndarray__\":\"AAAAAAAAAABxPQrXo/AzQHE9Ctej8ENAKlyPwvXoTUBxPQrXo/BTQM3MzMzM7FhAKlyPwvXoXUDD9Shcj3JhQHE9Ctej8GNAH4XrUbhuZkDNzMzMzOxoQHsUrkfhamtAKlyPwvXobUDsUbgehTNwQMP1KFyPcnFAmpmZmZmxckBxPQrXo/BzQEjhehSuL3VAH4XrUbhudkD2KFyPwq13QM3MzMzM7HhApHA9CtcrekB7FK5H4Wp7QFK4HoXrqXxAKlyPwvXofUABAAAAACh/QOxRuB6FM4BA16NwPQrTgEDD9Shcj3KBQK5H4XoUEoJAmpmZmZmxgkCF61G4HlGDQHE9Ctej8INAXY/C9SiQhEBI4XoUri+FQDQzMzMzz4VAH4XrUbhuhkAL16NwPQ6HQPYoXI/CrYdA4noUrkdNiEDNzMzMzOyIQLkehetRjIlApHA9CtcrikCQwvUoXMuKQHsUrkfhaotAZ2ZmZmYKjEBSuB6F66mMQD4K16NwSY1AKlyPwvXojUAVrkfheoiOQA==\",\"dtype\":\"float64\",\"shape\":[50]},\"right\":{\"__ndarray__\":\"cT0K16PwM0BxPQrXo/BDQCpcj8L16E1AcT0K16PwU0DNzMzMzOxYQCpcj8L16F1Aw/UoXI9yYUBxPQrXo/BjQB+F61G4bmZAzczMzMzsaEB7FK5H4WprQCpcj8L16G1A7FG4HoUzcEDD9Shcj3JxQJqZmZmZsXJAcT0K16Pwc0BI4XoUri91QB+F61G4bnZA9ihcj8Ktd0DNzMzMzOx4QKRwPQrXK3pAexSuR+Fqe0BSuB6F66l8QCpcj8L16H1AAQAAAAAof0DsUbgehTOAQNejcD0K04BAw/UoXI9ygUCuR+F6FBKCQJqZmZmZsYJAhetRuB5Rg0BxPQrXo/CDQF2PwvUokIRASOF6FK4vhUA0MzMzM8+FQB+F61G4boZAC9ejcD0Oh0D2KFyPwq2HQOJ6FK5HTYhAzczMzMzsiEC5HoXrUYyJQKRwPQrXK4pAkML1KFzLikB7FK5H4WqLQGdmZmZmCoxAUrgeheupjEA+CtejcEmNQCpcj8L16I1AFa5H4XqIjkAAAAAAACiPQA==\",\"dtype\":\"float64\",\"shape\":[50]},\"top\":[38,39,58,8,8,18,6,5,9,10,8,8,10,12,12,3,7,12,11,9,11,5,7,21,13,9,9,7,3,2,5,5,11,6,4,11,8,6,13,4,11,18,15,22,10,19,14,8,9,14]}},\"id\":\"cc905250-32f4-4ee7-9b42-6f3f7b9eb070\",\"type\":\"ColumnDataSource\"},{\"attributes\":{\"data_source\":{\"id\":\"cc905250-32f4-4ee7-9b42-6f3f7b9eb070\",\"type\":\"ColumnDataSource\"},\"glyph\":{\"id\":\"93c67067-4d6a-482a-a598-91bff2e65827\",\"type\":\"Quad\"},\"hover_glyph\":null,\"muted_glyph\":null,\"nonselection_glyph\":{\"id\":\"82b05476-ba6c-4ddc-b131-2ff60423ad87\",\"type\":\"Quad\"},\"selection_glyph\":null},\"id\":\"d32e620b-7985-4eb1-b259-8b34990c40c4\",\"type\":\"GlyphRenderer\"},{\"attributes\":{\"plot\":{\"id\":\"f6e44e7f-0dd4-473f-9393-11ba95fe930a\",\"subtype\":\"Figure\",\"type\":\"Plot\"},\"ticker\":{\"id\":\"8d4f9c64-fca2-4eb3-9e6c-bf544adc3301\",\"type\":\"BasicTicker\"}},\"id\":\"6a138d39-5047-400a-8991-099c3069b2e6\",\"type\":\"Grid\"},{\"attributes\":{\"below\":[{\"id\":\"4294ec68-19fc-495c-b3f5-550aeadb761f\",\"type\":\"LinearAxis\"}],\"left\":[{\"id\":\"26b5aa64-16e2-4abe-822d-a35f956bb9b8\",\"type\":\"LinearAxis\"}],\"plot_height\":450,\"plot_width\":550,\"renderers\":[{\"id\":\"4294ec68-19fc-495c-b3f5-550aeadb761f\",\"type\":\"LinearAxis\"},{\"id\":\"6a138d39-5047-400a-8991-099c3069b2e6\",\"type\":\"Grid\"},{\"id\":\"26b5aa64-16e2-4abe-822d-a35f956bb9b8\",\"type\":\"LinearAxis\"},{\"id\":\"9eca2090-a8d8-4d9f-966e-32cdc0003c7c\",\"type\":\"Grid\"},{\"id\":\"1bbf125b-a6a4-45f0-8caa-4d903927aa41\",\"type\":\"BoxAnnotation\"},{\"id\":\"d32e620b-7985-4eb1-b259-8b34990c40c4\",\"type\":\"GlyphRenderer\"}],\"title\":{\"id\":\"8baf784c-3c7d-4707-bba0-ebf1fff58b4d\",\"type\":\"Title\"},\"tool_events\":{\"id\":\"cda5688c-5a08-4786-a5e6-1f03c5ca5341\",\"type\":\"ToolEvents\"},\"toolbar\":{\"id\":\"a40e476b-db9f-4cb7-a346-8a4b4c992a23\",\"type\":\"Toolbar\"},\"x_range\":{\"id\":\"cf28b4a6-ce06-4001-9e90-94ff50a6dc4d\",\"type\":\"DataRange1d\"},\"y_range\":{\"id\":\"1279694e-5088-4391-aae3-1268b6b7be53\",\"type\":\"DataRange1d\"}},\"id\":\"f6e44e7f-0dd4-473f-9393-11ba95fe930a\",\"subtype\":\"Figure\",\"type\":\"Plot\"},{\"attributes\":{\"axis_label\":\"Frequency\",\"formatter\":{\"id\":\"15371ea2-cd7b-4586-a0fb-13e248b0688e\",\"type\":\"BasicTickFormatter\"},\"plot\":{\"id\":\"f6e44e7f-0dd4-473f-9393-11ba95fe930a\",\"subtype\":\"Figure\",\"type\":\"Plot\"},\"ticker\":{\"id\":\"b5557b46-9ce9-4960-af90-5271702fe512\",\"type\":\"BasicTicker\"}},\"id\":\"26b5aa64-16e2-4abe-822d-a35f956bb9b8\",\"type\":\"LinearAxis\"},{\"attributes\":{\"bottom\":{\"field\":\"bottom\"},\"fill_alpha\":{\"value\":0.1},\"fill_color\":{\"value\":\"#1f77b4\"},\"left\":{\"field\":\"left\"},\"line_alpha\":{\"value\":0.1},\"line_color\":{\"value\":\"#1f77b4\"},\"right\":{\"field\":\"right\"},\"top\":{\"field\":\"top\"}},\"id\":\"82b05476-ba6c-4ddc-b131-2ff60423ad87\",\"type\":\"Quad\"},{\"attributes\":{},\"id\":\"b5557b46-9ce9-4960-af90-5271702fe512\",\"type\":\"BasicTicker\"},{\"attributes\":{\"bottom_units\":\"screen\",\"fill_alpha\":{\"value\":0.5},\"fill_color\":{\"value\":\"lightgrey\"},\"left_units\":\"screen\",\"level\":\"overlay\",\"line_alpha\":{\"value\":1.0},\"line_color\":{\"value\":\"black\"},\"line_dash\":[4,4],\"line_width\":{\"value\":2},\"plot\":null,\"render_mode\":\"css\",\"right_units\":\"screen\",\"top_units\":\"screen\"},\"id\":\"1bbf125b-a6a4-45f0-8caa-4d903927aa41\",\"type\":\"BoxAnnotation\"},{\"attributes\":{\"dimension\":1,\"plot\":{\"id\":\"f6e44e7f-0dd4-473f-9393-11ba95fe930a\",\"subtype\":\"Figure\",\"type\":\"Plot\"},\"ticker\":{\"id\":\"b5557b46-9ce9-4960-af90-5271702fe512\",\"type\":\"BasicTicker\"}},\"id\":\"9eca2090-a8d8-4d9f-966e-32cdc0003c7c\",\"type\":\"Grid\"},{\"attributes\":{\"axis_label\":\"Length of Article\",\"formatter\":{\"id\":\"7bdbe592-83db-490c-b178-406a1a7b6a87\",\"type\":\"BasicTickFormatter\"},\"plot\":{\"id\":\"f6e44e7f-0dd4-473f-9393-11ba95fe930a\",\"subtype\":\"Figure\",\"type\":\"Plot\"},\"ticker\":{\"id\":\"8d4f9c64-fca2-4eb3-9e6c-bf544adc3301\",\"type\":\"BasicTicker\"}},\"id\":\"4294ec68-19fc-495c-b3f5-550aeadb761f\",\"type\":\"LinearAxis\"},{\"attributes\":{\"callback\":null},\"id\":\"1279694e-5088-4391-aae3-1268b6b7be53\",\"type\":\"DataRange1d\"},{\"attributes\":{\"plot\":{\"id\":\"f6e44e7f-0dd4-473f-9393-11ba95fe930a\",\"subtype\":\"Figure\",\"type\":\"Plot\"}},\"id\":\"48dd0858-7e35-4721-b5d1-1e8a1dbd4da0\",\"type\":\"PanTool\"},{\"attributes\":{\"plot\":{\"id\":\"f6e44e7f-0dd4-473f-9393-11ba95fe930a\",\"subtype\":\"Figure\",\"type\":\"Plot\"}},\"id\":\"1434fa74-9274-4022-9ae1-303d893c9bf4\",\"type\":\"WheelZoomTool\"}],\"root_ids\":[\"f6e44e7f-0dd4-473f-9393-11ba95fe930a\"]},\"title\":\"Bokeh Application\",\"version\":\"0.12.5\"}};\n",
       "            var render_items = [{\"docid\":\"44631f6e-b9c2-4e02-aed7-dc51598e9c89\",\"elementid\":\"2c7f2fbf-501c-4217-839a-4eccdb7e01e7\",\"modelid\":\"f6e44e7f-0dd4-473f-9393-11ba95fe930a\"}];\n",
       "            \n",
       "            Bokeh.embed.embed_items(docs_json, render_items);\n",
       "          };\n",
       "          if (document.readyState != \"loading\") fn();\n",
       "          else document.addEventListener(\"DOMContentLoaded\", fn);\n",
       "        })();\n",
       "\n",
       "      },\n",
       "      function(Bokeh) {\n",
       "      }\n",
       "    ];\n",
       "\n",
       "    function run_inline_js() {\n",
       "      \n",
       "      if ((window.Bokeh !== undefined) || (force === true)) {\n",
       "        for (var i = 0; i < inline_js.length; i++) {\n",
       "          inline_js[i](window.Bokeh);\n",
       "        }if (force === true) {\n",
       "          display_loaded();\n",
       "        }} else if (Date.now() < window._bokeh_timeout) {\n",
       "        setTimeout(run_inline_js, 100);\n",
       "      } else if (!window._bokeh_failed_load) {\n",
       "        console.log(\"Bokeh: BokehJS failed to load within specified timeout.\");\n",
       "        window._bokeh_failed_load = true;\n",
       "      } else if (force !== true) {\n",
       "        var cell = $(document.getElementById(\"2c7f2fbf-501c-4217-839a-4eccdb7e01e7\")).parents('.cell').data().cell;\n",
       "        cell.output_area.append_execute_result(NB_LOAD_WARNING)\n",
       "      }\n",
       "\n",
       "    }\n",
       "\n",
       "    if (window._bokeh_is_loading === 0) {\n",
       "      console.log(\"Bokeh: BokehJS loaded, going straight to plotting\");\n",
       "      run_inline_js();\n",
       "    } else {\n",
       "      load_libs(js_urls, function() {\n",
       "        console.log(\"Bokeh: BokehJS plotting callback run at\", now());\n",
       "        run_inline_js();\n",
       "      });\n",
       "    }\n",
       "  }(this));\n",
       "</script>"
      ]
     },
     "metadata": {},
     "output_type": "display_data"
    }
   ],
   "source": [
    "from bs4 import BeautifulSoup\n",
    "\n",
    "@rate_limited(1)\n",
    "def extract_content(url):\n",
    "    r = requests.get(url)\n",
    "    soup = BeautifulSoup(r.text, 'html.parser')\n",
    "    \n",
    "    name_box = soup.findAll('p', attrs={'class': 'story-body-text story-content'})\n",
    "    content = [x.text for x in name_box]\n",
    "    content_final = ' '.join(content)\n",
    "    \n",
    "    if(content_final == ''):\n",
    "        name_box = soup.findAll('p')\n",
    "        content = [x.text for x in name_box]\n",
    "        content_final = ' '.join(content)\n",
    "\n",
    "    return(content_final)\n",
    "\n",
    "url_data = pd.read_csv('data/url_data.csv')\n",
    "url_data['video_flag'] = url_data['web_url'].str.contains('/video/')\n",
    "url_data['slideshow_flag'] = url_data['web_url'].str.contains('/slideshow/')\n",
    "url_data = url_data.loc[(url_data['video_flag'] == False) & (url_data['slideshow_flag'] == False),]\n",
    "url_data = url_data.drop(['video_flag','slideshow_flag'], axis = 1)\n",
    "\n",
    "content = []\n",
    "for index, i in enumerate(url_data['web_url']):\n",
    "    try:\n",
    "        print(index)\n",
    "        a = extract_content(i)    \n",
    "        content.append(a)\n",
    "    except:\n",
    "        content.append('')\n",
    "        print('Skipping...')\n",
    "        \n",
    "content_data = url_data\n",
    "content_data['content'] = content\n",
    "content_data.to_csv('data/content_data.csv', index = False)\n",
    "##\n",
    "import pandas as pd\n",
    "content_data = pd.read_csv('data/content_data.csv')\n",
    "content_data['length'] = content_data['content'].str.strip().str.len()\n",
    "\n",
    "import bokeh.plotting as bp\n",
    "from bokeh.io import show, output_notebook\n",
    "from bokeh.models import HoverTool\n",
    "import numpy as np\n",
    "\n",
    "array = list(content_data['length'][content_data['length'].values < 1000])\n",
    "hist, edges = np.histogram(array, bins=50)\n",
    "\n",
    "source = bp.ColumnDataSource(pd.DataFrame({\n",
    "    'left' : edges[:-1],\n",
    "    'top' : hist,\n",
    "    'right' : edges[1:],\n",
    "    'bottom' : 0,\n",
    "    'data_value' : hist\n",
    "}))\n",
    "\n",
    "p = bp.figure(width = 550, height = 450)\n",
    "p.quad(top='top', bottom='bottom', left='left', right='right', line_color=\"white\", source = source)\n",
    "p.add_tools(HoverTool(tooltips= [(\"Value\", \"@data_value\")]))\n",
    "p.xaxis.axis_label = 'Length of Article'\n",
    "p.yaxis.axis_label = 'Frequency'\n",
    "output_notebook()\n",
    "show(p)"
   ]
  },
  {
   "cell_type": "markdown",
   "metadata": {},
   "source": [
    "Looking over the frequency distribution of article length below 1000, there is a spike in the 1st-3rd bar denoting articles with advertisement content, waste text with no relavant information. These articles will be filtered from the corpus."
   ]
  },
  {
   "cell_type": "code",
   "execution_count": 11,
   "metadata": {},
   "outputs": [
    {
     "data": {
      "text/html": [
       "\n",
       "    <div class=\"bk-root\">\n",
       "        <a href=\"http://bokeh.pydata.org\" target=\"_blank\" class=\"bk-logo bk-logo-small bk-logo-notebook\"></a>\n",
       "        <span id=\"157a4d5a-856c-4225-a3ea-8fe34280b892\">Loading BokehJS ...</span>\n",
       "    </div>"
      ]
     },
     "metadata": {},
     "output_type": "display_data"
    },
    {
     "data": {
      "application/javascript": [
       "\n",
       "(function(global) {\n",
       "  function now() {\n",
       "    return new Date();\n",
       "  }\n",
       "\n",
       "  var force = true;\n",
       "\n",
       "  if (typeof (window._bokeh_onload_callbacks) === \"undefined\" || force === true) {\n",
       "    window._bokeh_onload_callbacks = [];\n",
       "    window._bokeh_is_loading = undefined;\n",
       "  }\n",
       "\n",
       "\n",
       "  \n",
       "  if (typeof (window._bokeh_timeout) === \"undefined\" || force === true) {\n",
       "    window._bokeh_timeout = Date.now() + 5000;\n",
       "    window._bokeh_failed_load = false;\n",
       "  }\n",
       "\n",
       "  var NB_LOAD_WARNING = {'data': {'text/html':\n",
       "     \"<div style='background-color: #fdd'>\\n\"+\n",
       "     \"<p>\\n\"+\n",
       "     \"BokehJS does not appear to have successfully loaded. If loading BokehJS from CDN, this \\n\"+\n",
       "     \"may be due to a slow or bad network connection. Possible fixes:\\n\"+\n",
       "     \"</p>\\n\"+\n",
       "     \"<ul>\\n\"+\n",
       "     \"<li>re-rerun `output_notebook()` to attempt to load from CDN again, or</li>\\n\"+\n",
       "     \"<li>use INLINE resources instead, as so:</li>\\n\"+\n",
       "     \"</ul>\\n\"+\n",
       "     \"<code>\\n\"+\n",
       "     \"from bokeh.resources import INLINE\\n\"+\n",
       "     \"output_notebook(resources=INLINE)\\n\"+\n",
       "     \"</code>\\n\"+\n",
       "     \"</div>\"}};\n",
       "\n",
       "  function display_loaded() {\n",
       "    if (window.Bokeh !== undefined) {\n",
       "      var el = document.getElementById(\"157a4d5a-856c-4225-a3ea-8fe34280b892\");\n",
       "      el.textContent = \"BokehJS \" + Bokeh.version + \" successfully loaded.\";\n",
       "    } else if (Date.now() < window._bokeh_timeout) {\n",
       "      setTimeout(display_loaded, 100)\n",
       "    }\n",
       "  }\n",
       "\n",
       "  function run_callbacks() {\n",
       "    window._bokeh_onload_callbacks.forEach(function(callback) { callback() });\n",
       "    delete window._bokeh_onload_callbacks\n",
       "    console.info(\"Bokeh: all callbacks have finished\");\n",
       "  }\n",
       "\n",
       "  function load_libs(js_urls, callback) {\n",
       "    window._bokeh_onload_callbacks.push(callback);\n",
       "    if (window._bokeh_is_loading > 0) {\n",
       "      console.log(\"Bokeh: BokehJS is being loaded, scheduling callback at\", now());\n",
       "      return null;\n",
       "    }\n",
       "    if (js_urls == null || js_urls.length === 0) {\n",
       "      run_callbacks();\n",
       "      return null;\n",
       "    }\n",
       "    console.log(\"Bokeh: BokehJS not loaded, scheduling load and callback at\", now());\n",
       "    window._bokeh_is_loading = js_urls.length;\n",
       "    for (var i = 0; i < js_urls.length; i++) {\n",
       "      var url = js_urls[i];\n",
       "      var s = document.createElement('script');\n",
       "      s.src = url;\n",
       "      s.async = false;\n",
       "      s.onreadystatechange = s.onload = function() {\n",
       "        window._bokeh_is_loading--;\n",
       "        if (window._bokeh_is_loading === 0) {\n",
       "          console.log(\"Bokeh: all BokehJS libraries loaded\");\n",
       "          run_callbacks()\n",
       "        }\n",
       "      };\n",
       "      s.onerror = function() {\n",
       "        console.warn(\"failed to load library \" + url);\n",
       "      };\n",
       "      console.log(\"Bokeh: injecting script tag for BokehJS library: \", url);\n",
       "      document.getElementsByTagName(\"head\")[0].appendChild(s);\n",
       "    }\n",
       "  };var element = document.getElementById(\"157a4d5a-856c-4225-a3ea-8fe34280b892\");\n",
       "  if (element == null) {\n",
       "    console.log(\"Bokeh: ERROR: autoload.js configured with elementid '157a4d5a-856c-4225-a3ea-8fe34280b892' but no matching script tag was found. \")\n",
       "    return false;\n",
       "  }\n",
       "\n",
       "  var js_urls = [\"https://cdn.pydata.org/bokeh/release/bokeh-0.12.5.min.js\", \"https://cdn.pydata.org/bokeh/release/bokeh-widgets-0.12.5.min.js\"];\n",
       "\n",
       "  var inline_js = [\n",
       "    function(Bokeh) {\n",
       "      Bokeh.set_log_level(\"info\");\n",
       "    },\n",
       "    \n",
       "    function(Bokeh) {\n",
       "      \n",
       "    },\n",
       "    \n",
       "    function(Bokeh) {\n",
       "      \n",
       "      document.getElementById(\"157a4d5a-856c-4225-a3ea-8fe34280b892\").textContent = \"BokehJS is loading...\";\n",
       "\n",
       "    },\n",
       "    function(Bokeh) {\n",
       "      console.log(\"Bokeh: injecting CSS: https://cdn.pydata.org/bokeh/release/bokeh-0.12.5.min.css\");\n",
       "      Bokeh.embed.inject_css(\"https://cdn.pydata.org/bokeh/release/bokeh-0.12.5.min.css\");\n",
       "      console.log(\"Bokeh: injecting CSS: https://cdn.pydata.org/bokeh/release/bokeh-widgets-0.12.5.min.css\");\n",
       "      Bokeh.embed.inject_css(\"https://cdn.pydata.org/bokeh/release/bokeh-widgets-0.12.5.min.css\");\n",
       "    }\n",
       "  ];\n",
       "\n",
       "  function run_inline_js() {\n",
       "    \n",
       "    if ((window.Bokeh !== undefined) || (force === true)) {\n",
       "      for (var i = 0; i < inline_js.length; i++) {\n",
       "        inline_js[i](window.Bokeh);\n",
       "      }if (force === true) {\n",
       "        display_loaded();\n",
       "      }} else if (Date.now() < window._bokeh_timeout) {\n",
       "      setTimeout(run_inline_js, 100);\n",
       "    } else if (!window._bokeh_failed_load) {\n",
       "      console.log(\"Bokeh: BokehJS failed to load within specified timeout.\");\n",
       "      window._bokeh_failed_load = true;\n",
       "    } else if (force !== true) {\n",
       "      var cell = $(document.getElementById(\"157a4d5a-856c-4225-a3ea-8fe34280b892\")).parents('.cell').data().cell;\n",
       "      cell.output_area.append_execute_result(NB_LOAD_WARNING)\n",
       "    }\n",
       "\n",
       "  }\n",
       "\n",
       "  if (window._bokeh_is_loading === 0) {\n",
       "    console.log(\"Bokeh: BokehJS loaded, going straight to plotting\");\n",
       "    run_inline_js();\n",
       "  } else {\n",
       "    load_libs(js_urls, function() {\n",
       "      console.log(\"Bokeh: BokehJS plotting callback run at\", now());\n",
       "      run_inline_js();\n",
       "    });\n",
       "  }\n",
       "}(this));"
      ]
     },
     "metadata": {},
     "output_type": "display_data"
    },
    {
     "data": {
      "text/html": [
       "\n",
       "\n",
       "    <div class=\"bk-root\">\n",
       "        <div class=\"bk-plotdiv\" id=\"581aadbb-7738-4caa-a2a8-d32bb08fa0b8\"></div>\n",
       "    </div>\n",
       "<script type=\"text/javascript\">\n",
       "  \n",
       "  (function(global) {\n",
       "    function now() {\n",
       "      return new Date();\n",
       "    }\n",
       "\n",
       "    var force = false;\n",
       "\n",
       "    if (typeof (window._bokeh_onload_callbacks) === \"undefined\" || force === true) {\n",
       "      window._bokeh_onload_callbacks = [];\n",
       "      window._bokeh_is_loading = undefined;\n",
       "    }\n",
       "\n",
       "\n",
       "    \n",
       "    if (typeof (window._bokeh_timeout) === \"undefined\" || force === true) {\n",
       "      window._bokeh_timeout = Date.now() + 0;\n",
       "      window._bokeh_failed_load = false;\n",
       "    }\n",
       "\n",
       "    var NB_LOAD_WARNING = {'data': {'text/html':\n",
       "       \"<div style='background-color: #fdd'>\\n\"+\n",
       "       \"<p>\\n\"+\n",
       "       \"BokehJS does not appear to have successfully loaded. If loading BokehJS from CDN, this \\n\"+\n",
       "       \"may be due to a slow or bad network connection. Possible fixes:\\n\"+\n",
       "       \"</p>\\n\"+\n",
       "       \"<ul>\\n\"+\n",
       "       \"<li>re-rerun `output_notebook()` to attempt to load from CDN again, or</li>\\n\"+\n",
       "       \"<li>use INLINE resources instead, as so:</li>\\n\"+\n",
       "       \"</ul>\\n\"+\n",
       "       \"<code>\\n\"+\n",
       "       \"from bokeh.resources import INLINE\\n\"+\n",
       "       \"output_notebook(resources=INLINE)\\n\"+\n",
       "       \"</code>\\n\"+\n",
       "       \"</div>\"}};\n",
       "\n",
       "    function display_loaded() {\n",
       "      if (window.Bokeh !== undefined) {\n",
       "        var el = document.getElementById(\"581aadbb-7738-4caa-a2a8-d32bb08fa0b8\");\n",
       "        el.textContent = \"BokehJS \" + Bokeh.version + \" successfully loaded.\";\n",
       "      } else if (Date.now() < window._bokeh_timeout) {\n",
       "        setTimeout(display_loaded, 100)\n",
       "      }\n",
       "    }\n",
       "\n",
       "    function run_callbacks() {\n",
       "      window._bokeh_onload_callbacks.forEach(function(callback) { callback() });\n",
       "      delete window._bokeh_onload_callbacks\n",
       "      console.info(\"Bokeh: all callbacks have finished\");\n",
       "    }\n",
       "\n",
       "    function load_libs(js_urls, callback) {\n",
       "      window._bokeh_onload_callbacks.push(callback);\n",
       "      if (window._bokeh_is_loading > 0) {\n",
       "        console.log(\"Bokeh: BokehJS is being loaded, scheduling callback at\", now());\n",
       "        return null;\n",
       "      }\n",
       "      if (js_urls == null || js_urls.length === 0) {\n",
       "        run_callbacks();\n",
       "        return null;\n",
       "      }\n",
       "      console.log(\"Bokeh: BokehJS not loaded, scheduling load and callback at\", now());\n",
       "      window._bokeh_is_loading = js_urls.length;\n",
       "      for (var i = 0; i < js_urls.length; i++) {\n",
       "        var url = js_urls[i];\n",
       "        var s = document.createElement('script');\n",
       "        s.src = url;\n",
       "        s.async = false;\n",
       "        s.onreadystatechange = s.onload = function() {\n",
       "          window._bokeh_is_loading--;\n",
       "          if (window._bokeh_is_loading === 0) {\n",
       "            console.log(\"Bokeh: all BokehJS libraries loaded\");\n",
       "            run_callbacks()\n",
       "          }\n",
       "        };\n",
       "        s.onerror = function() {\n",
       "          console.warn(\"failed to load library \" + url);\n",
       "        };\n",
       "        console.log(\"Bokeh: injecting script tag for BokehJS library: \", url);\n",
       "        document.getElementsByTagName(\"head\")[0].appendChild(s);\n",
       "      }\n",
       "    };var element = document.getElementById(\"581aadbb-7738-4caa-a2a8-d32bb08fa0b8\");\n",
       "    if (element == null) {\n",
       "      console.log(\"Bokeh: ERROR: autoload.js configured with elementid '581aadbb-7738-4caa-a2a8-d32bb08fa0b8' but no matching script tag was found. \")\n",
       "      return false;\n",
       "    }\n",
       "\n",
       "    var js_urls = [];\n",
       "\n",
       "    var inline_js = [\n",
       "      function(Bokeh) {\n",
       "        (function() {\n",
       "          var fn = function() {\n",
       "            var docs_json = {\"5253f943-04af-45bc-aeec-c33e6e402bad\":{\"roots\":{\"references\":[{\"attributes\":{},\"id\":\"4bde73e3-c301-45b5-9518-736bf982210b\",\"type\":\"BasicTicker\"},{\"attributes\":{\"data_source\":{\"id\":\"cfca64e3-5427-4e97-9b70-86741f7f2443\",\"type\":\"ColumnDataSource\"},\"glyph\":{\"id\":\"13e44c36-89c1-4c85-ae96-59de4a6f7b44\",\"type\":\"Quad\"},\"hover_glyph\":null,\"muted_glyph\":null,\"nonselection_glyph\":{\"id\":\"19f04cc7-acb8-4007-a382-0e0992028f18\",\"type\":\"Quad\"},\"selection_glyph\":null},\"id\":\"62a68778-7f46-49c7-8c4d-7db1a27fb9fa\",\"type\":\"GlyphRenderer\"},{\"attributes\":{},\"id\":\"b7f4ec3c-c538-4109-96f2-8169eb00f3de\",\"type\":\"ToolEvents\"},{\"attributes\":{\"bottom\":{\"field\":\"bottom\"},\"fill_alpha\":{\"value\":0.1},\"fill_color\":{\"value\":\"#1f77b4\"},\"left\":{\"field\":\"left\"},\"line_alpha\":{\"value\":0.1},\"line_color\":{\"value\":\"#1f77b4\"},\"right\":{\"field\":\"right\"},\"top\":{\"field\":\"top\"}},\"id\":\"19f04cc7-acb8-4007-a382-0e0992028f18\",\"type\":\"Quad\"},{\"attributes\":{\"below\":[{\"id\":\"7b2a04d6-9e36-43d6-9531-ea9f4a40e740\",\"type\":\"LinearAxis\"}],\"left\":[{\"id\":\"2f01a1dc-ceb0-448f-a31b-68e0b9e50e31\",\"type\":\"LinearAxis\"}],\"plot_height\":450,\"plot_width\":550,\"renderers\":[{\"id\":\"7b2a04d6-9e36-43d6-9531-ea9f4a40e740\",\"type\":\"LinearAxis\"},{\"id\":\"c641ba85-cbc5-41b8-a29f-a1203d2d1c9a\",\"type\":\"Grid\"},{\"id\":\"2f01a1dc-ceb0-448f-a31b-68e0b9e50e31\",\"type\":\"LinearAxis\"},{\"id\":\"874eea8a-ec5d-4b17-8bdd-e1b157cea495\",\"type\":\"Grid\"},{\"id\":\"8a7ee2c0-2a52-4e25-990f-4052449654d6\",\"type\":\"BoxAnnotation\"},{\"id\":\"62a68778-7f46-49c7-8c4d-7db1a27fb9fa\",\"type\":\"GlyphRenderer\"}],\"title\":{\"id\":\"36856539-5cbd-40c4-8372-55faa82f26fc\",\"type\":\"Title\"},\"tool_events\":{\"id\":\"b7f4ec3c-c538-4109-96f2-8169eb00f3de\",\"type\":\"ToolEvents\"},\"toolbar\":{\"id\":\"acd1189b-c04b-4aca-af7c-c8c2c73a1269\",\"type\":\"Toolbar\"},\"x_range\":{\"id\":\"600eff97-0c2d-442f-ae9b-6d8e8f5b2005\",\"type\":\"DataRange1d\"},\"y_range\":{\"id\":\"f662f2b0-c865-45dd-9c7d-6403fcc34888\",\"type\":\"DataRange1d\"}},\"id\":\"505041ec-c21c-42b6-9223-d0ce474b6d3e\",\"subtype\":\"Figure\",\"type\":\"Plot\"},{\"attributes\":{},\"id\":\"7dcb649d-d389-4068-b402-ebe68a782fc4\",\"type\":\"BasicTickFormatter\"},{\"attributes\":{\"axis_label\":\"Frequency\",\"formatter\":{\"id\":\"0d26afc1-2475-4378-b9b9-1f8f74fbecc6\",\"type\":\"BasicTickFormatter\"},\"plot\":{\"id\":\"505041ec-c21c-42b6-9223-d0ce474b6d3e\",\"subtype\":\"Figure\",\"type\":\"Plot\"},\"ticker\":{\"id\":\"e2be4f72-214f-41c6-98a9-f14c8b4a10bb\",\"type\":\"BasicTicker\"}},\"id\":\"2f01a1dc-ceb0-448f-a31b-68e0b9e50e31\",\"type\":\"LinearAxis\"},{\"attributes\":{\"callback\":null,\"plot\":{\"id\":\"505041ec-c21c-42b6-9223-d0ce474b6d3e\",\"subtype\":\"Figure\",\"type\":\"Plot\"},\"tooltips\":[[\"Value\",\"@data_value\"]]},\"id\":\"5cb9831a-de34-4643-8cb7-e2c8ba30dd41\",\"type\":\"HoverTool\"},{\"attributes\":{\"callback\":null},\"id\":\"600eff97-0c2d-442f-ae9b-6d8e8f5b2005\",\"type\":\"DataRange1d\"},{\"attributes\":{\"bottom\":{\"field\":\"bottom\"},\"fill_color\":{\"value\":\"#1f77b4\"},\"left\":{\"field\":\"left\"},\"line_color\":{\"value\":\"white\"},\"right\":{\"field\":\"right\"},\"top\":{\"field\":\"top\"}},\"id\":\"13e44c36-89c1-4c85-ae96-59de4a6f7b44\",\"type\":\"Quad\"},{\"attributes\":{\"axis_label\":\"Length of Article\",\"formatter\":{\"id\":\"7dcb649d-d389-4068-b402-ebe68a782fc4\",\"type\":\"BasicTickFormatter\"},\"plot\":{\"id\":\"505041ec-c21c-42b6-9223-d0ce474b6d3e\",\"subtype\":\"Figure\",\"type\":\"Plot\"},\"ticker\":{\"id\":\"4bde73e3-c301-45b5-9518-736bf982210b\",\"type\":\"BasicTicker\"}},\"id\":\"7b2a04d6-9e36-43d6-9531-ea9f4a40e740\",\"type\":\"LinearAxis\"},{\"attributes\":{\"callback\":null},\"id\":\"f662f2b0-c865-45dd-9c7d-6403fcc34888\",\"type\":\"DataRange1d\"},{\"attributes\":{\"plot\":null,\"text\":\"\"},\"id\":\"36856539-5cbd-40c4-8372-55faa82f26fc\",\"type\":\"Title\"},{\"attributes\":{},\"id\":\"0d26afc1-2475-4378-b9b9-1f8f74fbecc6\",\"type\":\"BasicTickFormatter\"},{\"attributes\":{\"callback\":null,\"column_names\":[\"bottom\",\"data_value\",\"left\",\"right\",\"top\",\"index\"],\"data\":{\"bottom\":[0,0,0,0,0,0,0,0,0,0,0,0,0,0,0,0,0,0,0,0,0,0,0,0,0,0,0,0,0,0,0,0,0,0,0,0,0,0,0,0,0,0,0,0,0,0,0,0,0,0,0,0,0,0,0,0,0,0,0,0,0,0,0,0,0,0,0,0,0,0,0,0,0,0,0,0,0,0,0,0,0,0,0,0,0,0,0,0,0,0,0,0,0,0,0,0,0,0,0,0],\"data_value\":[426,419,497,515,492,566,472,398,349,262,134,85,65,35,15,19,23,20,19,14,12,9,4,11,6,5,3,5,3,7,7,4,3,9,2,3,3,2,0,0,4,1,0,0,2,1,0,0,1,0,0,0,0,0,0,0,0,0,1,0,0,0,0,0,0,0,1,0,0,0,1,0,0,0,0,0,0,0,0,0,0,0,0,0,0,0,0,0,0,0,0,1,0,0,0,0,0,0,0,1],\"index\":[0,1,2,3,4,5,6,7,8,9,10,11,12,13,14,15,16,17,18,19,20,21,22,23,24,25,26,27,28,29,30,31,32,33,34,35,36,37,38,39,40,41,42,43,44,45,46,47,48,49,50,51,52,53,54,55,56,57,58,59,60,61,62,63,64,65,66,67,68,69,70,71,72,73,74,75,76,77,78,79,80,81,82,83,84,85,86,87,88,89,90,91,92,93,94,95,96,97,98,99],\"left\":{\"__ndarray__\":\"AAAAAADAUEAzMzMzM2eNQDMzMzMzW5xAZmZmZmYBpUAzMzMzM9WrQAAAAACAVLFAZmZmZma+tEDNzMzMTCi4QDMzMzMzkrtAmZmZmRn8vkAAAAAAADPBQDMzMzPz58JAZmZmZuacxECZmZmZ2VHGQM3MzMzMBshAAAAAAMC7yUAzMzMzs3DLQGZmZmamJc1AmZmZmZnazkBmZmZmxkfQQAAAAABAItFAmZmZmbn80UAzMzMzM9fSQM3MzMyssdNAZmZmZiaM1EAAAAAAoGbVQJmZmZkZQdZAMzMzM5Mb10DNzMzMDPbXQGZmZmaG0NhAAAAAAACr2UCZmZmZeYXaQDMzMzPzX9tAzczMzGw63EBmZmZm5hTdQAAAAABg791AmZmZmdnJ3kAzMzMzU6TfQGZmZmZmP+BAMzMzM6Os4EAAAAAA4BnhQM3MzMwch+FAmZmZmVn04UBmZmZmlmHiQDMzMzPTzuJAAAAAABA840DNzMzMTKnjQJmZmZmJFuRAZmZmZsaD5EAzMzMzA/HkQAAAAABAXuVAzczMzHzL5UCZmZmZuTjmQGZmZmb2peZAMzMzMzMT50AAAAAAcIDnQM3MzMys7edAmZmZmela6EBmZmZmJsjoQDMzMzNjNelAAAAAAKCi6UDNzMzM3A/qQJmZmZkZfepAZmZmZlbq6kAzMzMzk1frQAAAAADQxOtAzczMzAwy7ECZmZmZSZ/sQGZmZmaGDO1AMzMzM8N57UAAAAAAAOftQM3MzMw8VO5AmZmZmXnB7kBmZmZmti7vQDMzMzPzm+9AAAAAAJgE8EBmZmZmNjvwQM3MzMzUcfBAMzMzM3Oo8ECZmZmZEd/wQAAAAACwFfFAZmZmZk5M8UDNzMzM7ILxQDMzMzOLufFAmZmZmSnw8UAAAAAAyCbyQGZmZmZmXfJAzczMzASU8kAzMzMzo8ryQJmZmZlBAfNAAAAAAOA380BmZmZmfm7zQM3MzMwcpfNAMzMzM7vb80CZmZmZWRL0QAAAAAD4SPRAZmZmZpZ/9EDNzMzMNLb0QDMzMzPT7PRAmZmZmXEj9UA=\",\"dtype\":\"float64\",\"shape\":[100]},\"right\":{\"__ndarray__\":\"MzMzMzNnjUAzMzMzM1ucQGZmZmZmAaVAMzMzMzPVq0AAAAAAgFSxQGZmZmZmvrRAzczMzEwouEAzMzMzM5K7QJmZmZkZ/L5AAAAAAAAzwUAzMzMz8+fCQGZmZmbmnMRAmZmZmdlRxkDNzMzMzAbIQAAAAADAu8lAMzMzM7Nwy0BmZmZmpiXNQJmZmZmZ2s5AZmZmZsZH0EAAAAAAQCLRQJmZmZm5/NFAMzMzMzPX0kDNzMzMrLHTQGZmZmYmjNRAAAAAAKBm1UCZmZmZGUHWQDMzMzOTG9dAzczMzAz210BmZmZmhtDYQAAAAAAAq9lAmZmZmXmF2kAzMzMz81/bQM3MzMxsOtxAZmZmZuYU3UAAAAAAYO/dQJmZmZnZyd5AMzMzM1Ok30BmZmZmZj/gQDMzMzOjrOBAAAAAAOAZ4UDNzMzMHIfhQJmZmZlZ9OFAZmZmZpZh4kAzMzMz087iQAAAAAAQPONAzczMzEyp40CZmZmZiRbkQGZmZmbGg+RAMzMzMwPx5EAAAAAAQF7lQM3MzMx8y+VAmZmZmbk45kBmZmZm9qXmQDMzMzMzE+dAAAAAAHCA50DNzMzMrO3nQJmZmZnpWuhAZmZmZibI6EAzMzMzYzXpQAAAAACgoulAzczMzNwP6kCZmZmZGX3qQGZmZmZW6upAMzMzM5NX60AAAAAA0MTrQM3MzMwMMuxAmZmZmUmf7EBmZmZmhgztQDMzMzPDee1AAAAAAADn7UDNzMzMPFTuQJmZmZl5we5AZmZmZrYu70AzMzMz85vvQAAAAACYBPBAZmZmZjY78EDNzMzM1HHwQDMzMzNzqPBAmZmZmRHf8EAAAAAAsBXxQGZmZmZOTPFAzczMzOyC8UAzMzMzi7nxQJmZmZkp8PFAAAAAAMgm8kBmZmZmZl3yQM3MzMwElPJAMzMzM6PK8kCZmZmZQQHzQAAAAADgN/NAZmZmZn5u80DNzMzMHKXzQDMzMzO72/NAmZmZmVkS9EAAAAAA+Ej0QGZmZmaWf/RAzczMzDS29EAzMzMz0+z0QJmZmZlxI/VAAAAAABBa9UA=\",\"dtype\":\"float64\",\"shape\":[100]},\"top\":[426,419,497,515,492,566,472,398,349,262,134,85,65,35,15,19,23,20,19,14,12,9,4,11,6,5,3,5,3,7,7,4,3,9,2,3,3,2,0,0,4,1,0,0,2,1,0,0,1,0,0,0,0,0,0,0,0,0,1,0,0,0,0,0,0,0,1,0,0,0,1,0,0,0,0,0,0,0,0,0,0,0,0,0,0,0,0,0,0,0,0,1,0,0,0,0,0,0,0,1]}},\"id\":\"cfca64e3-5427-4e97-9b70-86741f7f2443\",\"type\":\"ColumnDataSource\"},{\"attributes\":{},\"id\":\"e2be4f72-214f-41c6-98a9-f14c8b4a10bb\",\"type\":\"BasicTicker\"},{\"attributes\":{\"active_drag\":\"auto\",\"active_scroll\":\"auto\",\"active_tap\":\"auto\",\"tools\":[{\"id\":\"64517ac1-a0fe-415e-a04f-3a876c28728c\",\"type\":\"PanTool\"},{\"id\":\"f37c71b0-1678-4290-9acb-b555d5f10a9f\",\"type\":\"WheelZoomTool\"},{\"id\":\"bf865144-7901-4f97-a7d6-b0f791e4bb2b\",\"type\":\"BoxZoomTool\"},{\"id\":\"4ac21b40-4d43-4673-9f06-4ebe59d25efd\",\"type\":\"SaveTool\"},{\"id\":\"61496b4e-08e3-4497-9f12-fe04cf2dd0d4\",\"type\":\"ResetTool\"},{\"id\":\"a1c78e43-a6b6-4c64-af75-d89f9b652ecd\",\"type\":\"HelpTool\"},{\"id\":\"5cb9831a-de34-4643-8cb7-e2c8ba30dd41\",\"type\":\"HoverTool\"}]},\"id\":\"acd1189b-c04b-4aca-af7c-c8c2c73a1269\",\"type\":\"Toolbar\"},{\"attributes\":{\"dimension\":1,\"plot\":{\"id\":\"505041ec-c21c-42b6-9223-d0ce474b6d3e\",\"subtype\":\"Figure\",\"type\":\"Plot\"},\"ticker\":{\"id\":\"e2be4f72-214f-41c6-98a9-f14c8b4a10bb\",\"type\":\"BasicTicker\"}},\"id\":\"874eea8a-ec5d-4b17-8bdd-e1b157cea495\",\"type\":\"Grid\"},{\"attributes\":{\"plot\":{\"id\":\"505041ec-c21c-42b6-9223-d0ce474b6d3e\",\"subtype\":\"Figure\",\"type\":\"Plot\"}},\"id\":\"64517ac1-a0fe-415e-a04f-3a876c28728c\",\"type\":\"PanTool\"},{\"attributes\":{\"plot\":{\"id\":\"505041ec-c21c-42b6-9223-d0ce474b6d3e\",\"subtype\":\"Figure\",\"type\":\"Plot\"},\"ticker\":{\"id\":\"4bde73e3-c301-45b5-9518-736bf982210b\",\"type\":\"BasicTicker\"}},\"id\":\"c641ba85-cbc5-41b8-a29f-a1203d2d1c9a\",\"type\":\"Grid\"},{\"attributes\":{\"plot\":{\"id\":\"505041ec-c21c-42b6-9223-d0ce474b6d3e\",\"subtype\":\"Figure\",\"type\":\"Plot\"}},\"id\":\"4ac21b40-4d43-4673-9f06-4ebe59d25efd\",\"type\":\"SaveTool\"},{\"attributes\":{\"overlay\":{\"id\":\"8a7ee2c0-2a52-4e25-990f-4052449654d6\",\"type\":\"BoxAnnotation\"},\"plot\":{\"id\":\"505041ec-c21c-42b6-9223-d0ce474b6d3e\",\"subtype\":\"Figure\",\"type\":\"Plot\"}},\"id\":\"bf865144-7901-4f97-a7d6-b0f791e4bb2b\",\"type\":\"BoxZoomTool\"},{\"attributes\":{\"plot\":{\"id\":\"505041ec-c21c-42b6-9223-d0ce474b6d3e\",\"subtype\":\"Figure\",\"type\":\"Plot\"}},\"id\":\"f37c71b0-1678-4290-9acb-b555d5f10a9f\",\"type\":\"WheelZoomTool\"},{\"attributes\":{\"plot\":{\"id\":\"505041ec-c21c-42b6-9223-d0ce474b6d3e\",\"subtype\":\"Figure\",\"type\":\"Plot\"}},\"id\":\"a1c78e43-a6b6-4c64-af75-d89f9b652ecd\",\"type\":\"HelpTool\"},{\"attributes\":{\"plot\":{\"id\":\"505041ec-c21c-42b6-9223-d0ce474b6d3e\",\"subtype\":\"Figure\",\"type\":\"Plot\"}},\"id\":\"61496b4e-08e3-4497-9f12-fe04cf2dd0d4\",\"type\":\"ResetTool\"},{\"attributes\":{\"bottom_units\":\"screen\",\"fill_alpha\":{\"value\":0.5},\"fill_color\":{\"value\":\"lightgrey\"},\"left_units\":\"screen\",\"level\":\"overlay\",\"line_alpha\":{\"value\":1.0},\"line_color\":{\"value\":\"black\"},\"line_dash\":[4,4],\"line_width\":{\"value\":2},\"plot\":null,\"render_mode\":\"css\",\"right_units\":\"screen\",\"top_units\":\"screen\"},\"id\":\"8a7ee2c0-2a52-4e25-990f-4052449654d6\",\"type\":\"BoxAnnotation\"}],\"root_ids\":[\"505041ec-c21c-42b6-9223-d0ce474b6d3e\"]},\"title\":\"Bokeh Application\",\"version\":\"0.12.5\"}};\n",
       "            var render_items = [{\"docid\":\"5253f943-04af-45bc-aeec-c33e6e402bad\",\"elementid\":\"581aadbb-7738-4caa-a2a8-d32bb08fa0b8\",\"modelid\":\"505041ec-c21c-42b6-9223-d0ce474b6d3e\"}];\n",
       "            \n",
       "            Bokeh.embed.embed_items(docs_json, render_items);\n",
       "          };\n",
       "          if (document.readyState != \"loading\") fn();\n",
       "          else document.addEventListener(\"DOMContentLoaded\", fn);\n",
       "        })();\n",
       "\n",
       "      },\n",
       "      function(Bokeh) {\n",
       "      }\n",
       "    ];\n",
       "\n",
       "    function run_inline_js() {\n",
       "      \n",
       "      if ((window.Bokeh !== undefined) || (force === true)) {\n",
       "        for (var i = 0; i < inline_js.length; i++) {\n",
       "          inline_js[i](window.Bokeh);\n",
       "        }if (force === true) {\n",
       "          display_loaded();\n",
       "        }} else if (Date.now() < window._bokeh_timeout) {\n",
       "        setTimeout(run_inline_js, 100);\n",
       "      } else if (!window._bokeh_failed_load) {\n",
       "        console.log(\"Bokeh: BokehJS failed to load within specified timeout.\");\n",
       "        window._bokeh_failed_load = true;\n",
       "      } else if (force !== true) {\n",
       "        var cell = $(document.getElementById(\"581aadbb-7738-4caa-a2a8-d32bb08fa0b8\")).parents('.cell').data().cell;\n",
       "        cell.output_area.append_execute_result(NB_LOAD_WARNING)\n",
       "      }\n",
       "\n",
       "    }\n",
       "\n",
       "    if (window._bokeh_is_loading === 0) {\n",
       "      console.log(\"Bokeh: BokehJS loaded, going straight to plotting\");\n",
       "      run_inline_js();\n",
       "    } else {\n",
       "      load_libs(js_urls, function() {\n",
       "        console.log(\"Bokeh: BokehJS plotting callback run at\", now());\n",
       "        run_inline_js();\n",
       "      });\n",
       "    }\n",
       "  }(this));\n",
       "</script>"
      ]
     },
     "metadata": {},
     "output_type": "display_data"
    }
   ],
   "source": [
    "# Filtering articles with length less than 60 (first three bars)\n",
    "content_data = content_data.loc[content_data['length'] > 60,]\n",
    "\n",
    "# Filtering articles with very large length (removing outliers)\n",
    "content_data = content_data.loc[content_data['length'] < 160000,]\n",
    "\n",
    "# Reset the index\n",
    "content_data = content_data.reset_index(drop = True)\n",
    "\n",
    "# Article length distribution over entire corpus\n",
    "array = content_data['length'].values\n",
    "hist, edges = np.histogram(array, bins=100)\n",
    "\n",
    "source = bp.ColumnDataSource(pd.DataFrame({\n",
    "    'left' : edges[:-1],\n",
    "    'top' : hist,\n",
    "    'right' : edges[1:],\n",
    "    'bottom' : 0,\n",
    "    'data_value' : hist\n",
    "}))\n",
    "\n",
    "p = bp.figure(width = 550, height = 450)\n",
    "p.quad(top='top', bottom='bottom', left='left', right='right', line_color=\"white\", source = source)\n",
    "p.add_tools(HoverTool(tooltips= [(\"Value\", \"@data_value\")]))\n",
    "p.xaxis.axis_label = 'Length of Article'\n",
    "p.yaxis.axis_label = 'Frequency'\n",
    "output_notebook()\n",
    "show(p)"
   ]
  },
  {
   "cell_type": "markdown",
   "metadata": {},
   "source": [
    "### Topic Modelling\n",
    "The first step after cleaning article corpus is to use a generative model for finding topic distribution across all articles. We will use the Latent Dirichlet Allocation (LDA) model to generate distribution. Document-term matrix is created using CountVectorizer to tokenize words greater than 3 characters (alphanumeric) and remove tokens which appear in less than 30 documents or in more than 20% of documents. The text will be pre-processed by removing stopwords, punctuations and lemmatizing words with their part of speech. "
   ]
  },
  {
   "cell_type": "code",
   "execution_count": 98,
   "metadata": {},
   "outputs": [],
   "source": [
    "import gensim\n",
    "from sklearn.feature_extraction.text import CountVectorizer\n",
    "import nltk\n",
    "from nltk.stem.wordnet import WordNetLemmatizer\n",
    "from nltk.tokenize import RegexpTokenizer\n",
    "import string\n",
    "\n",
    "def pre_process(text):    \n",
    "    stopwords = set(nltk.corpus.stopwords.words('english'))\n",
    "    punctuation = set(string.punctuation)\n",
    "    lemmatizer = WordNetLemmatizer()\n",
    "    tokenizer = RegexpTokenizer(r'[0-9a-zA-Z]+')\n",
    "\n",
    "    def convert_tag(tag):\n",
    "        \"\"\"\n",
    "        Convert the tag given by nltk.pos_tag to the tag used by wordnet\n",
    "        \"\"\"\n",
    "        tag_dict = {'N': 'n', 'J': 'a', 'R': 'r', 'V': 'v'}\n",
    "        try:\n",
    "            return tag_dict[tag[0]]\n",
    "        except KeyError:\n",
    "            return 'a'\n",
    "\n",
    "    cl_text = (\" \").join(tokenizer.tokenize(text))\n",
    "    cl_text = (\" \").join([s for s in cl_text.lower().split() if s not in stopwords])\n",
    "    cl_text = (\"\").join([s for s in cl_text if s not in punctuation])\n",
    "    cl_text = nltk.word_tokenize(cl_text)\n",
    "    pos = nltk.pos_tag(cl_text)\n",
    "    pos = [convert_tag(t[1]) for t in pos]\n",
    "    cl_text = [lemmatizer.lemmatize(cl_text[i], pos[i]) for i in range(len(cl_text))]\n",
    "    return cl_text\n",
    "\n",
    "content_data['content_clean'] = content_data['content'].apply(pre_process)\n",
    "\n",
    "# Using CountVectorizor to find more then three letter tokens, removing stop_words, \n",
    "# removing tokens that don't appear in at least 30 documents,\n",
    "# removing tokens that appear in more than 20% of the documents\n",
    "vect = CountVectorizer(min_df=30, max_df=0.2, stop_words='english', token_pattern='(?u)\\\\b\\\\w\\\\w\\\\w+\\\\b')\n",
    "\n",
    "X = vect.fit_transform(content_data['content_clean'].apply(lambda x: (\" \").join(x)))\n",
    "\n",
    "# Convert sparse matrix to gensim corpus.\n",
    "corpus = gensim.matutils.Sparse2Corpus(X, documents_columns=False)\n",
    "\n",
    "# Mapping from word IDs to words (To be used in LdaModel's id2word parameter)\n",
    "id_map = dict((v, k) for k, v in vect.vocabulary_.items())\n",
    "\n",
    "# Creating dictionary object from the corpus\n",
    "dct = gensim.corpora.Dictionary.from_corpus(corpus, id_map)\n",
    "\n",
    "# Determining topic overlap\n",
    "from sklearn.metrics.pairwise import cosine_similarity\n",
    "def topic_sim(lda_model, num_topic):\n",
    "    topic_word = lda_model.get_topics()\n",
    "    avg_sim = []\n",
    "    for i in range(num_topic):\n",
    "        arr1 = topic_word[i]\n",
    "        sim = []\n",
    "        for j in range(num_topic):\n",
    "            arr2 = topic_word[j]\n",
    "            sim_value = cosine_similarity(arr1.reshape(1,-1),arr2.reshape(1,-1))\n",
    "            sim.append(sim_value)\n",
    "        avg_sim.append(np.mean(sim))\n",
    "    return(np.mean(avg_sim))        \n",
    "\n",
    "x = np.linspace(1, 100, 10).astype(int)\n",
    "topic_overlap = []\n",
    "for i in x:\n",
    "    ldamodel = gensim.models.ldamodel.LdaModel(corpus, num_topics = i, \n",
    "                                               id2word = id_map, passes = 25, random_state = 34)\n",
    "    topic_overlap.append(topic_sim(ldamodel, i))\n",
    "\n",
    "\n",
    "p = bp.figure(plot_width=400, plot_height=400)\n",
    "p.line(list(x), topic_overlap, line_width=2)\n",
    "p.circle(list(x), topic_overlap, fill_color=\"white\", size=8)\n",
    "p.xaxis.axis_label = 'Number of Topics'\n",
    "p.yaxis.axis_label = 'Topic Similarity'\n",
    "output_notebook()\n",
    "show(p)"
   ]
  },
  {
   "cell_type": "markdown",
   "metadata": {},
   "source": [
    "#### Number of Topics\n",
    "The above similarity vs number of topics graph can be used to determine the number of topics for LDA modelling. The optimal number of topics will be the minimal number of topics which produces maximum diversity among constituent topics. Using the elbow method, the number of topics used will be **35**. Topic similarity is calculated using cosine similarity between word-level probability distributions."
   ]
  },
  {
   "cell_type": "code",
   "execution_count": 43,
   "metadata": {},
   "outputs": [],
   "source": [
    "# Generating topic distribution for the entire corpus\n",
    "\n",
    "ldamodel = gensim.models.ldamodel.LdaModel(corpus, num_topics = 35, id2word = id_map, passes = 40)\n",
    "\n",
    "def topic_corpus():\n",
    "    bow_corpus = [dct.doc2bow(content_data.loc[i,'content_clean']) for i in range(content_data.shape[0])]\n",
    "    topic_corpus = []\n",
    "    for i in range(len(bow_corpus)):\n",
    "        topic_dist = ldamodel[bow_corpus[i]]\n",
    "        topic_dist = {x[0]:x[1] for x in topic_dist}\n",
    "        topic_corpus.append(topic_dist)\n",
    "    topic_corpus = pd.DataFrame(topic_corpus).fillna(0)\n",
    "    return(topic_corpus)\n",
    "\n",
    "topic_corpus = topic_corpus()\n",
    "\n",
    "def query_article_topic(list):\n",
    "    query_content = []\n",
    "    for at in list:\n",
    "        try:\n",
    "            query_content.append(pre_process(extract_content(at)))\n",
    "        except:\n",
    "            query_content.append([''])\n",
    "        \n",
    "    bow = [dct.doc2bow(i) for i in query_content]\n",
    "    query_corpus = []\n",
    "    for i in range(len(bow)):\n",
    "        topic_dist = ldamodel[bow[i]]\n",
    "        topic_dist = {x[0]:x[1] for x in topic_dist}\n",
    "        query_corpus.append(topic_dist)\n",
    "    query_corpus.append({i:0 for i in range(35)})    \n",
    "    query_corpus = pd.DataFrame(query_corpus).fillna(0)\n",
    "    return(query_corpus.iloc[:-1,])"
   ]
  },
  {
   "cell_type": "markdown",
   "metadata": {},
   "source": [
    "### Semantic Similarity\n",
    "**LDA** ([read here](http://blog.echen.me/2011/08/22/introduction-to-latent-dirichlet-allocation/)) provides a good way of clustering documents with similar topic distributions. Since this method relies only on bag of words model, there is no focus on the context/meaning of the document. As a result, two highly similar documents by topics may be very different in terms of article context and may not work well for a recommender system where the user will generally prefer new articles with similar context. Thus, topic similarity should be combined with a model which focusses on the semantic similarity of the articles as well.\n",
    "\n",
    "**WordNet** is a taxonomy of hypernym relationships and synonym sets. It is a good resource for finding semantic similarity between words/sentences but has some limitations. It does not work great at identifying nuances between sentences. Also, it has some limitations in comparing adjectives and adverbs since the taxonomies are very short and words from different taxonomies cannot be compared. This method, though good at finding similarity, is not very accurate and does not take into account changing/new word meanings. Detailed description of WordNet can be found [here](https://www.codeproject.com/Articles/11835/WordNet-based-semantic-similarity-measurement).\n",
    "\n",
    "**Word-Embeddings** is a relatively new domain in text analytics with some good algorithms on semantic similarity. Word2Vec and GloVe are two most popular examples. Word2Vec operates on two learning algorithms i.e. skip-gram and Continuous Bag of Words. Basic premise of this model is to represent meaning of the word by understanding the context in which it appears. Neural Network Word embedding is a predictive model which aims to predict between a centre word and context words in terms of word vectors. This model is very effective in comparing word/sentence similarities and also trains on the corpus quickly making it ideal to implement here."
   ]
  },
  {
   "cell_type": "code",
   "execution_count": 94,
   "metadata": {},
   "outputs": [
    {
     "data": {
      "text/html": [
       "\n",
       "\n",
       "    <div class=\"bk-root\">\n",
       "        <div class=\"bk-plotdiv\" id=\"02fedf84-6965-460e-93ec-452739fc86b6\"></div>\n",
       "    </div>\n",
       "<script type=\"text/javascript\">\n",
       "  \n",
       "  (function(global) {\n",
       "    function now() {\n",
       "      return new Date();\n",
       "    }\n",
       "\n",
       "    var force = false;\n",
       "\n",
       "    if (typeof (window._bokeh_onload_callbacks) === \"undefined\" || force === true) {\n",
       "      window._bokeh_onload_callbacks = [];\n",
       "      window._bokeh_is_loading = undefined;\n",
       "    }\n",
       "\n",
       "\n",
       "    \n",
       "    if (typeof (window._bokeh_timeout) === \"undefined\" || force === true) {\n",
       "      window._bokeh_timeout = Date.now() + 0;\n",
       "      window._bokeh_failed_load = false;\n",
       "    }\n",
       "\n",
       "    var NB_LOAD_WARNING = {'data': {'text/html':\n",
       "       \"<div style='background-color: #fdd'>\\n\"+\n",
       "       \"<p>\\n\"+\n",
       "       \"BokehJS does not appear to have successfully loaded. If loading BokehJS from CDN, this \\n\"+\n",
       "       \"may be due to a slow or bad network connection. Possible fixes:\\n\"+\n",
       "       \"</p>\\n\"+\n",
       "       \"<ul>\\n\"+\n",
       "       \"<li>re-rerun `output_notebook()` to attempt to load from CDN again, or</li>\\n\"+\n",
       "       \"<li>use INLINE resources instead, as so:</li>\\n\"+\n",
       "       \"</ul>\\n\"+\n",
       "       \"<code>\\n\"+\n",
       "       \"from bokeh.resources import INLINE\\n\"+\n",
       "       \"output_notebook(resources=INLINE)\\n\"+\n",
       "       \"</code>\\n\"+\n",
       "       \"</div>\"}};\n",
       "\n",
       "    function display_loaded() {\n",
       "      if (window.Bokeh !== undefined) {\n",
       "        var el = document.getElementById(\"02fedf84-6965-460e-93ec-452739fc86b6\");\n",
       "        el.textContent = \"BokehJS \" + Bokeh.version + \" successfully loaded.\";\n",
       "      } else if (Date.now() < window._bokeh_timeout) {\n",
       "        setTimeout(display_loaded, 100)\n",
       "      }\n",
       "    }\n",
       "\n",
       "    function run_callbacks() {\n",
       "      window._bokeh_onload_callbacks.forEach(function(callback) { callback() });\n",
       "      delete window._bokeh_onload_callbacks\n",
       "      console.info(\"Bokeh: all callbacks have finished\");\n",
       "    }\n",
       "\n",
       "    function load_libs(js_urls, callback) {\n",
       "      window._bokeh_onload_callbacks.push(callback);\n",
       "      if (window._bokeh_is_loading > 0) {\n",
       "        console.log(\"Bokeh: BokehJS is being loaded, scheduling callback at\", now());\n",
       "        return null;\n",
       "      }\n",
       "      if (js_urls == null || js_urls.length === 0) {\n",
       "        run_callbacks();\n",
       "        return null;\n",
       "      }\n",
       "      console.log(\"Bokeh: BokehJS not loaded, scheduling load and callback at\", now());\n",
       "      window._bokeh_is_loading = js_urls.length;\n",
       "      for (var i = 0; i < js_urls.length; i++) {\n",
       "        var url = js_urls[i];\n",
       "        var s = document.createElement('script');\n",
       "        s.src = url;\n",
       "        s.async = false;\n",
       "        s.onreadystatechange = s.onload = function() {\n",
       "          window._bokeh_is_loading--;\n",
       "          if (window._bokeh_is_loading === 0) {\n",
       "            console.log(\"Bokeh: all BokehJS libraries loaded\");\n",
       "            run_callbacks()\n",
       "          }\n",
       "        };\n",
       "        s.onerror = function() {\n",
       "          console.warn(\"failed to load library \" + url);\n",
       "        };\n",
       "        console.log(\"Bokeh: injecting script tag for BokehJS library: \", url);\n",
       "        document.getElementsByTagName(\"head\")[0].appendChild(s);\n",
       "      }\n",
       "    };var element = document.getElementById(\"02fedf84-6965-460e-93ec-452739fc86b6\");\n",
       "    if (element == null) {\n",
       "      console.log(\"Bokeh: ERROR: autoload.js configured with elementid '02fedf84-6965-460e-93ec-452739fc86b6' but no matching script tag was found. \")\n",
       "      return false;\n",
       "    }\n",
       "\n",
       "    var js_urls = [];\n",
       "\n",
       "    var inline_js = [\n",
       "      function(Bokeh) {\n",
       "        (function() {\n",
       "          var fn = function() {\n",
       "            var docs_json = {\"6ea4bda5-5646-4d65-b927-3426bc860926\":{\"roots\":{\"references\":[{\"attributes\":{\"fill_alpha\":{\"value\":0.1},\"fill_color\":{\"value\":\"#1f77b4\"},\"line_alpha\":{\"value\":0.1},\"line_color\":{\"value\":\"#1f77b4\"},\"size\":{\"units\":\"screen\",\"value\":10},\"x\":{\"field\":\"col1\"},\"y\":{\"field\":\"col2\"}},\"id\":\"6b2ece34-78c0-4c8f-b296-c6ac666e0f4b\",\"type\":\"Circle\"},{\"attributes\":{\"plot\":null,\"text\":\"Visualization of Article Semantics using PCA (doc2vec)\"},\"id\":\"c6c50e62-8ec5-4014-9666-10d4708c2993\",\"type\":\"Title\"},{\"attributes\":{\"callback\":null},\"id\":\"d00b63e2-2df4-440a-8ca1-6fb77682ae65\",\"type\":\"DataRange1d\"},{\"attributes\":{\"factors\":[\"Business\",\"Culture\",\"Health\",\"Politics\",\"Retail\",\"Sports\",\"Technology\",\"Travel\",\"Wealth\",\"World\"],\"palette\":[\"#1f77b4\",\"#ff7f0e\",\"#2ca02c\",\"#d62728\",\"#9467bd\",\"#8c564b\",\"#e377c2\",\"#7f7f7f\",\"#bcbd22\",\"#17becf\"]},\"id\":\"8838dd3c-8296-416f-9a26-ba676a85c755\",\"type\":\"CategoricalColorMapper\"},{\"attributes\":{\"label\":{\"field\":\"col3\"},\"renderers\":[{\"id\":\"221960da-f672-4b71-97bd-93c3f35d112c\",\"type\":\"GlyphRenderer\"}]},\"id\":\"18a646e3-67b7-4933-bf6f-25f7ca5d7ef5\",\"type\":\"LegendItem\"},{\"attributes\":{},\"id\":\"c1c594b1-3cd8-47ba-90a1-a300993aef49\",\"type\":\"ToolEvents\"},{\"attributes\":{},\"id\":\"31bcf410-a23c-4c1b-9ee9-65e74bc4caa3\",\"type\":\"BasicTickFormatter\"},{\"attributes\":{\"active_drag\":\"auto\",\"active_scroll\":\"auto\",\"active_tap\":\"auto\",\"tools\":[{\"id\":\"6dbe93b2-0fa3-4b59-86c0-4041e7555278\",\"type\":\"PanTool\"},{\"id\":\"20d5341b-6310-490e-a38c-e05eaeabb0fe\",\"type\":\"WheelZoomTool\"},{\"id\":\"85d00b8b-ed51-4ef5-815f-fbee0450cc5d\",\"type\":\"BoxZoomTool\"},{\"id\":\"664a0993-8487-4444-9a01-7ea3337366ec\",\"type\":\"SaveTool\"},{\"id\":\"cc6b83d4-dfe2-4a3b-b345-6ed52e8f8748\",\"type\":\"ResetTool\"},{\"id\":\"00cb41b9-761e-439e-b515-c3c8fa62d125\",\"type\":\"HelpTool\"},{\"id\":\"ddfef2df-71f3-4f4a-991b-5b983743de24\",\"type\":\"HoverTool\"}]},\"id\":\"0fd8f822-cc5c-4fb2-9fd2-aab773e458ad\",\"type\":\"Toolbar\"},{\"attributes\":{\"plot\":{\"id\":\"d3198897-e914-48aa-91fa-02e42b1c442f\",\"subtype\":\"Figure\",\"type\":\"Plot\"}},\"id\":\"00cb41b9-761e-439e-b515-c3c8fa62d125\",\"type\":\"HelpTool\"},{\"attributes\":{\"fill_alpha\":{\"value\":0.5},\"fill_color\":{\"field\":\"col3\",\"transform\":{\"id\":\"8838dd3c-8296-416f-9a26-ba676a85c755\",\"type\":\"CategoricalColorMapper\"}},\"line_alpha\":{\"value\":0.5},\"line_color\":{\"field\":\"col3\",\"transform\":{\"id\":\"8838dd3c-8296-416f-9a26-ba676a85c755\",\"type\":\"CategoricalColorMapper\"}},\"size\":{\"units\":\"screen\",\"value\":10},\"x\":{\"field\":\"col1\"},\"y\":{\"field\":\"col2\"}},\"id\":\"62d8b73e-d411-4787-8568-c9ab9e0dbe7c\",\"type\":\"Circle\"},{\"attributes\":{\"axis_label\":\"Dimension 1\",\"formatter\":{\"id\":\"31bcf410-a23c-4c1b-9ee9-65e74bc4caa3\",\"type\":\"BasicTickFormatter\"},\"plot\":{\"id\":\"d3198897-e914-48aa-91fa-02e42b1c442f\",\"subtype\":\"Figure\",\"type\":\"Plot\"},\"ticker\":{\"id\":\"8e2afbe4-6657-44fa-8344-0e8c59faf6de\",\"type\":\"BasicTicker\"}},\"id\":\"bc865f77-8f8a-4f25-bb9e-68868cf31279\",\"type\":\"LinearAxis\"},{\"attributes\":{\"callback\":null,\"plot\":{\"id\":\"d3198897-e914-48aa-91fa-02e42b1c442f\",\"subtype\":\"Figure\",\"type\":\"Plot\"},\"tooltips\":[[\"Article\",\"@col3\"]]},\"id\":\"ddfef2df-71f3-4f4a-991b-5b983743de24\",\"type\":\"HoverTool\"},{\"attributes\":{\"callback\":null},\"id\":\"f715b7f2-0293-4ece-b8ee-b689f3c77fdc\",\"type\":\"DataRange1d\"},{\"attributes\":{\"plot\":{\"id\":\"d3198897-e914-48aa-91fa-02e42b1c442f\",\"subtype\":\"Figure\",\"type\":\"Plot\"}},\"id\":\"cc6b83d4-dfe2-4a3b-b345-6ed52e8f8748\",\"type\":\"ResetTool\"},{\"attributes\":{},\"id\":\"8e2afbe4-6657-44fa-8344-0e8c59faf6de\",\"type\":\"BasicTicker\"},{\"attributes\":{\"below\":[{\"id\":\"bc865f77-8f8a-4f25-bb9e-68868cf31279\",\"type\":\"LinearAxis\"}],\"border_fill_color\":{\"value\":\"whitesmoke\"},\"left\":[{\"id\":\"8060c7ef-7ba2-4ab2-a196-c0c591518161\",\"type\":\"LinearAxis\"}],\"renderers\":[{\"id\":\"bc865f77-8f8a-4f25-bb9e-68868cf31279\",\"type\":\"LinearAxis\"},{\"id\":\"985796a1-6cd2-4429-8270-f80f87abd49e\",\"type\":\"Grid\"},{\"id\":\"8060c7ef-7ba2-4ab2-a196-c0c591518161\",\"type\":\"LinearAxis\"},{\"id\":\"9aa8acca-53ee-45cf-a821-2258359da7b1\",\"type\":\"Grid\"},{\"id\":\"30150583-a5c8-4fe1-ad9d-f24d73ee1711\",\"type\":\"BoxAnnotation\"},{\"id\":\"82a94f89-d4f0-4e60-8079-601a3623a5a4\",\"type\":\"Legend\"},{\"id\":\"221960da-f672-4b71-97bd-93c3f35d112c\",\"type\":\"GlyphRenderer\"}],\"title\":{\"id\":\"c6c50e62-8ec5-4014-9666-10d4708c2993\",\"type\":\"Title\"},\"tool_events\":{\"id\":\"c1c594b1-3cd8-47ba-90a1-a300993aef49\",\"type\":\"ToolEvents\"},\"toolbar\":{\"id\":\"0fd8f822-cc5c-4fb2-9fd2-aab773e458ad\",\"type\":\"Toolbar\"},\"x_range\":{\"id\":\"d00b63e2-2df4-440a-8ca1-6fb77682ae65\",\"type\":\"DataRange1d\"},\"y_range\":{\"id\":\"f715b7f2-0293-4ece-b8ee-b689f3c77fdc\",\"type\":\"DataRange1d\"}},\"id\":\"d3198897-e914-48aa-91fa-02e42b1c442f\",\"subtype\":\"Figure\",\"type\":\"Plot\"},{\"attributes\":{\"grid_line_color\":{\"value\":null},\"plot\":{\"id\":\"d3198897-e914-48aa-91fa-02e42b1c442f\",\"subtype\":\"Figure\",\"type\":\"Plot\"},\"ticker\":{\"id\":\"8e2afbe4-6657-44fa-8344-0e8c59faf6de\",\"type\":\"BasicTicker\"}},\"id\":\"985796a1-6cd2-4429-8270-f80f87abd49e\",\"type\":\"Grid\"},{\"attributes\":{\"axis_label\":\"Dimension 2\",\"formatter\":{\"id\":\"0eaf005b-be2a-4006-bf9b-f71284abfa26\",\"type\":\"BasicTickFormatter\"},\"plot\":{\"id\":\"d3198897-e914-48aa-91fa-02e42b1c442f\",\"subtype\":\"Figure\",\"type\":\"Plot\"},\"ticker\":{\"id\":\"7df2484d-9fcf-4ea2-b9be-440748550f81\",\"type\":\"BasicTicker\"}},\"id\":\"8060c7ef-7ba2-4ab2-a196-c0c591518161\",\"type\":\"LinearAxis\"},{\"attributes\":{\"plot\":{\"id\":\"d3198897-e914-48aa-91fa-02e42b1c442f\",\"subtype\":\"Figure\",\"type\":\"Plot\"}},\"id\":\"664a0993-8487-4444-9a01-7ea3337366ec\",\"type\":\"SaveTool\"},{\"attributes\":{},\"id\":\"7df2484d-9fcf-4ea2-b9be-440748550f81\",\"type\":\"BasicTicker\"},{\"attributes\":{},\"id\":\"0eaf005b-be2a-4006-bf9b-f71284abfa26\",\"type\":\"BasicTickFormatter\"},{\"attributes\":{\"dimension\":1,\"grid_line_color\":{\"value\":null},\"plot\":{\"id\":\"d3198897-e914-48aa-91fa-02e42b1c442f\",\"subtype\":\"Figure\",\"type\":\"Plot\"},\"ticker\":{\"id\":\"7df2484d-9fcf-4ea2-b9be-440748550f81\",\"type\":\"BasicTicker\"}},\"id\":\"9aa8acca-53ee-45cf-a821-2258359da7b1\",\"type\":\"Grid\"},{\"attributes\":{\"plot\":{\"id\":\"d3198897-e914-48aa-91fa-02e42b1c442f\",\"subtype\":\"Figure\",\"type\":\"Plot\"}},\"id\":\"20d5341b-6310-490e-a38c-e05eaeabb0fe\",\"type\":\"WheelZoomTool\"},{\"attributes\":{\"overlay\":{\"id\":\"30150583-a5c8-4fe1-ad9d-f24d73ee1711\",\"type\":\"BoxAnnotation\"},\"plot\":{\"id\":\"d3198897-e914-48aa-91fa-02e42b1c442f\",\"subtype\":\"Figure\",\"type\":\"Plot\"}},\"id\":\"85d00b8b-ed51-4ef5-815f-fbee0450cc5d\",\"type\":\"BoxZoomTool\"},{\"attributes\":{\"callback\":null,\"column_names\":[\"col1\",\"col2\",\"col3\",\"index\"],\"data\":{\"col1\":{\"__ndarray__\":\"pd7b0Hs8EkBIQ1uezaQMQEdrvyZlpwhAyaagUjdtFEDA/A1xaJwhQJa3Tqdhko8/YVodvV5E7D8RgNaFJPEeQFc+ASCkFRFAH61gK6oL878FUY7YP8/mv/TuJeSBJgtANoHXTWe7G0BlsXjiqm/4P2JrgPUTIBFAhOxBCNSWBED4pnImTr4MQFJeZ5MPXxpAAFYcmASyCECGSzYSJnYMQIkjAdX/n/I/jbqR8PcVAUBMihcNvj0VQLhvt8bg2PW/YbyJ9tgrBcAGbqJhpwQSQMiEQiGwcRdAgygf8Wp29j9mu3E2/6YFQFPLG9WDzwxA+JdS9M0SFUDEZdDqzfv3PzUKYnpaE/8/vL7fAwR/+j9+e/yhaUgQQHpGMxGMxA5AXFJ2lCsXE0D8Gbq3NP8KQOwxMbGsWvs/ZNibTNmhob9eMgYJeML7v7DZniKLDgpAHKmvgemZtb9vT3uHTmMQwCM2w8N64fY/zkwaNvfk8D/ulOvCm/ALQPv6pn6psiBAHZD2Cr8JCsDYNtIVBZUYQLFgjE89yBVAm6+m6vi8GkDAKQBeOIEUQGtZO+4KxghAvzlYQ8zQEUCL+HcWxantPy1I7HKa9gtA12O/2mmyAsB+vjcR/xMKQKFfMex7xBBAU8w1fbS4FkB08Zo41hsIQD+moSnZKhpA2kVau5UOAsAC0Vk0CuEIQG+6FzpifwFA5eLQu9hXFUA0w/107JUaQJjQO+BMJ+s/k3TTv+UTGkCDESrCn+cIwIKmiu4ITwXAH44wABW3+796vShJ168RwP/fXHJS//q/3GuMsiYw37+rNpapeaIUwCuDtjhynRDAsyzCLR1r+b+bW87PXy4SwCoioSnHEQLAAIy+4F2PEsAJcJLqsCcbwP07bCQZHQjAUgCVuakrCcBJwmVfyHb+v3KOQvFQ8AXAL0c/f2+NFsCkpR75wWrHPznqkTPAfRLAnkv9ew65AsCEbtXWthEawKkGO+9ut+u/3d5ufryWGMCRiF8FOFsXwLM+3VmeMxTAYDTMMYd+AMDP11jixaIVwE3Vz1T8MB7Ab82cKZJsFMBAVlF3ZwQXwLcs9Noh3hvAZVWcQdl2DsAIuZtnoY36v4T+3Z9JjxDALBj4bmzHEMB4ECLnwVYZwPuLuU7OQBXAJ7+21uCADsCIzlviUJcSwIceazQZCBvAeLLluOaTGsC2Es71jl8IwGCbhZhXqxzA+rb7mKhkGMANjSxxYPMBwBDJeBBvIhDAfUiFhjar67++urVVJoMawMpheb0vvAzA9EyX7V9OCMCdzJzLJ+0PwHnj6/MlZRHAOGmHiAuLE8D1+LdKqb0RwNz1B+CZhhvAeocdaRMXEsAumQopAHn7v/zk0y+7S/+/AwDJJEpZA8DLVbxr484awMjxPsrYphXA1A7h8BaF778ZF24pBVUIwEeHzVUFShjA00v6MzKeE8Dy3jgDXokFwKJmiajX9RTAdSJiwRtLG8DHUKuO4KAXwDLuG4LojvQ/BhzI0cjP5b+7or0fPMD+P4Q1Xt1NtuE/a+X0XsDq8b/Izi+veZ4DQNUhVc+GaSJAQB9eOjz0wL93d/ksKsqpv+rlQQpGP/e/xPJEZ8I96r9DArgMKrPav637TRF3wey/XVKHH7jNwD+2B32RSPP5P80AB/Kc+ANAOblm+JT+2L/QHOmMNcZJP+8bqms9FQBAhrZfY3lV8j/98VS6ORbtv8mk9uSw+RhASLlqEfZPGkDgmfWJIHkQQElb6QWHV/E/8deGoxNbI0DXnPjbTIvkv3Pzl3oYMM2/NgTCojp7BECnxIhiyeaXv9x3cjzf9dq/TPHjbvIX0r9GbDrmExLWv6JuH1Jpbt+/zV1YJLGm27/+imS4gTzaP21a3mDLJro/tNq0znD96b+4G5OXBQkGQFf1kj4IveU/Ta6ixlZqEkAakna8VGDxvxbAQHvPBQRAdEHs2i9p4z8mSn9G65MaQO2RnLnwiAlAEyhjzJ8uFkDvFppUAlX7P8372wfhKNS/E2hWx3tL4j+dcOifXBsDwA2Qhukkq/C/muXVCCXl+L8IUjcHePIGwM9DvKC8WhHAfjpNoddyCMCoCzFckjcVwBWUGUvvcAvAVnV6YPB787/JbTQjq1UJwIj8D8IC6A3AiN+FVBdq/L92EKpwxOAIwOcvbsQR/xLAXLVdgT54/b+RSrZVLTMGwPxzFCUtjwLAp4TJLjQGE8CyaedesPYQwAM16mnQkxHAtT9VDoQrDMAu+OKXyG4DwFU3P/J6AQfAfNDokgGM/b+Q98kvGFv0v7QRkJ6QsgjAjjcwBDwS3b+wRaIvTOEOwKF+/K8lT9m/g+1zB79wAsBA0SwYWtIXwLMsNovK4QrADyJqL8IlE8BxpGkOccnhv6+dTveHJQ7AXgLOfWpbEUDBFfAATJr5P6o9+XAx7ts/1YALYURQDUDchyYZw+kUQL6UvAmyiOE/q1SArQMZ/j90uZyQv98EQPgxClp5IBJAfFfJCw/HDUCBIoffRUIAQMBMLalTnwlAIHAjLgvL+T/IOsOcxKMIwL3WiPP+8fm/V+nHvUTn/L8r4lhDq0EBwKr7z/RZsgDAOvhoxOcICUCET9GaWtoNQHYgoHlZpgRANVFjZSMuBECKmid+XarlPzOHQ2cAV+w/3WqqJdht8T+gWUFIYRIOQCskiUQo6BBAdks8HiewAEBcl0jB+yrjP3HywYuiGxRAChQcsaAYAEDy87GV92fjP/X2LHSCiANA+QcXcr5/zL+d+0dmqF4OQIn/9ilYQPk/XfMztHxUEECNYW++yxjFPz6jWWLfGwRAQMP7FzWA/D8N+Ga+AZ2+vwXr/a83cgfAQYwVt6s4AUDEdqOGPzXtP5EuUNw+1tc/V+m20p7D2r+P+3Zf508DQKC9s/J4kOI/29Au9LlN+r+HgO2E86jQP5cDkScbUQtAGgq6KXdL8D+MwvSSGrbgv6KfYkaqW+a/bQ0HQCAX4b8liyGUjmfxP2wYydPD6/K/AnXvyl7NAEA4VUOIX+73P8LWHHxT+QTAwHNyz7S54L8F/nCbejHev4yaj3K5zu+/eezAQTrnDkCmN3y3uHTqPwZlTPlcaBBAU6dF6zNi+T98JSuHMDbmP4kZQ/bZafG/lGGzhJ9i7L92Hc8aylKLP3i0fVlCGey/H6bOGXzu5L82+tQb6lTgPxZsibMp0uO/U2IiVcYP2r9vasAAnl7ov1m7Q/FjYPs/Lrl/B10dCUC1C1DSmKCkP18v1PDH8vo//ojYlL3c4T9OuBCxA3j2P7pbPyIH/xlAvf0z4N0dDkCkNny0V6/1v8cfbVCoYgtA3ifz2LAbFUD7cleMKmLBv/bIEW7QNf4/Qa6G9DY13z9/VvByO3fzP7LwYaqSkeg//QGMhDC+4z+awMyvXyEbQBRj2lBIr/+/k4jlkub/4b/iH8SmnZrjPyK0FPoB4Q3Akqj7d26uCsBDalvKY+MUwHS+Jvl2Iu4/z6SdURDLB8BT5F9Ulbr5v4a7UtU0J+6/d/KlBlk8BsD65KxSChgNwJ7/3x6kVQ/AtfD+F5hQD8DQidPXG4oSwOt0cCOZtuY/x+lai5BqEMDY3pE3zXoSwNhK6GXUAgnAicjlXDSgFMDhPla3yagQwIk4o7GnuRfAhgE4ul+ICcCBP437cecUwNXhOQiMkhXA9+2O7sfi8T9yHXhrkdj7P9QojjMxL/a/5eyK/HkjAsAsWw8UdZMRwAprtBlOQQDA6gbAK3Ah97/xESewSgkMwPqtYK9h+QLA2VeRbURsE8Db8mFFX7QdwNUkya0O1vE/RjAMgZo597/o+MPb9EoGwI6bVjQPfRHAqqASjd8JAsDNoY7dmJUIwNJ457m9Sh/AVT4C3PYn8r8SfVXq82jXv8KbsNViVwjAk6o84zTSH8BlyRlBpTMQwK01aGTdagzAEV7/ODvlDMBGXG+tpeQOQI4V3RgS3ARAQiq0Vg4vA0AIY+/K80sMwBlzgEBgbBHAldhW3CB3FMAsUBV4QiMDwDF0mdcq1BjAD6anCL8r17/849NdO3zUP7+hB+n4o/k/ziaSJfUcCcDBpSAtQ2ISwK4xRuasZRTApLujj08I+r+01ms3Wb4OwEaFxOYMLBbAddtBZwnqFMDIAi48ZKIAwAJGzd8wXxHAiIS6THJw3b+G1aHhhdnmv6rsa3XJgAlAcxA2TJ0uDkDfikSbliYcQN5C/MYahxBArF7QGkeX+D9dmorCBqaqv+Q9gmjhec0/7wATI1Ej6z/7nSFtDdfWv6PmwHKKJKC/GIOB7HhV0j818G0/6nLaP9JES86chtU/zlWDLA+W+z+kbSTstYzjv5jmzsXzMek/fdx9Xa0NAkBVVT5CX24GQMsY2AyBzvw/xVUxKs0NGEDdCH9zyJHYv0TJxATrTAnASQzfHEQCEkBx1pP4kLKzP+qHjZKh+f+//kqI/644AsA=\",\"dtype\":\"float64\",\"shape\":[418]},\"col2\":{\"__ndarray__\":\"qzMkPoeqBMAPjhi3VHz+vxwbkG37KCDA3Fwa8DkqEMCToHkXzpwYQOQvdtSfX+0/0dQ20hd4G8ASJtUeTzsMwJVrx9zwCQbA4JGTYVpzEMDP44hWe7IgwAg80NQROxXAXRxOZ3ueFcDXnevd1xH0vxHlBBdGmwrA9rLO82G9DsDv8k200BYSwPdBCdsF6BfAN79gxR1dDcDFS9A+MYv0vyhSUEkpPx3AGRqWH3Zw4r/PbX1KlDgRwDd3B2ZKmtu/W9Mne8w4/L+Gu/eglsb7v8YVNqpzyg/AD9FpL0SBGcAzojFCLyQPwIl53bvfTBFAR1ShMSeiD8AKRVz5jHcIwEgNRgqBygbAzoV6kwfy9791H1CS6bwOwAM00iUqJBTASM3F2xwY+b9Pi/QcS00gwDuUQmyKdBrAN3q1A5RK8L/jukIpP1gYwIrrvSp31wbAf3aw39NE+b+piHXWL5gDwIw0pH/3wOe/Gs0HR4rmEMBprAqibaIAQDgmAAYT3gnAoBHiBwp3EcCnwoDtjeIOwBIauqhOLhHA8wW9O5yUA8AYnlf2RVQQwI0PIqBn/hDA4EWqev8x+b9GtAi9ijsCwDVpbEJZpPE/yCT8ZdZT4T9342YWe0UawEDYTpfkgvS/V4AtFfLsCsCD+HW/HYMIwDAGULBbhBTAozuiuNIZ/7+6CmGkCoUSwPlEdqcOqRPAqMYOxATiD8A1D9JkZo0NwIfRpY1Twuc/F7SWRrl087+kzYvCVjwAQJdzAumnMwZAmA5yb/57AUDpI6P/eJXGP8BsW7oMzgZA4JBKsz83EUDrQRPASBkJQIaR0JCRoPg/t0bQV26oyr99YtgIl331v0n1Jad1DfY/vMQZ4OKuA0CdaFNPFwcWQHjPAsa18O8/aV0X9S9JGUCyh0g1Vc7Zv3qR9dlfC+C/1Iux7cLQBkBBOs/nfkH5P1H++npP4AJAPiU/0uau+D+ujGdL5z8WQAusI4ZIfgJAsF4h6lxeAkCFTuP4ElHpP3R5s0ulhs8/56CYxboz6L/bKuJ0WwkYQHnRI3TzpBFAV9qBhhSX3L/1XoZbvogKQBKGEVdPA+a/wFmnK0vZ4r+sW4Qg39frP70W+SJn4vc/qunF7FXaEUC62GVmv4QCQOxaZaGQWANAoRRrHtw3779CPR+rcP4GQFeY111HXAVAhHSjsr9cEkAjvKuvxPe1v/F0xAaOjPM/8htEu+Lp7D/U2BRAWX4BwMMkA/rSDty/NtUY4Xb4/j/NINJP6I4MQMtt4GrNcANAJ74Zh6RjAUDEykRLVFEEQJxI0kvFSeu/vjJzIsElEEDVQMYi27MKQPKuhu7ku7U/DT7A7gLADkAtr5swRC0SQGSusJTB6+M/qafL67efoz/msLECcL4BQL6BLhjdCfs/vmSYZbZY9b/YuDD66QMTQCATxARpMfM//vshtLlMC0AWm3sWWtjJP3AH+rISSwtAUSvRDuWTDkBH74vHNaEJQKV3OXl1hdc/uq/v49QT4D/mRcP5IPfhv97FVshUHNy/HMHBUcrd6L/V57nhB+EAwMado+k+PhzAoPhlUa4r4j9CYC1UgY7aP5Ogmh023es/H9sIfOSf2T/2yjuxGi2SP6cuiHr/bdc/5caazZid979xtkL7dU/uv+5DSwi3VBVAnhmqQyLPAcBl+KZrHXvrv+UtklO6dwlACrQYhnQZ+j/im3dnJKTYP9yshqsmVBRAcSV2yWUmFEB6gaz8rr0AwOU+jwJljgRAHuhpn55TG0CrHI9V12wJwLj4RyaY3Jg/oA5M5tH3AMBJPrI+aaTdP16K6SPOWKo/Hi+TSsK1yz9PwL9UgMvRP/P1d1pMq8I/Z5A7Uux0rD+Uej2wdmvgv/GSb3Zt29y/tfamQFHR8T8RaewvY7/xP6Fz+f9syAjATvjvnoqX/b+/AcgP6NUQQOmMC3aVDpO/WUAw0t2TEEBDIoX2v4z6PxdqUdILwtu/O7kWQZRy8z99yjO6zssaQKXYVSnkbN0/2OxczE0j0L+MppIWSzjkP7uzgXhrIuY/Mnab7+aoFsD4HIegRT4XwPM6XWNU9hrAD/HtphBIxj+OTHLvjx/5P/I0ALrvsfK/a8GTtBjq8b+Lz/9MBRfgP5MVG3xCnAjAcaLAqILI97/9reDKqhb2vweV9R6qJRXAWbF1LaZj8b8mCImy7M7pP+SOL6XOERXA2miae2qJDsDxqEJM5iIgwJC3p3kV4BjATQndf1rZ5T/+TAPbnXL/v3J90mPKihLAYpN+VHCF8T8ZJ+G2PU7hvwAU/YECMB3AXg+xRRJsxj+4XS+hKFsSwGLHMEYtlBzAfcIUTfAWFsDD/GVx8UfeP11v86dzSBHAjJZue4uyIcDzzNuGiiUTwEm0+BcvaQBATT1yAJqlE0AAjhB5+FIUQP9oWzpjbxdAK/nkmaWiGkBPyD/HwOEhQKjM+ffmsBJAfIKi/geT+j/KsuGjc/7aP6p6wdDy9gdAgMnIPJ90AUARnNa358MYQF+WLtVPSCFATKr6HDgfEkBmWMSiMfAdQC3tkVcEIAdAMo5jANZDCkCgnkBDOcEJQC2zPKb8wQVAnu4UcJ9rEUBYC9ksfxoFQMX4Edl66/0/drzdo2NaEUDotfr7ToURQNSWS4CiXxJAM/p9csrV8j/3vlNdI4EaQHD33+lvZOY/dzzw1W7oAkDWzUczE9ENQFScYiGotSRAdgalQiPzH0Dnzmh3hg7/P6LRIR4MZApABZ30SoH7wT8gEGNv/5ADQIYFE0iTlQ1AbFTwljbd6T9/alx0axMbQN6abybOv9C/LdPhrrl8D0CwlGvea7TvP+bc/WWLldI/NOfuS8ip779mXe5LmjfzP0W5JIXKIRxAbV8IttYSCUAo1hqF3SQFQO92VTvqhRZAqzw3Xv1KFEBayV0o1RgQQN4Pkq/4twdAhawoKSllAUBLhJyIOp4LQBaEQacUPQxA4nyvJEw4DkBK0Oh+5BT5PyPrahBqsAtAXFNViej5DEA1uRcujrsSQI7qi1NHtgPAfnNpUE9pBUDTuDt1OPgLQLGY3hSGIgBAenmz/LBvAMBp1DFcVHrgP7E2QI/Xlvi/h82nSExnDMAngiQK8UgQwJ1hHWGpDfQ/8QedrIRo2D9Z0pMWKyTKv20G364H8u6/AWmMMDWV6b8ysp/qzmAUwDj2XZ2pmLK/eJoBHQ/d7b9jrbJjRk7Qv9hmNm8FfhPAr5+1Jjp/FsD4HviOuLPVP+25o4N6afG/+CfpsT2X3j/lDYxGbY0VwLvDs144DQvAQZy9VzKS9r+rgvSWOUISwMU7KfZ6mw/AZKD7joeCC8A8NuTFScPfP66EJ9hp9RDARWz/m6L80b+iumXaR6kTwPBg+sT52se/WXxuH/40tT8Q5vuEgRvEv3kBq+GejQjAwF5d6hSlxD/Ieszcp932vyEDBFL/IwjAQIqBH3N56L9sI2cgZIAOwOjL7MIgxui/syzzXWFs9j+c64HG84PXP3ljihF0FPa/F97lB1lA6j93KAFmver0P4Nwanuxlem/HndJfBDjEMBA8qQvXyICwJcZN6M12wjA0dcOTspd8T+7msfJczYUwDWATYCF/RHAloY2duyqAcBBqHZ/Np34v2hJ+vPBsOq/dn5jwkNO7b8RNBymejsSQB4gJSOEswHAt3eF9MDK9b98cgriI54AwMmsthRLZ/K/cYULYyOAHMAKwFeobHrjv096+NvSxwrA5A5Vx7qBDkCKNZJmbjEEwO2qZn0eDMO/bCWgAFTw1z/qE7NYmZbsv98NzlrqItw/+PtHWHI5+D+UogrDO1cHwGatmyBPngDAddBgD1cfEcDNVKYX1wT1Pxj6ypyEp7a/6DkhizrkGcDlFqx0wdQSwK5gQgD7gg/AMVLZS+kxwz8nt5MXGHAFwGKwo2ENbva/QZO9C2R1+L8hb+W4/33pv9LtIyvXQPQ/E9IDWs9eBsCx6Ms7+1AIQCL5DVsN7uM/wju3Gl7xBsDBj4j2ckgZwDdBMN+1tADAV2M4ocba9z+upr4ExjigP0K7mon1D9K/JJp5YDl75j80VyxBpu73v7v8G4YSVABAIJXLdGZB7L/xhbYjhqrxvypn0ubFw9c/WGxqKZ5IC0BOgQAOp/fsP9KmoxSklgZAoNyNMCPpA0AZGsyJ7MLLv3pmVFEaLBPAAOHfYSZJG8CO6W53ua8fQO2GEYIcnhZAnmMxspwMFUDEzPyh8+nwP727A4cSi/8/vTtTxZ5IB0CIVTj6UBHWP6FV0rfAcP4/KcCaFlq/+D/z2DGPdC4RQNUSTujtayhAGjsaHhSa8j/No61GLan/v6xK6uuUIRdAkvijverd7L9YCgcxceoRQNP5dknw0/Y/5wMb9hXWDECOdlHVdmQYQKHtsKAJ7gxAoeHOIwshHEAIqEdBpsgAQM5w5/CR7vo/qxTuaq8b+j8=\",\"dtype\":\"float64\",\"shape\":[418]},\"col3\":[\"Business\",\"Business\",\"Business\",\"Business\",\"Business\",\"Business\",\"Business\",\"Business\",\"Business\",\"Business\",\"Business\",\"Business\",\"Business\",\"Business\",\"Business\",\"Business\",\"Business\",\"Business\",\"Business\",\"Business\",\"Business\",\"Business\",\"Business\",\"Business\",\"Business\",\"Business\",\"Business\",\"Business\",\"Business\",\"Business\",\"Business\",\"Business\",\"Business\",\"Business\",\"Business\",\"Business\",\"Business\",\"Business\",\"Business\",\"Business\",\"Business\",\"Business\",\"Business\",\"Business\",\"Business\",\"Business\",\"Business\",\"Business\",\"Business\",\"Business\",\"Business\",\"Business\",\"Business\",\"Business\",\"Business\",\"Business\",\"Business\",\"Business\",\"Business\",\"Business\",\"Business\",\"Business\",\"Business\",\"Business\",\"Business\",\"Business\",\"Business\",\"Business\",\"Business\",\"Business\",\"Culture\",\"Culture\",\"Culture\",\"Culture\",\"Culture\",\"Culture\",\"Culture\",\"Culture\",\"Culture\",\"Culture\",\"Culture\",\"Culture\",\"Culture\",\"Culture\",\"Culture\",\"Culture\",\"Culture\",\"Culture\",\"Culture\",\"Culture\",\"Culture\",\"Culture\",\"Culture\",\"Culture\",\"Culture\",\"Culture\",\"Culture\",\"Culture\",\"Culture\",\"Culture\",\"Culture\",\"Culture\",\"Culture\",\"Culture\",\"Culture\",\"Culture\",\"Culture\",\"Culture\",\"Culture\",\"Culture\",\"Culture\",\"Culture\",\"Culture\",\"Culture\",\"Culture\",\"Culture\",\"Culture\",\"Culture\",\"Culture\",\"Culture\",\"Culture\",\"Culture\",\"Culture\",\"Culture\",\"Culture\",\"Culture\",\"Culture\",\"Culture\",\"Culture\",\"Culture\",\"Culture\",\"Culture\",\"Culture\",\"Culture\",\"Culture\",\"Culture\",\"Culture\",\"Culture\",\"Culture\",\"Culture\",\"Health\",\"Health\",\"Health\",\"Health\",\"Health\",\"Health\",\"Health\",\"Health\",\"Health\",\"Health\",\"Health\",\"Health\",\"Health\",\"Health\",\"Health\",\"Health\",\"Health\",\"Health\",\"Health\",\"Health\",\"Health\",\"Health\",\"Health\",\"Health\",\"Health\",\"Health\",\"Health\",\"Health\",\"Health\",\"Health\",\"Health\",\"Health\",\"Health\",\"Health\",\"Health\",\"Health\",\"Health\",\"Health\",\"Health\",\"Health\",\"Politics\",\"Politics\",\"Politics\",\"Politics\",\"Politics\",\"Politics\",\"Politics\",\"Politics\",\"Politics\",\"Politics\",\"Retail\",\"Retail\",\"Retail\",\"Retail\",\"Retail\",\"Retail\",\"Retail\",\"Retail\",\"Retail\",\"Retail\",\"Retail\",\"Retail\",\"Retail\",\"Retail\",\"Retail\",\"Retail\",\"Retail\",\"Retail\",\"Retail\",\"Retail\",\"Retail\",\"Retail\",\"Retail\",\"Retail\",\"Retail\",\"Retail\",\"Retail\",\"Retail\",\"Retail\",\"Retail\",\"Retail\",\"Retail\",\"Retail\",\"Retail\",\"Retail\",\"Sports\",\"Sports\",\"Sports\",\"Sports\",\"Sports\",\"Sports\",\"Sports\",\"Sports\",\"Sports\",\"Sports\",\"Sports\",\"Sports\",\"Sports\",\"Sports\",\"Sports\",\"Sports\",\"Sports\",\"Sports\",\"Sports\",\"Sports\",\"Sports\",\"Sports\",\"Sports\",\"Sports\",\"Sports\",\"Sports\",\"Sports\",\"Sports\",\"Sports\",\"Sports\",\"Sports\",\"Sports\",\"Sports\",\"Sports\",\"Sports\",\"Sports\",\"Sports\",\"Sports\",\"Sports\",\"Sports\",\"Sports\",\"Sports\",\"Sports\",\"Sports\",\"Sports\",\"Sports\",\"Sports\",\"Sports\",\"Sports\",\"Sports\",\"Sports\",\"Sports\",\"Sports\",\"Sports\",\"Sports\",\"Sports\",\"Sports\",\"Sports\",\"Sports\",\"Sports\",\"Sports\",\"Sports\",\"Sports\",\"Technology\",\"Technology\",\"Technology\",\"Technology\",\"Technology\",\"Technology\",\"Technology\",\"Technology\",\"Technology\",\"Technology\",\"Technology\",\"Technology\",\"Technology\",\"Technology\",\"Technology\",\"Technology\",\"Technology\",\"Technology\",\"Technology\",\"Technology\",\"Technology\",\"Technology\",\"Technology\",\"Technology\",\"Technology\",\"Technology\",\"Technology\",\"Technology\",\"Technology\",\"Technology\",\"Technology\",\"Technology\",\"Technology\",\"Technology\",\"Technology\",\"Travel\",\"Travel\",\"Travel\",\"Travel\",\"Travel\",\"Travel\",\"Travel\",\"Travel\",\"Travel\",\"Travel\",\"Travel\",\"Travel\",\"Travel\",\"Travel\",\"Travel\",\"Travel\",\"Travel\",\"Travel\",\"Travel\",\"Travel\",\"Travel\",\"Travel\",\"Travel\",\"Travel\",\"Travel\",\"Travel\",\"Travel\",\"Travel\",\"Travel\",\"Travel\",\"Travel\",\"Travel\",\"Travel\",\"Travel\",\"Travel\",\"Travel\",\"Travel\",\"Travel\",\"Travel\",\"Travel\",\"Travel\",\"Travel\",\"Travel\",\"Travel\",\"Travel\",\"Travel\",\"Travel\",\"Travel\",\"Travel\",\"Travel\",\"Travel\",\"Travel\",\"Travel\",\"Travel\",\"Travel\",\"Travel\",\"Travel\",\"Travel\",\"Travel\",\"Travel\",\"Travel\",\"Travel\",\"Travel\",\"Travel\",\"Travel\",\"Travel\",\"Travel\",\"Travel\",\"Travel\",\"Wealth\",\"Wealth\",\"World\",\"World\",\"World\",\"World\",\"World\",\"World\",\"World\",\"World\",\"World\",\"World\",\"World\",\"World\",\"World\",\"World\",\"World\",\"World\",\"World\",\"World\",\"World\",\"World\",\"World\",\"World\",\"World\",\"World\"],\"index\":[336,337,338,339,340,341,342,343,344,345,346,347,348,349,350,351,352,353,354,355,356,357,358,359,360,361,362,363,364,365,366,367,368,369,370,371,372,373,374,375,376,377,378,379,380,381,382,383,384,385,386,387,388,389,390,391,392,393,394,395,396,397,398,399,400,401,402,403,404,405,441,442,443,444,445,446,447,448,449,450,451,452,453,454,455,456,457,458,459,460,461,462,463,464,465,466,467,468,469,470,471,472,473,474,475,476,477,478,479,480,481,482,483,484,485,486,487,488,489,490,491,492,493,494,495,496,497,498,499,500,501,502,503,504,505,506,507,508,509,510,1214,1215,1216,1217,1218,1219,1220,1221,1222,1223,1224,1225,1226,1227,1228,1229,1230,1231,1232,1233,1234,1235,1236,1237,1238,1239,1240,1241,1242,1243,1244,1245,1246,1247,1248,1249,1250,1251,1252,1253,2558,2559,2560,2561,2562,2563,2564,2565,2566,2567,2638,2639,2640,2641,2642,2643,2644,2645,2646,2647,2648,2649,2650,2651,2652,2653,2654,2655,2656,2657,2658,2659,2660,2661,2662,2663,2664,2665,2666,2667,2668,2669,2670,2671,2672,2939,2940,2941,2942,2943,2944,2945,2946,2947,2948,2949,2950,2951,2952,2953,2954,2955,2956,2957,2958,2959,2960,2961,2962,2963,2964,2965,2966,2967,2968,2969,2970,2971,2972,2973,2974,2975,2976,2977,2978,2979,2980,2981,2982,2983,2984,2985,2986,2987,2988,2989,2990,2991,2992,2993,2994,2995,2996,2997,2998,2999,3000,3001,3207,3208,3209,3210,3211,3212,3213,3214,3215,3216,3217,3218,3219,3220,3221,3222,3223,3224,3225,3226,3227,3228,3229,3230,3231,3232,3233,3234,3235,3236,3237,3238,3239,3240,3241,4107,4108,4109,4110,4111,4112,4113,4114,4115,4116,4117,4118,4119,4120,4121,4122,4123,4124,4125,4126,4127,4128,4129,4130,4131,4132,4133,4134,4135,4136,4137,4138,4139,4140,4141,4142,4143,4144,4145,4146,4147,4148,4149,4150,4151,4152,4153,4154,4155,4156,4157,4158,4159,4160,4161,4162,4163,4164,4165,4166,4167,4168,4169,4170,4171,4172,4173,4174,4175,4384,4385,4843,4844,4845,4846,4847,4848,4849,4850,4851,4852,4853,4854,4855,4856,4857,4858,4859,4860,4861,4862,4863,4864,4865,4866]}},\"id\":\"f31965d4-753f-4962-b1c7-a709bf7bf004\",\"type\":\"ColumnDataSource\"},{\"attributes\":{\"data_source\":{\"id\":\"f31965d4-753f-4962-b1c7-a709bf7bf004\",\"type\":\"ColumnDataSource\"},\"glyph\":{\"id\":\"62d8b73e-d411-4787-8568-c9ab9e0dbe7c\",\"type\":\"Circle\"},\"hover_glyph\":null,\"muted_glyph\":null,\"nonselection_glyph\":{\"id\":\"6b2ece34-78c0-4c8f-b296-c6ac666e0f4b\",\"type\":\"Circle\"},\"selection_glyph\":null},\"id\":\"221960da-f672-4b71-97bd-93c3f35d112c\",\"type\":\"GlyphRenderer\"},{\"attributes\":{\"bottom_units\":\"screen\",\"fill_alpha\":{\"value\":0.5},\"fill_color\":{\"value\":\"lightgrey\"},\"left_units\":\"screen\",\"level\":\"overlay\",\"line_alpha\":{\"value\":1.0},\"line_color\":{\"value\":\"black\"},\"line_dash\":[4,4],\"line_width\":{\"value\":2},\"plot\":null,\"render_mode\":\"css\",\"right_units\":\"screen\",\"top_units\":\"screen\"},\"id\":\"30150583-a5c8-4fe1-ad9d-f24d73ee1711\",\"type\":\"BoxAnnotation\"},{\"attributes\":{\"plot\":{\"id\":\"d3198897-e914-48aa-91fa-02e42b1c442f\",\"subtype\":\"Figure\",\"type\":\"Plot\"}},\"id\":\"6dbe93b2-0fa3-4b59-86c0-4041e7555278\",\"type\":\"PanTool\"},{\"attributes\":{\"items\":[{\"id\":\"18a646e3-67b7-4933-bf6f-25f7ca5d7ef5\",\"type\":\"LegendItem\"}],\"plot\":{\"id\":\"d3198897-e914-48aa-91fa-02e42b1c442f\",\"subtype\":\"Figure\",\"type\":\"Plot\"}},\"id\":\"82a94f89-d4f0-4e60-8079-601a3623a5a4\",\"type\":\"Legend\"}],\"root_ids\":[\"d3198897-e914-48aa-91fa-02e42b1c442f\"]},\"title\":\"Bokeh Application\",\"version\":\"0.12.5\"}};\n",
       "            var render_items = [{\"docid\":\"6ea4bda5-5646-4d65-b927-3426bc860926\",\"elementid\":\"02fedf84-6965-460e-93ec-452739fc86b6\",\"modelid\":\"d3198897-e914-48aa-91fa-02e42b1c442f\"}];\n",
       "            \n",
       "            Bokeh.embed.embed_items(docs_json, render_items);\n",
       "          };\n",
       "          if (document.readyState != \"loading\") fn();\n",
       "          else document.addEventListener(\"DOMContentLoaded\", fn);\n",
       "        })();\n",
       "\n",
       "      },\n",
       "      function(Bokeh) {\n",
       "      }\n",
       "    ];\n",
       "\n",
       "    function run_inline_js() {\n",
       "      \n",
       "      if ((window.Bokeh !== undefined) || (force === true)) {\n",
       "        for (var i = 0; i < inline_js.length; i++) {\n",
       "          inline_js[i](window.Bokeh);\n",
       "        }if (force === true) {\n",
       "          display_loaded();\n",
       "        }} else if (Date.now() < window._bokeh_timeout) {\n",
       "        setTimeout(run_inline_js, 100);\n",
       "      } else if (!window._bokeh_failed_load) {\n",
       "        console.log(\"Bokeh: BokehJS failed to load within specified timeout.\");\n",
       "        window._bokeh_failed_load = true;\n",
       "      } else if (force !== true) {\n",
       "        var cell = $(document.getElementById(\"02fedf84-6965-460e-93ec-452739fc86b6\")).parents('.cell').data().cell;\n",
       "        cell.output_area.append_execute_result(NB_LOAD_WARNING)\n",
       "      }\n",
       "\n",
       "    }\n",
       "\n",
       "    if (window._bokeh_is_loading === 0) {\n",
       "      console.log(\"Bokeh: BokehJS loaded, going straight to plotting\");\n",
       "      run_inline_js();\n",
       "    } else {\n",
       "      load_libs(js_urls, function() {\n",
       "        console.log(\"Bokeh: BokehJS plotting callback run at\", now());\n",
       "        run_inline_js();\n",
       "      });\n",
       "    }\n",
       "  }(this));\n",
       "</script>"
      ]
     },
     "metadata": {},
     "output_type": "display_data"
    }
   ],
   "source": [
    "from gensim.models import Doc2Vec\n",
    "from gensim.models.doc2vec import LabeledSentence\n",
    "\n",
    "def pre_process_doc2vec(text):    \n",
    "    stopwords = set(nltk.corpus.stopwords.words('english'))\n",
    "    punctuation = set(string.punctuation).union(set(['“','”','—','’','‘']))\n",
    "    punctuation.remove('-')\n",
    "    cl_text = (\" \").join([s for s in text.lower().split() if s not in stopwords])\n",
    "    cl_text = (\"\").join([s for s in cl_text if s not in punctuation])\n",
    "    cl_text = nltk.word_tokenize(cl_text)\n",
    "    return cl_text\n",
    "\n",
    "class LabeledLineSentence(object):\n",
    "    def __init__(self, doc_list):\n",
    "       self.doc_list = doc_list\n",
    "    def __iter__(self):\n",
    "        for idx, doc in enumerate(self.doc_list):\n",
    "            yield LabeledSentence(words = pre_process_doc2vec(doc), tags = [idx])\n",
    "            \n",
    "it = LabeledLineSentence(list(content_data['content']))\n",
    "\n",
    "model = Doc2Vec(size=50, min_count=5, alpha=0.025, min_alpha=0.025, workers=8)\n",
    "model.build_vocab(it)\n",
    "\n",
    "for epoch in range(10):\n",
    "    model.train(it, total_examples = model.corpus_count, epochs = model.iter)\n",
    "    model.alpha -= 0.002  # decrease the learning rate\n",
    "    model.min_alpha = model.alpha  # fix the learning rate, no decay\n",
    "    \n",
    "model.save(\"data/doc2vec.model\")\n",
    "model = Doc2Vec.load(\"data/doc2vec.model\")\n",
    "\n",
    "pca_data = pd.DataFrame(columns = list(range(50)))\n",
    "for i in range(len(model.docvecs)):\n",
    "    x = pd.DataFrame(model.docvecs[i].reshape(1,-1), columns = list(range(50)))\n",
    "    pca_data = pd.concat([pca_data, x], axis = 0)\n",
    "pca_data = pca_data.reset_index(drop = True)    \n",
    "\n",
    "from sklearn.decomposition import PCA\n",
    "pca = PCA(n_components = 2)\n",
    "pca_fln = pca.fit_transform(pca_data)\n",
    "pca_fln = pd.DataFrame(pca_fln)\n",
    "pca_fln['news_desk'] = content_data['news_desk']\n",
    "pca_fln.columns = ['col1','col2','col3']\n",
    "\n",
    "pca_fln = pca_fln.loc[pca_fln['col3'].isin(['Politics', 'Business', 'Sports','Culture','World','Health','Technology','Retail','Wealth','Travel']), ]\n",
    "\n",
    "source = bp.ColumnDataSource.from_df(pca_fln)\n",
    "\n",
    "from bokeh.palettes import d3\n",
    "import bokeh\n",
    "palette = d3['Category10'][len(pca_fln['col3'].unique())]\n",
    "color_map = bokeh.models.CategoricalColorMapper(factors=list(pca_fln['col3'].unique()), palette=palette)\n",
    "\n",
    "p = bp.figure(title = \"Visualization of Article Semantics using PCA (doc2vec)\")\n",
    "p.scatter('col1','col2',source = source, color = {'field': 'col3', 'transform': color_map},\n",
    "          legend = {'field':'col3'}, alpha = 0.5, size = 10)\n",
    "p.border_fill_color = \"whitesmoke\"\n",
    "p.add_tools(HoverTool(tooltips= [(\"Article\",\"@col3\")]))\n",
    "p.xaxis.axis_label = 'Dimension 1'\n",
    "p.yaxis.axis_label = 'Dimension 2'\n",
    "p.xgrid.grid_line_color = None\n",
    "p.ygrid.grid_line_color = None\n",
    "show(p)\n",
    "# docvec = model.docvecs[106]\n",
    "# similar_doc = model.docvecs.most_similar(4412) \n",
    "# docvec = model.infer_vector(pre_process_doc2vec(doc2))\n",
    "# model.docvecs.most_similar([docvec])"
   ]
  },
  {
   "cell_type": "markdown",
   "metadata": {},
   "source": [
    "In the previous section, an enhanced version of the word2vec is implemented called doc2vec which can provide vector represenations of documents with higher the similarity score closer are the two documents in terms of meaning/context. Since a 50 dimensional vector is generated for every article, PCA is used to reduce the vector to two dimensions so that a visual representation can be generated. In the above plot, each point is an article with the colour representing actual domain of the article. Since most of the colours are clustered together, doc2vec has done a good job of segregating similar articles together. There are some overlaps like world-sports and technology-business which seems plausible. A similar plot has been shown in next section but with LDA technique. Though similar domain articles are clustered together, there is high overlap among various domains making it difficult to filter out similar articles."
   ]
  },
  {
   "cell_type": "code",
   "execution_count": 95,
   "metadata": {},
   "outputs": [
    {
     "data": {
      "text/html": [
       "\n",
       "\n",
       "    <div class=\"bk-root\">\n",
       "        <div class=\"bk-plotdiv\" id=\"2852433d-34ed-46d6-be83-42a87b85de3d\"></div>\n",
       "    </div>\n",
       "<script type=\"text/javascript\">\n",
       "  \n",
       "  (function(global) {\n",
       "    function now() {\n",
       "      return new Date();\n",
       "    }\n",
       "\n",
       "    var force = false;\n",
       "\n",
       "    if (typeof (window._bokeh_onload_callbacks) === \"undefined\" || force === true) {\n",
       "      window._bokeh_onload_callbacks = [];\n",
       "      window._bokeh_is_loading = undefined;\n",
       "    }\n",
       "\n",
       "\n",
       "    \n",
       "    if (typeof (window._bokeh_timeout) === \"undefined\" || force === true) {\n",
       "      window._bokeh_timeout = Date.now() + 0;\n",
       "      window._bokeh_failed_load = false;\n",
       "    }\n",
       "\n",
       "    var NB_LOAD_WARNING = {'data': {'text/html':\n",
       "       \"<div style='background-color: #fdd'>\\n\"+\n",
       "       \"<p>\\n\"+\n",
       "       \"BokehJS does not appear to have successfully loaded. If loading BokehJS from CDN, this \\n\"+\n",
       "       \"may be due to a slow or bad network connection. Possible fixes:\\n\"+\n",
       "       \"</p>\\n\"+\n",
       "       \"<ul>\\n\"+\n",
       "       \"<li>re-rerun `output_notebook()` to attempt to load from CDN again, or</li>\\n\"+\n",
       "       \"<li>use INLINE resources instead, as so:</li>\\n\"+\n",
       "       \"</ul>\\n\"+\n",
       "       \"<code>\\n\"+\n",
       "       \"from bokeh.resources import INLINE\\n\"+\n",
       "       \"output_notebook(resources=INLINE)\\n\"+\n",
       "       \"</code>\\n\"+\n",
       "       \"</div>\"}};\n",
       "\n",
       "    function display_loaded() {\n",
       "      if (window.Bokeh !== undefined) {\n",
       "        var el = document.getElementById(\"2852433d-34ed-46d6-be83-42a87b85de3d\");\n",
       "        el.textContent = \"BokehJS \" + Bokeh.version + \" successfully loaded.\";\n",
       "      } else if (Date.now() < window._bokeh_timeout) {\n",
       "        setTimeout(display_loaded, 100)\n",
       "      }\n",
       "    }\n",
       "\n",
       "    function run_callbacks() {\n",
       "      window._bokeh_onload_callbacks.forEach(function(callback) { callback() });\n",
       "      delete window._bokeh_onload_callbacks\n",
       "      console.info(\"Bokeh: all callbacks have finished\");\n",
       "    }\n",
       "\n",
       "    function load_libs(js_urls, callback) {\n",
       "      window._bokeh_onload_callbacks.push(callback);\n",
       "      if (window._bokeh_is_loading > 0) {\n",
       "        console.log(\"Bokeh: BokehJS is being loaded, scheduling callback at\", now());\n",
       "        return null;\n",
       "      }\n",
       "      if (js_urls == null || js_urls.length === 0) {\n",
       "        run_callbacks();\n",
       "        return null;\n",
       "      }\n",
       "      console.log(\"Bokeh: BokehJS not loaded, scheduling load and callback at\", now());\n",
       "      window._bokeh_is_loading = js_urls.length;\n",
       "      for (var i = 0; i < js_urls.length; i++) {\n",
       "        var url = js_urls[i];\n",
       "        var s = document.createElement('script');\n",
       "        s.src = url;\n",
       "        s.async = false;\n",
       "        s.onreadystatechange = s.onload = function() {\n",
       "          window._bokeh_is_loading--;\n",
       "          if (window._bokeh_is_loading === 0) {\n",
       "            console.log(\"Bokeh: all BokehJS libraries loaded\");\n",
       "            run_callbacks()\n",
       "          }\n",
       "        };\n",
       "        s.onerror = function() {\n",
       "          console.warn(\"failed to load library \" + url);\n",
       "        };\n",
       "        console.log(\"Bokeh: injecting script tag for BokehJS library: \", url);\n",
       "        document.getElementsByTagName(\"head\")[0].appendChild(s);\n",
       "      }\n",
       "    };var element = document.getElementById(\"2852433d-34ed-46d6-be83-42a87b85de3d\");\n",
       "    if (element == null) {\n",
       "      console.log(\"Bokeh: ERROR: autoload.js configured with elementid '2852433d-34ed-46d6-be83-42a87b85de3d' but no matching script tag was found. \")\n",
       "      return false;\n",
       "    }\n",
       "\n",
       "    var js_urls = [];\n",
       "\n",
       "    var inline_js = [\n",
       "      function(Bokeh) {\n",
       "        (function() {\n",
       "          var fn = function() {\n",
       "            var docs_json = {\"81bf2a97-1eb9-49f2-8c8a-1095821751e6\":{\"roots\":{\"references\":[{\"attributes\":{\"factors\":[\"Business\",\"Culture\",\"Health\",\"Politics\",\"Retail\",\"Sports\",\"Technology\",\"Travel\",\"Wealth\",\"World\"],\"palette\":[\"#1f77b4\",\"#ff7f0e\",\"#2ca02c\",\"#d62728\",\"#9467bd\",\"#8c564b\",\"#e377c2\",\"#7f7f7f\",\"#bcbd22\",\"#17becf\"]},\"id\":\"15abb92c-5620-4cbf-a7a5-42cbd023ca9c\",\"type\":\"CategoricalColorMapper\"},{\"attributes\":{\"plot\":{\"id\":\"beea1bfd-f538-4f3f-9fd9-c2c5716bd693\",\"subtype\":\"Figure\",\"type\":\"Plot\"}},\"id\":\"3f590a90-749b-467b-82f6-555c89d59c3a\",\"type\":\"ResetTool\"},{\"attributes\":{\"bottom_units\":\"screen\",\"fill_alpha\":{\"value\":0.5},\"fill_color\":{\"value\":\"lightgrey\"},\"left_units\":\"screen\",\"level\":\"overlay\",\"line_alpha\":{\"value\":1.0},\"line_color\":{\"value\":\"black\"},\"line_dash\":[4,4],\"line_width\":{\"value\":2},\"plot\":null,\"render_mode\":\"css\",\"right_units\":\"screen\",\"top_units\":\"screen\"},\"id\":\"db61abcd-bc52-43dd-8bb6-0ac301a7b46f\",\"type\":\"BoxAnnotation\"},{\"attributes\":{},\"id\":\"a4e0e1b3-739b-4385-9e0f-cdbb48c491df\",\"type\":\"ToolEvents\"},{\"attributes\":{},\"id\":\"a86e1130-1e34-4c4d-812c-d8126f2d5d72\",\"type\":\"BasicTickFormatter\"},{\"attributes\":{\"axis_label\":\"Dimension 2\",\"formatter\":{\"id\":\"a86e1130-1e34-4c4d-812c-d8126f2d5d72\",\"type\":\"BasicTickFormatter\"},\"plot\":{\"id\":\"beea1bfd-f538-4f3f-9fd9-c2c5716bd693\",\"subtype\":\"Figure\",\"type\":\"Plot\"},\"ticker\":{\"id\":\"2de0dec1-ff58-4840-8c5a-c49d97b5f565\",\"type\":\"BasicTicker\"}},\"id\":\"3ca57eaa-0ab4-4805-878d-b042a6b7304c\",\"type\":\"LinearAxis\"},{\"attributes\":{},\"id\":\"51b12851-cc94-457b-9232-895bfeb6a6e7\",\"type\":\"BasicTickFormatter\"},{\"attributes\":{\"active_drag\":\"auto\",\"active_scroll\":\"auto\",\"active_tap\":\"auto\",\"tools\":[{\"id\":\"2cf0dd27-ad27-4b83-b594-35d0528d4d36\",\"type\":\"PanTool\"},{\"id\":\"6c0d72f6-d9a5-45d8-be9f-a0d93f5d734c\",\"type\":\"WheelZoomTool\"},{\"id\":\"fac546ea-e78f-4d1c-97ba-27a8c3910623\",\"type\":\"BoxZoomTool\"},{\"id\":\"3fb58727-5aee-4ffb-9508-12e9e943d8c2\",\"type\":\"SaveTool\"},{\"id\":\"3f590a90-749b-467b-82f6-555c89d59c3a\",\"type\":\"ResetTool\"},{\"id\":\"cd7e9d13-fa80-4ca5-9bce-1b8e84e82e0c\",\"type\":\"HelpTool\"},{\"id\":\"42e47fff-effd-44c6-ad37-2ffe68cfd363\",\"type\":\"HoverTool\"}]},\"id\":\"8b288207-70bf-40c2-b60d-49c1f550af7a\",\"type\":\"Toolbar\"},{\"attributes\":{\"callback\":null},\"id\":\"62d5d86d-7fa0-4b48-91b3-e008f09c9200\",\"type\":\"DataRange1d\"},{\"attributes\":{\"fill_alpha\":{\"value\":0.1},\"fill_color\":{\"value\":\"#1f77b4\"},\"line_alpha\":{\"value\":0.1},\"line_color\":{\"value\":\"#1f77b4\"},\"size\":{\"units\":\"screen\",\"value\":10},\"x\":{\"field\":\"col1\"},\"y\":{\"field\":\"col2\"}},\"id\":\"054308f6-5570-46fc-b516-e7c2a7ee9281\",\"type\":\"Circle\"},{\"attributes\":{\"callback\":null,\"column_names\":[\"col1\",\"col2\",\"col3\",\"index\"],\"data\":{\"col1\":{\"__ndarray__\":\"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\",\"dtype\":\"float64\",\"shape\":[418]},\"col2\":{\"__ndarray__\":\"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\",\"dtype\":\"float64\",\"shape\":[418]},\"col3\":[\"Business\",\"Business\",\"Business\",\"Business\",\"Business\",\"Business\",\"Business\",\"Business\",\"Business\",\"Business\",\"Business\",\"Business\",\"Business\",\"Business\",\"Business\",\"Business\",\"Business\",\"Business\",\"Business\",\"Business\",\"Business\",\"Business\",\"Business\",\"Business\",\"Business\",\"Business\",\"Business\",\"Business\",\"Business\",\"Business\",\"Business\",\"Business\",\"Business\",\"Business\",\"Business\",\"Business\",\"Business\",\"Business\",\"Business\",\"Business\",\"Business\",\"Business\",\"Business\",\"Business\",\"Business\",\"Business\",\"Business\",\"Business\",\"Business\",\"Business\",\"Business\",\"Business\",\"Business\",\"Business\",\"Business\",\"Business\",\"Business\",\"Business\",\"Business\",\"Business\",\"Business\",\"Business\",\"Business\",\"Business\",\"Business\",\"Business\",\"Business\",\"Business\",\"Business\",\"Business\",\"Culture\",\"Culture\",\"Culture\",\"Culture\",\"Culture\",\"Culture\",\"Culture\",\"Culture\",\"Culture\",\"Culture\",\"Culture\",\"Culture\",\"Culture\",\"Culture\",\"Culture\",\"Culture\",\"Culture\",\"Culture\",\"Culture\",\"Culture\",\"Culture\",\"Culture\",\"Culture\",\"Culture\",\"Culture\",\"Culture\",\"Culture\",\"Culture\",\"Culture\",\"Culture\",\"Culture\",\"Culture\",\"Culture\",\"Culture\",\"Culture\",\"Culture\",\"Culture\",\"Culture\",\"Culture\",\"Culture\",\"Culture\",\"Culture\",\"Culture\",\"Culture\",\"Culture\",\"Culture\",\"Culture\",\"Culture\",\"Culture\",\"Culture\",\"Culture\",\"Culture\",\"Culture\",\"Culture\",\"Culture\",\"Culture\",\"Culture\",\"Culture\",\"Culture\",\"Culture\",\"Culture\",\"Culture\",\"Culture\",\"Culture\",\"Culture\",\"Culture\",\"Culture\",\"Culture\",\"Culture\",\"Culture\",\"Health\",\"Health\",\"Health\",\"Health\",\"Health\",\"Health\",\"Health\",\"Health\",\"Health\",\"Health\",\"Health\",\"Health\",\"Health\",\"Health\",\"Health\",\"Health\",\"Health\",\"Health\",\"Health\",\"Health\",\"Health\",\"Health\",\"Health\",\"Health\",\"Health\",\"Health\",\"Health\",\"Health\",\"Health\",\"Health\",\"Health\",\"Health\",\"Health\",\"Health\",\"Health\",\"Health\",\"Health\",\"Health\",\"Health\",\"Health\",\"Politics\",\"Politics\",\"Politics\",\"Politics\",\"Politics\",\"Politics\",\"Politics\",\"Politics\",\"Politics\",\"Politics\",\"Retail\",\"Retail\",\"Retail\",\"Retail\",\"Retail\",\"Retail\",\"Retail\",\"Retail\",\"Retail\",\"Retail\",\"Retail\",\"Retail\",\"Retail\",\"Retail\",\"Retail\",\"Retail\",\"Retail\",\"Retail\",\"Retail\",\"Retail\",\"Retail\",\"Retail\",\"Retail\",\"Retail\",\"Retail\",\"Retail\",\"Retail\",\"Retail\",\"Retail\",\"Retail\",\"Retail\",\"Retail\",\"Retail\",\"Retail\",\"Retail\",\"Sports\",\"Sports\",\"Sports\",\"Sports\",\"Sports\",\"Sports\",\"Sports\",\"Sports\",\"Sports\",\"Sports\",\"Sports\",\"Sports\",\"Sports\",\"Sports\",\"Sports\",\"Sports\",\"Sports\",\"Sports\",\"Sports\",\"Sports\",\"Sports\",\"Sports\",\"Sports\",\"Sports\",\"Sports\",\"Sports\",\"Sports\",\"Sports\",\"Sports\",\"Sports\",\"Sports\",\"Sports\",\"Sports\",\"Sports\",\"Sports\",\"Sports\",\"Sports\",\"Sports\",\"Sports\",\"Sports\",\"Sports\",\"Sports\",\"Sports\",\"Sports\",\"Sports\",\"Sports\",\"Sports\",\"Sports\",\"Sports\",\"Sports\",\"Sports\",\"Sports\",\"Sports\",\"Sports\",\"Sports\",\"Sports\",\"Sports\",\"Sports\",\"Sports\",\"Sports\",\"Sports\",\"Sports\",\"Sports\",\"Technology\",\"Technology\",\"Technology\",\"Technology\",\"Technology\",\"Technology\",\"Technology\",\"Technology\",\"Technology\",\"Technology\",\"Technology\",\"Technology\",\"Technology\",\"Technology\",\"Technology\",\"Technology\",\"Technology\",\"Technology\",\"Technology\",\"Technology\",\"Technology\",\"Technology\",\"Technology\",\"Technology\",\"Technology\",\"Technology\",\"Technology\",\"Technology\",\"Technology\",\"Technology\",\"Technology\",\"Technology\",\"Technology\",\"Technology\",\"Technology\",\"Travel\",\"Travel\",\"Travel\",\"Travel\",\"Travel\",\"Travel\",\"Travel\",\"Travel\",\"Travel\",\"Travel\",\"Travel\",\"Travel\",\"Travel\",\"Travel\",\"Travel\",\"Travel\",\"Travel\",\"Travel\",\"Travel\",\"Travel\",\"Travel\",\"Travel\",\"Travel\",\"Travel\",\"Travel\",\"Travel\",\"Travel\",\"Travel\",\"Travel\",\"Travel\",\"Travel\",\"Travel\",\"Travel\",\"Travel\",\"Travel\",\"Travel\",\"Travel\",\"Travel\",\"Travel\",\"Travel\",\"Travel\",\"Travel\",\"Travel\",\"Travel\",\"Travel\",\"Travel\",\"Travel\",\"Travel\",\"Travel\",\"Travel\",\"Travel\",\"Travel\",\"Travel\",\"Travel\",\"Travel\",\"Travel\",\"Travel\",\"Travel\",\"Travel\",\"Travel\",\"Travel\",\"Travel\",\"Travel\",\"Travel\",\"Travel\",\"Travel\",\"Travel\",\"Travel\",\"Travel\",\"Wealth\",\"Wealth\",\"World\",\"World\",\"World\",\"World\",\"World\",\"World\",\"World\",\"World\",\"World\",\"World\",\"World\",\"World\",\"World\",\"World\",\"World\",\"World\",\"World\",\"World\",\"World\",\"World\",\"World\",\"World\",\"World\",\"World\"],\"index\":[336,337,338,339,340,341,342,343,344,345,346,347,348,349,350,351,352,353,354,355,356,357,358,359,360,361,362,363,364,365,366,367,368,369,370,371,372,373,374,375,376,377,378,379,380,381,382,383,384,385,386,387,388,389,390,391,392,393,394,395,396,397,398,399,400,401,402,403,404,405,441,442,443,444,445,446,447,448,449,450,451,452,453,454,455,456,457,458,459,460,461,462,463,464,465,466,467,468,469,470,471,472,473,474,475,476,477,478,479,480,481,482,483,484,485,486,487,488,489,490,491,492,493,494,495,496,497,498,499,500,501,502,503,504,505,506,507,508,509,510,1214,1215,1216,1217,1218,1219,1220,1221,1222,1223,1224,1225,1226,1227,1228,1229,1230,1231,1232,1233,1234,1235,1236,1237,1238,1239,1240,1241,1242,1243,1244,1245,1246,1247,1248,1249,1250,1251,1252,1253,2558,2559,2560,2561,2562,2563,2564,2565,2566,2567,2638,2639,2640,2641,2642,2643,2644,2645,2646,2647,2648,2649,2650,2651,2652,2653,2654,2655,2656,2657,2658,2659,2660,2661,2662,2663,2664,2665,2666,2667,2668,2669,2670,2671,2672,2939,2940,2941,2942,2943,2944,2945,2946,2947,2948,2949,2950,2951,2952,2953,2954,2955,2956,2957,2958,2959,2960,2961,2962,2963,2964,2965,2966,2967,2968,2969,2970,2971,2972,2973,2974,2975,2976,2977,2978,2979,2980,2981,2982,2983,2984,2985,2986,2987,2988,2989,2990,2991,2992,2993,2994,2995,2996,2997,2998,2999,3000,3001,3207,3208,3209,3210,3211,3212,3213,3214,3215,3216,3217,3218,3219,3220,3221,3222,3223,3224,3225,3226,3227,3228,3229,3230,3231,3232,3233,3234,3235,3236,3237,3238,3239,3240,3241,4107,4108,4109,4110,4111,4112,4113,4114,4115,4116,4117,4118,4119,4120,4121,4122,4123,4124,4125,4126,4127,4128,4129,4130,4131,4132,4133,4134,4135,4136,4137,4138,4139,4140,4141,4142,4143,4144,4145,4146,4147,4148,4149,4150,4151,4152,4153,4154,4155,4156,4157,4158,4159,4160,4161,4162,4163,4164,4165,4166,4167,4168,4169,4170,4171,4172,4173,4174,4175,4384,4385,4843,4844,4845,4846,4847,4848,4849,4850,4851,4852,4853,4854,4855,4856,4857,4858,4859,4860,4861,4862,4863,4864,4865,4866]}},\"id\":\"028a57bc-0c8d-4e7d-9425-94b2c52f73cf\",\"type\":\"ColumnDataSource\"},{\"attributes\":{\"callback\":null,\"plot\":{\"id\":\"beea1bfd-f538-4f3f-9fd9-c2c5716bd693\",\"subtype\":\"Figure\",\"type\":\"Plot\"},\"tooltips\":[[\"Article\",\"@col3\"]]},\"id\":\"42e47fff-effd-44c6-ad37-2ffe68cfd363\",\"type\":\"HoverTool\"},{\"attributes\":{\"label\":{\"field\":\"col3\"},\"renderers\":[{\"id\":\"0c95001c-695e-417b-8a9e-07a197d1e384\",\"type\":\"GlyphRenderer\"}]},\"id\":\"bcea107b-612d-4b47-ba14-61f54c2f9224\",\"type\":\"LegendItem\"},{\"attributes\":{\"plot\":null,\"text\":\"Visualization of Article Topic Similarity using PCA (LDA)\"},\"id\":\"91d6c97b-d4c2-45b0-b678-3e5bd35d5313\",\"type\":\"Title\"},{\"attributes\":{\"callback\":null},\"id\":\"4b9876e9-ea3f-48c5-a87b-ea8151128bbd\",\"type\":\"DataRange1d\"},{\"attributes\":{\"grid_line_color\":{\"value\":null},\"plot\":{\"id\":\"beea1bfd-f538-4f3f-9fd9-c2c5716bd693\",\"subtype\":\"Figure\",\"type\":\"Plot\"},\"ticker\":{\"id\":\"143986e9-058d-4d72-bae1-a5f920feeafa\",\"type\":\"BasicTicker\"}},\"id\":\"fd2d7316-2d6c-4afb-9f53-4ad7cbc8ef27\",\"type\":\"Grid\"},{\"attributes\":{\"below\":[{\"id\":\"ed4c804a-67d6-42fd-8249-af91da5cb7be\",\"type\":\"LinearAxis\"}],\"border_fill_color\":{\"value\":\"whitesmoke\"},\"left\":[{\"id\":\"3ca57eaa-0ab4-4805-878d-b042a6b7304c\",\"type\":\"LinearAxis\"}],\"renderers\":[{\"id\":\"ed4c804a-67d6-42fd-8249-af91da5cb7be\",\"type\":\"LinearAxis\"},{\"id\":\"fd2d7316-2d6c-4afb-9f53-4ad7cbc8ef27\",\"type\":\"Grid\"},{\"id\":\"3ca57eaa-0ab4-4805-878d-b042a6b7304c\",\"type\":\"LinearAxis\"},{\"id\":\"48370a31-4783-4556-aeac-4c5de7b8f4a6\",\"type\":\"Grid\"},{\"id\":\"db61abcd-bc52-43dd-8bb6-0ac301a7b46f\",\"type\":\"BoxAnnotation\"},{\"id\":\"d2ac41b1-31a1-4302-99e2-765a44e9031e\",\"type\":\"Legend\"},{\"id\":\"0c95001c-695e-417b-8a9e-07a197d1e384\",\"type\":\"GlyphRenderer\"}],\"title\":{\"id\":\"91d6c97b-d4c2-45b0-b678-3e5bd35d5313\",\"type\":\"Title\"},\"tool_events\":{\"id\":\"a4e0e1b3-739b-4385-9e0f-cdbb48c491df\",\"type\":\"ToolEvents\"},\"toolbar\":{\"id\":\"8b288207-70bf-40c2-b60d-49c1f550af7a\",\"type\":\"Toolbar\"},\"x_range\":{\"id\":\"62d5d86d-7fa0-4b48-91b3-e008f09c9200\",\"type\":\"DataRange1d\"},\"y_range\":{\"id\":\"4b9876e9-ea3f-48c5-a87b-ea8151128bbd\",\"type\":\"DataRange1d\"}},\"id\":\"beea1bfd-f538-4f3f-9fd9-c2c5716bd693\",\"subtype\":\"Figure\",\"type\":\"Plot\"},{\"attributes\":{\"items\":[{\"id\":\"bcea107b-612d-4b47-ba14-61f54c2f9224\",\"type\":\"LegendItem\"}],\"plot\":{\"id\":\"beea1bfd-f538-4f3f-9fd9-c2c5716bd693\",\"subtype\":\"Figure\",\"type\":\"Plot\"}},\"id\":\"d2ac41b1-31a1-4302-99e2-765a44e9031e\",\"type\":\"Legend\"},{\"attributes\":{\"plot\":{\"id\":\"beea1bfd-f538-4f3f-9fd9-c2c5716bd693\",\"subtype\":\"Figure\",\"type\":\"Plot\"}},\"id\":\"cd7e9d13-fa80-4ca5-9bce-1b8e84e82e0c\",\"type\":\"HelpTool\"},{\"attributes\":{\"plot\":{\"id\":\"beea1bfd-f538-4f3f-9fd9-c2c5716bd693\",\"subtype\":\"Figure\",\"type\":\"Plot\"}},\"id\":\"6c0d72f6-d9a5-45d8-be9f-a0d93f5d734c\",\"type\":\"WheelZoomTool\"},{\"attributes\":{\"dimension\":1,\"grid_line_color\":{\"value\":null},\"plot\":{\"id\":\"beea1bfd-f538-4f3f-9fd9-c2c5716bd693\",\"subtype\":\"Figure\",\"type\":\"Plot\"},\"ticker\":{\"id\":\"2de0dec1-ff58-4840-8c5a-c49d97b5f565\",\"type\":\"BasicTicker\"}},\"id\":\"48370a31-4783-4556-aeac-4c5de7b8f4a6\",\"type\":\"Grid\"},{\"attributes\":{\"axis_label\":\"Dimension 1\",\"formatter\":{\"id\":\"51b12851-cc94-457b-9232-895bfeb6a6e7\",\"type\":\"BasicTickFormatter\"},\"plot\":{\"id\":\"beea1bfd-f538-4f3f-9fd9-c2c5716bd693\",\"subtype\":\"Figure\",\"type\":\"Plot\"},\"ticker\":{\"id\":\"143986e9-058d-4d72-bae1-a5f920feeafa\",\"type\":\"BasicTicker\"}},\"id\":\"ed4c804a-67d6-42fd-8249-af91da5cb7be\",\"type\":\"LinearAxis\"},{\"attributes\":{},\"id\":\"143986e9-058d-4d72-bae1-a5f920feeafa\",\"type\":\"BasicTicker\"},{\"attributes\":{\"fill_alpha\":{\"value\":0.5},\"fill_color\":{\"field\":\"col3\",\"transform\":{\"id\":\"15abb92c-5620-4cbf-a7a5-42cbd023ca9c\",\"type\":\"CategoricalColorMapper\"}},\"line_alpha\":{\"value\":0.5},\"line_color\":{\"field\":\"col3\",\"transform\":{\"id\":\"15abb92c-5620-4cbf-a7a5-42cbd023ca9c\",\"type\":\"CategoricalColorMapper\"}},\"size\":{\"units\":\"screen\",\"value\":10},\"x\":{\"field\":\"col1\"},\"y\":{\"field\":\"col2\"}},\"id\":\"0d1c1289-1e30-4dc2-a8f9-2becdd432300\",\"type\":\"Circle\"},{\"attributes\":{\"plot\":{\"id\":\"beea1bfd-f538-4f3f-9fd9-c2c5716bd693\",\"subtype\":\"Figure\",\"type\":\"Plot\"}},\"id\":\"3fb58727-5aee-4ffb-9508-12e9e943d8c2\",\"type\":\"SaveTool\"},{\"attributes\":{\"data_source\":{\"id\":\"028a57bc-0c8d-4e7d-9425-94b2c52f73cf\",\"type\":\"ColumnDataSource\"},\"glyph\":{\"id\":\"0d1c1289-1e30-4dc2-a8f9-2becdd432300\",\"type\":\"Circle\"},\"hover_glyph\":null,\"muted_glyph\":null,\"nonselection_glyph\":{\"id\":\"054308f6-5570-46fc-b516-e7c2a7ee9281\",\"type\":\"Circle\"},\"selection_glyph\":null},\"id\":\"0c95001c-695e-417b-8a9e-07a197d1e384\",\"type\":\"GlyphRenderer\"},{\"attributes\":{\"overlay\":{\"id\":\"db61abcd-bc52-43dd-8bb6-0ac301a7b46f\",\"type\":\"BoxAnnotation\"},\"plot\":{\"id\":\"beea1bfd-f538-4f3f-9fd9-c2c5716bd693\",\"subtype\":\"Figure\",\"type\":\"Plot\"}},\"id\":\"fac546ea-e78f-4d1c-97ba-27a8c3910623\",\"type\":\"BoxZoomTool\"},{\"attributes\":{\"plot\":{\"id\":\"beea1bfd-f538-4f3f-9fd9-c2c5716bd693\",\"subtype\":\"Figure\",\"type\":\"Plot\"}},\"id\":\"2cf0dd27-ad27-4b83-b594-35d0528d4d36\",\"type\":\"PanTool\"},{\"attributes\":{},\"id\":\"2de0dec1-ff58-4840-8c5a-c49d97b5f565\",\"type\":\"BasicTicker\"}],\"root_ids\":[\"beea1bfd-f538-4f3f-9fd9-c2c5716bd693\"]},\"title\":\"Bokeh Application\",\"version\":\"0.12.5\"}};\n",
       "            var render_items = [{\"docid\":\"81bf2a97-1eb9-49f2-8c8a-1095821751e6\",\"elementid\":\"2852433d-34ed-46d6-be83-42a87b85de3d\",\"modelid\":\"beea1bfd-f538-4f3f-9fd9-c2c5716bd693\"}];\n",
       "            \n",
       "            Bokeh.embed.embed_items(docs_json, render_items);\n",
       "          };\n",
       "          if (document.readyState != \"loading\") fn();\n",
       "          else document.addEventListener(\"DOMContentLoaded\", fn);\n",
       "        })();\n",
       "\n",
       "      },\n",
       "      function(Bokeh) {\n",
       "      }\n",
       "    ];\n",
       "\n",
       "    function run_inline_js() {\n",
       "      \n",
       "      if ((window.Bokeh !== undefined) || (force === true)) {\n",
       "        for (var i = 0; i < inline_js.length; i++) {\n",
       "          inline_js[i](window.Bokeh);\n",
       "        }if (force === true) {\n",
       "          display_loaded();\n",
       "        }} else if (Date.now() < window._bokeh_timeout) {\n",
       "        setTimeout(run_inline_js, 100);\n",
       "      } else if (!window._bokeh_failed_load) {\n",
       "        console.log(\"Bokeh: BokehJS failed to load within specified timeout.\");\n",
       "        window._bokeh_failed_load = true;\n",
       "      } else if (force !== true) {\n",
       "        var cell = $(document.getElementById(\"2852433d-34ed-46d6-be83-42a87b85de3d\")).parents('.cell').data().cell;\n",
       "        cell.output_area.append_execute_result(NB_LOAD_WARNING)\n",
       "      }\n",
       "\n",
       "    }\n",
       "\n",
       "    if (window._bokeh_is_loading === 0) {\n",
       "      console.log(\"Bokeh: BokehJS loaded, going straight to plotting\");\n",
       "      run_inline_js();\n",
       "    } else {\n",
       "      load_libs(js_urls, function() {\n",
       "        console.log(\"Bokeh: BokehJS plotting callback run at\", now());\n",
       "        run_inline_js();\n",
       "      });\n",
       "    }\n",
       "  }(this));\n",
       "</script>"
      ]
     },
     "metadata": {},
     "output_type": "display_data"
    }
   ],
   "source": [
    "# LDA based article segregation\n",
    "pca_data = pd.DataFrame(columns = list(range(35)))\n",
    "for i in range(topic_corpus.shape[0]):\n",
    "    x = pd.DataFrame(topic_corpus.iloc[i,].values.reshape(1,-1), columns = list(range(35)))\n",
    "    pca_data = pd.concat([pca_data, x], axis = 0)\n",
    "pca_data = pca_data.reset_index(drop = True)    \n",
    "\n",
    "pca = PCA(n_components = 2)\n",
    "pca_fln = pca.fit_transform(pca_data)\n",
    "pca_fln = pd.DataFrame(pca_fln)\n",
    "pca_fln['news_desk'] = content_data['news_desk']\n",
    "pca_fln.columns = ['col1','col2','col3']\n",
    "\n",
    "pca_fln = pca_fln.loc[pca_fln['col3'].isin(['Politics', 'Business', 'Sports','Culture','World','Health','Technology','Retail','Wealth','Travel']), ]\n",
    "\n",
    "source = bp.ColumnDataSource.from_df(pca_fln)\n",
    "\n",
    "from bokeh.palettes import d3\n",
    "import bokeh\n",
    "palette = d3['Category10'][len(pca_fln['col3'].unique())]\n",
    "color_map = bokeh.models.CategoricalColorMapper(factors=list(pca_fln['col3'].unique()), palette=palette)\n",
    "\n",
    "p = bp.figure(title = \"Visualization of Article Topic Similarity using PCA (LDA)\")\n",
    "p.scatter('col1','col2',source = source, color = {'field': 'col3', 'transform': color_map},\n",
    "          legend = {'field':'col3'}, alpha = 0.5, size = 10)\n",
    "p.border_fill_color = \"whitesmoke\"\n",
    "p.add_tools(HoverTool(tooltips= [(\"Article\",\"@col3\")]))\n",
    "p.xaxis.axis_label = 'Dimension 1'\n",
    "p.yaxis.axis_label = 'Dimension 2'\n",
    "p.xgrid.grid_line_color = None\n",
    "p.ygrid.grid_line_color = None\n",
    "show(p)"
   ]
  },
  {
   "cell_type": "code",
   "execution_count": 79,
   "metadata": {
    "scrolled": false
   },
   "outputs": [
    {
     "data": {
      "application/vnd.jupyter.widget-view+json": {
       "model_id": "4fd0ff1577934eb9b33aca97edfd9778",
       "version_major": 2,
       "version_minor": 0
      },
      "text/html": [
       "<p>Failed to display Jupyter Widget of type <code>HBox</code>.</p>\n",
       "<p>\n",
       "  If you're reading this message in the Jupyter Notebook or JupyterLab Notebook, it may mean\n",
       "  that the widgets JavaScript is still loading. If this message persists, it\n",
       "  likely means that the widgets JavaScript library is either not installed or\n",
       "  not enabled. See the <a href=\"https://ipywidgets.readthedocs.io/en/stable/user_install.html\">Jupyter\n",
       "  Widgets Documentation</a> for setup instructions.\n",
       "</p>\n",
       "<p>\n",
       "  If you're reading this message in another frontend (for example, a static\n",
       "  rendering on GitHub or <a href=\"https://nbviewer.jupyter.org/\">NBViewer</a>),\n",
       "  it may mean that your frontend doesn't currently support widgets.\n",
       "</p>\n"
      ],
      "text/plain": [
       "HBox(children=(VBox(children=(Label(value=''), HBox(children=(Text(value='', placeholder='Type a query for NY Times article listing'), Button(description='Search articles', style=ButtonStyle()))), Label(value=''))), Label(value=''), Label(value=''), VBox(children=(HBox(children=(Label(value='Username:'), Text(value='saket', placeholder='Enter your name'))), HBox(children=(Label(value='->->->->->'), Button(description='Get recommendations', layout=Layout(width='150px'), style=ButtonStyle()), Button(description='Reset Preferences', style=ButtonStyle())))))))"
      ]
     },
     "metadata": {},
     "output_type": "display_data"
    },
    {
     "data": {
      "text/html": [
       "<script>$('div.output_area > div.output_subarea.jupyter-widgets-view > div.p-Widget.p-Panel.jupyter-widgets.widget-container.widget-box.widget-vbox').fadeOut();</script>"
      ],
      "text/plain": [
       "<IPython.core.display.HTML object>"
      ]
     },
     "metadata": {},
     "output_type": "display_data"
    },
    {
     "data": {
      "application/vnd.jupyter.widget-view+json": {
       "model_id": "c803a9aa5d904cb08c2fa73ef1b8d83c",
       "version_major": 2,
       "version_minor": 0
      },
      "text/html": [
       "<p>Failed to display Jupyter Widget of type <code>VBox</code>.</p>\n",
       "<p>\n",
       "  If you're reading this message in the Jupyter Notebook or JupyterLab Notebook, it may mean\n",
       "  that the widgets JavaScript is still loading. If this message persists, it\n",
       "  likely means that the widgets JavaScript library is either not installed or\n",
       "  not enabled. See the <a href=\"https://ipywidgets.readthedocs.io/en/stable/user_install.html\">Jupyter\n",
       "  Widgets Documentation</a> for setup instructions.\n",
       "</p>\n",
       "<p>\n",
       "  If you're reading this message in another frontend (for example, a static\n",
       "  rendering on GitHub or <a href=\"https://nbviewer.jupyter.org/\">NBViewer</a>),\n",
       "  it may mean that your frontend doesn't currently support widgets.\n",
       "</p>\n"
      ],
      "text/plain": [
       "VBox(children=(VBox(children=(HBox(children=(Button(description='Twisted Priorities', layout=Layout(height='40px', width='80%'), style=ButtonStyle(button_color='SkyBlue', font_weight='bold')), SelectionSlider(continuous_update=False, description='Rate Article 1', index=1, options=('Less', 'Neutral', 'More'), value='Neutral'))), Textarea(value='In Florida, you need a prescription to buy certain drugs, and to be over 21 to buy alcohol, but want to buy a semiautomatic? No problem.', disabled=True, layout=Layout(height='50px', width='99.5%')))), VBox(children=(HBox(children=(Button(description='What Makes #NeverAgain Different?', layout=Layout(height='40px', width='80%'), style=ButtonStyle(button_color='SkyBlue', font_weight='bold')), SelectionSlider(continuous_update=False, description='Rate Article 2', index=1, options=('Less', 'Neutral', 'More'), value='Neutral'))), Textarea(value='The protests calling for stricter gun control measures come on the heels of other youth movements, but the momentum they have gained makes them stand out.', disabled=True, layout=Layout(height='50px', width='99.5%')))), VBox(children=(HBox(children=(Button(description='Background Gun Checks and Public Safety', layout=Layout(height='40px', width='80%'), style=ButtonStyle(button_color='SkyBlue', font_weight='bold')), SelectionSlider(continuous_update=False, description='Rate Article 3', index=1, options=('Less', 'Neutral', 'More'), value='Neutral'))), Textarea(value='Readers take issue with the gun rights advocate John R. Lott Jr.', disabled=True, layout=Layout(height='50px', width='99.5%')))), VBox(children=(HBox(children=(Button(description='A Message From the Club No One Wants to Join', layout=Layout(height='40px', width='80%'), style=ButtonStyle(button_color='SkyBlue', font_weight='bold')), SelectionSlider(continuous_update=False, description='Rate Article 4', index=1, options=('Less', 'Neutral', 'More'), value='Neutral'))), Textarea(value='My son was killed in a school shooting. No parent should have to endure this pain.', disabled=True, layout=Layout(height='50px', width='99.5%')))), VBox(children=(HBox(children=(Button(description='Gun Control', layout=Layout(height='40px', width='80%'), style=ButtonStyle(button_color='SkyBlue', font_weight='bold')), SelectionSlider(continuous_update=False, description='Rate Article 5', index=1, options=('Less', 'Neutral', 'More'), value='Neutral'))), Textarea(value='News about Guns and Gun Control, including commentary and archival articles published in The New York Times.', disabled=True, layout=Layout(height='50px', width='99.5%')))), VBox(children=(HBox(children=(Button(description='Gun Control', layout=Layout(height='40px', width='80%'), style=ButtonStyle(button_color='SkyBlue', font_weight='bold')), SelectionSlider(continuous_update=False, description='Rate Article 6', index=1, options=('Less', 'Neutral', 'More'), value='Neutral'))), Textarea(value='News about Guns and Gun Control, including commentary and archival articles published in The New York Times.', disabled=True, layout=Layout(height='50px', width='99.5%')))), VBox(children=(HBox(children=(Button(description='Limiting Access to Guns for Mentally Ill Is Complicated', layout=Layout(height='40px', width='80%'), style=ButtonStyle(button_color='SkyBlue', font_weight='bold')), SelectionSlider(continuous_update=False, description='Rate Article 7', index=1, options=('Less', 'Neutral', 'More'), value='Neutral'))), Textarea(value='After the shooting, Florida officials and President Trump stepped into the balancing act between public safety and the right to bear arms.', disabled=True, layout=Layout(height='50px', width='99.5%')))), VBox(children=(HBox(children=(Button(description='A Student’s Voice for Gun Control', layout=Layout(height='40px', width='80%'), style=ButtonStyle(button_color='SkyBlue', font_weight='bold')), SelectionSlider(continuous_update=False, description='Rate Article 8', index=1, options=('Less', 'Neutral', 'More'), value='Neutral'))), Textarea(value='A high school student asks, “Is a child’s freedom not more important than another’s hobby?”', disabled=True, layout=Layout(height='50px', width='99.5%')))), VBox(children=(HBox(children=(Button(description='The N.R.A. Can Be Beat', layout=Layout(height='40px', width='80%'), style=ButtonStyle(button_color='SkyBlue', font_weight='bold')), SelectionSlider(continuous_update=False, description='Rate Article 9', index=1, options=('Less', 'Neutral', 'More'), value='Neutral'))), Textarea(value='It’s time to vote the gun lobby out of office.', disabled=True, layout=Layout(height='50px', width='99.5%')))), VBox(children=(HBox(children=(Button(description='Judge Deals AT&amp;T a Setback: DealBook Briefing', layout=Layout(height='40px', width='80%'), style=ButtonStyle(button_color='SkyBlue', font_weight='bold')), SelectionSlider(continuous_update=False, description='Rate Article 10', index=1, options=('Less', 'Neutral', 'More'), value='Neutral'))), Textarea(value='The decision by a federal judge hampers the company’s argument that politics influenced the government’s move to block its $85 billion merger with Time Warner.', disabled=True, layout=Layout(height='50px', width='99.5%'))))), layout=Layout(border='solid'))"
      ]
     },
     "metadata": {},
     "output_type": "display_data"
    },
    {
     "data": {
      "text/html": [
       "<script>$('div.output_area > div.output_subarea.jupyter-widgets-view > div.p-Widget.p-Panel.jupyter-widgets.widget-container.widget-box.widget-vbox').fadeOut();</script>"
      ],
      "text/plain": [
       "<IPython.core.display.HTML object>"
      ]
     },
     "metadata": {},
     "output_type": "display_data"
    },
    {
     "data": {
      "application/vnd.jupyter.widget-view+json": {
       "model_id": "19f5598d5d22428db2a2c609c246fea2",
       "version_major": 2,
       "version_minor": 0
      },
      "text/html": [
       "<p>Failed to display Jupyter Widget of type <code>VBox</code>.</p>\n",
       "<p>\n",
       "  If you're reading this message in the Jupyter Notebook or JupyterLab Notebook, it may mean\n",
       "  that the widgets JavaScript is still loading. If this message persists, it\n",
       "  likely means that the widgets JavaScript library is either not installed or\n",
       "  not enabled. See the <a href=\"https://ipywidgets.readthedocs.io/en/stable/user_install.html\">Jupyter\n",
       "  Widgets Documentation</a> for setup instructions.\n",
       "</p>\n",
       "<p>\n",
       "  If you're reading this message in another frontend (for example, a static\n",
       "  rendering on GitHub or <a href=\"https://nbviewer.jupyter.org/\">NBViewer</a>),\n",
       "  it may mean that your frontend doesn't currently support widgets.\n",
       "</p>\n"
      ],
      "text/plain": [
       "VBox(children=(VBox(children=(HBox(children=(Button(description='Bitcoin', layout=Layout(height='40px', width='80%'), style=ButtonStyle(button_color='SkyBlue', font_weight='bold')), SelectionSlider(continuous_update=False, description='Rate Article 1', index=1, options=('Less', 'Neutral', 'More'), value='Neutral'))), Textarea(value='News about Bitcoin, including commentary and archival articles published in The New York Times.', disabled=True, layout=Layout(height='50px', width='99.5%')))), VBox(children=(HBox(children=(Button(description='Bubble, Bubble, Fraud and Trouble', layout=Layout(height='40px', width='80%'), style=ButtonStyle(button_color='SkyBlue', font_weight='bold')), SelectionSlider(continuous_update=False, description='Rate Article 2', index=1, options=('Less', 'Neutral', 'More'), value='Neutral'))), Textarea(value='It’s a mania! It’s a cult! It’s Bitcoin!', disabled=True, layout=Layout(height='50px', width='99.5%')))), VBox(children=(HBox(children=(Button(description='Apple, Alphabet, Amazon Reported Results. Here’s How They Fared: DealBook Briefing', layout=Layout(height='40px', width='80%'), style=ButtonStyle(button_color='SkyBlue', font_weight='bold')), SelectionSlider(continuous_update=False, description='Rate Article 3', index=1, options=('Less', 'Neutral', 'More'), value='Neutral'))), Textarea(value='Apple reported record profit and sales, Amazon easily beat expectations, and Google-parent Alphabet posted a loss because of the new tax law.', disabled=True, layout=Layout(height='50px', width='99.5%')))), VBox(children=(HBox(children=(Button(description='Why the I.R.S. Fears Bitcoin', layout=Layout(height='40px', width='80%'), style=ButtonStyle(button_color='SkyBlue', font_weight='bold')), SelectionSlider(continuous_update=False, description='Rate Article 4', index=1, options=('Less', 'Neutral', 'More'), value='Neutral'))), Textarea(value='Cryptocurrencies could lead to significant losses in tax revenue.', disabled=True, layout=Layout(height='50px', width='99.5%')))), VBox(children=(HBox(children=(Button(description='What Bitcoin Reveals About Financial Markets', layout=Layout(height='40px', width='80%'), style=ButtonStyle(button_color='SkyBlue', font_weight='bold')), SelectionSlider(continuous_update=False, description='Rate Article 5', index=1, options=('Less', 'Neutral', 'More'), value='Neutral'))), Textarea(value='The cryptocurrency bubble should finally destroy our faith that the market works as advertised.', disabled=True, layout=Layout(height='50px', width='99.5%')))), VBox(children=(HBox(children=(Button(description='G.E. Weighs Changes, but Investors Hear ‘Breakup’: DealBook Briefing', layout=Layout(height='40px', width='80%'), style=ButtonStyle(button_color='SkyBlue', font_weight='bold')), SelectionSlider(continuous_update=False, description='Rate Article 6', index=1, options=('Less', 'Neutral', 'More'), value='Neutral'))), Textarea(value='The conglomerate’s C.E.O., John Flannery, said that he was continuing to consider shifts in the company’s structure. That may not mean a big split.', disabled=True, layout=Layout(height='50px', width='99.5%')))), VBox(children=(HBox(children=(Button(description='Why Is South Korea Spooking the Global Bitcoin Market?', layout=Layout(height='40px', width='80%'), style=ButtonStyle(button_color='SkyBlue', font_weight='bold')), SelectionSlider(continuous_update=False, description='Rate Article 7', index=1, options=('Less', 'Neutral', 'More'), value='Neutral'))), Textarea(value='The government says it is looking at banning virtual currency trades. But it isn’t clear whether, or how quickly, it will follow through.', disabled=True, layout=Layout(height='50px', width='99.5%')))), VBox(children=(HBox(children=(Button(description='Six Great Reads for Australians on the Culture-Tech Collision', layout=Layout(height='40px', width='80%'), style=ButtonStyle(button_color='SkyBlue', font_weight='bold')), SelectionSlider(continuous_update=False, description='Rate Article 8', index=1, options=('Less', 'Neutral', 'More'), value='Neutral'))), Textarea(value='From reality-show drag queens to the Bitcoin bubble – here’s how the latest in culture and tech fits into the Australian discussion.', disabled=True, layout=Layout(height='50px', width='99.5%')))), VBox(children=(HBox(children=(Button(description='Worries Grow That the Price of Bitcoin Is Being Propped Up', layout=Layout(height='40px', width='80%'), style=ButtonStyle(button_color='SkyBlue', font_weight='bold')), SelectionSlider(continuous_update=False, description='Rate Article 9', index=1, options=('Less', 'Neutral', 'More'), value='Neutral'))), Textarea(value='When the price of Bitcoin goes down, activity on an influential exchange pumps it back up. That has investors and regulators asking questions.', disabled=True, layout=Layout(height='50px', width='99.5%')))), VBox(children=(HBox(children=(Button(description='A Bitcoin Hedge Fund’s Return: 25,004% (That Wasn’t a Typo)', layout=Layout(height='40px', width='80%'), style=ButtonStyle(button_color='SkyBlue', font_weight='bold')), SelectionSlider(continuous_update=False, description='Rate Article 10', index=1, options=('Less', 'Neutral', 'More'), value='Neutral'))), Textarea(value='The Pantera Bitcoin Fund was set up in 2013, when few on Wall Street were interested in cryptocurrencies. It has since ridden the Bitcoin wave to blockbuster returns.', disabled=True, layout=Layout(height='50px', width='99.5%'))))), layout=Layout(border='solid'))"
      ]
     },
     "metadata": {},
     "output_type": "display_data"
    }
   ],
   "source": [
    "from ipywidgets import widgets, HBox, VBox, Layout, Button, Label\n",
    "from IPython.display import display, HTML, clear_output\n",
    "import requests\n",
    "import webbrowser\n",
    "import pandas as pd\n",
    "import numpy as np\n",
    "\n",
    "def reset_pref(sender):\n",
    "    column_name = [str(i) for i in range(35)]\n",
    "    df = pd.DataFrame(columns = ['name'] + column_name)\n",
    "    df.to_csv('data/df.csv', index = False)\n",
    "\n",
    "htmlscript_ipywidget_disable_closing = '''<script>\n",
    "disable = true\n",
    "function disable_ipyw_close(){\n",
    "    if(disable){\n",
    "        $('div.widget-area > div.prompt > button.close').hide()\n",
    "    }\n",
    "    else{\n",
    "        $('div.widget-area > div.prompt > button.close').show()    \n",
    "    }\n",
    "    disable = !disable\n",
    "}\n",
    "$( document ).ready(disable_ipyw_close);\n",
    "</script>\n",
    "\n",
    "<form action=\"javascript:disable_ipyw_close()\"><input style=\"opacity: 0.5\" type=\"submit\" value=\"Disable ipywidget closing\"></form>'''\n",
    "\n",
    "wodget_hide = HTML('''<script>\n",
    "code_show=true; \n",
    "function code_toggle() {\n",
    "    if (code_show){\n",
    "        $('div.cell.code_cell.rendered.selected div.input').hide();\n",
    "    } else {\n",
    "        $('div.cell.code_cell.rendered.selected div.input').show();\n",
    "    }\n",
    "    code_show = !code_show\n",
    "} \n",
    "\n",
    "$( document ).ready(code_toggle);\n",
    "</script>\n",
    "\n",
    "To show/hide this cell's raw code input, click <a href=\"javascript:code_toggle()\">here</a>.''')\n",
    "\n",
    "widget_hide = HTML('''<script>$('div.output_area > div.output_subarea.jupyter-widgets-view > div.p-Widget.p-Panel.jupyter-widgets.widget-container.widget-box.widget-vbox').fadeOut();</script>''')\n",
    "    \n",
    "def rec_generate(sender):\n",
    "    if(text_user.value == ''):\n",
    "        js = \"<script>alert('Enter your username for recommendations!');</script>\"\n",
    "        display(HTML(js))\n",
    "        return\n",
    "    pref_data = pd.read_csv('data/df.csv')\n",
    "    usr = text_user.value\n",
    "    usr_data = pref_data.loc[pref_data['name'] == usr,]\n",
    "    usr_arr = usr_data.iloc[0].values[1:]\n",
    "    usr_arr = usr_data.iloc[0].values[1:]/sum(usr_arr)\n",
    "    \n",
    "    from sklearn.metrics.pairwise import cosine_similarity\n",
    "    def dot_product(arr1, arr2):\n",
    "        return(cosine_similarity(arr1.reshape(1,-1),arr2.reshape(1,-1))[0][0])\n",
    "    score = []\n",
    "    for i in range(topic_corpus.shape[0]):\n",
    "        score.append(dot_product(topic_corpus.iloc[i,].values, usr_arr))\n",
    "    \n",
    "    sorted_index = sorted(range(len(score)), key=lambda k: score[k], reverse = True)[:10]\n",
    "\n",
    "    def get_headline(url):\n",
    "        r = requests.get(url)\n",
    "        soup = BeautifulSoup(r.text, 'html.parser')\n",
    "        name_box = soup.findAll('h1')\n",
    "        return(name_box[0].text)\n",
    "\n",
    "    def get_snippet(url):\n",
    "        r = requests.get(url)\n",
    "        soup = BeautifulSoup(r.text, 'html.parser')\n",
    "        name_box = soup.findAll('p')\n",
    "        for i in name_box:\n",
    "            try:\n",
    "                if(len(i.text)>150):\n",
    "                    snipp = i.text\n",
    "                    return(snipp)\n",
    "            except:\n",
    "                return(\"No Snippet Available\")\n",
    "\n",
    "    url = [content_data['web_url'][i] for i in sorted_index]\n",
    "    hdls = [get_headline(i) for i in url]\n",
    "    snipps = [get_snippet(i) for i in url]\n",
    "    ui_fill(hdls, snipps, url)\n",
    "    \n",
    "def ui_fill(headlines, snippets, urls):\n",
    "    \n",
    "    display(widget_hide)\n",
    "    \n",
    "    def on_value_change(change):\n",
    "        if(text_user.value == ''):\n",
    "            js = \"<script>alert('Enter your name before giving preferences');</script>\"\n",
    "            display(HTML(js))            \n",
    "            return\n",
    "\n",
    "        scale = {'Less':-1, 'Neutral':0, 'More':1}\n",
    "        pref_data = pd.read_csv('data/df.csv')\n",
    "        user_list = list(pref_data['name'].values)\n",
    "        usr = text_user.value\n",
    "        article_topics = query_article_topic(urls)\n",
    "        article_topics.to_csv('data/waste.csv', index = False)\n",
    "        \n",
    "        if(usr not in user_list):\n",
    "            df = pd.DataFrame(columns = ['name'] + [str(i) for i in range(35)])\n",
    "            df.loc[0] = [usr] + [0 for i in range(35)]\n",
    "            pref_data = pd.concat([pref_data, df], axis = 0)\n",
    "            pref_data = pref_data.fillna(0)\n",
    "            pref_data.to_csv('data/df.csv', index = False)\n",
    "\n",
    "        pref_data = pd.read_csv('data/df.csv')\n",
    "        ind = items_rate.index(change['owner'])\n",
    "        pref_change = scale[change['new']] - scale[change['old']]               \n",
    "        for i in range(35):\n",
    "            pref_data.loc[pref_data['name'] == usr, str(i)] += pref_change*article_topics.loc[ind, i]\n",
    "        pref_data.to_csv('data/df.csv', index = False)\n",
    "    \n",
    "    def redirect_link(sender):\n",
    "        ind = items_hl.index(sender)\n",
    "        link = urls[ind]\n",
    "        webbrowser.open(link)\n",
    "        \n",
    "    items_hl = [Button(description=w, border = 'solid', layout = Layout(width='80%', height='40px')) for w in headlines]\n",
    "    for hl in items_hl:\n",
    "        hl.style.button_color = 'SkyBlue'\n",
    "        hl.style.font_weight = 'bold'\n",
    "        hl.on_click(redirect_link)\n",
    "        \n",
    "    items_sn = [widgets.Textarea(w, disabled = True, layout = Layout(width = '99.5%', height = '50px')) for w in snippets]\n",
    "\n",
    "    items_rate = [widgets.SelectionSlider(options=['Less', 'Neutral', 'More'], value = 'Neutral', \n",
    "                                          description='Rate Article '+str(i+1), disabled=False, \n",
    "                                          continuous_update=False, orientation='horizontal', readout=True) \n",
    "                  for i in range(len(headlines))]\n",
    "    for rt in items_rate:\n",
    "        rt.observe(on_value_change, names = 'value')\n",
    "\n",
    "    items = [VBox([HBox([items_hl[i], items_rate[i]]), items_sn[i]]) for i in range(len(headlines))]\n",
    "    box = VBox(items, layout = Layout(border = 'solid'))\n",
    "    display(box)\n",
    "\n",
    "    \n",
    "def onclick(sender):\n",
    "    \n",
    "    if(text_query.value == ''):\n",
    "        js = \"<script>alert('Input cannot be blank');</script>\"\n",
    "        display(HTML(js))\n",
    "        return\n",
    "    \n",
    "    base_url = 'https://api.nytimes.com/svc/search/v2/articlesearch.json?api-key=c77ddf1d1b594f76b2773928f324615f'\n",
    "    param_url = '&q='+str(text_query.value)+'&page=0'\n",
    "    url = base_url + param_url\n",
    "    \n",
    "    r = requests.get(url)\n",
    "    json_data = r.json()\n",
    "    article_meta_data = json_data['response']['docs']\n",
    "    \n",
    "    headlines = []\n",
    "    urls = []\n",
    "    snippets = []\n",
    "    for artc in article_meta_data:\n",
    "        url = artc['web_url']\n",
    "        headline = artc['headline']['main']\n",
    "        snippet = artc['snippet']\n",
    "        headlines.append(headline)\n",
    "        urls.append(url)\n",
    "        snippets.append(snippet)\n",
    "\n",
    "    ui_fill(headlines, snippets, urls)\n",
    "    \n",
    "text_query = widgets.Text(placeholder='Type a query for NY Times article listing')\n",
    "button_query = widgets.Button(description = 'Search articles')\n",
    "query = HBox([text_query, button_query])\n",
    "query = VBox([Label(\"\"), query, Label(\"\")])\n",
    "button_query.on_click(onclick)\n",
    "\n",
    "\n",
    "text_user = widgets.Text(placeholder='Enter your name', value = 'saket')\n",
    "user_input = HBox([Label(\"Username:\"),text_user])\n",
    "rec_button = widgets.Button(description = 'Get recommendations', layout = Layout(width = '150px'))\n",
    "reset_button = widgets.Button(description = 'Reset Preferences')\n",
    "user = VBox([user_input,HBox([Label(\"->->->->->\"),rec_button,reset_button])])\n",
    "rec_button.on_click(rec_generate)\n",
    "reset_button.on_click(reset_pref)\n",
    "\n",
    "display(HBox([query, Label(\"\"),Label(\"\"), user]))\n",
    "# HTML(htmlscript_ipywidget_disable_closing)"
   ]
  },
  {
   "cell_type": "code",
   "execution_count": 75,
   "metadata": {},
   "outputs": [
    {
     "data": {
      "text/plain": [
       "[(0,\n",
       "  '0.016*\"republican\" + 0.015*\"election\" + 0.012*\"democrat\" + 0.010*\"party\" + 0.010*\"vote\" + 0.008*\"trump\" + 0.008*\"political\" + 0.008*\"committee\" + 0.008*\"democratic\" + 0.007*\"official\"'),\n",
       " (1,\n",
       "  '0.018*\"saudi\" + 0.017*\"club\" + 0.015*\"wine\" + 0.014*\"player\" + 0.014*\"soccer\" + 0.014*\"league\" + 0.010*\"australia\" + 0.010*\"spain\" + 0.010*\"team\" + 0.008*\"international\"'),\n",
       " (2,\n",
       "  '0.014*\"book\" + 0.008*\"read\" + 0.005*\"word\" + 0.004*\"writer\" + 0.004*\"age\" + 0.004*\"character\" + 0.004*\"novel\" + 0.003*\"picture\" + 0.003*\"idea\" + 0.003*\"love\"'),\n",
       " (3,\n",
       "  '0.011*\"river\" + 0.009*\"mountain\" + 0.009*\"road\" + 0.008*\"park\" + 0.008*\"town\" + 0.008*\"century\" + 0.008*\"mile\" + 0.006*\"south\" + 0.006*\"diamond\" + 0.006*\"visit\"'),\n",
       " (4,\n",
       "  '0.016*\"war\" + 0.009*\"nation\" + 0.008*\"force\" + 0.007*\"official\" + 0.007*\"political\" + 0.006*\"control\" + 0.006*\"syria\" + 0.006*\"leader\" + 0.006*\"iraq\" + 0.006*\"minister\"'),\n",
       " (5,\n",
       "  '0.064*\"los\" + 0.039*\"del\" + 0.022*\"kelly\" + 0.021*\"las\" + 0.020*\"est\" + 0.012*\"texas\" + 0.010*\"pour\" + 0.010*\"artist\" + 0.010*\"son\" + 0.010*\"austin\"'),\n",
       " (6,\n",
       "  '0.009*\"friend\" + 0.006*\"man\" + 0.006*\"night\" + 0.006*\"hand\" + 0.006*\"love\" + 0.006*\"wear\" + 0.006*\"walk\" + 0.005*\"father\" + 0.005*\"mother\" + 0.005*\"saw\"'),\n",
       " (7,\n",
       "  '0.027*\"olympic\" + 0.025*\"sport\" + 0.024*\"athlete\" + 0.020*\"olympics\" + 0.019*\"winter\" + 0.018*\"russian\" + 0.017*\"ski\" + 0.016*\"game\" + 0.016*\"pyeongchang\" + 0.012*\"skate\"'),\n",
       " (8,\n",
       "  '0.022*\"china\" + 0.016*\"chinese\" + 0.013*\"soon\" + 0.012*\"wynn\" + 0.011*\"deal\" + 0.010*\"shiong\" + 0.008*\"angeles\" + 0.008*\"newspaper\" + 0.008*\"party\" + 0.007*\"taiwan\"'),\n",
       " (9,\n",
       "  '0.020*\"police\" + 0.014*\"military\" + 0.012*\"officer\" + 0.010*\"train\" + 0.008*\"attack\" + 0.008*\"arrest\" + 0.008*\"force\" + 0.007*\"security\" + 0.007*\"kill\" + 0.007*\"authority\"'),\n",
       " (10,\n",
       "  '0.050*\"sexual\" + 0.031*\"harassment\" + 0.018*\"men\" + 0.017*\"abuse\" + 0.011*\"sex\" + 0.011*\"assault\" + 0.011*\"victim\" + 0.010*\"metoo\" + 0.010*\"behavior\" + 0.009*\"allegation\"'),\n",
       " (11,\n",
       "  '0.039*\"gun\" + 0.017*\"mass\" + 0.014*\"violence\" + 0.012*\"atlanta\" + 0.011*\"shooting\" + 0.011*\"rapper\" + 0.009*\"black\" + 0.008*\"rap\" + 0.008*\"criminal\" + 0.008*\"shoot\"'),\n",
       " (12,\n",
       "  '0.045*\"fund\" + 0.044*\"bank\" + 0.019*\"mortgage\" + 0.017*\"investment\" + 0.016*\"risk\" + 0.015*\"loan\" + 0.015*\"volatility\" + 0.015*\"asset\" + 0.015*\"firm\" + 0.015*\"financial\"'),\n",
       " (13,\n",
       "  '0.014*\"housing\" + 0.014*\"building\" + 0.011*\"property\" + 0.010*\"apartment\" + 0.009*\"community\" + 0.009*\"estate\" + 0.008*\"street\" + 0.008*\"nurse\" + 0.007*\"neighborhood\" + 0.007*\"rent\"'),\n",
       " (14,\n",
       "  '0.021*\"stock\" + 0.014*\"rate\" + 0.013*\"price\" + 0.012*\"investor\" + 0.012*\"economy\" + 0.012*\"rise\" + 0.011*\"growth\" + 0.008*\"economic\" + 0.007*\"inflation\" + 0.007*\"financial\"'),\n",
       " (15,\n",
       "  '0.016*\"climate\" + 0.015*\"oil\" + 0.011*\"energy\" + 0.009*\"gas\" + 0.009*\"china\" + 0.008*\"water\" + 0.007*\"plant\" + 0.007*\"power\" + 0.007*\"environmental\" + 0.006*\"coal\"'),\n",
       " (16,\n",
       "  '0.026*\"film\" + 0.020*\"movie\" + 0.017*\"black\" + 0.014*\"theater\" + 0.011*\"award\" + 0.008*\"star\" + 0.008*\"broadway\" + 0.008*\"actor\" + 0.007*\"series\" + 0.007*\"production\"'),\n",
       " (17,\n",
       "  '0.034*\"travel\" + 0.030*\"hotel\" + 0.030*\"com\" + 0.018*\"www\" + 0.017*\"vacation\" + 0.017*\"trip\" + 0.016*\"site\" + 0.012*\"tour\" + 0.011*\"price\" + 0.011*\"ticket\"'),\n",
       " (18,\n",
       "  '0.027*\"puerto\" + 0.021*\"rico\" + 0.020*\"virus\" + 0.017*\"hurricane\" + 0.016*\"island\" + 0.014*\"brazil\" + 0.010*\"miami\" + 0.009*\"billion\" + 0.009*\"spread\" + 0.009*\"infect\"'),\n",
       " (19,\n",
       "  '0.030*\"uber\" + 0.026*\"rio\" + 0.023*\"texas\" + 0.019*\"driver\" + 0.018*\"arizona\" + 0.016*\"philadelphia\" + 0.015*\"pas\" + 0.010*\"kansa\" + 0.010*\"generic\" + 0.010*\"eagle\"'),\n",
       " (20,\n",
       "  '0.031*\"tax\" + 0.020*\"health\" + 0.014*\"care\" + 0.013*\"benefit\" + 0.011*\"policy\" + 0.009*\"income\" + 0.009*\"insurance\" + 0.009*\"cost\" + 0.007*\"cut\" + 0.007*\"increase\"'),\n",
       " (21,\n",
       "  '0.027*\"study\" + 0.024*\"patient\" + 0.022*\"health\" + 0.019*\"drug\" + 0.018*\"medical\" + 0.017*\"cancer\" + 0.015*\"doctor\" + 0.013*\"hospital\" + 0.011*\"care\" + 0.011*\"treatment\"'),\n",
       " (22,\n",
       "  '0.044*\"newsletter\" + 0.036*\"advertisement\" + 0.027*\"field\" + 0.019*\"box\" + 0.018*\"click\" + 0.017*\"robot\" + 0.016*\"email\" + 0.015*\"subscribe\" + 0.015*\"select\" + 0.014*\"verify\"'),\n",
       " (23,\n",
       "  '0.012*\"worker\" + 0.011*\"employee\" + 0.011*\"technology\" + 0.009*\"computer\" + 0.008*\"executive\" + 0.007*\"industry\" + 0.007*\"car\" + 0.007*\"product\" + 0.006*\"firm\" + 0.005*\"internet\"'),\n",
       " (24,\n",
       "  '0.031*\"music\" + 0.026*\"feb\" + 0.018*\"song\" + 0.015*\"com\" + 0.012*\"album\" + 0.012*\"org\" + 0.011*\"band\" + 0.010*\"perform\" + 0.010*\"212\" + 0.010*\"record\"'),\n",
       " (25,\n",
       "  '0.029*\"team\" + 0.025*\"game\" + 0.020*\"player\" + 0.017*\"season\" + 0.015*\"win\" + 0.012*\"coach\" + 0.009*\"league\" + 0.008*\"playoff\" + 0.007*\"super\" + 0.007*\"bowl\"'),\n",
       " (26,\n",
       "  '0.076*\"trump\" + 0.013*\"immigration\" + 0.011*\"administration\" + 0.010*\"obama\" + 0.010*\"deal\" + 0.010*\"budget\" + 0.008*\"republican\" + 0.008*\"immigrant\" + 0.008*\"democrat\" + 0.007*\"speech\"'),\n",
       " (27,\n",
       "  '0.019*\"court\" + 0.017*\"law\" + 0.014*\"lawyer\" + 0.012*\"body\" + 0.010*\"judge\" + 0.009*\"charge\" + 0.009*\"department\" + 0.008*\"police\" + 0.008*\"howe\" + 0.008*\"federal\"'),\n",
       " (28,\n",
       "  '0.014*\"billion\" + 0.012*\"revenue\" + 0.011*\"twitter\" + 0.010*\"quarter\" + 0.009*\"sale\" + 0.008*\"fashion\" + 0.008*\"facebook\" + 0.008*\"medium\" + 0.007*\"sell\" + 0.007*\"amazon\"'),\n",
       " (29,\n",
       "  '0.039*\"san\" + 0.031*\"mexico\" + 0.031*\"california\" + 0.019*\"border\" + 0.016*\"angeles\" + 0.014*\"los\" + 0.013*\"francisco\" + 0.013*\"diego\" + 0.011*\"canada\" + 0.010*\"venezuela\"'),\n",
       " (30,\n",
       "  '0.048*\"art\" + 0.034*\"museum\" + 0.023*\"artist\" + 0.010*\"design\" + 0.010*\"collection\" + 0.009*\"gallery\" + 0.009*\"exhibition\" + 0.008*\"paint\" + 0.007*\"painting\" + 0.006*\"chicago\"'),\n",
       " (31,\n",
       "  '0.034*\"student\" + 0.011*\"class\" + 0.011*\"college\" + 0.010*\"parent\" + 0.008*\"professor\" + 0.007*\"social\" + 0.007*\"career\" + 0.007*\"education\" + 0.007*\"graduate\" + 0.007*\"learn\"'),\n",
       " (32,\n",
       "  '0.061*\"north\" + 0.052*\"korea\" + 0.043*\"south\" + 0.040*\"korean\" + 0.019*\"kim\" + 0.016*\"olympics\" + 0.015*\"game\" + 0.014*\"missile\" + 0.012*\"nuclear\" + 0.008*\"moon\"'),\n",
       " (33,\n",
       "  '0.017*\"food\" + 0.015*\"restaurant\" + 0.009*\"street\" + 0.008*\"cook\" + 0.007*\"shop\" + 0.007*\"bar\" + 0.007*\"eat\" + 0.005*\"table\" + 0.005*\"water\" + 0.005*\"chef\"'),\n",
       " (34,\n",
       "  '0.035*\"dog\" + 0.017*\"flight\" + 0.016*\"airline\" + 0.014*\"breed\" + 0.013*\"fly\" + 0.012*\"plane\" + 0.011*\"getty\" + 0.011*\"airport\" + 0.011*\"image\" + 0.010*\"pilot\"')]"
      ]
     },
     "execution_count": 75,
     "metadata": {},
     "output_type": "execute_result"
    }
   ],
   "source": [
    "ldamodel.print_topics(num_topics = 35)\n",
    "# ldamodel[dct.doc2bow(pre_process(extract_content(\"https://www.nytimes.com/2018/01/31/travel/guillermo-de-toro-mexico.html\")))]"
   ]
  },
  {
   "cell_type": "code",
   "execution_count": null,
   "metadata": {},
   "outputs": [],
   "source": []
  }
 ],
 "metadata": {
  "kernelspec": {
   "display_name": "Python 3",
   "language": "python",
   "name": "python3"
  },
  "language_info": {
   "codemirror_mode": {
    "name": "ipython",
    "version": 3
   },
   "file_extension": ".py",
   "mimetype": "text/x-python",
   "name": "python",
   "nbconvert_exporter": "python",
   "pygments_lexer": "ipython3",
   "version": "3.6.1"
  },
  "widgets": {
   "application/vnd.jupyter.widget-state+json": {
    "state": {
     "034bd798c2114fe2831a226a49a83c7d": {
      "model_module": "@jupyter-widgets/controls",
      "model_module_version": "1.1.0",
      "model_name": "DescriptionStyleModel",
      "state": {
       "description_width": ""
      }
     },
     "0607b68614384343acc5f455a6b26e9c": {
      "model_module": "@jupyter-widgets/controls",
      "model_module_version": "1.1.0",
      "model_name": "ButtonModel",
      "state": {
       "description": "Tottenham Hotspur Versus Arsenal-Fans' View",
       "layout": "IPY_MODEL_9d6c4debc10145849a396ad26a502a65",
       "style": "IPY_MODEL_b73119d152ec4faea36cbbdbd5e038ac"
      }
     },
     "0640c90eb4ed46e3892c408ee39eba75": {
      "model_module": "@jupyter-widgets/controls",
      "model_module_version": "1.1.0",
      "model_name": "ButtonModel",
      "state": {
       "description": "Five Memorable Tottenham Hotspur Versus Arsenal Matches",
       "layout": "IPY_MODEL_a84fba61beab426287b843d996869b18",
       "style": "IPY_MODEL_f2261d1e7f6a4f98bab914bdf3e69518"
      }
     },
     "064d06c8c5f4478caed20443b237773a": {
      "model_module": "@jupyter-widgets/controls",
      "model_module_version": "1.1.0",
      "model_name": "DescriptionStyleModel",
      "state": {
       "description_width": ""
      }
     },
     "08a87bc3ab064c7f9597be033fc69eae": {
      "model_module": "@jupyter-widgets/base",
      "model_module_version": "1.0.0",
      "model_name": "LayoutModel",
      "state": {}
     },
     "09d238f2040b40dd9fe8849ca979fc3a": {
      "model_module": "@jupyter-widgets/controls",
      "model_module_version": "1.1.0",
      "model_name": "TextareaModel",
      "state": {
       "disabled": true,
       "layout": "IPY_MODEL_0b6d0c46c3b545478b88cd90437e7bc7",
       "style": "IPY_MODEL_064d06c8c5f4478caed20443b237773a",
       "value": "Manchester United reels in a star, but it (and Arsenal, and Chelsea) still has far to go to catch Pep Guardiola’s Manchester City."
      }
     },
     "0ab5f60ae6e0447d8a50c3c450bc8344": {
      "model_module": "@jupyter-widgets/controls",
      "model_module_version": "1.1.0",
      "model_name": "TextareaModel",
      "state": {
       "disabled": true,
       "layout": "IPY_MODEL_bc5bbf269434400e8cb6218e0437599e",
       "style": "IPY_MODEL_034bd798c2114fe2831a226a49a83c7d",
       "value": "Arsenal have bolstered their attacking line-up by signing striker Pierre-Emerick Aubameyang from Borussia Dortmund on a long-term contract for a club-record fee, the Premier League club said on Wednesday."
      }
     },
     "0b6d0c46c3b545478b88cd90437e7bc7": {
      "model_module": "@jupyter-widgets/base",
      "model_module_version": "1.0.0",
      "model_name": "LayoutModel",
      "state": {
       "height": "50px",
       "width": "99.5%"
      }
     },
     "113bdaa0404649bfba1198a2d7060221": {
      "model_module": "@jupyter-widgets/base",
      "model_module_version": "1.0.0",
      "model_name": "LayoutModel",
      "state": {}
     },
     "11dfda28769d44708f2b7b5c8c76cd6d": {
      "model_module": "@jupyter-widgets/base",
      "model_module_version": "1.0.0",
      "model_name": "LayoutModel",
      "state": {}
     },
     "141d3336137c47cb9d979d94d59a6787": {
      "model_module": "@jupyter-widgets/controls",
      "model_module_version": "1.1.0",
      "model_name": "VBoxModel",
      "state": {
       "children": [
        "IPY_MODEL_8a5247a8d8554ae590efef9c4a368ce5",
        "IPY_MODEL_fc034b892bd7486ea5dbda6e1fad5f08"
       ],
       "layout": "IPY_MODEL_4e494dd8130947e4a42253ce09c80208"
      }
     },
     "1806b95ce9f94cc4ac077479f9096dde": {
      "model_module": "@jupyter-widgets/base",
      "model_module_version": "1.0.0",
      "model_name": "LayoutModel",
      "state": {}
     },
     "1836c31967ca480a8708af46513ad703": {
      "model_module": "@jupyter-widgets/controls",
      "model_module_version": "1.1.0",
      "model_name": "DescriptionStyleModel",
      "state": {
       "description_width": ""
      }
     },
     "18edf19800eb41da8d3a6150549dd4d1": {
      "model_module": "@jupyter-widgets/controls",
      "model_module_version": "1.1.0",
      "model_name": "DescriptionStyleModel",
      "state": {
       "description_width": ""
      }
     },
     "1a46490460474521a7f26a401b2e48cc": {
      "model_module": "@jupyter-widgets/controls",
      "model_module_version": "1.1.0",
      "model_name": "VBoxModel",
      "state": {
       "children": [
        "IPY_MODEL_9e575bfb15804dcb8ba328e6260fd6f5",
        "IPY_MODEL_88b4294e16674fea8c4132e59ed5aa0d"
       ],
       "layout": "IPY_MODEL_c3643e881c284b5ebd8e3644088306e0"
      }
     },
     "1a5811168ed54199b6723520e7227d8d": {
      "model_module": "@jupyter-widgets/base",
      "model_module_version": "1.0.0",
      "model_name": "LayoutModel",
      "state": {}
     },
     "1c33b04bd2fa4bcabbf4933e748f4621": {
      "model_module": "@jupyter-widgets/base",
      "model_module_version": "1.0.0",
      "model_name": "LayoutModel",
      "state": {}
     },
     "1ca44567d2bd44b480271a7acb38a234": {
      "model_module": "@jupyter-widgets/base",
      "model_module_version": "1.0.0",
      "model_name": "LayoutModel",
      "state": {
       "height": "40px",
       "width": "80%"
      }
     },
     "1fd714f2a9ea4a938d0d823263742391": {
      "model_module": "@jupyter-widgets/controls",
      "model_module_version": "1.1.0",
      "model_name": "HBoxModel",
      "state": {
       "children": [
        "IPY_MODEL_98621e7af85749299fc52af4b205e808",
        "IPY_MODEL_46d2768b4efc44f8a2e769ce54c36f3c"
       ],
       "layout": "IPY_MODEL_81515883e6514a038b983f81f45b5152"
      }
     },
     "212e92c477da4a1ea68908f3fb94d3cf": {
      "model_module": "@jupyter-widgets/controls",
      "model_module_version": "1.1.0",
      "model_name": "DescriptionStyleModel",
      "state": {
       "description_width": ""
      }
     },
     "2174515f304949e28eefedf9badb545a": {
      "model_module": "@jupyter-widgets/controls",
      "model_module_version": "1.1.0",
      "model_name": "ButtonStyleModel",
      "state": {
       "button_color": "SkyBlue",
       "font_weight": "bold"
      }
     },
     "24ac415578494ea99af86279235a4c9d": {
      "model_module": "@jupyter-widgets/controls",
      "model_module_version": "1.1.0",
      "model_name": "ButtonModel",
      "state": {
       "description": "Statbox-Tottenham Hotspur Versus Arsenal",
       "layout": "IPY_MODEL_e47f03fa898b41aea03d60501ebd0e4f",
       "style": "IPY_MODEL_ea03e360da6746f48662a6d58acc6546"
      }
     },
     "25c2c8da510a4c44aa681d1fa034b981": {
      "model_module": "@jupyter-widgets/base",
      "model_module_version": "1.0.0",
      "model_name": "LayoutModel",
      "state": {}
     },
     "2874b942cdc14e25a589ada4901ed8e2": {
      "model_module": "@jupyter-widgets/controls",
      "model_module_version": "1.1.0",
      "model_name": "DescriptionStyleModel",
      "state": {
       "description_width": ""
      }
     },
     "291220dfa2154e699377a912aa5fab1e": {
      "model_module": "@jupyter-widgets/base",
      "model_module_version": "1.0.0",
      "model_name": "LayoutModel",
      "state": {
       "height": "40px",
       "width": "80%"
      }
     },
     "29131d56a2f743a7be00a96f379da498": {
      "model_module": "@jupyter-widgets/base",
      "model_module_version": "1.0.0",
      "model_name": "LayoutModel",
      "state": {}
     },
     "2b05191957ae42ba8a0489ba9fb7b226": {
      "model_module": "@jupyter-widgets/controls",
      "model_module_version": "1.1.0",
      "model_name": "HBoxModel",
      "state": {
       "children": [
        "IPY_MODEL_ae5a2c0f09934ccaa17aa950679b4626",
        "IPY_MODEL_71f6f5dc1e28443e9f59a5ee40a8d086"
       ],
       "layout": "IPY_MODEL_79e1ae102fd94dcbb2a61fd5285bde75"
      }
     },
     "2b25ab901c424e9fae769955ca1aa779": {
      "model_module": "@jupyter-widgets/controls",
      "model_module_version": "1.1.0",
      "model_name": "DescriptionStyleModel",
      "state": {
       "description_width": ""
      }
     },
     "2d5c96f0f845409d883afe625107ee74": {
      "model_module": "@jupyter-widgets/controls",
      "model_module_version": "1.1.0",
      "model_name": "ButtonModel",
      "state": {
       "description": "Arsenal Football Club",
       "layout": "IPY_MODEL_ea2be55cc31d427fb61bd8da6ab416df",
       "style": "IPY_MODEL_be816ba630d3443492b667728f0597cd"
      }
     },
     "302305cc436b49548104b75bc009215b": {
      "model_module": "@jupyter-widgets/base",
      "model_module_version": "1.0.0",
      "model_name": "LayoutModel",
      "state": {}
     },
     "3066604b5864479aa003c5aee22cfbc0": {
      "model_module": "@jupyter-widgets/base",
      "model_module_version": "1.0.0",
      "model_name": "LayoutModel",
      "state": {
       "height": "50px",
       "width": "99.5%"
      }
     },
     "317346f59ebb4a00af819ae19d38c39a": {
      "model_module": "@jupyter-widgets/controls",
      "model_module_version": "1.1.0",
      "model_name": "LabelModel",
      "state": {
       "layout": "IPY_MODEL_ff68a3c1aff34d0e8dd365dc0a2f57a0",
       "style": "IPY_MODEL_67fc09b6f7c2446399fbc4d59e7b50cf"
      }
     },
     "31d7411ce5e842c98aac607ca3cb5fa5": {
      "model_module": "@jupyter-widgets/controls",
      "model_module_version": "1.1.0",
      "model_name": "TextareaModel",
      "state": {
       "disabled": true,
       "layout": "IPY_MODEL_54b33c7d5aa1471e81199931d2bd0114",
       "style": "IPY_MODEL_2b25ab901c424e9fae769955ca1aa779",
       "value": "News about Arsenal Football Club, including commentary and archival articles published in The New York Times."
      }
     },
     "320e0e57d139485eadf463dac95ea8d1": {
      "model_module": "@jupyter-widgets/controls",
      "model_module_version": "1.1.0",
      "model_name": "ButtonStyleModel",
      "state": {
       "button_color": "SkyBlue",
       "font_weight": "bold"
      }
     },
     "32f08c555a204b30b4b7d5c8fd11a7c1": {
      "model_module": "@jupyter-widgets/base",
      "model_module_version": "1.0.0",
      "model_name": "LayoutModel",
      "state": {}
     },
     "3339c262054c418da9b5eae6b3f40f45": {
      "model_module": "@jupyter-widgets/controls",
      "model_module_version": "1.1.0",
      "model_name": "VBoxModel",
      "state": {
       "children": [
        "IPY_MODEL_5a5a4455589749e59010e4669245ab89",
        "IPY_MODEL_fc2e6c81aa85487bb51d380bf8b43dfd",
        "IPY_MODEL_317346f59ebb4a00af819ae19d38c39a"
       ],
       "layout": "IPY_MODEL_29131d56a2f743a7be00a96f379da498"
      }
     },
     "362b05b7242e43bcbaa851a4fc7265de": {
      "model_module": "@jupyter-widgets/controls",
      "model_module_version": "1.1.0",
      "model_name": "ButtonStyleModel",
      "state": {
       "button_color": "SkyBlue",
       "font_weight": "bold"
      }
     },
     "37091e29e2044f6fbb39bb0293795718": {
      "model_module": "@jupyter-widgets/base",
      "model_module_version": "1.0.0",
      "model_name": "LayoutModel",
      "state": {
       "height": "40px",
       "width": "80%"
      }
     },
     "388ee6d3a68b4f7a88be71a5a3c30b6b": {
      "model_module": "@jupyter-widgets/controls",
      "model_module_version": "1.1.0",
      "model_name": "DescriptionStyleModel",
      "state": {
       "description_width": ""
      }
     },
     "3982fb502cf340baad8375ac2663b8a3": {
      "model_module": "@jupyter-widgets/controls",
      "model_module_version": "1.1.0",
      "model_name": "TextareaModel",
      "state": {
       "disabled": true,
       "layout": "IPY_MODEL_4a3f45f9d7e745cb98f2271a3a12cef2",
       "style": "IPY_MODEL_d67e40396e774752bb6e61539f17b697",
       "value": "Tottenham Hotspur and Arsenal will meet for the 195th time in all competitions on Saturday. We look at some notable clashes between the sides."
      }
     },
     "3a4b418060ed470683c6c81a087d04ab": {
      "model_module": "@jupyter-widgets/controls",
      "model_module_version": "1.1.0",
      "model_name": "TextareaModel",
      "state": {
       "disabled": true,
       "layout": "IPY_MODEL_efd9fd49ed794f55bad729dc54b0b740",
       "style": "IPY_MODEL_99ca38838cfc44a2a8ac7888c1988931",
       "value": "Eight points out of a Champions League place, Arsenal ought to be in crisis. But the much-hyped signing of Pierre-Emerick Aubameyang soothed some critics, and obscured larger problems."
      }
     },
     "3a75af098249426abdf975c0d8860f72": {
      "model_module": "@jupyter-widgets/controls",
      "model_module_version": "1.1.0",
      "model_name": "HBoxModel",
      "state": {
       "children": [
        "IPY_MODEL_9d862706df8940edbd60cfa08f2b441d",
        "IPY_MODEL_cf8b2b28eee5438db73e44e1760ec747"
       ],
       "layout": "IPY_MODEL_45972ee37ac24723af5ff6b080ac500a"
      }
     },
     "3b7c56642ce141b5a5d4b4b66755f4cc": {
      "model_module": "@jupyter-widgets/controls",
      "model_module_version": "1.1.0",
      "model_name": "DescriptionStyleModel",
      "state": {
       "description_width": ""
      }
     },
     "3bfeffb9b29d48cfb83e2f2c76f6fedd": {
      "model_module": "@jupyter-widgets/controls",
      "model_module_version": "1.1.0",
      "model_name": "TextModel",
      "state": {
       "layout": "IPY_MODEL_aec28c23e4d34a96b49eed61df817e0e",
       "placeholder": "Type a query for NY Times article listing",
       "style": "IPY_MODEL_8409f51a19ac46aba2a12df73dd111c2",
       "value": "arsenal"
      }
     },
     "421aa87a684140bfa79390db15a60f4e": {
      "model_module": "@jupyter-widgets/base",
      "model_module_version": "1.0.0",
      "model_name": "LayoutModel",
      "state": {
       "height": "40px",
       "width": "80%"
      }
     },
     "4261a6fe5f87499bb66fdffc43b4720a": {
      "model_module": "@jupyter-widgets/controls",
      "model_module_version": "1.1.0",
      "model_name": "TextareaModel",
      "state": {
       "disabled": true,
       "layout": "IPY_MODEL_6a06a8e952a946128b36e6755b9e795e",
       "style": "IPY_MODEL_2874b942cdc14e25a589ada4901ed8e2",
       "value": "Facts and figures ahead of Saturday's Premier League match between Tottenham Hotspur and Arsenal at Wembley."
      }
     },
     "4397821267c5499fbcf819f4ded2aa4a": {
      "model_module": "@jupyter-widgets/controls",
      "model_module_version": "1.1.0",
      "model_name": "VBoxModel",
      "state": {
       "children": [
        "IPY_MODEL_7f133ab3f7204b27a8f17f8c808f7f9a",
        "IPY_MODEL_5022f37a764b4dc8a2c68a8e4f14c987"
       ],
       "layout": "IPY_MODEL_517d1a7273ce4667bbbd0909def7f055"
      }
     },
     "45972ee37ac24723af5ff6b080ac500a": {
      "model_module": "@jupyter-widgets/base",
      "model_module_version": "1.0.0",
      "model_name": "LayoutModel",
      "state": {}
     },
     "46d2768b4efc44f8a2e769ce54c36f3c": {
      "model_module": "@jupyter-widgets/controls",
      "model_module_version": "1.1.0",
      "model_name": "ButtonModel",
      "state": {
       "description": "Get recommendations",
       "layout": "IPY_MODEL_c7da13790cde413aa083f5ebee73cc53",
       "style": "IPY_MODEL_8edf65bd75be4582aad55d5390fab490"
      }
     },
     "4733e31d0f95441084b9ae4ecd986fc8": {
      "model_module": "@jupyter-widgets/controls",
      "model_module_version": "1.1.0",
      "model_name": "ButtonModel",
      "state": {
       "description": "Search articles",
       "layout": "IPY_MODEL_6b8b02a8653b48a995c5e9256a9c6027",
       "style": "IPY_MODEL_d8003360b55b46c391c609dc308e8094"
      }
     },
     "487ba081e1114c96966fc9a74c59ed22": {
      "model_module": "@jupyter-widgets/base",
      "model_module_version": "1.0.0",
      "model_name": "LayoutModel",
      "state": {}
     },
     "4890151849fa4539840744f6f5234db9": {
      "model_module": "@jupyter-widgets/controls",
      "model_module_version": "1.1.0",
      "model_name": "SelectionSliderModel",
      "state": {
       "_options_labels": [
        "Less",
        "Neutral",
        "More"
       ],
       "continuous_update": false,
       "description": "Rate Article 2",
       "index": 1,
       "layout": "IPY_MODEL_1806b95ce9f94cc4ac077479f9096dde",
       "style": "IPY_MODEL_a7581f90e3c8444d9aecbacc0be4192f"
      }
     },
     "4a3f45f9d7e745cb98f2271a3a12cef2": {
      "model_module": "@jupyter-widgets/base",
      "model_module_version": "1.0.0",
      "model_name": "LayoutModel",
      "state": {
       "height": "50px",
       "width": "99.5%"
      }
     },
     "4dd67686995443fdaac3298f6a54b456": {
      "model_module": "@jupyter-widgets/controls",
      "model_module_version": "1.1.0",
      "model_name": "VBoxModel",
      "state": {
       "children": [
        "IPY_MODEL_b1ef6bb779ca45048e976ffff84c9b6a",
        "IPY_MODEL_4261a6fe5f87499bb66fdffc43b4720a"
       ],
       "layout": "IPY_MODEL_113bdaa0404649bfba1198a2d7060221"
      }
     },
     "4e494dd8130947e4a42253ce09c80208": {
      "model_module": "@jupyter-widgets/base",
      "model_module_version": "1.0.0",
      "model_name": "LayoutModel",
      "state": {}
     },
     "501589ddfd044581a612c1ef63f828b2": {
      "model_module": "@jupyter-widgets/base",
      "model_module_version": "1.0.0",
      "model_name": "LayoutModel",
      "state": {
       "height": "40px",
       "width": "80%"
      }
     },
     "5022f37a764b4dc8a2c68a8e4f14c987": {
      "model_module": "@jupyter-widgets/controls",
      "model_module_version": "1.1.0",
      "model_name": "TextareaModel",
      "state": {
       "disabled": true,
       "layout": "IPY_MODEL_54f64f9b62b54eea9653a960b3b5a33f",
       "style": "IPY_MODEL_212e92c477da4a1ea68908f3fb94d3cf",
       "value": "News about Arsenal Football Club, including commentary and archival articles published in The New York Times."
      }
     },
     "514ea6d7b6ff4fccba0eb81e55eb2662": {
      "model_module": "@jupyter-widgets/controls",
      "model_module_version": "1.1.0",
      "model_name": "LabelModel",
      "state": {
       "layout": "IPY_MODEL_56dbf023f665482791aa0a20b59245f9",
       "style": "IPY_MODEL_3b7c56642ce141b5a5d4b4b66755f4cc"
      }
     },
     "517d1a7273ce4667bbbd0909def7f055": {
      "model_module": "@jupyter-widgets/base",
      "model_module_version": "1.0.0",
      "model_name": "LayoutModel",
      "state": {}
     },
     "54b33c7d5aa1471e81199931d2bd0114": {
      "model_module": "@jupyter-widgets/base",
      "model_module_version": "1.0.0",
      "model_name": "LayoutModel",
      "state": {
       "height": "50px",
       "width": "99.5%"
      }
     },
     "54f64f9b62b54eea9653a960b3b5a33f": {
      "model_module": "@jupyter-widgets/base",
      "model_module_version": "1.0.0",
      "model_name": "LayoutModel",
      "state": {
       "height": "50px",
       "width": "99.5%"
      }
     },
     "56dbf023f665482791aa0a20b59245f9": {
      "model_module": "@jupyter-widgets/base",
      "model_module_version": "1.0.0",
      "model_name": "LayoutModel",
      "state": {}
     },
     "58169b4f9dd048d0bbd19d912a6d353f": {
      "model_module": "@jupyter-widgets/controls",
      "model_module_version": "1.1.0",
      "model_name": "DescriptionStyleModel",
      "state": {
       "description_width": ""
      }
     },
     "58cde7fa83684cd3a2aa3cafe0ca6881": {
      "model_module": "@jupyter-widgets/controls",
      "model_module_version": "1.1.0",
      "model_name": "HBoxModel",
      "state": {
       "children": [
        "IPY_MODEL_0640c90eb4ed46e3892c408ee39eba75",
        "IPY_MODEL_72c6f0e0d115472290c8f36b370d4e12"
       ],
       "layout": "IPY_MODEL_302305cc436b49548104b75bc009215b"
      }
     },
     "591bc1800e924e1587aee762dce12d50": {
      "model_module": "@jupyter-widgets/controls",
      "model_module_version": "1.1.0",
      "model_name": "VBoxModel",
      "state": {
       "children": [
        "IPY_MODEL_62f4d5c07838479d89fab78dd854d513",
        "IPY_MODEL_4397821267c5499fbcf819f4ded2aa4a",
        "IPY_MODEL_621b1221cc294d34aeeb21c31c235f65",
        "IPY_MODEL_4dd67686995443fdaac3298f6a54b456",
        "IPY_MODEL_672936fb14f4448ab233a89252126963",
        "IPY_MODEL_1a46490460474521a7f26a401b2e48cc",
        "IPY_MODEL_bda7679ddafc4996a09eb2d55eb68455",
        "IPY_MODEL_141d3336137c47cb9d979d94d59a6787",
        "IPY_MODEL_859a4843e243444e8cadf4fb9937e226",
        "IPY_MODEL_dc9025af5ee145f2a1962559a3560c4d"
       ],
       "layout": "IPY_MODEL_cc2d5737915f4b05b94f043a9b388623"
      }
     },
     "5962ef79339e43ec9bd4efa4187ab459": {
      "model_module": "@jupyter-widgets/base",
      "model_module_version": "1.0.0",
      "model_name": "LayoutModel",
      "state": {}
     },
     "5a5a4455589749e59010e4669245ab89": {
      "model_module": "@jupyter-widgets/controls",
      "model_module_version": "1.1.0",
      "model_name": "LabelModel",
      "state": {
       "layout": "IPY_MODEL_f4e4800c920b432ca610c322dc4afc1b",
       "style": "IPY_MODEL_f1bcf7cf56714369a7fb28ee999f53be"
      }
     },
     "5a9c884563384108b93e661f021940a4": {
      "model_module": "@jupyter-widgets/base",
      "model_module_version": "1.0.0",
      "model_name": "LayoutModel",
      "state": {
       "height": "50px",
       "width": "99.5%"
      }
     },
     "5c04a715d7254f7cb3aa9695633d3298": {
      "model_module": "@jupyter-widgets/base",
      "model_module_version": "1.0.0",
      "model_name": "LayoutModel",
      "state": {}
     },
     "5db6fcd219194bb2aa2b9053a67ad351": {
      "model_module": "@jupyter-widgets/controls",
      "model_module_version": "1.1.0",
      "model_name": "DescriptionStyleModel",
      "state": {
       "description_width": ""
      }
     },
     "621b1221cc294d34aeeb21c31c235f65": {
      "model_module": "@jupyter-widgets/controls",
      "model_module_version": "1.1.0",
      "model_name": "VBoxModel",
      "state": {
       "children": [
        "IPY_MODEL_c312f1c55dd84288bf5899b1e49f6c57",
        "IPY_MODEL_31d7411ce5e842c98aac607ca3cb5fa5"
       ],
       "layout": "IPY_MODEL_1c33b04bd2fa4bcabbf4933e748f4621"
      }
     },
     "62f4d5c07838479d89fab78dd854d513": {
      "model_module": "@jupyter-widgets/controls",
      "model_module_version": "1.1.0",
      "model_name": "VBoxModel",
      "state": {
       "children": [
        "IPY_MODEL_9ba2b438bd7248199b50816abd123ba4",
        "IPY_MODEL_3a4b418060ed470683c6c81a087d04ab"
       ],
       "layout": "IPY_MODEL_11dfda28769d44708f2b7b5c8c76cd6d"
      }
     },
     "672936fb14f4448ab233a89252126963": {
      "model_module": "@jupyter-widgets/controls",
      "model_module_version": "1.1.0",
      "model_name": "VBoxModel",
      "state": {
       "children": [
        "IPY_MODEL_838487cfce63485eb9570b0c19f12ffd",
        "IPY_MODEL_0ab5f60ae6e0447d8a50c3c450bc8344"
       ],
       "layout": "IPY_MODEL_1a5811168ed54199b6723520e7227d8d"
      }
     },
     "67fc09b6f7c2446399fbc4d59e7b50cf": {
      "model_module": "@jupyter-widgets/controls",
      "model_module_version": "1.1.0",
      "model_name": "DescriptionStyleModel",
      "state": {
       "description_width": ""
      }
     },
     "6a06a8e952a946128b36e6755b9e795e": {
      "model_module": "@jupyter-widgets/base",
      "model_module_version": "1.0.0",
      "model_name": "LayoutModel",
      "state": {
       "height": "50px",
       "width": "99.5%"
      }
     },
     "6a98813256f44a8aaede73e2af5189a3": {
      "model_module": "@jupyter-widgets/base",
      "model_module_version": "1.0.0",
      "model_name": "LayoutModel",
      "state": {}
     },
     "6b8b02a8653b48a995c5e9256a9c6027": {
      "model_module": "@jupyter-widgets/base",
      "model_module_version": "1.0.0",
      "model_name": "LayoutModel",
      "state": {}
     },
     "6bfc60625e3b4794a02e192802657588": {
      "model_module": "@jupyter-widgets/controls",
      "model_module_version": "1.1.0",
      "model_name": "DescriptionStyleModel",
      "state": {
       "description_width": ""
      }
     },
     "6d0ac60d5d5d458e88f2fa152a992990": {
      "model_module": "@jupyter-widgets/controls",
      "model_module_version": "1.1.0",
      "model_name": "DescriptionStyleModel",
      "state": {
       "description_width": ""
      }
     },
     "70846d5171d84bc484d6a1979f9efb7c": {
      "model_module": "@jupyter-widgets/base",
      "model_module_version": "1.0.0",
      "model_name": "LayoutModel",
      "state": {}
     },
     "71698cbefab74b228123fbcd51390225": {
      "model_module": "@jupyter-widgets/base",
      "model_module_version": "1.0.0",
      "model_name": "LayoutModel",
      "state": {}
     },
     "717dac607e4e403c851b8c0e4ac65414": {
      "model_module": "@jupyter-widgets/base",
      "model_module_version": "1.0.0",
      "model_name": "LayoutModel",
      "state": {}
     },
     "71f6f5dc1e28443e9f59a5ee40a8d086": {
      "model_module": "@jupyter-widgets/controls",
      "model_module_version": "1.1.0",
      "model_name": "TextModel",
      "state": {
       "layout": "IPY_MODEL_5962ef79339e43ec9bd4efa4187ab459",
       "placeholder": "Enter your name",
       "style": "IPY_MODEL_6bfc60625e3b4794a02e192802657588",
       "value": "saket"
      }
     },
     "7284bf6863314315901193a0ec6d6e72": {
      "model_module": "@jupyter-widgets/base",
      "model_module_version": "1.0.0",
      "model_name": "LayoutModel",
      "state": {}
     },
     "72c6f0e0d115472290c8f36b370d4e12": {
      "model_module": "@jupyter-widgets/controls",
      "model_module_version": "1.1.0",
      "model_name": "SelectionSliderModel",
      "state": {
       "_options_labels": [
        "Less",
        "Neutral",
        "More"
       ],
       "continuous_update": false,
       "description": "Rate Article 7",
       "index": 1,
       "layout": "IPY_MODEL_487ba081e1114c96966fc9a74c59ed22",
       "style": "IPY_MODEL_18edf19800eb41da8d3a6150549dd4d1"
      }
     },
     "79a80ab1af974deb838b5543609a2e0d": {
      "model_module": "@jupyter-widgets/controls",
      "model_module_version": "1.1.0",
      "model_name": "TextareaModel",
      "state": {
       "disabled": true,
       "layout": "IPY_MODEL_e1c56d295b8440ce9c931f338cc80f07",
       "style": "IPY_MODEL_f138c963049c42cfa7a18fe2777148cc",
       "value": "Aaron Ramsey scored a hat-trick on Saturday as Arsenal thrashed Everton 5-1 in the Premier League at the Emirates with a display of free-flowing football that the Gunners have sorely lacked away from home this season."
      }
     },
     "79e1ae102fd94dcbb2a61fd5285bde75": {
      "model_module": "@jupyter-widgets/base",
      "model_module_version": "1.0.0",
      "model_name": "LayoutModel",
      "state": {}
     },
     "7a918da5ea584e7e985aaa0589604f31": {
      "model_module": "@jupyter-widgets/controls",
      "model_module_version": "1.1.0",
      "model_name": "SelectionSliderModel",
      "state": {
       "_options_labels": [
        "Less",
        "Neutral",
        "More"
       ],
       "continuous_update": false,
       "description": "Rate Article 3",
       "index": 1,
       "layout": "IPY_MODEL_ce38e8a6700345be85f150cecb3342ce",
       "style": "IPY_MODEL_f0c8bf10a7fb427ea4112cb991e76f92"
      }
     },
     "7d571f1b96a448fa8b561c5eac759226": {
      "model_module": "@jupyter-widgets/controls",
      "model_module_version": "1.1.0",
      "model_name": "SelectionSliderModel",
      "state": {
       "_options_labels": [
        "Less",
        "Neutral",
        "More"
       ],
       "continuous_update": false,
       "description": "Rate Article 6",
       "index": 1,
       "layout": "IPY_MODEL_e394526313924c9d9c7060acb2ae047a",
       "style": "IPY_MODEL_95f57cb6110440d595d2bea4c4edb72c"
      }
     },
     "7f133ab3f7204b27a8f17f8c808f7f9a": {
      "model_module": "@jupyter-widgets/controls",
      "model_module_version": "1.1.0",
      "model_name": "HBoxModel",
      "state": {
       "children": [
        "IPY_MODEL_c6fb469ed62c47d89bea6b967309ab35",
        "IPY_MODEL_4890151849fa4539840744f6f5234db9"
       ],
       "layout": "IPY_MODEL_cb67d971a3a84215873a1ada88b53757"
      }
     },
     "81515883e6514a038b983f81f45b5152": {
      "model_module": "@jupyter-widgets/base",
      "model_module_version": "1.0.0",
      "model_name": "LayoutModel",
      "state": {}
     },
     "81f4d4ec7246435392e0ef5cdde9e69b": {
      "model_module": "@jupyter-widgets/controls",
      "model_module_version": "1.1.0",
      "model_name": "ButtonModel",
      "state": {
       "description": "Arsenal Sign Aubameyang in Club-Record Transfer",
       "layout": "IPY_MODEL_1ca44567d2bd44b480271a7acb38a234",
       "style": "IPY_MODEL_ca50608368d64924a1b5b7766dd1e896"
      }
     },
     "838487cfce63485eb9570b0c19f12ffd": {
      "model_module": "@jupyter-widgets/controls",
      "model_module_version": "1.1.0",
      "model_name": "HBoxModel",
      "state": {
       "children": [
        "IPY_MODEL_81f4d4ec7246435392e0ef5cdde9e69b",
        "IPY_MODEL_86490f54531c4a2d94424aa21c5a8853"
       ],
       "layout": "IPY_MODEL_97a58a390828487b81aa0c0c2fdedc89"
      }
     },
     "8409f51a19ac46aba2a12df73dd111c2": {
      "model_module": "@jupyter-widgets/controls",
      "model_module_version": "1.1.0",
      "model_name": "DescriptionStyleModel",
      "state": {
       "description_width": ""
      }
     },
     "859a4843e243444e8cadf4fb9937e226": {
      "model_module": "@jupyter-widgets/controls",
      "model_module_version": "1.1.0",
      "model_name": "VBoxModel",
      "state": {
       "children": [
        "IPY_MODEL_c9c7471cf52e4f8b9e64f1b07d9c2a58",
        "IPY_MODEL_09d238f2040b40dd9fe8849ca979fc3a"
       ],
       "layout": "IPY_MODEL_bb97244de3f34e138eb880a1214a7dbe"
      }
     },
     "86490f54531c4a2d94424aa21c5a8853": {
      "model_module": "@jupyter-widgets/controls",
      "model_module_version": "1.1.0",
      "model_name": "SelectionSliderModel",
      "state": {
       "_options_labels": [
        "Less",
        "Neutral",
        "More"
       ],
       "continuous_update": false,
       "description": "Rate Article 5",
       "index": 1,
       "layout": "IPY_MODEL_eb130a1d9b1243d58ee7e34e194330f3",
       "style": "IPY_MODEL_d88f6a4178c3423eba8d6faa0198b3c9"
      }
     },
     "87de651633894cecae53340c6371e8f5": {
      "model_module": "@jupyter-widgets/controls",
      "model_module_version": "1.1.0",
      "model_name": "HBoxModel",
      "state": {
       "children": [
        "IPY_MODEL_3339c262054c418da9b5eae6b3f40f45",
        "IPY_MODEL_b2a0bdbd059c439d9cdc8563260aa59d",
        "IPY_MODEL_514ea6d7b6ff4fccba0eb81e55eb2662",
        "IPY_MODEL_c2d9b22cd1ce4f819ebc619aeb1a62c3"
       ],
       "layout": "IPY_MODEL_25c2c8da510a4c44aa681d1fa034b981"
      }
     },
     "88b4294e16674fea8c4132e59ed5aa0d": {
      "model_module": "@jupyter-widgets/controls",
      "model_module_version": "1.1.0",
      "model_name": "TextareaModel",
      "state": {
       "disabled": true,
       "layout": "IPY_MODEL_3066604b5864479aa003c5aee22cfbc0",
       "style": "IPY_MODEL_388ee6d3a68b4f7a88be71a5a3c30b6b",
       "value": "Arsenal midfielder Mesut Ozil has signed a new contract to extend his stay in north London, the Premier League club said on Thursday."
      }
     },
     "8a5247a8d8554ae590efef9c4a368ce5": {
      "model_module": "@jupyter-widgets/controls",
      "model_module_version": "1.1.0",
      "model_name": "HBoxModel",
      "state": {
       "children": [
        "IPY_MODEL_0607b68614384343acc5f455a6b26e9c",
        "IPY_MODEL_c2d92adf968b450585ca864be2f3ce07"
       ],
       "layout": "IPY_MODEL_71698cbefab74b228123fbcd51390225"
      }
     },
     "8ae8fc5be85b421eb7182e3e3807d628": {
      "model_module": "@jupyter-widgets/base",
      "model_module_version": "1.0.0",
      "model_name": "LayoutModel",
      "state": {}
     },
     "8edf65bd75be4582aad55d5390fab490": {
      "model_module": "@jupyter-widgets/controls",
      "model_module_version": "1.1.0",
      "model_name": "ButtonStyleModel",
      "state": {}
     },
     "91da4509b6fb48c78805be55cd566af6": {
      "model_module": "@jupyter-widgets/controls",
      "model_module_version": "1.1.0",
      "model_name": "DescriptionStyleModel",
      "state": {
       "description_width": ""
      }
     },
     "95f57cb6110440d595d2bea4c4edb72c": {
      "model_module": "@jupyter-widgets/controls",
      "model_module_version": "1.1.0",
      "model_name": "DescriptionStyleModel",
      "state": {
       "description_width": ""
      }
     },
     "97210ec589b6415685f9569751dd72da": {
      "model_module": "@jupyter-widgets/controls",
      "model_module_version": "1.1.0",
      "model_name": "ButtonModel",
      "state": {
       "description": "Arsenal Is in Crisis, but a Signing Changes the Mood",
       "layout": "IPY_MODEL_37091e29e2044f6fbb39bb0293795718",
       "style": "IPY_MODEL_b2c3b0b1679245a8bacbdc81f704f86d"
      }
     },
     "97a58a390828487b81aa0c0c2fdedc89": {
      "model_module": "@jupyter-widgets/base",
      "model_module_version": "1.0.0",
      "model_name": "LayoutModel",
      "state": {}
     },
     "98621e7af85749299fc52af4b205e808": {
      "model_module": "@jupyter-widgets/controls",
      "model_module_version": "1.1.0",
      "model_name": "LabelModel",
      "state": {
       "layout": "IPY_MODEL_717dac607e4e403c851b8c0e4ac65414",
       "style": "IPY_MODEL_e67fc41ff64340ae9fbff7292d66c106",
       "value": "->->->->->"
      }
     },
     "9954c574e737460d997833eb0930f80d": {
      "model_module": "@jupyter-widgets/controls",
      "model_module_version": "1.1.0",
      "model_name": "ButtonStyleModel",
      "state": {
       "button_color": "SkyBlue",
       "font_weight": "bold"
      }
     },
     "99a083ae15fa4ba4bd48e71b32fd9906": {
      "model_module": "@jupyter-widgets/base",
      "model_module_version": "1.0.0",
      "model_name": "LayoutModel",
      "state": {}
     },
     "99ca38838cfc44a2a8ac7888c1988931": {
      "model_module": "@jupyter-widgets/controls",
      "model_module_version": "1.1.0",
      "model_name": "DescriptionStyleModel",
      "state": {
       "description_width": ""
      }
     },
     "9ba2b438bd7248199b50816abd123ba4": {
      "model_module": "@jupyter-widgets/controls",
      "model_module_version": "1.1.0",
      "model_name": "HBoxModel",
      "state": {
       "children": [
        "IPY_MODEL_97210ec589b6415685f9569751dd72da",
        "IPY_MODEL_f12dd77679d845d79d7c829993a05593"
       ],
       "layout": "IPY_MODEL_99a083ae15fa4ba4bd48e71b32fd9906"
      }
     },
     "9d6c4debc10145849a396ad26a502a65": {
      "model_module": "@jupyter-widgets/base",
      "model_module_version": "1.0.0",
      "model_name": "LayoutModel",
      "state": {
       "height": "40px",
       "width": "80%"
      }
     },
     "9d862706df8940edbd60cfa08f2b441d": {
      "model_module": "@jupyter-widgets/controls",
      "model_module_version": "1.1.0",
      "model_name": "ButtonModel",
      "state": {
       "description": "Ramsey Hat-Trick Helps Arsenal to Thrash Everton 5-1",
       "layout": "IPY_MODEL_d8aa4c5e5b854c789ca241627b3380ec",
       "style": "IPY_MODEL_362b05b7242e43bcbaa851a4fc7265de"
      }
     },
     "9dca0d9d41dd47f1913404d4d8233a59": {
      "model_module": "@jupyter-widgets/controls",
      "model_module_version": "1.1.0",
      "model_name": "ButtonModel",
      "state": {
       "description": "Ozil Commits Long-Term Future to Arsenal",
       "layout": "IPY_MODEL_291220dfa2154e699377a912aa5fab1e",
       "style": "IPY_MODEL_9954c574e737460d997833eb0930f80d"
      }
     },
     "9e575bfb15804dcb8ba328e6260fd6f5": {
      "model_module": "@jupyter-widgets/controls",
      "model_module_version": "1.1.0",
      "model_name": "HBoxModel",
      "state": {
       "children": [
        "IPY_MODEL_9dca0d9d41dd47f1913404d4d8233a59",
        "IPY_MODEL_7d571f1b96a448fa8b561c5eac759226"
       ],
       "layout": "IPY_MODEL_cb1022644b744565901e0db6ffdc3ea5"
      }
     },
     "a3bca117f35b4e38abdf20311bd93609": {
      "model_module": "@jupyter-widgets/base",
      "model_module_version": "1.0.0",
      "model_name": "LayoutModel",
      "state": {}
     },
     "a51fbaa1875742cd99e449a1b1ecf6c8": {
      "model_module": "@jupyter-widgets/base",
      "model_module_version": "1.0.0",
      "model_name": "LayoutModel",
      "state": {}
     },
     "a7581f90e3c8444d9aecbacc0be4192f": {
      "model_module": "@jupyter-widgets/controls",
      "model_module_version": "1.1.0",
      "model_name": "DescriptionStyleModel",
      "state": {
       "description_width": ""
      }
     },
     "a84fba61beab426287b843d996869b18": {
      "model_module": "@jupyter-widgets/base",
      "model_module_version": "1.0.0",
      "model_name": "LayoutModel",
      "state": {
       "height": "40px",
       "width": "80%"
      }
     },
     "acb920cebde74aaf881d297b2ae963d0": {
      "model_module": "@jupyter-widgets/controls",
      "model_module_version": "1.1.0",
      "model_name": "DescriptionStyleModel",
      "state": {
       "description_width": ""
      }
     },
     "ae5a2c0f09934ccaa17aa950679b4626": {
      "model_module": "@jupyter-widgets/controls",
      "model_module_version": "1.1.0",
      "model_name": "LabelModel",
      "state": {
       "layout": "IPY_MODEL_d2dd19d17043410ab0c18ef4fe4f28bd",
       "style": "IPY_MODEL_6d0ac60d5d5d458e88f2fa152a992990",
       "value": "Username:"
      }
     },
     "aec28c23e4d34a96b49eed61df817e0e": {
      "model_module": "@jupyter-widgets/base",
      "model_module_version": "1.0.0",
      "model_name": "LayoutModel",
      "state": {}
     },
     "b1ef6bb779ca45048e976ffff84c9b6a": {
      "model_module": "@jupyter-widgets/controls",
      "model_module_version": "1.1.0",
      "model_name": "HBoxModel",
      "state": {
       "children": [
        "IPY_MODEL_24ac415578494ea99af86279235a4c9d",
        "IPY_MODEL_f79b744e6cf140a6a31abb2e42b0e584"
       ],
       "layout": "IPY_MODEL_08a87bc3ab064c7f9597be033fc69eae"
      }
     },
     "b2629113a4b74816931e0b4a2d771bb2": {
      "model_module": "@jupyter-widgets/base",
      "model_module_version": "1.0.0",
      "model_name": "LayoutModel",
      "state": {}
     },
     "b2a0bdbd059c439d9cdc8563260aa59d": {
      "model_module": "@jupyter-widgets/controls",
      "model_module_version": "1.1.0",
      "model_name": "LabelModel",
      "state": {
       "layout": "IPY_MODEL_5c04a715d7254f7cb3aa9695633d3298",
       "style": "IPY_MODEL_ecac2debbf584251bb18574ee295e293"
      }
     },
     "b2c0ed71d20d4453b7fe31c17b5caac2": {
      "model_module": "@jupyter-widgets/base",
      "model_module_version": "1.0.0",
      "model_name": "LayoutModel",
      "state": {}
     },
     "b2c3b0b1679245a8bacbdc81f704f86d": {
      "model_module": "@jupyter-widgets/controls",
      "model_module_version": "1.1.0",
      "model_name": "ButtonStyleModel",
      "state": {
       "button_color": "SkyBlue",
       "font_weight": "bold"
      }
     },
     "b73119d152ec4faea36cbbdbd5e038ac": {
      "model_module": "@jupyter-widgets/controls",
      "model_module_version": "1.1.0",
      "model_name": "ButtonStyleModel",
      "state": {
       "button_color": "SkyBlue",
       "font_weight": "bold"
      }
     },
     "bb97244de3f34e138eb880a1214a7dbe": {
      "model_module": "@jupyter-widgets/base",
      "model_module_version": "1.0.0",
      "model_name": "LayoutModel",
      "state": {}
     },
     "bc5bbf269434400e8cb6218e0437599e": {
      "model_module": "@jupyter-widgets/base",
      "model_module_version": "1.0.0",
      "model_name": "LayoutModel",
      "state": {
       "height": "50px",
       "width": "99.5%"
      }
     },
     "bda7679ddafc4996a09eb2d55eb68455": {
      "model_module": "@jupyter-widgets/controls",
      "model_module_version": "1.1.0",
      "model_name": "VBoxModel",
      "state": {
       "children": [
        "IPY_MODEL_58cde7fa83684cd3a2aa3cafe0ca6881",
        "IPY_MODEL_3982fb502cf340baad8375ac2663b8a3"
       ],
       "layout": "IPY_MODEL_a3bca117f35b4e38abdf20311bd93609"
      }
     },
     "be816ba630d3443492b667728f0597cd": {
      "model_module": "@jupyter-widgets/controls",
      "model_module_version": "1.1.0",
      "model_name": "ButtonStyleModel",
      "state": {
       "button_color": "SkyBlue",
       "font_weight": "bold"
      }
     },
     "c2d92adf968b450585ca864be2f3ce07": {
      "model_module": "@jupyter-widgets/controls",
      "model_module_version": "1.1.0",
      "model_name": "SelectionSliderModel",
      "state": {
       "_options_labels": [
        "Less",
        "Neutral",
        "More"
       ],
       "continuous_update": false,
       "description": "Rate Article 8",
       "index": 1,
       "layout": "IPY_MODEL_7284bf6863314315901193a0ec6d6e72",
       "style": "IPY_MODEL_f0d14bb309754883a0c79faceb79cd48"
      }
     },
     "c2d9b22cd1ce4f819ebc619aeb1a62c3": {
      "model_module": "@jupyter-widgets/controls",
      "model_module_version": "1.1.0",
      "model_name": "VBoxModel",
      "state": {
       "children": [
        "IPY_MODEL_2b05191957ae42ba8a0489ba9fb7b226",
        "IPY_MODEL_1fd714f2a9ea4a938d0d823263742391"
       ],
       "layout": "IPY_MODEL_6a98813256f44a8aaede73e2af5189a3"
      }
     },
     "c312f1c55dd84288bf5899b1e49f6c57": {
      "model_module": "@jupyter-widgets/controls",
      "model_module_version": "1.1.0",
      "model_name": "HBoxModel",
      "state": {
       "children": [
        "IPY_MODEL_2d5c96f0f845409d883afe625107ee74",
        "IPY_MODEL_7a918da5ea584e7e985aaa0589604f31"
       ],
       "layout": "IPY_MODEL_32f08c555a204b30b4b7d5c8fd11a7c1"
      }
     },
     "c3643e881c284b5ebd8e3644088306e0": {
      "model_module": "@jupyter-widgets/base",
      "model_module_version": "1.0.0",
      "model_name": "LayoutModel",
      "state": {}
     },
     "c6fb469ed62c47d89bea6b967309ab35": {
      "model_module": "@jupyter-widgets/controls",
      "model_module_version": "1.1.0",
      "model_name": "ButtonModel",
      "state": {
       "description": "Arsenal Football Club",
       "layout": "IPY_MODEL_421aa87a684140bfa79390db15a60f4e",
       "style": "IPY_MODEL_2174515f304949e28eefedf9badb545a"
      }
     },
     "c7da13790cde413aa083f5ebee73cc53": {
      "model_module": "@jupyter-widgets/base",
      "model_module_version": "1.0.0",
      "model_name": "LayoutModel",
      "state": {
       "width": "150px"
      }
     },
     "c9c7471cf52e4f8b9e64f1b07d9c2a58": {
      "model_module": "@jupyter-widgets/controls",
      "model_module_version": "1.1.0",
      "model_name": "HBoxModel",
      "state": {
       "children": [
        "IPY_MODEL_d64c9fb96ce3469e9dbc36e94c65addb",
        "IPY_MODEL_e9b3a3ad140b4309a6ee0358c2a5072c"
       ],
       "layout": "IPY_MODEL_b2629113a4b74816931e0b4a2d771bb2"
      }
     },
     "ca50608368d64924a1b5b7766dd1e896": {
      "model_module": "@jupyter-widgets/controls",
      "model_module_version": "1.1.0",
      "model_name": "ButtonStyleModel",
      "state": {
       "button_color": "SkyBlue",
       "font_weight": "bold"
      }
     },
     "cb1022644b744565901e0db6ffdc3ea5": {
      "model_module": "@jupyter-widgets/base",
      "model_module_version": "1.0.0",
      "model_name": "LayoutModel",
      "state": {}
     },
     "cb67d971a3a84215873a1ada88b53757": {
      "model_module": "@jupyter-widgets/base",
      "model_module_version": "1.0.0",
      "model_name": "LayoutModel",
      "state": {}
     },
     "cc2d5737915f4b05b94f043a9b388623": {
      "model_module": "@jupyter-widgets/base",
      "model_module_version": "1.0.0",
      "model_name": "LayoutModel",
      "state": {
       "border": "solid"
      }
     },
     "ce38e8a6700345be85f150cecb3342ce": {
      "model_module": "@jupyter-widgets/base",
      "model_module_version": "1.0.0",
      "model_name": "LayoutModel",
      "state": {}
     },
     "cf8b2b28eee5438db73e44e1760ec747": {
      "model_module": "@jupyter-widgets/controls",
      "model_module_version": "1.1.0",
      "model_name": "SelectionSliderModel",
      "state": {
       "_options_labels": [
        "Less",
        "Neutral",
        "More"
       ],
       "continuous_update": false,
       "description": "Rate Article 10",
       "index": 1,
       "layout": "IPY_MODEL_ee075eef81e94834bb985da532bbfc6a",
       "style": "IPY_MODEL_91da4509b6fb48c78805be55cd566af6"
      }
     },
     "d2dd19d17043410ab0c18ef4fe4f28bd": {
      "model_module": "@jupyter-widgets/base",
      "model_module_version": "1.0.0",
      "model_name": "LayoutModel",
      "state": {}
     },
     "d64c9fb96ce3469e9dbc36e94c65addb": {
      "model_module": "@jupyter-widgets/controls",
      "model_module_version": "1.1.0",
      "model_name": "ButtonModel",
      "state": {
       "description": "On Sánchez, City Passes and United Strikes",
       "layout": "IPY_MODEL_501589ddfd044581a612c1ef63f828b2",
       "style": "IPY_MODEL_320e0e57d139485eadf463dac95ea8d1"
      }
     },
     "d67e40396e774752bb6e61539f17b697": {
      "model_module": "@jupyter-widgets/controls",
      "model_module_version": "1.1.0",
      "model_name": "DescriptionStyleModel",
      "state": {
       "description_width": ""
      }
     },
     "d8003360b55b46c391c609dc308e8094": {
      "model_module": "@jupyter-widgets/controls",
      "model_module_version": "1.1.0",
      "model_name": "ButtonStyleModel",
      "state": {}
     },
     "d88f6a4178c3423eba8d6faa0198b3c9": {
      "model_module": "@jupyter-widgets/controls",
      "model_module_version": "1.1.0",
      "model_name": "DescriptionStyleModel",
      "state": {
       "description_width": ""
      }
     },
     "d8aa4c5e5b854c789ca241627b3380ec": {
      "model_module": "@jupyter-widgets/base",
      "model_module_version": "1.0.0",
      "model_name": "LayoutModel",
      "state": {
       "height": "40px",
       "width": "80%"
      }
     },
     "dc9025af5ee145f2a1962559a3560c4d": {
      "model_module": "@jupyter-widgets/controls",
      "model_module_version": "1.1.0",
      "model_name": "VBoxModel",
      "state": {
       "children": [
        "IPY_MODEL_3a75af098249426abdf975c0d8860f72",
        "IPY_MODEL_79a80ab1af974deb838b5543609a2e0d"
       ],
       "layout": "IPY_MODEL_b2c0ed71d20d4453b7fe31c17b5caac2"
      }
     },
     "e1c56d295b8440ce9c931f338cc80f07": {
      "model_module": "@jupyter-widgets/base",
      "model_module_version": "1.0.0",
      "model_name": "LayoutModel",
      "state": {
       "height": "50px",
       "width": "99.5%"
      }
     },
     "e394526313924c9d9c7060acb2ae047a": {
      "model_module": "@jupyter-widgets/base",
      "model_module_version": "1.0.0",
      "model_name": "LayoutModel",
      "state": {}
     },
     "e47f03fa898b41aea03d60501ebd0e4f": {
      "model_module": "@jupyter-widgets/base",
      "model_module_version": "1.0.0",
      "model_name": "LayoutModel",
      "state": {
       "height": "40px",
       "width": "80%"
      }
     },
     "e67fc41ff64340ae9fbff7292d66c106": {
      "model_module": "@jupyter-widgets/controls",
      "model_module_version": "1.1.0",
      "model_name": "DescriptionStyleModel",
      "state": {
       "description_width": ""
      }
     },
     "e9b3a3ad140b4309a6ee0358c2a5072c": {
      "model_module": "@jupyter-widgets/controls",
      "model_module_version": "1.1.0",
      "model_name": "SelectionSliderModel",
      "state": {
       "_options_labels": [
        "Less",
        "Neutral",
        "More"
       ],
       "continuous_update": false,
       "description": "Rate Article 9",
       "index": 1,
       "layout": "IPY_MODEL_70846d5171d84bc484d6a1979f9efb7c",
       "style": "IPY_MODEL_acb920cebde74aaf881d297b2ae963d0"
      }
     },
     "ea03e360da6746f48662a6d58acc6546": {
      "model_module": "@jupyter-widgets/controls",
      "model_module_version": "1.1.0",
      "model_name": "ButtonStyleModel",
      "state": {
       "button_color": "SkyBlue",
       "font_weight": "bold"
      }
     },
     "ea2be55cc31d427fb61bd8da6ab416df": {
      "model_module": "@jupyter-widgets/base",
      "model_module_version": "1.0.0",
      "model_name": "LayoutModel",
      "state": {
       "height": "40px",
       "width": "80%"
      }
     },
     "eb130a1d9b1243d58ee7e34e194330f3": {
      "model_module": "@jupyter-widgets/base",
      "model_module_version": "1.0.0",
      "model_name": "LayoutModel",
      "state": {}
     },
     "ecac2debbf584251bb18574ee295e293": {
      "model_module": "@jupyter-widgets/controls",
      "model_module_version": "1.1.0",
      "model_name": "DescriptionStyleModel",
      "state": {
       "description_width": ""
      }
     },
     "ee075eef81e94834bb985da532bbfc6a": {
      "model_module": "@jupyter-widgets/base",
      "model_module_version": "1.0.0",
      "model_name": "LayoutModel",
      "state": {}
     },
     "efd9fd49ed794f55bad729dc54b0b740": {
      "model_module": "@jupyter-widgets/base",
      "model_module_version": "1.0.0",
      "model_name": "LayoutModel",
      "state": {
       "height": "50px",
       "width": "99.5%"
      }
     },
     "f0c8bf10a7fb427ea4112cb991e76f92": {
      "model_module": "@jupyter-widgets/controls",
      "model_module_version": "1.1.0",
      "model_name": "DescriptionStyleModel",
      "state": {
       "description_width": ""
      }
     },
     "f0d14bb309754883a0c79faceb79cd48": {
      "model_module": "@jupyter-widgets/controls",
      "model_module_version": "1.1.0",
      "model_name": "DescriptionStyleModel",
      "state": {
       "description_width": ""
      }
     },
     "f12dd77679d845d79d7c829993a05593": {
      "model_module": "@jupyter-widgets/controls",
      "model_module_version": "1.1.0",
      "model_name": "SelectionSliderModel",
      "state": {
       "_options_labels": [
        "Less",
        "Neutral",
        "More"
       ],
       "continuous_update": false,
       "description": "Rate Article 1",
       "index": 1,
       "layout": "IPY_MODEL_f77b071fc4f547669b76eab3d04c6ba3",
       "style": "IPY_MODEL_58169b4f9dd048d0bbd19d912a6d353f"
      }
     },
     "f138c963049c42cfa7a18fe2777148cc": {
      "model_module": "@jupyter-widgets/controls",
      "model_module_version": "1.1.0",
      "model_name": "DescriptionStyleModel",
      "state": {
       "description_width": ""
      }
     },
     "f1bcf7cf56714369a7fb28ee999f53be": {
      "model_module": "@jupyter-widgets/controls",
      "model_module_version": "1.1.0",
      "model_name": "DescriptionStyleModel",
      "state": {
       "description_width": ""
      }
     },
     "f2261d1e7f6a4f98bab914bdf3e69518": {
      "model_module": "@jupyter-widgets/controls",
      "model_module_version": "1.1.0",
      "model_name": "ButtonStyleModel",
      "state": {
       "button_color": "SkyBlue",
       "font_weight": "bold"
      }
     },
     "f4e4800c920b432ca610c322dc4afc1b": {
      "model_module": "@jupyter-widgets/base",
      "model_module_version": "1.0.0",
      "model_name": "LayoutModel",
      "state": {}
     },
     "f77b071fc4f547669b76eab3d04c6ba3": {
      "model_module": "@jupyter-widgets/base",
      "model_module_version": "1.0.0",
      "model_name": "LayoutModel",
      "state": {}
     },
     "f79b744e6cf140a6a31abb2e42b0e584": {
      "model_module": "@jupyter-widgets/controls",
      "model_module_version": "1.1.0",
      "model_name": "SelectionSliderModel",
      "state": {
       "_options_labels": [
        "Less",
        "Neutral",
        "More"
       ],
       "continuous_update": false,
       "description": "Rate Article 4",
       "index": 1,
       "layout": "IPY_MODEL_8ae8fc5be85b421eb7182e3e3807d628",
       "style": "IPY_MODEL_1836c31967ca480a8708af46513ad703"
      }
     },
     "fc034b892bd7486ea5dbda6e1fad5f08": {
      "model_module": "@jupyter-widgets/controls",
      "model_module_version": "1.1.0",
      "model_name": "TextareaModel",
      "state": {
       "disabled": true,
       "layout": "IPY_MODEL_5a9c884563384108b93e661f021940a4",
       "style": "IPY_MODEL_5db6fcd219194bb2aa2b9053a67ad351",
       "value": "Tottenham Hotspur host North London neighbours Arsenal in the early Saturday kickoff at Wembley.    "
      }
     },
     "fc2e6c81aa85487bb51d380bf8b43dfd": {
      "model_module": "@jupyter-widgets/controls",
      "model_module_version": "1.1.0",
      "model_name": "HBoxModel",
      "state": {
       "children": [
        "IPY_MODEL_3bfeffb9b29d48cfb83e2f2c76f6fedd",
        "IPY_MODEL_4733e31d0f95441084b9ae4ecd986fc8"
       ],
       "layout": "IPY_MODEL_a51fbaa1875742cd99e449a1b1ecf6c8"
      }
     },
     "ff68a3c1aff34d0e8dd365dc0a2f57a0": {
      "model_module": "@jupyter-widgets/base",
      "model_module_version": "1.0.0",
      "model_name": "LayoutModel",
      "state": {}
     }
    },
    "version_major": 2,
    "version_minor": 0
   }
  }
 },
 "nbformat": 4,
 "nbformat_minor": 2
}
