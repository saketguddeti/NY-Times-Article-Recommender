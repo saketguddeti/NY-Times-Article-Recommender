{
 "cells": [
  {
   "cell_type": "markdown",
   "metadata": {},
   "source": [
    "### Article Selection\n",
    "API calls are made making use of NY Times Developer platform. This will extract metadata and article snippets from NY Times archives based on the search conditions used. API will primarily use the news_desk attribute to import specific number of articles from each section. The sectional topics to be used are listed out in the developer website with over 100 topics available. Peripheral topics based on city/regional news, obituaries, job advertisments, classifieds, booming, crosswords etc. are excluded to work with only general topics."
   ]
  },
  {
   "cell_type": "code",
   "execution_count": 1,
   "metadata": {},
   "outputs": [
    {
     "data": {
      "text/html": [
       "<div>\n",
       "<style>\n",
       "    .dataframe thead tr:only-child th {\n",
       "        text-align: right;\n",
       "    }\n",
       "\n",
       "    .dataframe thead th {\n",
       "        text-align: left;\n",
       "    }\n",
       "\n",
       "    .dataframe tbody tr th {\n",
       "        vertical-align: top;\n",
       "    }\n",
       "</style>\n",
       "<table border=\"1\" class=\"dataframe\">\n",
       "  <thead>\n",
       "    <tr style=\"text-align: right;\">\n",
       "      <th></th>\n",
       "      <th>Section</th>\n",
       "    </tr>\n",
       "  </thead>\n",
       "  <tbody>\n",
       "    <tr>\n",
       "      <th>0</th>\n",
       "      <td>Adventure Sports</td>\n",
       "    </tr>\n",
       "    <tr>\n",
       "      <th>1</th>\n",
       "      <td>Arts &amp; Leisure</td>\n",
       "    </tr>\n",
       "    <tr>\n",
       "      <th>2</th>\n",
       "      <td>Arts</td>\n",
       "    </tr>\n",
       "    <tr>\n",
       "      <th>3</th>\n",
       "      <td>Automobiles</td>\n",
       "    </tr>\n",
       "    <tr>\n",
       "      <th>4</th>\n",
       "      <td>Blogs</td>\n",
       "    </tr>\n",
       "  </tbody>\n",
       "</table>\n",
       "</div>"
      ],
      "text/plain": [
       "            Section\n",
       "0  Adventure Sports\n",
       "1    Arts & Leisure\n",
       "2              Arts\n",
       "3       Automobiles\n",
       "4             Blogs"
      ]
     },
     "execution_count": 1,
     "metadata": {},
     "output_type": "execute_result"
    }
   ],
   "source": [
    "import pandas as pd\n",
    "import numpy as np\n",
    "\n",
    "news_desk = pd.read_csv(\"data/news_desk.csv\")\n",
    "\n",
    "news_desk.head()"
   ]
  },
  {
   "cell_type": "markdown",
   "metadata": {},
   "source": [
    "### API Calls\n",
    "API calling will build a basic framework for extracting articles in bulk from the NY Times website. Due to the rate limiting restriction put up by NY Times, a decorater is used to make dynamic function calls so that the API requests do not exceed 1 call/second. There is also a day-wise limit of 1000 calls. An additional feature is added which will parallelize this process making use of multiple CPU cores and this will speed things up a bit. Brief description of Lock() function used for rate limiting can be found here."
   ]
  },
  {
   "cell_type": "code",
   "execution_count": 9,
   "metadata": {},
   "outputs": [
    {
     "name": "stdout",
     "output_type": "stream",
     "text": [
      "Appended 1 out of 2\n",
      "Appended 0 out of 2\n"
     ]
    }
   ],
   "source": [
    "import time, threading\n",
    "\n",
    "def rate_limited(max_per_second):\n",
    "  '''Decorator that make functions not to be called faster than 1 call/second'''\n",
    "  lock = threading.Lock()\n",
    "  minInterval = 1.0 / float(max_per_second)\n",
    "  def decorate(func):\n",
    "    lastTimeCalled = [0.0]\n",
    "    def rateLimitedFunction(args,*kargs):\n",
    "      lock.acquire()\n",
    "      elapsed = time.clock() - lastTimeCalled[0]\n",
    "      leftToWait = minInterval - elapsed\n",
    "      if leftToWait>0:\n",
    "        time.sleep(leftToWait)\n",
    "      lock.release()\n",
    "      ret = func(args,*kargs)\n",
    "      lastTimeCalled[0] = time.clock()\n",
    "      return ret\n",
    "    return rateLimitedFunction\n",
    "  return decorate\n",
    "\n",
    "\n",
    "from threading import Thread\n",
    "import requests\n",
    "\n",
    "@rate_limited(0.9)\n",
    "def process_id(id):\n",
    "    try:\n",
    "        r = requests.get(url % id)\n",
    "        json_data = r.json()\n",
    "        print('Appended '+str(page_index.index(id))+ ' out of '+ str(len(page_index)))\n",
    "        return json_data\n",
    "    except:\n",
    "        json_data = ''\n",
    "        print('Skipping...')\n",
    "        return json_data\n",
    "\n",
    "def process_range(id_range, store=None):\n",
    "    if store is None:\n",
    "        store = {}\n",
    "    for id in id_range:\n",
    "        store[id] = process_id(id)\n",
    "    return store\n",
    "\n",
    "\n",
    "def threaded_process_range(nthreads, id_range):\n",
    "    store = {}\n",
    "    threads = []\n",
    "\n",
    "    for i in range(nthreads):\n",
    "        ids = id_range[i::nthreads]\n",
    "        t = Thread(target=process_range, args=(ids,store))\n",
    "        threads.append(t)\n",
    "\n",
    "    [t.start() for t in threads]\n",
    "    [t.join() for t in threads]\n",
    "    return store\n",
    "\n",
    "news_desk = list(news_desk['Section'])\n",
    "base_url = 'https://api.nytimes.com/svc/search/v2/articlesearch.json?api-key=a141a689509b459ba12e2b93b83883fd'\n",
    "\n",
    "article_raw = []\n",
    "for nd in news_desk[65:67]:\n",
    "    param_url = '&fq=news_desk:'+str(nd)+'&sort=newest&page=%s'\n",
    "    url = base_url + param_url\n",
    "    print(str(nd)+\":\")\n",
    "    page_index = list(range(7))\n",
    "    try:\n",
    "        articles_1 = threaded_process_range(2, page_index)\n",
    "        articles_2 = [articles_1[k]['response']['docs'] for k in page_index if (type(articles_1[k]) is dict) and ('response' in articles_1[k])]\n",
    "        articles_3 = [item for sublist in articles_2 for item in sublist]\n",
    "        articles_4 = [{key:item[key] for key in ['web_url','pub_date']} for item in articles_3]\n",
    "        articles_5 = pd.DataFrame(articles_4)\n",
    "        articles_5['news_desk'] = str(nd)\n",
    "        article_raw.append(articles_5)\n",
    "    except:\n",
    "        print('Skipping...')\n",
    "\n",
    "url_data = pd.concat(article_raw).reset_index(drop = True)\n",
    "#url_data.to_csv('data/url_data.csv', index = False)\n"
   ]
  },
  {
   "cell_type": "code",
   "execution_count": 1,
   "metadata": {
    "scrolled": false
   },
   "outputs": [
    {
     "data": {
      "application/vnd.jupyter.widget-view+json": {
       "model_id": "7127bd65a26b48d5b0d050f07c2c4903",
       "version_major": 2,
       "version_minor": 0
      },
      "text/html": [
       "<p>Failed to display Jupyter Widget of type <code>HBox</code>.</p>\n",
       "<p>\n",
       "  If you're reading this message in the Jupyter Notebook or JupyterLab Notebook, it may mean\n",
       "  that the widgets JavaScript is still loading. If this message persists, it\n",
       "  likely means that the widgets JavaScript library is either not installed or\n",
       "  not enabled. See the <a href=\"https://ipywidgets.readthedocs.io/en/stable/user_install.html\">Jupyter\n",
       "  Widgets Documentation</a> for setup instructions.\n",
       "</p>\n",
       "<p>\n",
       "  If you're reading this message in another frontend (for example, a static\n",
       "  rendering on GitHub or <a href=\"https://nbviewer.jupyter.org/\">NBViewer</a>),\n",
       "  it may mean that your frontend doesn't currently support widgets.\n",
       "</p>\n"
      ],
      "text/plain": [
       "HBox(children=(VBox(children=(Label(value=''), HBox(children=(Text(value='', placeholder='Type a query for NY Times article listing'), Button(description='Search articles', style=ButtonStyle()))), Label(value=''))), Label(value=''), Label(value=''), VBox(children=(HBox(children=(Label(value='Username:'), Text(value='saket', placeholder='Enter your name'))), HBox(children=(Label(value='->->->->->'), Button(description='Get recommendations', layout=Layout(width='150px'), style=ButtonStyle())))))))"
      ]
     },
     "metadata": {},
     "output_type": "display_data"
    }
   ],
   "source": [
    "from ipywidgets import widgets, HBox, VBox, Layout, Button, Label\n",
    "from IPython.display import display, HTML, clear_output\n",
    "import requests\n",
    "import webbrowser\n",
    "\n",
    "htmlscript_ipywidget_disable_closing = '''<script>\n",
    "disable = true\n",
    "function disable_ipyw_close(){\n",
    "    if(disable){\n",
    "        $('div.widget-area > div.prompt > button.close').hide()\n",
    "    }\n",
    "    else{\n",
    "        $('div.widget-area > div.prompt > button.close').show()    \n",
    "    }\n",
    "    disable = !disable\n",
    "}\n",
    "$( document ).ready(disable_ipyw_close);\n",
    "</script>\n",
    "\n",
    "<form action=\"javascript:disable_ipyw_close()\"><input style=\"opacity: 0.5\" type=\"submit\" value=\"Disable ipywidget closing\"></form>'''\n",
    "\n",
    "wodget_hide = HTML('''<script>\n",
    "code_show=true; \n",
    "function code_toggle() {\n",
    "    if (code_show){\n",
    "        $('div.cell.code_cell.rendered.selected div.input').hide();\n",
    "    } else {\n",
    "        $('div.cell.code_cell.rendered.selected div.input').show();\n",
    "    }\n",
    "    code_show = !code_show\n",
    "} \n",
    "\n",
    "$( document ).ready(code_toggle);\n",
    "</script>\n",
    "\n",
    "To show/hide this cell's raw code input, click <a href=\"javascript:code_toggle()\">here</a>.''')\n",
    "\n",
    "widget_hide = HTML('''<script>$('div.output_area > div.output_subarea.jupyter-widgets-view > div.p-Widget.p-Panel.jupyter-widgets.widget-container.widget-box.widget-vbox').fadeOut();</script>''')\n",
    "    \n",
    "def onclick(sender):\n",
    "    display(widget_hide)\n",
    "    if(text_query.value == ''):\n",
    "        print('Input cannot be blank')\n",
    "        return\n",
    "    \n",
    "    base_url = 'https://api.nytimes.com/svc/search/v2/articlesearch.json?api-key=a141a689509b459ba12e2b93b83883fd'\n",
    "    param_url = '&q='+str(text_query.value)+'&page=0'\n",
    "    url = base_url + param_url\n",
    "    \n",
    "    r = requests.get(url)\n",
    "    json_data = r.json()\n",
    "    article_meta_data = json_data['response']['docs']\n",
    "    \n",
    "    headlines = []\n",
    "    urls = []\n",
    "    snippets = []\n",
    "    for artc in article_meta_data:\n",
    "        url = artc['web_url']\n",
    "        headline = artc['headline']['main']\n",
    "        snippet = artc['snippet']\n",
    "        headlines.append(headline)\n",
    "        urls.append(url)\n",
    "        snippets.append(snippet)\n",
    "    \n",
    "    def redirect_link(sender):\n",
    "        ind = items_hl.index(sender)\n",
    "        link = urls[ind]\n",
    "        webbrowser.open(link)\n",
    "        \n",
    "    def on_value_change(change):\n",
    "        ind = items_rate.index(change['owner'])\n",
    "        print('Article '+str(ind+1)+' rated '+str(change['new']))\n",
    "    \n",
    "    items_hl = [Button(description=w, border = 'solid', layout = Layout(width='80%', height='40px')) for w in headlines]\n",
    "    for hl in items_hl:\n",
    "        hl.style.button_color = 'SkyBlue'\n",
    "        hl.style.font_weight = 'bold'\n",
    "        hl.on_click(redirect_link)\n",
    "        \n",
    "    items_sn = [widgets.Textarea(w, disabled = True, layout = Layout(width = '99.5%', height = '50px')) for w in snippets]\n",
    "\n",
    "#     items_rate = [widgets.IntSlider(value=3, min=1, max=5, step=2, description='Rate Article '+str(i+1), disabled=False, continuous_update=False,\n",
    "#                                     orientation='horizontal', readout=True, readout_format='d') \n",
    "#                   for i in range(len(article_meta_data))]\n",
    "    items_rate = [widgets.SelectionSlider(options=['Less', 'Neutral', 'More'], value = 'Neutral', \n",
    "                                          description='Rate Article '+str(i+1), disabled=False, \n",
    "                                          continuous_update=False, orientation='horizontal', readout=True) \n",
    "                  for i in range(len(article_meta_data))]\n",
    "    for rt in items_rate:\n",
    "        rt.observe(on_value_change, names = 'value')\n",
    "\n",
    "    items = [VBox([HBox([items_hl[i], items_rate[i]]), items_sn[i]]) for i in range(len(article_meta_data))]\n",
    "    box = VBox(items, layout = Layout(border = 'solid'))\n",
    "    display(box)\n",
    "\n",
    "text_query = widgets.Text(placeholder='Type a query for NY Times article listing')\n",
    "button_query = widgets.Button(description = 'Search articles')\n",
    "query = HBox([text_query, button_query])\n",
    "query = VBox([Label(\"\"), query, Label(\"\")])\n",
    "button_query.on_click(onclick)\n",
    "\n",
    "\n",
    "text_user = widgets.Text(placeholder='Enter your name', value = 'saket')\n",
    "user_input = HBox([Label(\"Username:\"),text_user])\n",
    "rec_button = widgets.Button(description = 'Get recommendations', layout = Layout(width = '150px'))\n",
    "user = VBox([user_input,HBox([Label(\"->->->->->\"),rec_button])])\n",
    "\n",
    "display(HBox([query, Label(\"\"),Label(\"\"), user]))\n",
    "# HTML(htmlscript_ipywidget_disable_closing)"
   ]
  },
  {
   "cell_type": "code",
   "execution_count": null,
   "metadata": {
    "collapsed": true
   },
   "outputs": [],
   "source": [
    "\n"
   ]
  }
 ],
 "metadata": {
  "celltoolbar": "Edit Metadata",
  "kernelspec": {
   "display_name": "Python 3",
   "language": "python",
   "name": "python3"
  },
  "language_info": {
   "codemirror_mode": {
    "name": "ipython",
    "version": 3
   },
   "file_extension": ".py",
   "mimetype": "text/x-python",
   "name": "python",
   "nbconvert_exporter": "python",
   "pygments_lexer": "ipython3",
   "version": "3.6.1"
  },
  "widgets": {
   "application/vnd.jupyter.widget-state+json": {
    "state": {
     "0768aed4167d4e2f9c4a8cbf047a9348": {
      "model_module": "@jupyter-widgets/base",
      "model_module_version": "1.0.0",
      "model_name": "LayoutModel",
      "state": {}
     },
     "0e76e4abcf0c4917a45b7c24538c8673": {
      "model_module": "@jupyter-widgets/controls",
      "model_module_version": "1.1.0",
      "model_name": "DescriptionStyleModel",
      "state": {
       "description_width": ""
      }
     },
     "261abb72cc014a089861a6f1798eb66b": {
      "model_module": "@jupyter-widgets/controls",
      "model_module_version": "1.1.0",
      "model_name": "TextModel",
      "state": {
       "layout": "IPY_MODEL_0768aed4167d4e2f9c4a8cbf047a9348",
       "placeholder": "Enter your name",
       "style": "IPY_MODEL_3b992a833a3341a8bab54523f0a968f5",
       "value": "saket"
      }
     },
     "2b47f09aabcf4fc58b3985d3da3e725f": {
      "model_module": "@jupyter-widgets/controls",
      "model_module_version": "1.1.0",
      "model_name": "LabelModel",
      "state": {
       "layout": "IPY_MODEL_6c4665ce333e4467b2f5df9031236c3c",
       "style": "IPY_MODEL_7f48cd7e4b684c228f2b14398fbcffcc"
      }
     },
     "2c8b8cc6beca43b48776db1b1f2b0d0e": {
      "model_module": "@jupyter-widgets/base",
      "model_module_version": "1.0.0",
      "model_name": "LayoutModel",
      "state": {}
     },
     "2cab4a4df9c848f7b7487ed81aa89f5d": {
      "model_module": "@jupyter-widgets/controls",
      "model_module_version": "1.1.0",
      "model_name": "DescriptionStyleModel",
      "state": {
       "description_width": ""
      }
     },
     "32b582c32aa248298b89315c11dc46fd": {
      "model_module": "@jupyter-widgets/controls",
      "model_module_version": "1.1.0",
      "model_name": "LabelModel",
      "state": {
       "layout": "IPY_MODEL_d2fa199275544464a8662cd319919007",
       "style": "IPY_MODEL_0e76e4abcf0c4917a45b7c24538c8673"
      }
     },
     "3733700eba69474e839644155aa077de": {
      "model_module": "@jupyter-widgets/base",
      "model_module_version": "1.0.0",
      "model_name": "LayoutModel",
      "state": {}
     },
     "385f5d6878554dae99cb4eb6f86758c3": {
      "model_module": "@jupyter-widgets/base",
      "model_module_version": "1.0.0",
      "model_name": "LayoutModel",
      "state": {}
     },
     "3b992a833a3341a8bab54523f0a968f5": {
      "model_module": "@jupyter-widgets/controls",
      "model_module_version": "1.1.0",
      "model_name": "DescriptionStyleModel",
      "state": {
       "description_width": ""
      }
     },
     "4013156324f842c4a69bdfac2fefe283": {
      "model_module": "@jupyter-widgets/controls",
      "model_module_version": "1.1.0",
      "model_name": "DescriptionStyleModel",
      "state": {
       "description_width": ""
      }
     },
     "52bf7fdce5bd4958aebeb2349a99a401": {
      "model_module": "@jupyter-widgets/base",
      "model_module_version": "1.0.0",
      "model_name": "LayoutModel",
      "state": {}
     },
     "5efb50c64800428a836d4ce873b54b58": {
      "model_module": "@jupyter-widgets/base",
      "model_module_version": "1.0.0",
      "model_name": "LayoutModel",
      "state": {}
     },
     "60e08d45c07641eb8908f9a0868c2570": {
      "model_module": "@jupyter-widgets/controls",
      "model_module_version": "1.1.0",
      "model_name": "HBoxModel",
      "state": {
       "children": [
        "IPY_MODEL_f280681b991d401abbe79b9554c6fbaf",
        "IPY_MODEL_261abb72cc014a089861a6f1798eb66b"
       ],
       "layout": "IPY_MODEL_f226e62a39fe4728b5f115366539ba8a"
      }
     },
     "61434562440f403982a3e63a5c57b9a8": {
      "model_module": "@jupyter-widgets/base",
      "model_module_version": "1.0.0",
      "model_name": "LayoutModel",
      "state": {}
     },
     "6170eab1f83c4a2ba117980fe958bcfb": {
      "model_module": "@jupyter-widgets/controls",
      "model_module_version": "1.1.0",
      "model_name": "DescriptionStyleModel",
      "state": {
       "description_width": ""
      }
     },
     "646a2a1f5aa64ba991abf918d47cea9d": {
      "model_module": "@jupyter-widgets/base",
      "model_module_version": "1.0.0",
      "model_name": "LayoutModel",
      "state": {}
     },
     "6c4665ce333e4467b2f5df9031236c3c": {
      "model_module": "@jupyter-widgets/base",
      "model_module_version": "1.0.0",
      "model_name": "LayoutModel",
      "state": {}
     },
     "6d93084572a3416fa70783927ac79814": {
      "model_module": "@jupyter-widgets/controls",
      "model_module_version": "1.1.0",
      "model_name": "LabelModel",
      "state": {
       "layout": "IPY_MODEL_52bf7fdce5bd4958aebeb2349a99a401",
       "style": "IPY_MODEL_6170eab1f83c4a2ba117980fe958bcfb"
      }
     },
     "7127bd65a26b48d5b0d050f07c2c4903": {
      "model_module": "@jupyter-widgets/controls",
      "model_module_version": "1.1.0",
      "model_name": "HBoxModel",
      "state": {
       "children": [
        "IPY_MODEL_8a1b1446f7244c42af557e0c1ee951da",
        "IPY_MODEL_2b47f09aabcf4fc58b3985d3da3e725f",
        "IPY_MODEL_6d93084572a3416fa70783927ac79814",
        "IPY_MODEL_80e7b19e143c4106832e2c53429155df"
       ],
       "layout": "IPY_MODEL_bc5988d2ebe947c99985887d4cb9cbfb"
      }
     },
     "7a8a2d396c5d461fa47de7a40c9b8d3f": {
      "model_module": "@jupyter-widgets/controls",
      "model_module_version": "1.1.0",
      "model_name": "DescriptionStyleModel",
      "state": {
       "description_width": ""
      }
     },
     "7f48cd7e4b684c228f2b14398fbcffcc": {
      "model_module": "@jupyter-widgets/controls",
      "model_module_version": "1.1.0",
      "model_name": "DescriptionStyleModel",
      "state": {
       "description_width": ""
      }
     },
     "80e7b19e143c4106832e2c53429155df": {
      "model_module": "@jupyter-widgets/controls",
      "model_module_version": "1.1.0",
      "model_name": "VBoxModel",
      "state": {
       "children": [
        "IPY_MODEL_60e08d45c07641eb8908f9a0868c2570",
        "IPY_MODEL_f674a4b0bbb1411db04fc2dfa553f665"
       ],
       "layout": "IPY_MODEL_87405c0cc54146d492b87c64de9e310f"
      }
     },
     "87405c0cc54146d492b87c64de9e310f": {
      "model_module": "@jupyter-widgets/base",
      "model_module_version": "1.0.0",
      "model_name": "LayoutModel",
      "state": {}
     },
     "88d527c982fa4d7bb4b60525b2f80b5d": {
      "model_module": "@jupyter-widgets/controls",
      "model_module_version": "1.1.0",
      "model_name": "ButtonModel",
      "state": {
       "description": "Search articles",
       "layout": "IPY_MODEL_646a2a1f5aa64ba991abf918d47cea9d",
       "style": "IPY_MODEL_e8cbf25d2af24c0eb41e7078116e5011"
      }
     },
     "8a1b1446f7244c42af557e0c1ee951da": {
      "model_module": "@jupyter-widgets/controls",
      "model_module_version": "1.1.0",
      "model_name": "VBoxModel",
      "state": {
       "children": [
        "IPY_MODEL_32b582c32aa248298b89315c11dc46fd",
        "IPY_MODEL_e599a794a56440f18ac082118ea7f71e",
        "IPY_MODEL_d9e606a651014189976475dc7909b8ba"
       ],
       "layout": "IPY_MODEL_e3e208155cbc4ac28085125edd2d4117"
      }
     },
     "95b234a3e3a04e8aa06e14f4c7959d3b": {
      "model_module": "@jupyter-widgets/controls",
      "model_module_version": "1.1.0",
      "model_name": "ButtonModel",
      "state": {
       "description": "Get recommendations",
       "layout": "IPY_MODEL_e587f162061a474ab8129ea71c06edf7",
       "style": "IPY_MODEL_d7b80bde183c48c09b9008163854ccc1"
      }
     },
     "b0df451c946f496fa1c80fbcac29d65c": {
      "model_module": "@jupyter-widgets/base",
      "model_module_version": "1.0.0",
      "model_name": "LayoutModel",
      "state": {}
     },
     "b6231f0b831d467dacc4a717738edaea": {
      "model_module": "@jupyter-widgets/controls",
      "model_module_version": "1.1.0",
      "model_name": "TextModel",
      "state": {
       "layout": "IPY_MODEL_61434562440f403982a3e63a5c57b9a8",
       "placeholder": "Type a query for NY Times article listing",
       "style": "IPY_MODEL_4013156324f842c4a69bdfac2fefe283"
      }
     },
     "bc5988d2ebe947c99985887d4cb9cbfb": {
      "model_module": "@jupyter-widgets/base",
      "model_module_version": "1.0.0",
      "model_name": "LayoutModel",
      "state": {}
     },
     "bfa36dfd86694d0a8dc32f80296bc394": {
      "model_module": "@jupyter-widgets/controls",
      "model_module_version": "1.1.0",
      "model_name": "DescriptionStyleModel",
      "state": {
       "description_width": ""
      }
     },
     "c40abd3f39284d1ab35f6e5ba565dc79": {
      "model_module": "@jupyter-widgets/controls",
      "model_module_version": "1.1.0",
      "model_name": "LabelModel",
      "state": {
       "layout": "IPY_MODEL_5efb50c64800428a836d4ce873b54b58",
       "style": "IPY_MODEL_7a8a2d396c5d461fa47de7a40c9b8d3f",
       "value": "->->->->->"
      }
     },
     "d2fa199275544464a8662cd319919007": {
      "model_module": "@jupyter-widgets/base",
      "model_module_version": "1.0.0",
      "model_name": "LayoutModel",
      "state": {}
     },
     "d7b80bde183c48c09b9008163854ccc1": {
      "model_module": "@jupyter-widgets/controls",
      "model_module_version": "1.1.0",
      "model_name": "ButtonStyleModel",
      "state": {}
     },
     "d9e606a651014189976475dc7909b8ba": {
      "model_module": "@jupyter-widgets/controls",
      "model_module_version": "1.1.0",
      "model_name": "LabelModel",
      "state": {
       "layout": "IPY_MODEL_3733700eba69474e839644155aa077de",
       "style": "IPY_MODEL_bfa36dfd86694d0a8dc32f80296bc394"
      }
     },
     "e3e208155cbc4ac28085125edd2d4117": {
      "model_module": "@jupyter-widgets/base",
      "model_module_version": "1.0.0",
      "model_name": "LayoutModel",
      "state": {}
     },
     "e587f162061a474ab8129ea71c06edf7": {
      "model_module": "@jupyter-widgets/base",
      "model_module_version": "1.0.0",
      "model_name": "LayoutModel",
      "state": {
       "width": "150px"
      }
     },
     "e599a794a56440f18ac082118ea7f71e": {
      "model_module": "@jupyter-widgets/controls",
      "model_module_version": "1.1.0",
      "model_name": "HBoxModel",
      "state": {
       "children": [
        "IPY_MODEL_b6231f0b831d467dacc4a717738edaea",
        "IPY_MODEL_88d527c982fa4d7bb4b60525b2f80b5d"
       ],
       "layout": "IPY_MODEL_385f5d6878554dae99cb4eb6f86758c3"
      }
     },
     "e8cbf25d2af24c0eb41e7078116e5011": {
      "model_module": "@jupyter-widgets/controls",
      "model_module_version": "1.1.0",
      "model_name": "ButtonStyleModel",
      "state": {}
     },
     "f226e62a39fe4728b5f115366539ba8a": {
      "model_module": "@jupyter-widgets/base",
      "model_module_version": "1.0.0",
      "model_name": "LayoutModel",
      "state": {}
     },
     "f280681b991d401abbe79b9554c6fbaf": {
      "model_module": "@jupyter-widgets/controls",
      "model_module_version": "1.1.0",
      "model_name": "LabelModel",
      "state": {
       "layout": "IPY_MODEL_b0df451c946f496fa1c80fbcac29d65c",
       "style": "IPY_MODEL_2cab4a4df9c848f7b7487ed81aa89f5d",
       "value": "Username:"
      }
     },
     "f674a4b0bbb1411db04fc2dfa553f665": {
      "model_module": "@jupyter-widgets/controls",
      "model_module_version": "1.1.0",
      "model_name": "HBoxModel",
      "state": {
       "children": [
        "IPY_MODEL_c40abd3f39284d1ab35f6e5ba565dc79",
        "IPY_MODEL_95b234a3e3a04e8aa06e14f4c7959d3b"
       ],
       "layout": "IPY_MODEL_2c8b8cc6beca43b48776db1b1f2b0d0e"
      }
     }
    },
    "version_major": 2,
    "version_minor": 0
   }
  }
 },
 "nbformat": 4,
 "nbformat_minor": 2
}
