{
 "cells": [
  {
   "cell_type": "markdown",
   "metadata": {},
   "source": [
    "### Article Selection\n",
    "API calls are made making use of NY Times Developer platform. This will extract metadata and article snippets from NY Times archives based on the search conditions used. API will primarily use the news_desk attribute to import specific number of articles from each section. The sectional topics to be used are listed out in the developer website with over 100 topics available. Peripheral topics based on city/regional news, obituaries, job advertisments, classifieds, booming, crosswords etc. are excluded to work with only general topics."
   ]
  },
  {
   "cell_type": "code",
   "execution_count": 62,
   "metadata": {},
   "outputs": [
    {
     "data": {
      "text/html": [
       "<div>\n",
       "<style>\n",
       "    .dataframe thead tr:only-child th {\n",
       "        text-align: right;\n",
       "    }\n",
       "\n",
       "    .dataframe thead th {\n",
       "        text-align: left;\n",
       "    }\n",
       "\n",
       "    .dataframe tbody tr th {\n",
       "        vertical-align: top;\n",
       "    }\n",
       "</style>\n",
       "<table border=\"1\" class=\"dataframe\">\n",
       "  <thead>\n",
       "    <tr style=\"text-align: right;\">\n",
       "      <th></th>\n",
       "      <th>Section</th>\n",
       "    </tr>\n",
       "  </thead>\n",
       "  <tbody>\n",
       "    <tr>\n",
       "      <th>0</th>\n",
       "      <td>Adventure Sports</td>\n",
       "    </tr>\n",
       "    <tr>\n",
       "      <th>1</th>\n",
       "      <td>Arts &amp; Leisure</td>\n",
       "    </tr>\n",
       "    <tr>\n",
       "      <th>2</th>\n",
       "      <td>Arts</td>\n",
       "    </tr>\n",
       "    <tr>\n",
       "      <th>3</th>\n",
       "      <td>Automobiles</td>\n",
       "    </tr>\n",
       "    <tr>\n",
       "      <th>4</th>\n",
       "      <td>Blogs</td>\n",
       "    </tr>\n",
       "  </tbody>\n",
       "</table>\n",
       "</div>"
      ],
      "text/plain": [
       "            Section\n",
       "0  Adventure Sports\n",
       "1    Arts & Leisure\n",
       "2              Arts\n",
       "3       Automobiles\n",
       "4             Blogs"
      ]
     },
     "execution_count": 62,
     "metadata": {},
     "output_type": "execute_result"
    }
   ],
   "source": [
    "import pandas as pd\n",
    "import numpy as np\n",
    "import warnings\n",
    "\n",
    "warnings.filterwarnings('ignore')\n",
    "\n",
    "news_desk = pd.read_csv(\"data/news_desk.csv\")\n",
    "\n",
    "news_desk.head()"
   ]
  },
  {
   "cell_type": "markdown",
   "metadata": {},
   "source": [
    "### API Calls\n",
    "API calling will build a basic framework for extracting articles in bulk from the NY Times website. Due to the rate limiting restriction put up by NY Times, a decorater is used to make dynamic function calls so that the API requests do not exceed 1 call/second. There is also a day-wise limit of 1000 calls. An additional feature is added which will parallelize this process making use of multiple CPU cores and this will speed things up a bit. Brief description of Lock() function used for rate limiting can be found here."
   ]
  },
  {
   "cell_type": "code",
   "execution_count": 1,
   "metadata": {},
   "outputs": [],
   "source": [
    "import time, threading\n",
    "\n",
    "def rate_limited(max_per_second):\n",
    "  '''Decorator that make functions not to be called faster than 1 call/second'''\n",
    "  lock = threading.Lock()\n",
    "  minInterval = 1.0 / float(max_per_second)\n",
    "  def decorate(func):\n",
    "    lastTimeCalled = [0.0]\n",
    "    def rateLimitedFunction(args,*kargs):\n",
    "      lock.acquire()\n",
    "      elapsed = time.clock() - lastTimeCalled[0]\n",
    "      leftToWait = minInterval - elapsed\n",
    "      if leftToWait>0:\n",
    "        time.sleep(leftToWait)\n",
    "      lock.release()\n",
    "      ret = func(args,*kargs)\n",
    "      lastTimeCalled[0] = time.clock()\n",
    "      return ret\n",
    "    return rateLimitedFunction\n",
    "  return decorate\n",
    "\n",
    "\n",
    "from threading import Thread\n",
    "import requests\n",
    "\n",
    "@rate_limited(0.9)\n",
    "def process_id(id):\n",
    "    try:\n",
    "        r = requests.get(url % id)\n",
    "        json_data = r.json()\n",
    "        print('Appended '+str(page_index.index(id))+ ' out of '+ str(len(page_index)))\n",
    "        return json_data\n",
    "    except:\n",
    "        json_data = ''\n",
    "        print('Skipping...')\n",
    "        return json_data\n",
    "\n",
    "def process_range(id_range, store=None):\n",
    "    if store is None:\n",
    "        store = {}\n",
    "    for id in id_range:\n",
    "        store[id] = process_id(id)\n",
    "    return store\n",
    "\n",
    "\n",
    "def threaded_process_range(nthreads, id_range):\n",
    "    store = {}\n",
    "    threads = []\n",
    "\n",
    "    for i in range(nthreads):\n",
    "        ids = id_range[i::nthreads]\n",
    "        t = Thread(target=process_range, args=(ids,store))\n",
    "        threads.append(t)\n",
    "\n",
    "    [t.start() for t in threads]\n",
    "    [t.join() for t in threads]\n",
    "    return store\n",
    "\n",
    "news_desk = list(news_desk['Section'])\n",
    "base_url = 'https://api.nytimes.com/svc/search/v2/articlesearch.json?api-key=a141a689509b459ba12e2b93b83883fd'\n",
    "\n",
    "article_raw = []\n",
    "for nd in news_desk[65:67]:\n",
    "    param_url = '&fq=news_desk:'+str(nd)+'&sort=newest&page=%s'\n",
    "    url = base_url + param_url\n",
    "    print(str(nd)+\":\")\n",
    "    page_index = list(range(7))\n",
    "    try:\n",
    "        articles_1 = threaded_process_range(2, page_index)\n",
    "        articles_2 = [articles_1[k]['response']['docs'] for k in page_index if (type(articles_1[k]) is dict) and ('response' in articles_1[k])]\n",
    "        articles_3 = [item for sublist in articles_2 for item in sublist]\n",
    "        articles_4 = [{key:item[key] for key in ['web_url','pub_date']} for item in articles_3]\n",
    "        articles_5 = pd.DataFrame(articles_4)\n",
    "        articles_5['news_desk'] = str(nd)\n",
    "        article_raw.append(articles_5)\n",
    "    except:\n",
    "        print('Skipping...')\n",
    "\n",
    "url_data = pd.concat(article_raw).reset_index(drop = True)\n",
    "#url_data.to_csv('data/url_data.csv', index = False)\n"
   ]
  },
  {
   "cell_type": "markdown",
   "metadata": {},
   "source": [
    "### Web Scraping\n",
    "Using the metadata obtained from API calls, the specific URLs with the BeautifulSoup package scraped the article text data. A decorater was used along with the scrape function to limit the rate. URLs with videos/slideshows are excluded from the dataset as they do not have text data. The article content is enclosed within 'p' tags and a loop was used to extract all article content. Article length frequency distribution is observed to exclude articles which failed to scrape meaningful content. Such articles can be identified by high bars in the graph with small article lengths."
   ]
  },
  {
   "cell_type": "code",
   "execution_count": 10,
   "metadata": {
    "scrolled": true
   },
   "outputs": [
    {
     "name": "stderr",
     "output_type": "stream",
     "text": [
      "/Users/saketguddeti/anaconda3/lib/python3.6/site-packages/ipykernel_launcher.py:47: RuntimeWarning: invalid value encountered in less\n"
     ]
    },
    {
     "data": {
      "text/html": [
       "\n",
       "    <div class=\"bk-root\">\n",
       "        <a href=\"http://bokeh.pydata.org\" target=\"_blank\" class=\"bk-logo bk-logo-small bk-logo-notebook\"></a>\n",
       "        <span id=\"037e1993-1b73-467e-9a94-b294cf58ec24\">Loading BokehJS ...</span>\n",
       "    </div>"
      ]
     },
     "metadata": {},
     "output_type": "display_data"
    },
    {
     "data": {
      "application/javascript": [
       "\n",
       "(function(global) {\n",
       "  function now() {\n",
       "    return new Date();\n",
       "  }\n",
       "\n",
       "  var force = true;\n",
       "\n",
       "  if (typeof (window._bokeh_onload_callbacks) === \"undefined\" || force === true) {\n",
       "    window._bokeh_onload_callbacks = [];\n",
       "    window._bokeh_is_loading = undefined;\n",
       "  }\n",
       "\n",
       "\n",
       "  \n",
       "  if (typeof (window._bokeh_timeout) === \"undefined\" || force === true) {\n",
       "    window._bokeh_timeout = Date.now() + 5000;\n",
       "    window._bokeh_failed_load = false;\n",
       "  }\n",
       "\n",
       "  var NB_LOAD_WARNING = {'data': {'text/html':\n",
       "     \"<div style='background-color: #fdd'>\\n\"+\n",
       "     \"<p>\\n\"+\n",
       "     \"BokehJS does not appear to have successfully loaded. If loading BokehJS from CDN, this \\n\"+\n",
       "     \"may be due to a slow or bad network connection. Possible fixes:\\n\"+\n",
       "     \"</p>\\n\"+\n",
       "     \"<ul>\\n\"+\n",
       "     \"<li>re-rerun `output_notebook()` to attempt to load from CDN again, or</li>\\n\"+\n",
       "     \"<li>use INLINE resources instead, as so:</li>\\n\"+\n",
       "     \"</ul>\\n\"+\n",
       "     \"<code>\\n\"+\n",
       "     \"from bokeh.resources import INLINE\\n\"+\n",
       "     \"output_notebook(resources=INLINE)\\n\"+\n",
       "     \"</code>\\n\"+\n",
       "     \"</div>\"}};\n",
       "\n",
       "  function display_loaded() {\n",
       "    if (window.Bokeh !== undefined) {\n",
       "      var el = document.getElementById(\"037e1993-1b73-467e-9a94-b294cf58ec24\");\n",
       "      el.textContent = \"BokehJS \" + Bokeh.version + \" successfully loaded.\";\n",
       "    } else if (Date.now() < window._bokeh_timeout) {\n",
       "      setTimeout(display_loaded, 100)\n",
       "    }\n",
       "  }\n",
       "\n",
       "  function run_callbacks() {\n",
       "    window._bokeh_onload_callbacks.forEach(function(callback) { callback() });\n",
       "    delete window._bokeh_onload_callbacks\n",
       "    console.info(\"Bokeh: all callbacks have finished\");\n",
       "  }\n",
       "\n",
       "  function load_libs(js_urls, callback) {\n",
       "    window._bokeh_onload_callbacks.push(callback);\n",
       "    if (window._bokeh_is_loading > 0) {\n",
       "      console.log(\"Bokeh: BokehJS is being loaded, scheduling callback at\", now());\n",
       "      return null;\n",
       "    }\n",
       "    if (js_urls == null || js_urls.length === 0) {\n",
       "      run_callbacks();\n",
       "      return null;\n",
       "    }\n",
       "    console.log(\"Bokeh: BokehJS not loaded, scheduling load and callback at\", now());\n",
       "    window._bokeh_is_loading = js_urls.length;\n",
       "    for (var i = 0; i < js_urls.length; i++) {\n",
       "      var url = js_urls[i];\n",
       "      var s = document.createElement('script');\n",
       "      s.src = url;\n",
       "      s.async = false;\n",
       "      s.onreadystatechange = s.onload = function() {\n",
       "        window._bokeh_is_loading--;\n",
       "        if (window._bokeh_is_loading === 0) {\n",
       "          console.log(\"Bokeh: all BokehJS libraries loaded\");\n",
       "          run_callbacks()\n",
       "        }\n",
       "      };\n",
       "      s.onerror = function() {\n",
       "        console.warn(\"failed to load library \" + url);\n",
       "      };\n",
       "      console.log(\"Bokeh: injecting script tag for BokehJS library: \", url);\n",
       "      document.getElementsByTagName(\"head\")[0].appendChild(s);\n",
       "    }\n",
       "  };var element = document.getElementById(\"037e1993-1b73-467e-9a94-b294cf58ec24\");\n",
       "  if (element == null) {\n",
       "    console.log(\"Bokeh: ERROR: autoload.js configured with elementid '037e1993-1b73-467e-9a94-b294cf58ec24' but no matching script tag was found. \")\n",
       "    return false;\n",
       "  }\n",
       "\n",
       "  var js_urls = [\"https://cdn.pydata.org/bokeh/release/bokeh-0.12.5.min.js\", \"https://cdn.pydata.org/bokeh/release/bokeh-widgets-0.12.5.min.js\"];\n",
       "\n",
       "  var inline_js = [\n",
       "    function(Bokeh) {\n",
       "      Bokeh.set_log_level(\"info\");\n",
       "    },\n",
       "    \n",
       "    function(Bokeh) {\n",
       "      \n",
       "    },\n",
       "    \n",
       "    function(Bokeh) {\n",
       "      \n",
       "      document.getElementById(\"037e1993-1b73-467e-9a94-b294cf58ec24\").textContent = \"BokehJS is loading...\";\n",
       "\n",
       "    },\n",
       "    function(Bokeh) {\n",
       "      console.log(\"Bokeh: injecting CSS: https://cdn.pydata.org/bokeh/release/bokeh-0.12.5.min.css\");\n",
       "      Bokeh.embed.inject_css(\"https://cdn.pydata.org/bokeh/release/bokeh-0.12.5.min.css\");\n",
       "      console.log(\"Bokeh: injecting CSS: https://cdn.pydata.org/bokeh/release/bokeh-widgets-0.12.5.min.css\");\n",
       "      Bokeh.embed.inject_css(\"https://cdn.pydata.org/bokeh/release/bokeh-widgets-0.12.5.min.css\");\n",
       "    }\n",
       "  ];\n",
       "\n",
       "  function run_inline_js() {\n",
       "    \n",
       "    if ((window.Bokeh !== undefined) || (force === true)) {\n",
       "      for (var i = 0; i < inline_js.length; i++) {\n",
       "        inline_js[i](window.Bokeh);\n",
       "      }if (force === true) {\n",
       "        display_loaded();\n",
       "      }} else if (Date.now() < window._bokeh_timeout) {\n",
       "      setTimeout(run_inline_js, 100);\n",
       "    } else if (!window._bokeh_failed_load) {\n",
       "      console.log(\"Bokeh: BokehJS failed to load within specified timeout.\");\n",
       "      window._bokeh_failed_load = true;\n",
       "    } else if (force !== true) {\n",
       "      var cell = $(document.getElementById(\"037e1993-1b73-467e-9a94-b294cf58ec24\")).parents('.cell').data().cell;\n",
       "      cell.output_area.append_execute_result(NB_LOAD_WARNING)\n",
       "    }\n",
       "\n",
       "  }\n",
       "\n",
       "  if (window._bokeh_is_loading === 0) {\n",
       "    console.log(\"Bokeh: BokehJS loaded, going straight to plotting\");\n",
       "    run_inline_js();\n",
       "  } else {\n",
       "    load_libs(js_urls, function() {\n",
       "      console.log(\"Bokeh: BokehJS plotting callback run at\", now());\n",
       "      run_inline_js();\n",
       "    });\n",
       "  }\n",
       "}(this));"
      ]
     },
     "metadata": {},
     "output_type": "display_data"
    },
    {
     "data": {
      "text/html": [
       "\n",
       "\n",
       "    <div class=\"bk-root\">\n",
       "        <div class=\"bk-plotdiv\" id=\"2c7f2fbf-501c-4217-839a-4eccdb7e01e7\"></div>\n",
       "    </div>\n",
       "<script type=\"text/javascript\">\n",
       "  \n",
       "  (function(global) {\n",
       "    function now() {\n",
       "      return new Date();\n",
       "    }\n",
       "\n",
       "    var force = false;\n",
       "\n",
       "    if (typeof (window._bokeh_onload_callbacks) === \"undefined\" || force === true) {\n",
       "      window._bokeh_onload_callbacks = [];\n",
       "      window._bokeh_is_loading = undefined;\n",
       "    }\n",
       "\n",
       "\n",
       "    \n",
       "    if (typeof (window._bokeh_timeout) === \"undefined\" || force === true) {\n",
       "      window._bokeh_timeout = Date.now() + 0;\n",
       "      window._bokeh_failed_load = false;\n",
       "    }\n",
       "\n",
       "    var NB_LOAD_WARNING = {'data': {'text/html':\n",
       "       \"<div style='background-color: #fdd'>\\n\"+\n",
       "       \"<p>\\n\"+\n",
       "       \"BokehJS does not appear to have successfully loaded. If loading BokehJS from CDN, this \\n\"+\n",
       "       \"may be due to a slow or bad network connection. Possible fixes:\\n\"+\n",
       "       \"</p>\\n\"+\n",
       "       \"<ul>\\n\"+\n",
       "       \"<li>re-rerun `output_notebook()` to attempt to load from CDN again, or</li>\\n\"+\n",
       "       \"<li>use INLINE resources instead, as so:</li>\\n\"+\n",
       "       \"</ul>\\n\"+\n",
       "       \"<code>\\n\"+\n",
       "       \"from bokeh.resources import INLINE\\n\"+\n",
       "       \"output_notebook(resources=INLINE)\\n\"+\n",
       "       \"</code>\\n\"+\n",
       "       \"</div>\"}};\n",
       "\n",
       "    function display_loaded() {\n",
       "      if (window.Bokeh !== undefined) {\n",
       "        var el = document.getElementById(\"2c7f2fbf-501c-4217-839a-4eccdb7e01e7\");\n",
       "        el.textContent = \"BokehJS \" + Bokeh.version + \" successfully loaded.\";\n",
       "      } else if (Date.now() < window._bokeh_timeout) {\n",
       "        setTimeout(display_loaded, 100)\n",
       "      }\n",
       "    }\n",
       "\n",
       "    function run_callbacks() {\n",
       "      window._bokeh_onload_callbacks.forEach(function(callback) { callback() });\n",
       "      delete window._bokeh_onload_callbacks\n",
       "      console.info(\"Bokeh: all callbacks have finished\");\n",
       "    }\n",
       "\n",
       "    function load_libs(js_urls, callback) {\n",
       "      window._bokeh_onload_callbacks.push(callback);\n",
       "      if (window._bokeh_is_loading > 0) {\n",
       "        console.log(\"Bokeh: BokehJS is being loaded, scheduling callback at\", now());\n",
       "        return null;\n",
       "      }\n",
       "      if (js_urls == null || js_urls.length === 0) {\n",
       "        run_callbacks();\n",
       "        return null;\n",
       "      }\n",
       "      console.log(\"Bokeh: BokehJS not loaded, scheduling load and callback at\", now());\n",
       "      window._bokeh_is_loading = js_urls.length;\n",
       "      for (var i = 0; i < js_urls.length; i++) {\n",
       "        var url = js_urls[i];\n",
       "        var s = document.createElement('script');\n",
       "        s.src = url;\n",
       "        s.async = false;\n",
       "        s.onreadystatechange = s.onload = function() {\n",
       "          window._bokeh_is_loading--;\n",
       "          if (window._bokeh_is_loading === 0) {\n",
       "            console.log(\"Bokeh: all BokehJS libraries loaded\");\n",
       "            run_callbacks()\n",
       "          }\n",
       "        };\n",
       "        s.onerror = function() {\n",
       "          console.warn(\"failed to load library \" + url);\n",
       "        };\n",
       "        console.log(\"Bokeh: injecting script tag for BokehJS library: \", url);\n",
       "        document.getElementsByTagName(\"head\")[0].appendChild(s);\n",
       "      }\n",
       "    };var element = document.getElementById(\"2c7f2fbf-501c-4217-839a-4eccdb7e01e7\");\n",
       "    if (element == null) {\n",
       "      console.log(\"Bokeh: ERROR: autoload.js configured with elementid '2c7f2fbf-501c-4217-839a-4eccdb7e01e7' but no matching script tag was found. \")\n",
       "      return false;\n",
       "    }\n",
       "\n",
       "    var js_urls = [];\n",
       "\n",
       "    var inline_js = [\n",
       "      function(Bokeh) {\n",
       "        (function() {\n",
       "          var fn = function() {\n",
       "            var docs_json = {\"44631f6e-b9c2-4e02-aed7-dc51598e9c89\":{\"roots\":{\"references\":[{\"attributes\":{\"plot\":{\"id\":\"f6e44e7f-0dd4-473f-9393-11ba95fe930a\",\"subtype\":\"Figure\",\"type\":\"Plot\"}},\"id\":\"4fda6467-fa84-451b-9aa1-ef714123fb15\",\"type\":\"SaveTool\"},{\"attributes\":{},\"id\":\"8d4f9c64-fca2-4eb3-9e6c-bf544adc3301\",\"type\":\"BasicTicker\"},{\"attributes\":{\"plot\":{\"id\":\"f6e44e7f-0dd4-473f-9393-11ba95fe930a\",\"subtype\":\"Figure\",\"type\":\"Plot\"}},\"id\":\"85323c71-0883-4251-ac1b-ceba3525d192\",\"type\":\"ResetTool\"},{\"attributes\":{\"plot\":{\"id\":\"f6e44e7f-0dd4-473f-9393-11ba95fe930a\",\"subtype\":\"Figure\",\"type\":\"Plot\"}},\"id\":\"e3da6055-8703-4c50-842e-6d3134d052a1\",\"type\":\"HelpTool\"},{\"attributes\":{\"active_drag\":\"auto\",\"active_scroll\":\"auto\",\"active_tap\":\"auto\",\"tools\":[{\"id\":\"48dd0858-7e35-4721-b5d1-1e8a1dbd4da0\",\"type\":\"PanTool\"},{\"id\":\"1434fa74-9274-4022-9ae1-303d893c9bf4\",\"type\":\"WheelZoomTool\"},{\"id\":\"031ad21d-9fc1-4f30-ad5a-94b58edbc543\",\"type\":\"BoxZoomTool\"},{\"id\":\"4fda6467-fa84-451b-9aa1-ef714123fb15\",\"type\":\"SaveTool\"},{\"id\":\"85323c71-0883-4251-ac1b-ceba3525d192\",\"type\":\"ResetTool\"},{\"id\":\"e3da6055-8703-4c50-842e-6d3134d052a1\",\"type\":\"HelpTool\"},{\"id\":\"dd5242c2-f8f8-4a97-9215-217a4f075eb5\",\"type\":\"HoverTool\"}]},\"id\":\"a40e476b-db9f-4cb7-a346-8a4b4c992a23\",\"type\":\"Toolbar\"},{\"attributes\":{\"plot\":null,\"text\":\"\"},\"id\":\"8baf784c-3c7d-4707-bba0-ebf1fff58b4d\",\"type\":\"Title\"},{\"attributes\":{},\"id\":\"cda5688c-5a08-4786-a5e6-1f03c5ca5341\",\"type\":\"ToolEvents\"},{\"attributes\":{\"callback\":null,\"plot\":{\"id\":\"f6e44e7f-0dd4-473f-9393-11ba95fe930a\",\"subtype\":\"Figure\",\"type\":\"Plot\"},\"tooltips\":[[\"Value\",\"@data_value\"]]},\"id\":\"dd5242c2-f8f8-4a97-9215-217a4f075eb5\",\"type\":\"HoverTool\"},{\"attributes\":{\"callback\":null},\"id\":\"cf28b4a6-ce06-4001-9e90-94ff50a6dc4d\",\"type\":\"DataRange1d\"},{\"attributes\":{},\"id\":\"7bdbe592-83db-490c-b178-406a1a7b6a87\",\"type\":\"BasicTickFormatter\"},{\"attributes\":{\"overlay\":{\"id\":\"1bbf125b-a6a4-45f0-8caa-4d903927aa41\",\"type\":\"BoxAnnotation\"},\"plot\":{\"id\":\"f6e44e7f-0dd4-473f-9393-11ba95fe930a\",\"subtype\":\"Figure\",\"type\":\"Plot\"}},\"id\":\"031ad21d-9fc1-4f30-ad5a-94b58edbc543\",\"type\":\"BoxZoomTool\"},{\"attributes\":{\"bottom\":{\"field\":\"bottom\"},\"fill_color\":{\"value\":\"#1f77b4\"},\"left\":{\"field\":\"left\"},\"line_color\":{\"value\":\"white\"},\"right\":{\"field\":\"right\"},\"top\":{\"field\":\"top\"}},\"id\":\"93c67067-4d6a-482a-a598-91bff2e65827\",\"type\":\"Quad\"},{\"attributes\":{},\"id\":\"15371ea2-cd7b-4586-a0fb-13e248b0688e\",\"type\":\"BasicTickFormatter\"},{\"attributes\":{\"callback\":null,\"column_names\":[\"bottom\",\"data_value\",\"left\",\"right\",\"top\",\"index\"],\"data\":{\"bottom\":[0,0,0,0,0,0,0,0,0,0,0,0,0,0,0,0,0,0,0,0,0,0,0,0,0,0,0,0,0,0,0,0,0,0,0,0,0,0,0,0,0,0,0,0,0,0,0,0,0,0],\"data_value\":[38,39,58,8,8,18,6,5,9,10,8,8,10,12,12,3,7,12,11,9,11,5,7,21,13,9,9,7,3,2,5,5,11,6,4,11,8,6,13,4,11,18,15,22,10,19,14,8,9,14],\"index\":[0,1,2,3,4,5,6,7,8,9,10,11,12,13,14,15,16,17,18,19,20,21,22,23,24,25,26,27,28,29,30,31,32,33,34,35,36,37,38,39,40,41,42,43,44,45,46,47,48,49],\"left\":{\"__ndarray__\":\"AAAAAAAAAABxPQrXo/AzQHE9Ctej8ENAKlyPwvXoTUBxPQrXo/BTQM3MzMzM7FhAKlyPwvXoXUDD9Shcj3JhQHE9Ctej8GNAH4XrUbhuZkDNzMzMzOxoQHsUrkfhamtAKlyPwvXobUDsUbgehTNwQMP1KFyPcnFAmpmZmZmxckBxPQrXo/BzQEjhehSuL3VAH4XrUbhudkD2KFyPwq13QM3MzMzM7HhApHA9CtcrekB7FK5H4Wp7QFK4HoXrqXxAKlyPwvXofUABAAAAACh/QOxRuB6FM4BA16NwPQrTgEDD9Shcj3KBQK5H4XoUEoJAmpmZmZmxgkCF61G4HlGDQHE9Ctej8INAXY/C9SiQhEBI4XoUri+FQDQzMzMzz4VAH4XrUbhuhkAL16NwPQ6HQPYoXI/CrYdA4noUrkdNiEDNzMzMzOyIQLkehetRjIlApHA9CtcrikCQwvUoXMuKQHsUrkfhaotAZ2ZmZmYKjEBSuB6F66mMQD4K16NwSY1AKlyPwvXojUAVrkfheoiOQA==\",\"dtype\":\"float64\",\"shape\":[50]},\"right\":{\"__ndarray__\":\"cT0K16PwM0BxPQrXo/BDQCpcj8L16E1AcT0K16PwU0DNzMzMzOxYQCpcj8L16F1Aw/UoXI9yYUBxPQrXo/BjQB+F61G4bmZAzczMzMzsaEB7FK5H4WprQCpcj8L16G1A7FG4HoUzcEDD9Shcj3JxQJqZmZmZsXJAcT0K16Pwc0BI4XoUri91QB+F61G4bnZA9ihcj8Ktd0DNzMzMzOx4QKRwPQrXK3pAexSuR+Fqe0BSuB6F66l8QCpcj8L16H1AAQAAAAAof0DsUbgehTOAQNejcD0K04BAw/UoXI9ygUCuR+F6FBKCQJqZmZmZsYJAhetRuB5Rg0BxPQrXo/CDQF2PwvUokIRASOF6FK4vhUA0MzMzM8+FQB+F61G4boZAC9ejcD0Oh0D2KFyPwq2HQOJ6FK5HTYhAzczMzMzsiEC5HoXrUYyJQKRwPQrXK4pAkML1KFzLikB7FK5H4WqLQGdmZmZmCoxAUrgeheupjEA+CtejcEmNQCpcj8L16I1AFa5H4XqIjkAAAAAAACiPQA==\",\"dtype\":\"float64\",\"shape\":[50]},\"top\":[38,39,58,8,8,18,6,5,9,10,8,8,10,12,12,3,7,12,11,9,11,5,7,21,13,9,9,7,3,2,5,5,11,6,4,11,8,6,13,4,11,18,15,22,10,19,14,8,9,14]}},\"id\":\"cc905250-32f4-4ee7-9b42-6f3f7b9eb070\",\"type\":\"ColumnDataSource\"},{\"attributes\":{\"data_source\":{\"id\":\"cc905250-32f4-4ee7-9b42-6f3f7b9eb070\",\"type\":\"ColumnDataSource\"},\"glyph\":{\"id\":\"93c67067-4d6a-482a-a598-91bff2e65827\",\"type\":\"Quad\"},\"hover_glyph\":null,\"muted_glyph\":null,\"nonselection_glyph\":{\"id\":\"82b05476-ba6c-4ddc-b131-2ff60423ad87\",\"type\":\"Quad\"},\"selection_glyph\":null},\"id\":\"d32e620b-7985-4eb1-b259-8b34990c40c4\",\"type\":\"GlyphRenderer\"},{\"attributes\":{\"plot\":{\"id\":\"f6e44e7f-0dd4-473f-9393-11ba95fe930a\",\"subtype\":\"Figure\",\"type\":\"Plot\"},\"ticker\":{\"id\":\"8d4f9c64-fca2-4eb3-9e6c-bf544adc3301\",\"type\":\"BasicTicker\"}},\"id\":\"6a138d39-5047-400a-8991-099c3069b2e6\",\"type\":\"Grid\"},{\"attributes\":{\"below\":[{\"id\":\"4294ec68-19fc-495c-b3f5-550aeadb761f\",\"type\":\"LinearAxis\"}],\"left\":[{\"id\":\"26b5aa64-16e2-4abe-822d-a35f956bb9b8\",\"type\":\"LinearAxis\"}],\"plot_height\":450,\"plot_width\":550,\"renderers\":[{\"id\":\"4294ec68-19fc-495c-b3f5-550aeadb761f\",\"type\":\"LinearAxis\"},{\"id\":\"6a138d39-5047-400a-8991-099c3069b2e6\",\"type\":\"Grid\"},{\"id\":\"26b5aa64-16e2-4abe-822d-a35f956bb9b8\",\"type\":\"LinearAxis\"},{\"id\":\"9eca2090-a8d8-4d9f-966e-32cdc0003c7c\",\"type\":\"Grid\"},{\"id\":\"1bbf125b-a6a4-45f0-8caa-4d903927aa41\",\"type\":\"BoxAnnotation\"},{\"id\":\"d32e620b-7985-4eb1-b259-8b34990c40c4\",\"type\":\"GlyphRenderer\"}],\"title\":{\"id\":\"8baf784c-3c7d-4707-bba0-ebf1fff58b4d\",\"type\":\"Title\"},\"tool_events\":{\"id\":\"cda5688c-5a08-4786-a5e6-1f03c5ca5341\",\"type\":\"ToolEvents\"},\"toolbar\":{\"id\":\"a40e476b-db9f-4cb7-a346-8a4b4c992a23\",\"type\":\"Toolbar\"},\"x_range\":{\"id\":\"cf28b4a6-ce06-4001-9e90-94ff50a6dc4d\",\"type\":\"DataRange1d\"},\"y_range\":{\"id\":\"1279694e-5088-4391-aae3-1268b6b7be53\",\"type\":\"DataRange1d\"}},\"id\":\"f6e44e7f-0dd4-473f-9393-11ba95fe930a\",\"subtype\":\"Figure\",\"type\":\"Plot\"},{\"attributes\":{\"axis_label\":\"Frequency\",\"formatter\":{\"id\":\"15371ea2-cd7b-4586-a0fb-13e248b0688e\",\"type\":\"BasicTickFormatter\"},\"plot\":{\"id\":\"f6e44e7f-0dd4-473f-9393-11ba95fe930a\",\"subtype\":\"Figure\",\"type\":\"Plot\"},\"ticker\":{\"id\":\"b5557b46-9ce9-4960-af90-5271702fe512\",\"type\":\"BasicTicker\"}},\"id\":\"26b5aa64-16e2-4abe-822d-a35f956bb9b8\",\"type\":\"LinearAxis\"},{\"attributes\":{\"bottom\":{\"field\":\"bottom\"},\"fill_alpha\":{\"value\":0.1},\"fill_color\":{\"value\":\"#1f77b4\"},\"left\":{\"field\":\"left\"},\"line_alpha\":{\"value\":0.1},\"line_color\":{\"value\":\"#1f77b4\"},\"right\":{\"field\":\"right\"},\"top\":{\"field\":\"top\"}},\"id\":\"82b05476-ba6c-4ddc-b131-2ff60423ad87\",\"type\":\"Quad\"},{\"attributes\":{},\"id\":\"b5557b46-9ce9-4960-af90-5271702fe512\",\"type\":\"BasicTicker\"},{\"attributes\":{\"bottom_units\":\"screen\",\"fill_alpha\":{\"value\":0.5},\"fill_color\":{\"value\":\"lightgrey\"},\"left_units\":\"screen\",\"level\":\"overlay\",\"line_alpha\":{\"value\":1.0},\"line_color\":{\"value\":\"black\"},\"line_dash\":[4,4],\"line_width\":{\"value\":2},\"plot\":null,\"render_mode\":\"css\",\"right_units\":\"screen\",\"top_units\":\"screen\"},\"id\":\"1bbf125b-a6a4-45f0-8caa-4d903927aa41\",\"type\":\"BoxAnnotation\"},{\"attributes\":{\"dimension\":1,\"plot\":{\"id\":\"f6e44e7f-0dd4-473f-9393-11ba95fe930a\",\"subtype\":\"Figure\",\"type\":\"Plot\"},\"ticker\":{\"id\":\"b5557b46-9ce9-4960-af90-5271702fe512\",\"type\":\"BasicTicker\"}},\"id\":\"9eca2090-a8d8-4d9f-966e-32cdc0003c7c\",\"type\":\"Grid\"},{\"attributes\":{\"axis_label\":\"Length of Article\",\"formatter\":{\"id\":\"7bdbe592-83db-490c-b178-406a1a7b6a87\",\"type\":\"BasicTickFormatter\"},\"plot\":{\"id\":\"f6e44e7f-0dd4-473f-9393-11ba95fe930a\",\"subtype\":\"Figure\",\"type\":\"Plot\"},\"ticker\":{\"id\":\"8d4f9c64-fca2-4eb3-9e6c-bf544adc3301\",\"type\":\"BasicTicker\"}},\"id\":\"4294ec68-19fc-495c-b3f5-550aeadb761f\",\"type\":\"LinearAxis\"},{\"attributes\":{\"callback\":null},\"id\":\"1279694e-5088-4391-aae3-1268b6b7be53\",\"type\":\"DataRange1d\"},{\"attributes\":{\"plot\":{\"id\":\"f6e44e7f-0dd4-473f-9393-11ba95fe930a\",\"subtype\":\"Figure\",\"type\":\"Plot\"}},\"id\":\"48dd0858-7e35-4721-b5d1-1e8a1dbd4da0\",\"type\":\"PanTool\"},{\"attributes\":{\"plot\":{\"id\":\"f6e44e7f-0dd4-473f-9393-11ba95fe930a\",\"subtype\":\"Figure\",\"type\":\"Plot\"}},\"id\":\"1434fa74-9274-4022-9ae1-303d893c9bf4\",\"type\":\"WheelZoomTool\"}],\"root_ids\":[\"f6e44e7f-0dd4-473f-9393-11ba95fe930a\"]},\"title\":\"Bokeh Application\",\"version\":\"0.12.5\"}};\n",
       "            var render_items = [{\"docid\":\"44631f6e-b9c2-4e02-aed7-dc51598e9c89\",\"elementid\":\"2c7f2fbf-501c-4217-839a-4eccdb7e01e7\",\"modelid\":\"f6e44e7f-0dd4-473f-9393-11ba95fe930a\"}];\n",
       "            \n",
       "            Bokeh.embed.embed_items(docs_json, render_items);\n",
       "          };\n",
       "          if (document.readyState != \"loading\") fn();\n",
       "          else document.addEventListener(\"DOMContentLoaded\", fn);\n",
       "        })();\n",
       "\n",
       "      },\n",
       "      function(Bokeh) {\n",
       "      }\n",
       "    ];\n",
       "\n",
       "    function run_inline_js() {\n",
       "      \n",
       "      if ((window.Bokeh !== undefined) || (force === true)) {\n",
       "        for (var i = 0; i < inline_js.length; i++) {\n",
       "          inline_js[i](window.Bokeh);\n",
       "        }if (force === true) {\n",
       "          display_loaded();\n",
       "        }} else if (Date.now() < window._bokeh_timeout) {\n",
       "        setTimeout(run_inline_js, 100);\n",
       "      } else if (!window._bokeh_failed_load) {\n",
       "        console.log(\"Bokeh: BokehJS failed to load within specified timeout.\");\n",
       "        window._bokeh_failed_load = true;\n",
       "      } else if (force !== true) {\n",
       "        var cell = $(document.getElementById(\"2c7f2fbf-501c-4217-839a-4eccdb7e01e7\")).parents('.cell').data().cell;\n",
       "        cell.output_area.append_execute_result(NB_LOAD_WARNING)\n",
       "      }\n",
       "\n",
       "    }\n",
       "\n",
       "    if (window._bokeh_is_loading === 0) {\n",
       "      console.log(\"Bokeh: BokehJS loaded, going straight to plotting\");\n",
       "      run_inline_js();\n",
       "    } else {\n",
       "      load_libs(js_urls, function() {\n",
       "        console.log(\"Bokeh: BokehJS plotting callback run at\", now());\n",
       "        run_inline_js();\n",
       "      });\n",
       "    }\n",
       "  }(this));\n",
       "</script>"
      ]
     },
     "metadata": {},
     "output_type": "display_data"
    }
   ],
   "source": [
    "from bs4 import BeautifulSoup\n",
    "\n",
    "@rate_limited(1)\n",
    "def extract_content(url):\n",
    "    r = requests.get(url)\n",
    "    soup = BeautifulSoup(r.text, 'html.parser')\n",
    "    \n",
    "    name_box = soup.findAll('p', attrs={'class': 'story-body-text story-content'})\n",
    "    content = [x.text for x in name_box]\n",
    "    content_final = ' '.join(content)\n",
    "    \n",
    "    if(content_final == ''):\n",
    "        name_box = soup.findAll('p')\n",
    "        content = [x.text for x in name_box]\n",
    "        content_final = ' '.join(content)\n",
    "\n",
    "    return(content_final)\n",
    "\n",
    "url_data = pd.read_csv('data/url_data.csv')\n",
    "url_data['video_flag'] = url_data['web_url'].str.contains('/video/')\n",
    "url_data['slideshow_flag'] = url_data['web_url'].str.contains('/slideshow/')\n",
    "url_data = url_data.loc[(url_data['video_flag'] == False) & (url_data['slideshow_flag'] == False),]\n",
    "url_data = url_data.drop(['video_flag','slideshow_flag'], axis = 1)\n",
    "\n",
    "content = []\n",
    "for index, i in enumerate(url_data['web_url']):\n",
    "    try:\n",
    "        print(index)\n",
    "        a = extract_content(i)    \n",
    "        content.append(a)\n",
    "    except:\n",
    "        content.append('')\n",
    "        print('Skipping...')\n",
    "        \n",
    "content_data = url_data\n",
    "content_data['content'] = content\n",
    "content_data.to_csv('data/content_data.csv', index = False)\n",
    "##\n",
    "import pandas as pd\n",
    "content_data = pd.read_csv('data/content_data.csv')\n",
    "content_data['length'] = content_data['content'].str.strip().str.len()\n",
    "\n",
    "import bokeh.plotting as bp\n",
    "from bokeh.io import show, output_notebook\n",
    "from bokeh.models import HoverTool\n",
    "import numpy as np\n",
    "\n",
    "array = list(content_data['length'][content_data['length'].values < 1000])\n",
    "hist, edges = np.histogram(array, bins=50)\n",
    "\n",
    "source = bp.ColumnDataSource(pd.DataFrame({\n",
    "    'left' : edges[:-1],\n",
    "    'top' : hist,\n",
    "    'right' : edges[1:],\n",
    "    'bottom' : 0,\n",
    "    'data_value' : hist\n",
    "}))\n",
    "\n",
    "p = bp.figure(width = 550, height = 450)\n",
    "p.quad(top='top', bottom='bottom', left='left', right='right', line_color=\"white\", source = source)\n",
    "p.add_tools(HoverTool(tooltips= [(\"Value\", \"@data_value\")]))\n",
    "p.xaxis.axis_label = 'Length of Article'\n",
    "p.yaxis.axis_label = 'Frequency'\n",
    "output_notebook()\n",
    "show(p)"
   ]
  },
  {
   "cell_type": "markdown",
   "metadata": {},
   "source": [
    "Looking over the frequency distribution of article length below 1000, there is a spike in the 1st-3rd bar denoting articles with advertisement content, waste text with no relavant information. These articles will be filtered from the corpus."
   ]
  },
  {
   "cell_type": "code",
   "execution_count": 11,
   "metadata": {},
   "outputs": [
    {
     "data": {
      "text/html": [
       "\n",
       "    <div class=\"bk-root\">\n",
       "        <a href=\"http://bokeh.pydata.org\" target=\"_blank\" class=\"bk-logo bk-logo-small bk-logo-notebook\"></a>\n",
       "        <span id=\"157a4d5a-856c-4225-a3ea-8fe34280b892\">Loading BokehJS ...</span>\n",
       "    </div>"
      ]
     },
     "metadata": {},
     "output_type": "display_data"
    },
    {
     "data": {
      "application/javascript": [
       "\n",
       "(function(global) {\n",
       "  function now() {\n",
       "    return new Date();\n",
       "  }\n",
       "\n",
       "  var force = true;\n",
       "\n",
       "  if (typeof (window._bokeh_onload_callbacks) === \"undefined\" || force === true) {\n",
       "    window._bokeh_onload_callbacks = [];\n",
       "    window._bokeh_is_loading = undefined;\n",
       "  }\n",
       "\n",
       "\n",
       "  \n",
       "  if (typeof (window._bokeh_timeout) === \"undefined\" || force === true) {\n",
       "    window._bokeh_timeout = Date.now() + 5000;\n",
       "    window._bokeh_failed_load = false;\n",
       "  }\n",
       "\n",
       "  var NB_LOAD_WARNING = {'data': {'text/html':\n",
       "     \"<div style='background-color: #fdd'>\\n\"+\n",
       "     \"<p>\\n\"+\n",
       "     \"BokehJS does not appear to have successfully loaded. If loading BokehJS from CDN, this \\n\"+\n",
       "     \"may be due to a slow or bad network connection. Possible fixes:\\n\"+\n",
       "     \"</p>\\n\"+\n",
       "     \"<ul>\\n\"+\n",
       "     \"<li>re-rerun `output_notebook()` to attempt to load from CDN again, or</li>\\n\"+\n",
       "     \"<li>use INLINE resources instead, as so:</li>\\n\"+\n",
       "     \"</ul>\\n\"+\n",
       "     \"<code>\\n\"+\n",
       "     \"from bokeh.resources import INLINE\\n\"+\n",
       "     \"output_notebook(resources=INLINE)\\n\"+\n",
       "     \"</code>\\n\"+\n",
       "     \"</div>\"}};\n",
       "\n",
       "  function display_loaded() {\n",
       "    if (window.Bokeh !== undefined) {\n",
       "      var el = document.getElementById(\"157a4d5a-856c-4225-a3ea-8fe34280b892\");\n",
       "      el.textContent = \"BokehJS \" + Bokeh.version + \" successfully loaded.\";\n",
       "    } else if (Date.now() < window._bokeh_timeout) {\n",
       "      setTimeout(display_loaded, 100)\n",
       "    }\n",
       "  }\n",
       "\n",
       "  function run_callbacks() {\n",
       "    window._bokeh_onload_callbacks.forEach(function(callback) { callback() });\n",
       "    delete window._bokeh_onload_callbacks\n",
       "    console.info(\"Bokeh: all callbacks have finished\");\n",
       "  }\n",
       "\n",
       "  function load_libs(js_urls, callback) {\n",
       "    window._bokeh_onload_callbacks.push(callback);\n",
       "    if (window._bokeh_is_loading > 0) {\n",
       "      console.log(\"Bokeh: BokehJS is being loaded, scheduling callback at\", now());\n",
       "      return null;\n",
       "    }\n",
       "    if (js_urls == null || js_urls.length === 0) {\n",
       "      run_callbacks();\n",
       "      return null;\n",
       "    }\n",
       "    console.log(\"Bokeh: BokehJS not loaded, scheduling load and callback at\", now());\n",
       "    window._bokeh_is_loading = js_urls.length;\n",
       "    for (var i = 0; i < js_urls.length; i++) {\n",
       "      var url = js_urls[i];\n",
       "      var s = document.createElement('script');\n",
       "      s.src = url;\n",
       "      s.async = false;\n",
       "      s.onreadystatechange = s.onload = function() {\n",
       "        window._bokeh_is_loading--;\n",
       "        if (window._bokeh_is_loading === 0) {\n",
       "          console.log(\"Bokeh: all BokehJS libraries loaded\");\n",
       "          run_callbacks()\n",
       "        }\n",
       "      };\n",
       "      s.onerror = function() {\n",
       "        console.warn(\"failed to load library \" + url);\n",
       "      };\n",
       "      console.log(\"Bokeh: injecting script tag for BokehJS library: \", url);\n",
       "      document.getElementsByTagName(\"head\")[0].appendChild(s);\n",
       "    }\n",
       "  };var element = document.getElementById(\"157a4d5a-856c-4225-a3ea-8fe34280b892\");\n",
       "  if (element == null) {\n",
       "    console.log(\"Bokeh: ERROR: autoload.js configured with elementid '157a4d5a-856c-4225-a3ea-8fe34280b892' but no matching script tag was found. \")\n",
       "    return false;\n",
       "  }\n",
       "\n",
       "  var js_urls = [\"https://cdn.pydata.org/bokeh/release/bokeh-0.12.5.min.js\", \"https://cdn.pydata.org/bokeh/release/bokeh-widgets-0.12.5.min.js\"];\n",
       "\n",
       "  var inline_js = [\n",
       "    function(Bokeh) {\n",
       "      Bokeh.set_log_level(\"info\");\n",
       "    },\n",
       "    \n",
       "    function(Bokeh) {\n",
       "      \n",
       "    },\n",
       "    \n",
       "    function(Bokeh) {\n",
       "      \n",
       "      document.getElementById(\"157a4d5a-856c-4225-a3ea-8fe34280b892\").textContent = \"BokehJS is loading...\";\n",
       "\n",
       "    },\n",
       "    function(Bokeh) {\n",
       "      console.log(\"Bokeh: injecting CSS: https://cdn.pydata.org/bokeh/release/bokeh-0.12.5.min.css\");\n",
       "      Bokeh.embed.inject_css(\"https://cdn.pydata.org/bokeh/release/bokeh-0.12.5.min.css\");\n",
       "      console.log(\"Bokeh: injecting CSS: https://cdn.pydata.org/bokeh/release/bokeh-widgets-0.12.5.min.css\");\n",
       "      Bokeh.embed.inject_css(\"https://cdn.pydata.org/bokeh/release/bokeh-widgets-0.12.5.min.css\");\n",
       "    }\n",
       "  ];\n",
       "\n",
       "  function run_inline_js() {\n",
       "    \n",
       "    if ((window.Bokeh !== undefined) || (force === true)) {\n",
       "      for (var i = 0; i < inline_js.length; i++) {\n",
       "        inline_js[i](window.Bokeh);\n",
       "      }if (force === true) {\n",
       "        display_loaded();\n",
       "      }} else if (Date.now() < window._bokeh_timeout) {\n",
       "      setTimeout(run_inline_js, 100);\n",
       "    } else if (!window._bokeh_failed_load) {\n",
       "      console.log(\"Bokeh: BokehJS failed to load within specified timeout.\");\n",
       "      window._bokeh_failed_load = true;\n",
       "    } else if (force !== true) {\n",
       "      var cell = $(document.getElementById(\"157a4d5a-856c-4225-a3ea-8fe34280b892\")).parents('.cell').data().cell;\n",
       "      cell.output_area.append_execute_result(NB_LOAD_WARNING)\n",
       "    }\n",
       "\n",
       "  }\n",
       "\n",
       "  if (window._bokeh_is_loading === 0) {\n",
       "    console.log(\"Bokeh: BokehJS loaded, going straight to plotting\");\n",
       "    run_inline_js();\n",
       "  } else {\n",
       "    load_libs(js_urls, function() {\n",
       "      console.log(\"Bokeh: BokehJS plotting callback run at\", now());\n",
       "      run_inline_js();\n",
       "    });\n",
       "  }\n",
       "}(this));"
      ]
     },
     "metadata": {},
     "output_type": "display_data"
    },
    {
     "data": {
      "text/html": [
       "\n",
       "\n",
       "    <div class=\"bk-root\">\n",
       "        <div class=\"bk-plotdiv\" id=\"581aadbb-7738-4caa-a2a8-d32bb08fa0b8\"></div>\n",
       "    </div>\n",
       "<script type=\"text/javascript\">\n",
       "  \n",
       "  (function(global) {\n",
       "    function now() {\n",
       "      return new Date();\n",
       "    }\n",
       "\n",
       "    var force = false;\n",
       "\n",
       "    if (typeof (window._bokeh_onload_callbacks) === \"undefined\" || force === true) {\n",
       "      window._bokeh_onload_callbacks = [];\n",
       "      window._bokeh_is_loading = undefined;\n",
       "    }\n",
       "\n",
       "\n",
       "    \n",
       "    if (typeof (window._bokeh_timeout) === \"undefined\" || force === true) {\n",
       "      window._bokeh_timeout = Date.now() + 0;\n",
       "      window._bokeh_failed_load = false;\n",
       "    }\n",
       "\n",
       "    var NB_LOAD_WARNING = {'data': {'text/html':\n",
       "       \"<div style='background-color: #fdd'>\\n\"+\n",
       "       \"<p>\\n\"+\n",
       "       \"BokehJS does not appear to have successfully loaded. If loading BokehJS from CDN, this \\n\"+\n",
       "       \"may be due to a slow or bad network connection. Possible fixes:\\n\"+\n",
       "       \"</p>\\n\"+\n",
       "       \"<ul>\\n\"+\n",
       "       \"<li>re-rerun `output_notebook()` to attempt to load from CDN again, or</li>\\n\"+\n",
       "       \"<li>use INLINE resources instead, as so:</li>\\n\"+\n",
       "       \"</ul>\\n\"+\n",
       "       \"<code>\\n\"+\n",
       "       \"from bokeh.resources import INLINE\\n\"+\n",
       "       \"output_notebook(resources=INLINE)\\n\"+\n",
       "       \"</code>\\n\"+\n",
       "       \"</div>\"}};\n",
       "\n",
       "    function display_loaded() {\n",
       "      if (window.Bokeh !== undefined) {\n",
       "        var el = document.getElementById(\"581aadbb-7738-4caa-a2a8-d32bb08fa0b8\");\n",
       "        el.textContent = \"BokehJS \" + Bokeh.version + \" successfully loaded.\";\n",
       "      } else if (Date.now() < window._bokeh_timeout) {\n",
       "        setTimeout(display_loaded, 100)\n",
       "      }\n",
       "    }\n",
       "\n",
       "    function run_callbacks() {\n",
       "      window._bokeh_onload_callbacks.forEach(function(callback) { callback() });\n",
       "      delete window._bokeh_onload_callbacks\n",
       "      console.info(\"Bokeh: all callbacks have finished\");\n",
       "    }\n",
       "\n",
       "    function load_libs(js_urls, callback) {\n",
       "      window._bokeh_onload_callbacks.push(callback);\n",
       "      if (window._bokeh_is_loading > 0) {\n",
       "        console.log(\"Bokeh: BokehJS is being loaded, scheduling callback at\", now());\n",
       "        return null;\n",
       "      }\n",
       "      if (js_urls == null || js_urls.length === 0) {\n",
       "        run_callbacks();\n",
       "        return null;\n",
       "      }\n",
       "      console.log(\"Bokeh: BokehJS not loaded, scheduling load and callback at\", now());\n",
       "      window._bokeh_is_loading = js_urls.length;\n",
       "      for (var i = 0; i < js_urls.length; i++) {\n",
       "        var url = js_urls[i];\n",
       "        var s = document.createElement('script');\n",
       "        s.src = url;\n",
       "        s.async = false;\n",
       "        s.onreadystatechange = s.onload = function() {\n",
       "          window._bokeh_is_loading--;\n",
       "          if (window._bokeh_is_loading === 0) {\n",
       "            console.log(\"Bokeh: all BokehJS libraries loaded\");\n",
       "            run_callbacks()\n",
       "          }\n",
       "        };\n",
       "        s.onerror = function() {\n",
       "          console.warn(\"failed to load library \" + url);\n",
       "        };\n",
       "        console.log(\"Bokeh: injecting script tag for BokehJS library: \", url);\n",
       "        document.getElementsByTagName(\"head\")[0].appendChild(s);\n",
       "      }\n",
       "    };var element = document.getElementById(\"581aadbb-7738-4caa-a2a8-d32bb08fa0b8\");\n",
       "    if (element == null) {\n",
       "      console.log(\"Bokeh: ERROR: autoload.js configured with elementid '581aadbb-7738-4caa-a2a8-d32bb08fa0b8' but no matching script tag was found. \")\n",
       "      return false;\n",
       "    }\n",
       "\n",
       "    var js_urls = [];\n",
       "\n",
       "    var inline_js = [\n",
       "      function(Bokeh) {\n",
       "        (function() {\n",
       "          var fn = function() {\n",
       "            var docs_json = {\"5253f943-04af-45bc-aeec-c33e6e402bad\":{\"roots\":{\"references\":[{\"attributes\":{},\"id\":\"4bde73e3-c301-45b5-9518-736bf982210b\",\"type\":\"BasicTicker\"},{\"attributes\":{\"data_source\":{\"id\":\"cfca64e3-5427-4e97-9b70-86741f7f2443\",\"type\":\"ColumnDataSource\"},\"glyph\":{\"id\":\"13e44c36-89c1-4c85-ae96-59de4a6f7b44\",\"type\":\"Quad\"},\"hover_glyph\":null,\"muted_glyph\":null,\"nonselection_glyph\":{\"id\":\"19f04cc7-acb8-4007-a382-0e0992028f18\",\"type\":\"Quad\"},\"selection_glyph\":null},\"id\":\"62a68778-7f46-49c7-8c4d-7db1a27fb9fa\",\"type\":\"GlyphRenderer\"},{\"attributes\":{},\"id\":\"b7f4ec3c-c538-4109-96f2-8169eb00f3de\",\"type\":\"ToolEvents\"},{\"attributes\":{\"bottom\":{\"field\":\"bottom\"},\"fill_alpha\":{\"value\":0.1},\"fill_color\":{\"value\":\"#1f77b4\"},\"left\":{\"field\":\"left\"},\"line_alpha\":{\"value\":0.1},\"line_color\":{\"value\":\"#1f77b4\"},\"right\":{\"field\":\"right\"},\"top\":{\"field\":\"top\"}},\"id\":\"19f04cc7-acb8-4007-a382-0e0992028f18\",\"type\":\"Quad\"},{\"attributes\":{\"below\":[{\"id\":\"7b2a04d6-9e36-43d6-9531-ea9f4a40e740\",\"type\":\"LinearAxis\"}],\"left\":[{\"id\":\"2f01a1dc-ceb0-448f-a31b-68e0b9e50e31\",\"type\":\"LinearAxis\"}],\"plot_height\":450,\"plot_width\":550,\"renderers\":[{\"id\":\"7b2a04d6-9e36-43d6-9531-ea9f4a40e740\",\"type\":\"LinearAxis\"},{\"id\":\"c641ba85-cbc5-41b8-a29f-a1203d2d1c9a\",\"type\":\"Grid\"},{\"id\":\"2f01a1dc-ceb0-448f-a31b-68e0b9e50e31\",\"type\":\"LinearAxis\"},{\"id\":\"874eea8a-ec5d-4b17-8bdd-e1b157cea495\",\"type\":\"Grid\"},{\"id\":\"8a7ee2c0-2a52-4e25-990f-4052449654d6\",\"type\":\"BoxAnnotation\"},{\"id\":\"62a68778-7f46-49c7-8c4d-7db1a27fb9fa\",\"type\":\"GlyphRenderer\"}],\"title\":{\"id\":\"36856539-5cbd-40c4-8372-55faa82f26fc\",\"type\":\"Title\"},\"tool_events\":{\"id\":\"b7f4ec3c-c538-4109-96f2-8169eb00f3de\",\"type\":\"ToolEvents\"},\"toolbar\":{\"id\":\"acd1189b-c04b-4aca-af7c-c8c2c73a1269\",\"type\":\"Toolbar\"},\"x_range\":{\"id\":\"600eff97-0c2d-442f-ae9b-6d8e8f5b2005\",\"type\":\"DataRange1d\"},\"y_range\":{\"id\":\"f662f2b0-c865-45dd-9c7d-6403fcc34888\",\"type\":\"DataRange1d\"}},\"id\":\"505041ec-c21c-42b6-9223-d0ce474b6d3e\",\"subtype\":\"Figure\",\"type\":\"Plot\"},{\"attributes\":{},\"id\":\"7dcb649d-d389-4068-b402-ebe68a782fc4\",\"type\":\"BasicTickFormatter\"},{\"attributes\":{\"axis_label\":\"Frequency\",\"formatter\":{\"id\":\"0d26afc1-2475-4378-b9b9-1f8f74fbecc6\",\"type\":\"BasicTickFormatter\"},\"plot\":{\"id\":\"505041ec-c21c-42b6-9223-d0ce474b6d3e\",\"subtype\":\"Figure\",\"type\":\"Plot\"},\"ticker\":{\"id\":\"e2be4f72-214f-41c6-98a9-f14c8b4a10bb\",\"type\":\"BasicTicker\"}},\"id\":\"2f01a1dc-ceb0-448f-a31b-68e0b9e50e31\",\"type\":\"LinearAxis\"},{\"attributes\":{\"callback\":null,\"plot\":{\"id\":\"505041ec-c21c-42b6-9223-d0ce474b6d3e\",\"subtype\":\"Figure\",\"type\":\"Plot\"},\"tooltips\":[[\"Value\",\"@data_value\"]]},\"id\":\"5cb9831a-de34-4643-8cb7-e2c8ba30dd41\",\"type\":\"HoverTool\"},{\"attributes\":{\"callback\":null},\"id\":\"600eff97-0c2d-442f-ae9b-6d8e8f5b2005\",\"type\":\"DataRange1d\"},{\"attributes\":{\"bottom\":{\"field\":\"bottom\"},\"fill_color\":{\"value\":\"#1f77b4\"},\"left\":{\"field\":\"left\"},\"line_color\":{\"value\":\"white\"},\"right\":{\"field\":\"right\"},\"top\":{\"field\":\"top\"}},\"id\":\"13e44c36-89c1-4c85-ae96-59de4a6f7b44\",\"type\":\"Quad\"},{\"attributes\":{\"axis_label\":\"Length of Article\",\"formatter\":{\"id\":\"7dcb649d-d389-4068-b402-ebe68a782fc4\",\"type\":\"BasicTickFormatter\"},\"plot\":{\"id\":\"505041ec-c21c-42b6-9223-d0ce474b6d3e\",\"subtype\":\"Figure\",\"type\":\"Plot\"},\"ticker\":{\"id\":\"4bde73e3-c301-45b5-9518-736bf982210b\",\"type\":\"BasicTicker\"}},\"id\":\"7b2a04d6-9e36-43d6-9531-ea9f4a40e740\",\"type\":\"LinearAxis\"},{\"attributes\":{\"callback\":null},\"id\":\"f662f2b0-c865-45dd-9c7d-6403fcc34888\",\"type\":\"DataRange1d\"},{\"attributes\":{\"plot\":null,\"text\":\"\"},\"id\":\"36856539-5cbd-40c4-8372-55faa82f26fc\",\"type\":\"Title\"},{\"attributes\":{},\"id\":\"0d26afc1-2475-4378-b9b9-1f8f74fbecc6\",\"type\":\"BasicTickFormatter\"},{\"attributes\":{\"callback\":null,\"column_names\":[\"bottom\",\"data_value\",\"left\",\"right\",\"top\",\"index\"],\"data\":{\"bottom\":[0,0,0,0,0,0,0,0,0,0,0,0,0,0,0,0,0,0,0,0,0,0,0,0,0,0,0,0,0,0,0,0,0,0,0,0,0,0,0,0,0,0,0,0,0,0,0,0,0,0,0,0,0,0,0,0,0,0,0,0,0,0,0,0,0,0,0,0,0,0,0,0,0,0,0,0,0,0,0,0,0,0,0,0,0,0,0,0,0,0,0,0,0,0,0,0,0,0,0,0],\"data_value\":[426,419,497,515,492,566,472,398,349,262,134,85,65,35,15,19,23,20,19,14,12,9,4,11,6,5,3,5,3,7,7,4,3,9,2,3,3,2,0,0,4,1,0,0,2,1,0,0,1,0,0,0,0,0,0,0,0,0,1,0,0,0,0,0,0,0,1,0,0,0,1,0,0,0,0,0,0,0,0,0,0,0,0,0,0,0,0,0,0,0,0,1,0,0,0,0,0,0,0,1],\"index\":[0,1,2,3,4,5,6,7,8,9,10,11,12,13,14,15,16,17,18,19,20,21,22,23,24,25,26,27,28,29,30,31,32,33,34,35,36,37,38,39,40,41,42,43,44,45,46,47,48,49,50,51,52,53,54,55,56,57,58,59,60,61,62,63,64,65,66,67,68,69,70,71,72,73,74,75,76,77,78,79,80,81,82,83,84,85,86,87,88,89,90,91,92,93,94,95,96,97,98,99],\"left\":{\"__ndarray__\":\"AAAAAADAUEAzMzMzM2eNQDMzMzMzW5xAZmZmZmYBpUAzMzMzM9WrQAAAAACAVLFAZmZmZma+tEDNzMzMTCi4QDMzMzMzkrtAmZmZmRn8vkAAAAAAADPBQDMzMzPz58JAZmZmZuacxECZmZmZ2VHGQM3MzMzMBshAAAAAAMC7yUAzMzMzs3DLQGZmZmamJc1AmZmZmZnazkBmZmZmxkfQQAAAAABAItFAmZmZmbn80UAzMzMzM9fSQM3MzMyssdNAZmZmZiaM1EAAAAAAoGbVQJmZmZkZQdZAMzMzM5Mb10DNzMzMDPbXQGZmZmaG0NhAAAAAAACr2UCZmZmZeYXaQDMzMzPzX9tAzczMzGw63EBmZmZm5hTdQAAAAABg791AmZmZmdnJ3kAzMzMzU6TfQGZmZmZmP+BAMzMzM6Os4EAAAAAA4BnhQM3MzMwch+FAmZmZmVn04UBmZmZmlmHiQDMzMzPTzuJAAAAAABA840DNzMzMTKnjQJmZmZmJFuRAZmZmZsaD5EAzMzMzA/HkQAAAAABAXuVAzczMzHzL5UCZmZmZuTjmQGZmZmb2peZAMzMzMzMT50AAAAAAcIDnQM3MzMys7edAmZmZmela6EBmZmZmJsjoQDMzMzNjNelAAAAAAKCi6UDNzMzM3A/qQJmZmZkZfepAZmZmZlbq6kAzMzMzk1frQAAAAADQxOtAzczMzAwy7ECZmZmZSZ/sQGZmZmaGDO1AMzMzM8N57UAAAAAAAOftQM3MzMw8VO5AmZmZmXnB7kBmZmZmti7vQDMzMzPzm+9AAAAAAJgE8EBmZmZmNjvwQM3MzMzUcfBAMzMzM3Oo8ECZmZmZEd/wQAAAAACwFfFAZmZmZk5M8UDNzMzM7ILxQDMzMzOLufFAmZmZmSnw8UAAAAAAyCbyQGZmZmZmXfJAzczMzASU8kAzMzMzo8ryQJmZmZlBAfNAAAAAAOA380BmZmZmfm7zQM3MzMwcpfNAMzMzM7vb80CZmZmZWRL0QAAAAAD4SPRAZmZmZpZ/9EDNzMzMNLb0QDMzMzPT7PRAmZmZmXEj9UA=\",\"dtype\":\"float64\",\"shape\":[100]},\"right\":{\"__ndarray__\":\"MzMzMzNnjUAzMzMzM1ucQGZmZmZmAaVAMzMzMzPVq0AAAAAAgFSxQGZmZmZmvrRAzczMzEwouEAzMzMzM5K7QJmZmZkZ/L5AAAAAAAAzwUAzMzMz8+fCQGZmZmbmnMRAmZmZmdlRxkDNzMzMzAbIQAAAAADAu8lAMzMzM7Nwy0BmZmZmpiXNQJmZmZmZ2s5AZmZmZsZH0EAAAAAAQCLRQJmZmZm5/NFAMzMzMzPX0kDNzMzMrLHTQGZmZmYmjNRAAAAAAKBm1UCZmZmZGUHWQDMzMzOTG9dAzczMzAz210BmZmZmhtDYQAAAAAAAq9lAmZmZmXmF2kAzMzMz81/bQM3MzMxsOtxAZmZmZuYU3UAAAAAAYO/dQJmZmZnZyd5AMzMzM1Ok30BmZmZmZj/gQDMzMzOjrOBAAAAAAOAZ4UDNzMzMHIfhQJmZmZlZ9OFAZmZmZpZh4kAzMzMz087iQAAAAAAQPONAzczMzEyp40CZmZmZiRbkQGZmZmbGg+RAMzMzMwPx5EAAAAAAQF7lQM3MzMx8y+VAmZmZmbk45kBmZmZm9qXmQDMzMzMzE+dAAAAAAHCA50DNzMzMrO3nQJmZmZnpWuhAZmZmZibI6EAzMzMzYzXpQAAAAACgoulAzczMzNwP6kCZmZmZGX3qQGZmZmZW6upAMzMzM5NX60AAAAAA0MTrQM3MzMwMMuxAmZmZmUmf7EBmZmZmhgztQDMzMzPDee1AAAAAAADn7UDNzMzMPFTuQJmZmZl5we5AZmZmZrYu70AzMzMz85vvQAAAAACYBPBAZmZmZjY78EDNzMzM1HHwQDMzMzNzqPBAmZmZmRHf8EAAAAAAsBXxQGZmZmZOTPFAzczMzOyC8UAzMzMzi7nxQJmZmZkp8PFAAAAAAMgm8kBmZmZmZl3yQM3MzMwElPJAMzMzM6PK8kCZmZmZQQHzQAAAAADgN/NAZmZmZn5u80DNzMzMHKXzQDMzMzO72/NAmZmZmVkS9EAAAAAA+Ej0QGZmZmaWf/RAzczMzDS29EAzMzMz0+z0QJmZmZlxI/VAAAAAABBa9UA=\",\"dtype\":\"float64\",\"shape\":[100]},\"top\":[426,419,497,515,492,566,472,398,349,262,134,85,65,35,15,19,23,20,19,14,12,9,4,11,6,5,3,5,3,7,7,4,3,9,2,3,3,2,0,0,4,1,0,0,2,1,0,0,1,0,0,0,0,0,0,0,0,0,1,0,0,0,0,0,0,0,1,0,0,0,1,0,0,0,0,0,0,0,0,0,0,0,0,0,0,0,0,0,0,0,0,1,0,0,0,0,0,0,0,1]}},\"id\":\"cfca64e3-5427-4e97-9b70-86741f7f2443\",\"type\":\"ColumnDataSource\"},{\"attributes\":{},\"id\":\"e2be4f72-214f-41c6-98a9-f14c8b4a10bb\",\"type\":\"BasicTicker\"},{\"attributes\":{\"active_drag\":\"auto\",\"active_scroll\":\"auto\",\"active_tap\":\"auto\",\"tools\":[{\"id\":\"64517ac1-a0fe-415e-a04f-3a876c28728c\",\"type\":\"PanTool\"},{\"id\":\"f37c71b0-1678-4290-9acb-b555d5f10a9f\",\"type\":\"WheelZoomTool\"},{\"id\":\"bf865144-7901-4f97-a7d6-b0f791e4bb2b\",\"type\":\"BoxZoomTool\"},{\"id\":\"4ac21b40-4d43-4673-9f06-4ebe59d25efd\",\"type\":\"SaveTool\"},{\"id\":\"61496b4e-08e3-4497-9f12-fe04cf2dd0d4\",\"type\":\"ResetTool\"},{\"id\":\"a1c78e43-a6b6-4c64-af75-d89f9b652ecd\",\"type\":\"HelpTool\"},{\"id\":\"5cb9831a-de34-4643-8cb7-e2c8ba30dd41\",\"type\":\"HoverTool\"}]},\"id\":\"acd1189b-c04b-4aca-af7c-c8c2c73a1269\",\"type\":\"Toolbar\"},{\"attributes\":{\"dimension\":1,\"plot\":{\"id\":\"505041ec-c21c-42b6-9223-d0ce474b6d3e\",\"subtype\":\"Figure\",\"type\":\"Plot\"},\"ticker\":{\"id\":\"e2be4f72-214f-41c6-98a9-f14c8b4a10bb\",\"type\":\"BasicTicker\"}},\"id\":\"874eea8a-ec5d-4b17-8bdd-e1b157cea495\",\"type\":\"Grid\"},{\"attributes\":{\"plot\":{\"id\":\"505041ec-c21c-42b6-9223-d0ce474b6d3e\",\"subtype\":\"Figure\",\"type\":\"Plot\"}},\"id\":\"64517ac1-a0fe-415e-a04f-3a876c28728c\",\"type\":\"PanTool\"},{\"attributes\":{\"plot\":{\"id\":\"505041ec-c21c-42b6-9223-d0ce474b6d3e\",\"subtype\":\"Figure\",\"type\":\"Plot\"},\"ticker\":{\"id\":\"4bde73e3-c301-45b5-9518-736bf982210b\",\"type\":\"BasicTicker\"}},\"id\":\"c641ba85-cbc5-41b8-a29f-a1203d2d1c9a\",\"type\":\"Grid\"},{\"attributes\":{\"plot\":{\"id\":\"505041ec-c21c-42b6-9223-d0ce474b6d3e\",\"subtype\":\"Figure\",\"type\":\"Plot\"}},\"id\":\"4ac21b40-4d43-4673-9f06-4ebe59d25efd\",\"type\":\"SaveTool\"},{\"attributes\":{\"overlay\":{\"id\":\"8a7ee2c0-2a52-4e25-990f-4052449654d6\",\"type\":\"BoxAnnotation\"},\"plot\":{\"id\":\"505041ec-c21c-42b6-9223-d0ce474b6d3e\",\"subtype\":\"Figure\",\"type\":\"Plot\"}},\"id\":\"bf865144-7901-4f97-a7d6-b0f791e4bb2b\",\"type\":\"BoxZoomTool\"},{\"attributes\":{\"plot\":{\"id\":\"505041ec-c21c-42b6-9223-d0ce474b6d3e\",\"subtype\":\"Figure\",\"type\":\"Plot\"}},\"id\":\"f37c71b0-1678-4290-9acb-b555d5f10a9f\",\"type\":\"WheelZoomTool\"},{\"attributes\":{\"plot\":{\"id\":\"505041ec-c21c-42b6-9223-d0ce474b6d3e\",\"subtype\":\"Figure\",\"type\":\"Plot\"}},\"id\":\"a1c78e43-a6b6-4c64-af75-d89f9b652ecd\",\"type\":\"HelpTool\"},{\"attributes\":{\"plot\":{\"id\":\"505041ec-c21c-42b6-9223-d0ce474b6d3e\",\"subtype\":\"Figure\",\"type\":\"Plot\"}},\"id\":\"61496b4e-08e3-4497-9f12-fe04cf2dd0d4\",\"type\":\"ResetTool\"},{\"attributes\":{\"bottom_units\":\"screen\",\"fill_alpha\":{\"value\":0.5},\"fill_color\":{\"value\":\"lightgrey\"},\"left_units\":\"screen\",\"level\":\"overlay\",\"line_alpha\":{\"value\":1.0},\"line_color\":{\"value\":\"black\"},\"line_dash\":[4,4],\"line_width\":{\"value\":2},\"plot\":null,\"render_mode\":\"css\",\"right_units\":\"screen\",\"top_units\":\"screen\"},\"id\":\"8a7ee2c0-2a52-4e25-990f-4052449654d6\",\"type\":\"BoxAnnotation\"}],\"root_ids\":[\"505041ec-c21c-42b6-9223-d0ce474b6d3e\"]},\"title\":\"Bokeh Application\",\"version\":\"0.12.5\"}};\n",
       "            var render_items = [{\"docid\":\"5253f943-04af-45bc-aeec-c33e6e402bad\",\"elementid\":\"581aadbb-7738-4caa-a2a8-d32bb08fa0b8\",\"modelid\":\"505041ec-c21c-42b6-9223-d0ce474b6d3e\"}];\n",
       "            \n",
       "            Bokeh.embed.embed_items(docs_json, render_items);\n",
       "          };\n",
       "          if (document.readyState != \"loading\") fn();\n",
       "          else document.addEventListener(\"DOMContentLoaded\", fn);\n",
       "        })();\n",
       "\n",
       "      },\n",
       "      function(Bokeh) {\n",
       "      }\n",
       "    ];\n",
       "\n",
       "    function run_inline_js() {\n",
       "      \n",
       "      if ((window.Bokeh !== undefined) || (force === true)) {\n",
       "        for (var i = 0; i < inline_js.length; i++) {\n",
       "          inline_js[i](window.Bokeh);\n",
       "        }if (force === true) {\n",
       "          display_loaded();\n",
       "        }} else if (Date.now() < window._bokeh_timeout) {\n",
       "        setTimeout(run_inline_js, 100);\n",
       "      } else if (!window._bokeh_failed_load) {\n",
       "        console.log(\"Bokeh: BokehJS failed to load within specified timeout.\");\n",
       "        window._bokeh_failed_load = true;\n",
       "      } else if (force !== true) {\n",
       "        var cell = $(document.getElementById(\"581aadbb-7738-4caa-a2a8-d32bb08fa0b8\")).parents('.cell').data().cell;\n",
       "        cell.output_area.append_execute_result(NB_LOAD_WARNING)\n",
       "      }\n",
       "\n",
       "    }\n",
       "\n",
       "    if (window._bokeh_is_loading === 0) {\n",
       "      console.log(\"Bokeh: BokehJS loaded, going straight to plotting\");\n",
       "      run_inline_js();\n",
       "    } else {\n",
       "      load_libs(js_urls, function() {\n",
       "        console.log(\"Bokeh: BokehJS plotting callback run at\", now());\n",
       "        run_inline_js();\n",
       "      });\n",
       "    }\n",
       "  }(this));\n",
       "</script>"
      ]
     },
     "metadata": {},
     "output_type": "display_data"
    }
   ],
   "source": [
    "# Filtering articles with length less than 60 (first three bars)\n",
    "content_data = content_data.loc[content_data['length'] > 60,]\n",
    "\n",
    "# Filtering articles with very large length (removing outliers)\n",
    "content_data = content_data.loc[content_data['length'] < 160000,]\n",
    "\n",
    "# Reset the index\n",
    "content_data = content_data.reset_index(drop = True)\n",
    "\n",
    "# Article length distribution over entire corpus\n",
    "array = content_data['length'].values\n",
    "hist, edges = np.histogram(array, bins=100)\n",
    "\n",
    "source = bp.ColumnDataSource(pd.DataFrame({\n",
    "    'left' : edges[:-1],\n",
    "    'top' : hist,\n",
    "    'right' : edges[1:],\n",
    "    'bottom' : 0,\n",
    "    'data_value' : hist\n",
    "}))\n",
    "\n",
    "p = bp.figure(width = 550, height = 450)\n",
    "p.quad(top='top', bottom='bottom', left='left', right='right', line_color=\"white\", source = source)\n",
    "p.add_tools(HoverTool(tooltips= [(\"Value\", \"@data_value\")]))\n",
    "p.xaxis.axis_label = 'Length of Article'\n",
    "p.yaxis.axis_label = 'Frequency'\n",
    "output_notebook()\n",
    "show(p)"
   ]
  },
  {
   "cell_type": "markdown",
   "metadata": {},
   "source": [
    "### Topic Modelling\n",
    "The first step after cleaning article corpus is to use a generative model for finding topic distribution across all articles. We will use the Latent Dirichlet Allocation (LDA) model to generate distribution. Document-term matrix is created using CountVectorizer to tokenize words greater than 3 characters (alphanumeric) and remove tokens which appear in less than 30 documents or in more than 20% of documents. The text will be pre-processed by removing stopwords, punctuations and lemmatizing words with their part of speech. "
   ]
  },
  {
   "cell_type": "code",
   "execution_count": 12,
   "metadata": {},
   "outputs": [],
   "source": [
    "import gensim\n",
    "from sklearn.feature_extraction.text import CountVectorizer\n",
    "import nltk\n",
    "from nltk.stem.wordnet import WordNetLemmatizer\n",
    "from nltk.tokenize import RegexpTokenizer\n",
    "import string\n",
    "\n",
    "def pre_process(text):    \n",
    "    stopwords = set(nltk.corpus.stopwords.words('english'))\n",
    "    punctuation = set(string.punctuation)\n",
    "    lemmatizer = WordNetLemmatizer()\n",
    "    tokenizer = RegexpTokenizer(r'[0-9a-zA-Z]+')\n",
    "\n",
    "    def convert_tag(tag):\n",
    "        \"\"\"\n",
    "        Convert the tag given by nltk.pos_tag to the tag used by wordnet\n",
    "        \"\"\"\n",
    "        tag_dict = {'N': 'n', 'J': 'a', 'R': 'r', 'V': 'v'}\n",
    "        try:\n",
    "            return tag_dict[tag[0]]\n",
    "        except KeyError:\n",
    "            return 'a'\n",
    "\n",
    "    cl_text = (\" \").join(tokenizer.tokenize(text))\n",
    "    cl_text = (\" \").join([s for s in cl_text.lower().split() if s not in stopwords])\n",
    "    cl_text = (\"\").join([s for s in cl_text if s not in punctuation])\n",
    "    cl_text = nltk.word_tokenize(cl_text)\n",
    "    pos = nltk.pos_tag(cl_text)\n",
    "    pos = [convert_tag(t[1]) for t in pos]\n",
    "    cl_text = [lemmatizer.lemmatize(cl_text[i], pos[i]) for i in range(len(cl_text))]\n",
    "    return cl_text\n",
    "\n",
    "content_data['content_clean'] = content_data['content'].apply(pre_process)\n",
    "\n",
    "# Using CountVectorizor to find more then three letter tokens, removing stop_words, \n",
    "# removing tokens that don't appear in at least 30 documents,\n",
    "# removing tokens that appear in more than 20% of the documents\n",
    "vect = CountVectorizer(min_df=30, max_df=0.2, stop_words='english', token_pattern='(?u)\\\\b\\\\w\\\\w\\\\w+\\\\b')\n",
    "\n",
    "X = vect.fit_transform(content_data['content_clean'].apply(lambda x: (\" \").join(x)))\n",
    "\n",
    "# Convert sparse matrix to gensim corpus.\n",
    "corpus = gensim.matutils.Sparse2Corpus(X, documents_columns=False)\n",
    "\n",
    "# Mapping from word IDs to words (To be used in LdaModel's id2word parameter)\n",
    "id_map = dict((v, k) for k, v in vect.vocabulary_.items())\n",
    "\n",
    "# Creating dictionary object from the corpus\n",
    "dct = gensim.corpora.Dictionary.from_corpus(corpus, id_map)\n",
    "\n",
    "# Determining topic overlap\n",
    "from sklearn.metrics.pairwise import cosine_similarity\n",
    "def topic_sim(lda_model, num_topic):\n",
    "    topic_word = lda_model.get_topics()\n",
    "    avg_sim = []\n",
    "    for i in range(num_topic):\n",
    "        arr1 = topic_word[i]\n",
    "        sim = []\n",
    "        for j in range(num_topic):\n",
    "            arr2 = topic_word[j]\n",
    "            sim_value = cosine_similarity(arr1.reshape(1,-1),arr2.reshape(1,-1))\n",
    "            sim.append(sim_value)\n",
    "        avg_sim.append(np.mean(sim))\n",
    "    return(np.mean(avg_sim))        \n",
    "\n",
    "x = np.linspace(1, 100, 10).astype(int)\n",
    "topic_overlap = []\n",
    "for i in x:\n",
    "    ldamodel = gensim.models.ldamodel.LdaModel(corpus, num_topics = i, \n",
    "                                               id2word = id_map, passes = 25, random_state = 34)\n",
    "    topic_overlap.append(topic_sim(ldamodel, i))\n",
    "\n",
    "\n",
    "p = bp.figure(plot_width=400, plot_height=400)\n",
    "p.line(list(x), topic_overlap, line_width=2)\n",
    "p.circle(list(x), topic_overlap, fill_color=\"white\", size=8)\n",
    "p.xaxis.axis_label = 'Number of Topics'\n",
    "p.yaxis.axis_label = 'Topic Similarity'\n",
    "output_notebook()\n",
    "show(p)"
   ]
  },
  {
   "cell_type": "markdown",
   "metadata": {},
   "source": [
    "#### Number of Topics\n",
    "The above similarity vs number of topics graph can be used to determine the number of topics for LDA modelling. The optimal number of topics will be the minimal number of topics which produces maximum diversity among constituent topics. Using the elbow method, the number of topics used will be **35**. Topic similarity is calculated using cosine similarity between word-level probability distributions."
   ]
  },
  {
   "cell_type": "code",
   "execution_count": 43,
   "metadata": {},
   "outputs": [],
   "source": [
    "# Generating topic distribution for the entire corpus\n",
    "\n",
    "ldamodel = gensim.models.ldamodel.LdaModel(corpus, num_topics = 35, id2word = id_map, passes = 40)\n",
    "\n",
    "def topic_corpus():\n",
    "    bow_corpus = [dct.doc2bow(content_data.loc[i,'content_clean']) for i in range(content_data.shape[0])]\n",
    "    topic_corpus = []\n",
    "    for i in range(len(bow_corpus)):\n",
    "        topic_dist = ldamodel[bow_corpus[i]]\n",
    "        topic_dist = {x[0]:x[1] for x in topic_dist}\n",
    "        topic_corpus.append(topic_dist)\n",
    "    topic_corpus = pd.DataFrame(topic_corpus).fillna(0)\n",
    "    return(topic_corpus)\n",
    "\n",
    "topic_corpus = topic_corpus()\n",
    "\n",
    "def query_article_topic(list):\n",
    "    query_content = []\n",
    "    for at in list:\n",
    "        try:\n",
    "            query_content.append(pre_process(extract_content(at)))\n",
    "        except:\n",
    "            query_content.append([''])\n",
    "        \n",
    "    bow = [dct.doc2bow(i) for i in query_content]\n",
    "    query_corpus = []\n",
    "    for i in range(len(bow)):\n",
    "        topic_dist = ldamodel[bow[i]]\n",
    "        topic_dist = {x[0]:x[1] for x in topic_dist}\n",
    "        query_corpus.append(topic_dist)\n",
    "    query_corpus.append({i:0 for i in range(35)})    \n",
    "    query_corpus = pd.DataFrame(query_corpus).fillna(0)\n",
    "    return(query_corpus.iloc[:-1,])"
   ]
  },
  {
   "cell_type": "markdown",
   "metadata": {},
   "source": [
    "### Semantic Similarity\n",
    "**LDA** ([read here](http://blog.echen.me/2011/08/22/introduction-to-latent-dirichlet-allocation/)) provides a good way of clustering documents with similar topic distributions. Since this method relies only on bag of words model, there is no focus on the context/meaning of the document. As a result, two highly similar documents by topics may be very different in terms of article context and may not work well for a recommender system where the user will generally prefer new articles with similar context. Thus, topic similarity should be combined with a model which focusses on the semantic similarity of the articles as well.\n",
    "\n",
    "**WordNet** is a taxonomy of hypernym relationships and synonym sets. It is a good resource for finding semantic similarity between words/sentences but has some limitations. It does not work great at identifying nuances between sentences. Also, it has some limitations in comparing adjectives and adverbs since the taxonomies are very short and words from different taxonomies cannot be compared. This method, though good at finding similarity, is not very accurate and does not take into account changing/new word meanings. Detailed description of WordNet can be found [here](https://www.codeproject.com/Articles/11835/WordNet-based-semantic-similarity-measurement).\n",
    "\n",
    "**Word-Embeddings** is a relatively new domain in text analytics with some good algorithms on semantic similarity. Word2Vec and GloVe are two most popular examples. Word2Vec operates on two learning algorithms i.e. skip-gram and Continuous Bag of Words. Basic premise of this model is to represent meaning of the word by understanding the context in which it appears. Neural Network Word embedding is a predictive model which aims to predict between a centre word and context words in terms of word vectors. This model is very effective in comparing word/sentence similarities and also trains on the corpus quickly making it ideal to implement here."
   ]
  },
  {
   "cell_type": "code",
   "execution_count": 87,
   "metadata": {},
   "outputs": [
    {
     "data": {
      "text/html": [
       "\n",
       "\n",
       "    <div class=\"bk-root\">\n",
       "        <div class=\"bk-plotdiv\" id=\"1f82dede-cd14-4d69-9e2f-fb6ea1c2b56c\"></div>\n",
       "    </div>\n",
       "<script type=\"text/javascript\">\n",
       "  \n",
       "  (function(global) {\n",
       "    function now() {\n",
       "      return new Date();\n",
       "    }\n",
       "\n",
       "    var force = false;\n",
       "\n",
       "    if (typeof (window._bokeh_onload_callbacks) === \"undefined\" || force === true) {\n",
       "      window._bokeh_onload_callbacks = [];\n",
       "      window._bokeh_is_loading = undefined;\n",
       "    }\n",
       "\n",
       "\n",
       "    \n",
       "    if (typeof (window._bokeh_timeout) === \"undefined\" || force === true) {\n",
       "      window._bokeh_timeout = Date.now() + 0;\n",
       "      window._bokeh_failed_load = false;\n",
       "    }\n",
       "\n",
       "    var NB_LOAD_WARNING = {'data': {'text/html':\n",
       "       \"<div style='background-color: #fdd'>\\n\"+\n",
       "       \"<p>\\n\"+\n",
       "       \"BokehJS does not appear to have successfully loaded. If loading BokehJS from CDN, this \\n\"+\n",
       "       \"may be due to a slow or bad network connection. Possible fixes:\\n\"+\n",
       "       \"</p>\\n\"+\n",
       "       \"<ul>\\n\"+\n",
       "       \"<li>re-rerun `output_notebook()` to attempt to load from CDN again, or</li>\\n\"+\n",
       "       \"<li>use INLINE resources instead, as so:</li>\\n\"+\n",
       "       \"</ul>\\n\"+\n",
       "       \"<code>\\n\"+\n",
       "       \"from bokeh.resources import INLINE\\n\"+\n",
       "       \"output_notebook(resources=INLINE)\\n\"+\n",
       "       \"</code>\\n\"+\n",
       "       \"</div>\"}};\n",
       "\n",
       "    function display_loaded() {\n",
       "      if (window.Bokeh !== undefined) {\n",
       "        var el = document.getElementById(\"1f82dede-cd14-4d69-9e2f-fb6ea1c2b56c\");\n",
       "        el.textContent = \"BokehJS \" + Bokeh.version + \" successfully loaded.\";\n",
       "      } else if (Date.now() < window._bokeh_timeout) {\n",
       "        setTimeout(display_loaded, 100)\n",
       "      }\n",
       "    }\n",
       "\n",
       "    function run_callbacks() {\n",
       "      window._bokeh_onload_callbacks.forEach(function(callback) { callback() });\n",
       "      delete window._bokeh_onload_callbacks\n",
       "      console.info(\"Bokeh: all callbacks have finished\");\n",
       "    }\n",
       "\n",
       "    function load_libs(js_urls, callback) {\n",
       "      window._bokeh_onload_callbacks.push(callback);\n",
       "      if (window._bokeh_is_loading > 0) {\n",
       "        console.log(\"Bokeh: BokehJS is being loaded, scheduling callback at\", now());\n",
       "        return null;\n",
       "      }\n",
       "      if (js_urls == null || js_urls.length === 0) {\n",
       "        run_callbacks();\n",
       "        return null;\n",
       "      }\n",
       "      console.log(\"Bokeh: BokehJS not loaded, scheduling load and callback at\", now());\n",
       "      window._bokeh_is_loading = js_urls.length;\n",
       "      for (var i = 0; i < js_urls.length; i++) {\n",
       "        var url = js_urls[i];\n",
       "        var s = document.createElement('script');\n",
       "        s.src = url;\n",
       "        s.async = false;\n",
       "        s.onreadystatechange = s.onload = function() {\n",
       "          window._bokeh_is_loading--;\n",
       "          if (window._bokeh_is_loading === 0) {\n",
       "            console.log(\"Bokeh: all BokehJS libraries loaded\");\n",
       "            run_callbacks()\n",
       "          }\n",
       "        };\n",
       "        s.onerror = function() {\n",
       "          console.warn(\"failed to load library \" + url);\n",
       "        };\n",
       "        console.log(\"Bokeh: injecting script tag for BokehJS library: \", url);\n",
       "        document.getElementsByTagName(\"head\")[0].appendChild(s);\n",
       "      }\n",
       "    };var element = document.getElementById(\"1f82dede-cd14-4d69-9e2f-fb6ea1c2b56c\");\n",
       "    if (element == null) {\n",
       "      console.log(\"Bokeh: ERROR: autoload.js configured with elementid '1f82dede-cd14-4d69-9e2f-fb6ea1c2b56c' but no matching script tag was found. \")\n",
       "      return false;\n",
       "    }\n",
       "\n",
       "    var js_urls = [];\n",
       "\n",
       "    var inline_js = [\n",
       "      function(Bokeh) {\n",
       "        (function() {\n",
       "          var fn = function() {\n",
       "            var docs_json = {\"abce367c-bc30-4181-a764-06d85ee36788\":{\"roots\":{\"references\":[{\"attributes\":{\"callback\":null,\"column_names\":[\"col1\",\"col2\",\"col3\",\"index\"],\"data\":{\"col1\":{\"__ndarray__\":\"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\",\"dtype\":\"float64\",\"shape\":[418]},\"col2\":{\"__ndarray__\":\"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\",\"dtype\":\"float64\",\"shape\":[418]},\"col3\":[\"Business\",\"Business\",\"Business\",\"Business\",\"Business\",\"Business\",\"Business\",\"Business\",\"Business\",\"Business\",\"Business\",\"Business\",\"Business\",\"Business\",\"Business\",\"Business\",\"Business\",\"Business\",\"Business\",\"Business\",\"Business\",\"Business\",\"Business\",\"Business\",\"Business\",\"Business\",\"Business\",\"Business\",\"Business\",\"Business\",\"Business\",\"Business\",\"Business\",\"Business\",\"Business\",\"Business\",\"Business\",\"Business\",\"Business\",\"Business\",\"Business\",\"Business\",\"Business\",\"Business\",\"Business\",\"Business\",\"Business\",\"Business\",\"Business\",\"Business\",\"Business\",\"Business\",\"Business\",\"Business\",\"Business\",\"Business\",\"Business\",\"Business\",\"Business\",\"Business\",\"Business\",\"Business\",\"Business\",\"Business\",\"Business\",\"Business\",\"Business\",\"Business\",\"Business\",\"Business\",\"Culture\",\"Culture\",\"Culture\",\"Culture\",\"Culture\",\"Culture\",\"Culture\",\"Culture\",\"Culture\",\"Culture\",\"Culture\",\"Culture\",\"Culture\",\"Culture\",\"Culture\",\"Culture\",\"Culture\",\"Culture\",\"Culture\",\"Culture\",\"Culture\",\"Culture\",\"Culture\",\"Culture\",\"Culture\",\"Culture\",\"Culture\",\"Culture\",\"Culture\",\"Culture\",\"Culture\",\"Culture\",\"Culture\",\"Culture\",\"Culture\",\"Culture\",\"Culture\",\"Culture\",\"Culture\",\"Culture\",\"Culture\",\"Culture\",\"Culture\",\"Culture\",\"Culture\",\"Culture\",\"Culture\",\"Culture\",\"Culture\",\"Culture\",\"Culture\",\"Culture\",\"Culture\",\"Culture\",\"Culture\",\"Culture\",\"Culture\",\"Culture\",\"Culture\",\"Culture\",\"Culture\",\"Culture\",\"Culture\",\"Culture\",\"Culture\",\"Culture\",\"Culture\",\"Culture\",\"Culture\",\"Culture\",\"Health\",\"Health\",\"Health\",\"Health\",\"Health\",\"Health\",\"Health\",\"Health\",\"Health\",\"Health\",\"Health\",\"Health\",\"Health\",\"Health\",\"Health\",\"Health\",\"Health\",\"Health\",\"Health\",\"Health\",\"Health\",\"Health\",\"Health\",\"Health\",\"Health\",\"Health\",\"Health\",\"Health\",\"Health\",\"Health\",\"Health\",\"Health\",\"Health\",\"Health\",\"Health\",\"Health\",\"Health\",\"Health\",\"Health\",\"Health\",\"Politics\",\"Politics\",\"Politics\",\"Politics\",\"Politics\",\"Politics\",\"Politics\",\"Politics\",\"Politics\",\"Politics\",\"Retail\",\"Retail\",\"Retail\",\"Retail\",\"Retail\",\"Retail\",\"Retail\",\"Retail\",\"Retail\",\"Retail\",\"Retail\",\"Retail\",\"Retail\",\"Retail\",\"Retail\",\"Retail\",\"Retail\",\"Retail\",\"Retail\",\"Retail\",\"Retail\",\"Retail\",\"Retail\",\"Retail\",\"Retail\",\"Retail\",\"Retail\",\"Retail\",\"Retail\",\"Retail\",\"Retail\",\"Retail\",\"Retail\",\"Retail\",\"Retail\",\"Sports\",\"Sports\",\"Sports\",\"Sports\",\"Sports\",\"Sports\",\"Sports\",\"Sports\",\"Sports\",\"Sports\",\"Sports\",\"Sports\",\"Sports\",\"Sports\",\"Sports\",\"Sports\",\"Sports\",\"Sports\",\"Sports\",\"Sports\",\"Sports\",\"Sports\",\"Sports\",\"Sports\",\"Sports\",\"Sports\",\"Sports\",\"Sports\",\"Sports\",\"Sports\",\"Sports\",\"Sports\",\"Sports\",\"Sports\",\"Sports\",\"Sports\",\"Sports\",\"Sports\",\"Sports\",\"Sports\",\"Sports\",\"Sports\",\"Sports\",\"Sports\",\"Sports\",\"Sports\",\"Sports\",\"Sports\",\"Sports\",\"Sports\",\"Sports\",\"Sports\",\"Sports\",\"Sports\",\"Sports\",\"Sports\",\"Sports\",\"Sports\",\"Sports\",\"Sports\",\"Sports\",\"Sports\",\"Sports\",\"Technology\",\"Technology\",\"Technology\",\"Technology\",\"Technology\",\"Technology\",\"Technology\",\"Technology\",\"Technology\",\"Technology\",\"Technology\",\"Technology\",\"Technology\",\"Technology\",\"Technology\",\"Technology\",\"Technology\",\"Technology\",\"Technology\",\"Technology\",\"Technology\",\"Technology\",\"Technology\",\"Technology\",\"Technology\",\"Technology\",\"Technology\",\"Technology\",\"Technology\",\"Technology\",\"Technology\",\"Technology\",\"Technology\",\"Technology\",\"Technology\",\"Travel\",\"Travel\",\"Travel\",\"Travel\",\"Travel\",\"Travel\",\"Travel\",\"Travel\",\"Travel\",\"Travel\",\"Travel\",\"Travel\",\"Travel\",\"Travel\",\"Travel\",\"Travel\",\"Travel\",\"Travel\",\"Travel\",\"Travel\",\"Travel\",\"Travel\",\"Travel\",\"Travel\",\"Travel\",\"Travel\",\"Travel\",\"Travel\",\"Travel\",\"Travel\",\"Travel\",\"Travel\",\"Travel\",\"Travel\",\"Travel\",\"Travel\",\"Travel\",\"Travel\",\"Travel\",\"Travel\",\"Travel\",\"Travel\",\"Travel\",\"Travel\",\"Travel\",\"Travel\",\"Travel\",\"Travel\",\"Travel\",\"Travel\",\"Travel\",\"Travel\",\"Travel\",\"Travel\",\"Travel\",\"Travel\",\"Travel\",\"Travel\",\"Travel\",\"Travel\",\"Travel\",\"Travel\",\"Travel\",\"Travel\",\"Travel\",\"Travel\",\"Travel\",\"Travel\",\"Travel\",\"Wealth\",\"Wealth\",\"World\",\"World\",\"World\",\"World\",\"World\",\"World\",\"World\",\"World\",\"World\",\"World\",\"World\",\"World\",\"World\",\"World\",\"World\",\"World\",\"World\",\"World\",\"World\",\"World\",\"World\",\"World\",\"World\",\"World\"],\"index\":[336,337,338,339,340,341,342,343,344,345,346,347,348,349,350,351,352,353,354,355,356,357,358,359,360,361,362,363,364,365,366,367,368,369,370,371,372,373,374,375,376,377,378,379,380,381,382,383,384,385,386,387,388,389,390,391,392,393,394,395,396,397,398,399,400,401,402,403,404,405,441,442,443,444,445,446,447,448,449,450,451,452,453,454,455,456,457,458,459,460,461,462,463,464,465,466,467,468,469,470,471,472,473,474,475,476,477,478,479,480,481,482,483,484,485,486,487,488,489,490,491,492,493,494,495,496,497,498,499,500,501,502,503,504,505,506,507,508,509,510,1214,1215,1216,1217,1218,1219,1220,1221,1222,1223,1224,1225,1226,1227,1228,1229,1230,1231,1232,1233,1234,1235,1236,1237,1238,1239,1240,1241,1242,1243,1244,1245,1246,1247,1248,1249,1250,1251,1252,1253,2558,2559,2560,2561,2562,2563,2564,2565,2566,2567,2638,2639,2640,2641,2642,2643,2644,2645,2646,2647,2648,2649,2650,2651,2652,2653,2654,2655,2656,2657,2658,2659,2660,2661,2662,2663,2664,2665,2666,2667,2668,2669,2670,2671,2672,2939,2940,2941,2942,2943,2944,2945,2946,2947,2948,2949,2950,2951,2952,2953,2954,2955,2956,2957,2958,2959,2960,2961,2962,2963,2964,2965,2966,2967,2968,2969,2970,2971,2972,2973,2974,2975,2976,2977,2978,2979,2980,2981,2982,2983,2984,2985,2986,2987,2988,2989,2990,2991,2992,2993,2994,2995,2996,2997,2998,2999,3000,3001,3207,3208,3209,3210,3211,3212,3213,3214,3215,3216,3217,3218,3219,3220,3221,3222,3223,3224,3225,3226,3227,3228,3229,3230,3231,3232,3233,3234,3235,3236,3237,3238,3239,3240,3241,4107,4108,4109,4110,4111,4112,4113,4114,4115,4116,4117,4118,4119,4120,4121,4122,4123,4124,4125,4126,4127,4128,4129,4130,4131,4132,4133,4134,4135,4136,4137,4138,4139,4140,4141,4142,4143,4144,4145,4146,4147,4148,4149,4150,4151,4152,4153,4154,4155,4156,4157,4158,4159,4160,4161,4162,4163,4164,4165,4166,4167,4168,4169,4170,4171,4172,4173,4174,4175,4384,4385,4843,4844,4845,4846,4847,4848,4849,4850,4851,4852,4853,4854,4855,4856,4857,4858,4859,4860,4861,4862,4863,4864,4865,4866]}},\"id\":\"1b13c7d1-48a3-4da8-a272-7c986aeb3a0e\",\"type\":\"ColumnDataSource\"},{\"attributes\":{\"callback\":null},\"id\":\"1dc7b71f-87f9-4303-ae34-51fc30bb957d\",\"type\":\"DataRange1d\"},{\"attributes\":{\"callback\":null},\"id\":\"7052d10f-77f7-4338-99ff-6d1d8c524874\",\"type\":\"DataRange1d\"},{\"attributes\":{\"bottom_units\":\"screen\",\"fill_alpha\":{\"value\":0.5},\"fill_color\":{\"value\":\"lightgrey\"},\"left_units\":\"screen\",\"level\":\"overlay\",\"line_alpha\":{\"value\":1.0},\"line_color\":{\"value\":\"black\"},\"line_dash\":[4,4],\"line_width\":{\"value\":2},\"plot\":null,\"render_mode\":\"css\",\"right_units\":\"screen\",\"top_units\":\"screen\"},\"id\":\"4687a6b2-8146-47b9-b9ce-7ca02f1d7278\",\"type\":\"BoxAnnotation\"},{\"attributes\":{\"overlay\":{\"id\":\"4687a6b2-8146-47b9-b9ce-7ca02f1d7278\",\"type\":\"BoxAnnotation\"},\"plot\":{\"id\":\"45be0583-2103-43f1-b8f7-36f29a9596b3\",\"subtype\":\"Figure\",\"type\":\"Plot\"}},\"id\":\"287bfdb7-ec9a-4382-90a4-897cd29adee6\",\"type\":\"BoxZoomTool\"},{\"attributes\":{},\"id\":\"b5ec93d5-4baf-42e8-ba3c-ed83ee2f5623\",\"type\":\"BasicTickFormatter\"},{\"attributes\":{\"plot\":{\"id\":\"45be0583-2103-43f1-b8f7-36f29a9596b3\",\"subtype\":\"Figure\",\"type\":\"Plot\"}},\"id\":\"b614930c-3acf-4b72-8cab-0c259a7d49d6\",\"type\":\"PanTool\"},{\"attributes\":{\"axis_label\":\"Dimension 1\",\"formatter\":{\"id\":\"806cc340-2e80-45e3-90fd-ae9d52d0ebf3\",\"type\":\"BasicTickFormatter\"},\"plot\":{\"id\":\"45be0583-2103-43f1-b8f7-36f29a9596b3\",\"subtype\":\"Figure\",\"type\":\"Plot\"},\"ticker\":{\"id\":\"01bb37d1-441d-42d8-856c-f25d07e9e81c\",\"type\":\"BasicTicker\"}},\"id\":\"299f595d-fdf8-4e96-8314-5dfd7caab484\",\"type\":\"LinearAxis\"},{\"attributes\":{\"fill_alpha\":{\"value\":0.4},\"fill_color\":{\"field\":\"col3\",\"transform\":{\"id\":\"9e819a2a-a052-44b7-b8d2-dd8f8bd4c441\",\"type\":\"CategoricalColorMapper\"}},\"line_alpha\":{\"value\":0.4},\"line_color\":{\"field\":\"col3\",\"transform\":{\"id\":\"9e819a2a-a052-44b7-b8d2-dd8f8bd4c441\",\"type\":\"CategoricalColorMapper\"}},\"size\":{\"units\":\"screen\",\"value\":10},\"x\":{\"field\":\"col1\"},\"y\":{\"field\":\"col2\"}},\"id\":\"868aa311-38e9-47b0-aa89-ef1f8b146cb7\",\"type\":\"Circle\"},{\"attributes\":{\"below\":[{\"id\":\"299f595d-fdf8-4e96-8314-5dfd7caab484\",\"type\":\"LinearAxis\"}],\"border_fill_color\":{\"value\":\"whitesmoke\"},\"left\":[{\"id\":\"e9948ba1-7e25-4130-b1a2-2b5f61117182\",\"type\":\"LinearAxis\"}],\"renderers\":[{\"id\":\"299f595d-fdf8-4e96-8314-5dfd7caab484\",\"type\":\"LinearAxis\"},{\"id\":\"7da10249-067c-47c5-94ab-9519e6ace448\",\"type\":\"Grid\"},{\"id\":\"e9948ba1-7e25-4130-b1a2-2b5f61117182\",\"type\":\"LinearAxis\"},{\"id\":\"ccec7867-afd4-461c-bd45-d5e1f5deaf9a\",\"type\":\"Grid\"},{\"id\":\"4687a6b2-8146-47b9-b9ce-7ca02f1d7278\",\"type\":\"BoxAnnotation\"},{\"id\":\"491fafb8-5c66-4adc-aba9-74b51e661508\",\"type\":\"Legend\"},{\"id\":\"fa52e2d1-df0d-401b-9aad-422c239fb141\",\"type\":\"GlyphRenderer\"}],\"title\":{\"id\":\"006c8527-dc8f-4df2-a623-7f0513dc438e\",\"type\":\"Title\"},\"tool_events\":{\"id\":\"c1600953-86a9-47cc-8495-13039ed9578e\",\"type\":\"ToolEvents\"},\"toolbar\":{\"id\":\"894c2f24-e2bc-49c7-ab89-3ea5c248ead3\",\"type\":\"Toolbar\"},\"x_range\":{\"id\":\"7052d10f-77f7-4338-99ff-6d1d8c524874\",\"type\":\"DataRange1d\"},\"y_range\":{\"id\":\"1dc7b71f-87f9-4303-ae34-51fc30bb957d\",\"type\":\"DataRange1d\"}},\"id\":\"45be0583-2103-43f1-b8f7-36f29a9596b3\",\"subtype\":\"Figure\",\"type\":\"Plot\"},{\"attributes\":{\"factors\":[\"Business\",\"Culture\",\"Health\",\"Politics\",\"Retail\",\"Sports\",\"Technology\",\"Travel\",\"Wealth\",\"World\"],\"palette\":[\"#1f77b4\",\"#ff7f0e\",\"#2ca02c\",\"#d62728\",\"#9467bd\",\"#8c564b\",\"#e377c2\",\"#7f7f7f\",\"#bcbd22\",\"#17becf\"]},\"id\":\"9e819a2a-a052-44b7-b8d2-dd8f8bd4c441\",\"type\":\"CategoricalColorMapper\"},{\"attributes\":{},\"id\":\"806cc340-2e80-45e3-90fd-ae9d52d0ebf3\",\"type\":\"BasicTickFormatter\"},{\"attributes\":{\"axis_label\":\"Dimension 2\",\"formatter\":{\"id\":\"b5ec93d5-4baf-42e8-ba3c-ed83ee2f5623\",\"type\":\"BasicTickFormatter\"},\"plot\":{\"id\":\"45be0583-2103-43f1-b8f7-36f29a9596b3\",\"subtype\":\"Figure\",\"type\":\"Plot\"},\"ticker\":{\"id\":\"a4c50e10-d404-476f-b625-97d77fcc8e28\",\"type\":\"BasicTicker\"}},\"id\":\"e9948ba1-7e25-4130-b1a2-2b5f61117182\",\"type\":\"LinearAxis\"},{\"attributes\":{\"data_source\":{\"id\":\"1b13c7d1-48a3-4da8-a272-7c986aeb3a0e\",\"type\":\"ColumnDataSource\"},\"glyph\":{\"id\":\"868aa311-38e9-47b0-aa89-ef1f8b146cb7\",\"type\":\"Circle\"},\"hover_glyph\":null,\"muted_glyph\":null,\"nonselection_glyph\":{\"id\":\"44b1a393-b636-4195-8d72-d0b2b0dd38c7\",\"type\":\"Circle\"},\"selection_glyph\":null},\"id\":\"fa52e2d1-df0d-401b-9aad-422c239fb141\",\"type\":\"GlyphRenderer\"},{\"attributes\":{\"plot\":{\"id\":\"45be0583-2103-43f1-b8f7-36f29a9596b3\",\"subtype\":\"Figure\",\"type\":\"Plot\"}},\"id\":\"e3774bd5-5173-4dae-978d-13e712d2afc7\",\"type\":\"ResetTool\"},{\"attributes\":{\"plot\":{\"id\":\"45be0583-2103-43f1-b8f7-36f29a9596b3\",\"subtype\":\"Figure\",\"type\":\"Plot\"}},\"id\":\"b79e2694-def1-4769-9118-cbc36e045936\",\"type\":\"SaveTool\"},{\"attributes\":{\"plot\":{\"id\":\"45be0583-2103-43f1-b8f7-36f29a9596b3\",\"subtype\":\"Figure\",\"type\":\"Plot\"}},\"id\":\"2c6cff43-72df-443b-acda-ce34e99e9efa\",\"type\":\"HelpTool\"},{\"attributes\":{\"callback\":null,\"plot\":{\"id\":\"45be0583-2103-43f1-b8f7-36f29a9596b3\",\"subtype\":\"Figure\",\"type\":\"Plot\"},\"tooltips\":[[\"Article:\",\"@col3\"]]},\"id\":\"b2d309c0-b902-4f70-9458-021ca94c4b0d\",\"type\":\"HoverTool\"},{\"attributes\":{\"dimension\":1,\"grid_line_color\":{\"value\":null},\"plot\":{\"id\":\"45be0583-2103-43f1-b8f7-36f29a9596b3\",\"subtype\":\"Figure\",\"type\":\"Plot\"},\"ticker\":{\"id\":\"a4c50e10-d404-476f-b625-97d77fcc8e28\",\"type\":\"BasicTicker\"}},\"id\":\"ccec7867-afd4-461c-bd45-d5e1f5deaf9a\",\"type\":\"Grid\"},{\"attributes\":{\"items\":[{\"id\":\"05c5401b-efee-4631-bd3a-e15a342e9374\",\"type\":\"LegendItem\"}],\"plot\":{\"id\":\"45be0583-2103-43f1-b8f7-36f29a9596b3\",\"subtype\":\"Figure\",\"type\":\"Plot\"}},\"id\":\"491fafb8-5c66-4adc-aba9-74b51e661508\",\"type\":\"Legend\"},{\"attributes\":{\"active_drag\":\"auto\",\"active_scroll\":\"auto\",\"active_tap\":\"auto\",\"tools\":[{\"id\":\"b614930c-3acf-4b72-8cab-0c259a7d49d6\",\"type\":\"PanTool\"},{\"id\":\"22448211-10b4-4756-9a3c-4ee51e28e9b9\",\"type\":\"WheelZoomTool\"},{\"id\":\"287bfdb7-ec9a-4382-90a4-897cd29adee6\",\"type\":\"BoxZoomTool\"},{\"id\":\"b79e2694-def1-4769-9118-cbc36e045936\",\"type\":\"SaveTool\"},{\"id\":\"e3774bd5-5173-4dae-978d-13e712d2afc7\",\"type\":\"ResetTool\"},{\"id\":\"2c6cff43-72df-443b-acda-ce34e99e9efa\",\"type\":\"HelpTool\"},{\"id\":\"b2d309c0-b902-4f70-9458-021ca94c4b0d\",\"type\":\"HoverTool\"}]},\"id\":\"894c2f24-e2bc-49c7-ab89-3ea5c248ead3\",\"type\":\"Toolbar\"},{\"attributes\":{\"fill_alpha\":{\"value\":0.1},\"fill_color\":{\"value\":\"#1f77b4\"},\"line_alpha\":{\"value\":0.1},\"line_color\":{\"value\":\"#1f77b4\"},\"size\":{\"units\":\"screen\",\"value\":10},\"x\":{\"field\":\"col1\"},\"y\":{\"field\":\"col2\"}},\"id\":\"44b1a393-b636-4195-8d72-d0b2b0dd38c7\",\"type\":\"Circle\"},{\"attributes\":{},\"id\":\"01bb37d1-441d-42d8-856c-f25d07e9e81c\",\"type\":\"BasicTicker\"},{\"attributes\":{\"grid_line_color\":{\"value\":null},\"plot\":{\"id\":\"45be0583-2103-43f1-b8f7-36f29a9596b3\",\"subtype\":\"Figure\",\"type\":\"Plot\"},\"ticker\":{\"id\":\"01bb37d1-441d-42d8-856c-f25d07e9e81c\",\"type\":\"BasicTicker\"}},\"id\":\"7da10249-067c-47c5-94ab-9519e6ace448\",\"type\":\"Grid\"},{\"attributes\":{},\"id\":\"a4c50e10-d404-476f-b625-97d77fcc8e28\",\"type\":\"BasicTicker\"},{\"attributes\":{\"plot\":{\"id\":\"45be0583-2103-43f1-b8f7-36f29a9596b3\",\"subtype\":\"Figure\",\"type\":\"Plot\"}},\"id\":\"22448211-10b4-4756-9a3c-4ee51e28e9b9\",\"type\":\"WheelZoomTool\"},{\"attributes\":{\"plot\":null,\"text\":\"Visualization of Article Semantics using PCA\"},\"id\":\"006c8527-dc8f-4df2-a623-7f0513dc438e\",\"type\":\"Title\"},{\"attributes\":{\"label\":{\"field\":\"col3\"},\"renderers\":[{\"id\":\"fa52e2d1-df0d-401b-9aad-422c239fb141\",\"type\":\"GlyphRenderer\"}]},\"id\":\"05c5401b-efee-4631-bd3a-e15a342e9374\",\"type\":\"LegendItem\"},{\"attributes\":{},\"id\":\"c1600953-86a9-47cc-8495-13039ed9578e\",\"type\":\"ToolEvents\"}],\"root_ids\":[\"45be0583-2103-43f1-b8f7-36f29a9596b3\"]},\"title\":\"Bokeh Application\",\"version\":\"0.12.5\"}};\n",
       "            var render_items = [{\"docid\":\"abce367c-bc30-4181-a764-06d85ee36788\",\"elementid\":\"1f82dede-cd14-4d69-9e2f-fb6ea1c2b56c\",\"modelid\":\"45be0583-2103-43f1-b8f7-36f29a9596b3\"}];\n",
       "            \n",
       "            Bokeh.embed.embed_items(docs_json, render_items);\n",
       "          };\n",
       "          if (document.readyState != \"loading\") fn();\n",
       "          else document.addEventListener(\"DOMContentLoaded\", fn);\n",
       "        })();\n",
       "\n",
       "      },\n",
       "      function(Bokeh) {\n",
       "      }\n",
       "    ];\n",
       "\n",
       "    function run_inline_js() {\n",
       "      \n",
       "      if ((window.Bokeh !== undefined) || (force === true)) {\n",
       "        for (var i = 0; i < inline_js.length; i++) {\n",
       "          inline_js[i](window.Bokeh);\n",
       "        }if (force === true) {\n",
       "          display_loaded();\n",
       "        }} else if (Date.now() < window._bokeh_timeout) {\n",
       "        setTimeout(run_inline_js, 100);\n",
       "      } else if (!window._bokeh_failed_load) {\n",
       "        console.log(\"Bokeh: BokehJS failed to load within specified timeout.\");\n",
       "        window._bokeh_failed_load = true;\n",
       "      } else if (force !== true) {\n",
       "        var cell = $(document.getElementById(\"1f82dede-cd14-4d69-9e2f-fb6ea1c2b56c\")).parents('.cell').data().cell;\n",
       "        cell.output_area.append_execute_result(NB_LOAD_WARNING)\n",
       "      }\n",
       "\n",
       "    }\n",
       "\n",
       "    if (window._bokeh_is_loading === 0) {\n",
       "      console.log(\"Bokeh: BokehJS loaded, going straight to plotting\");\n",
       "      run_inline_js();\n",
       "    } else {\n",
       "      load_libs(js_urls, function() {\n",
       "        console.log(\"Bokeh: BokehJS plotting callback run at\", now());\n",
       "        run_inline_js();\n",
       "      });\n",
       "    }\n",
       "  }(this));\n",
       "</script>"
      ]
     },
     "metadata": {},
     "output_type": "display_data"
    }
   ],
   "source": [
    "from gensim.models import Doc2Vec\n",
    "from gensim.models.doc2vec import LabeledSentence\n",
    "\n",
    "doc1 = extract_content(\"https://www.nytimes.com/2018/02/23/sports/olympics/cross-country-skiing-food.html?rref=collection%2Fsectioncollection%2Fsports&action=click&contentCollection=sports&region=rank&module=package&version=highlights&contentPlacement=1&pgtype=sectionfront\")\n",
    "doc2 = extract_content(\"https://www.nytimes.com/2018/02/24/us/politics/trump-russia-inquiry-mueller.html?hp&action=click&pgtype=Homepage&clickSource=story-heading&module=first-column-region&region=top-news&WT.nav=top-news\")\n",
    "\n",
    "def pre_process_doc2vec(text):    \n",
    "    stopwords = set(nltk.corpus.stopwords.words('english'))\n",
    "    punctuation = set(string.punctuation).union(set(['“','”','—','’','‘']))\n",
    "    punctuation.remove('-')\n",
    "    cl_text = (\" \").join([s for s in text.lower().split() if s not in stopwords])\n",
    "    cl_text = (\"\").join([s for s in cl_text if s not in punctuation])\n",
    "    cl_text = nltk.word_tokenize(cl_text)\n",
    "    return cl_text\n",
    "\n",
    "class LabeledLineSentence(object):\n",
    "    def __init__(self, doc_list):\n",
    "       self.doc_list = doc_list\n",
    "    def __iter__(self):\n",
    "        for idx, doc in enumerate(self.doc_list):\n",
    "            yield LabeledSentence(words = pre_process_doc2vec(doc), tags = [idx])\n",
    "            \n",
    "it = LabeledLineSentence(list(content_data['content']))\n",
    "\n",
    "model = Doc2Vec(size=50, min_count=5, alpha=0.025, min_alpha=0.025, workers=8)\n",
    "model.build_vocab(it)\n",
    "\n",
    "for epoch in range(10):\n",
    "    model.train(it, total_examples = model.corpus_count, epochs = model.iter)\n",
    "    model.alpha -= 0.002  # decrease the learning rate\n",
    "    model.min_alpha = model.alpha  # fix the learning rate, no decay\n",
    "    \n",
    "model.save(\"data/doc2vec.model\")\n",
    "model = Doc2Vec.load(\"data/doc2vec.model\")\n",
    "\n",
    "pca_data = pd.DataFrame(columns = list(range(50)))\n",
    "for i in range(len(model.docvecs)):\n",
    "    x = pd.DataFrame(model.docvecs[i].reshape(1,-1), columns = list(range(50)))\n",
    "    pca_data = pd.concat([pca_data, x], axis = 0)\n",
    "pca_data = pca_data.reset_index(drop = True)    \n",
    "\n",
    "from sklearn.decomposition import PCA\n",
    "pca = PCA(n_components = 2)\n",
    "pca_fln = pca.fit_transform(pca_data)\n",
    "pca_fln = pd.DataFrame(pca_fln)\n",
    "pca_fln['news_desk'] = content_data['news_desk']\n",
    "pca_fln.columns = ['col1','col2','col3']\n",
    "\n",
    "pca_fln = pca_fln.loc[pca_fln['col3'].isin(['Politics', 'Business', 'Sports','Culture','World','Health','Technology','Retail','Wealth','Travel']), ]\n",
    "\n",
    "source = bp.ColumnDataSource.from_df(pca_fln)\n",
    "\n",
    "from bokeh.palettes import d3\n",
    "import bokeh\n",
    "palette = d3['Category10'][len(pca_fln['col3'].unique())]\n",
    "color_map = bokeh.models.CategoricalColorMapper(factors=list(pca_fln['col3'].unique()), palette=palette)\n",
    "\n",
    "p = bp.figure(title = \"Visualization of Article Semantics using PCA\")\n",
    "p.scatter('col1','col2',source = source, color = {'field': 'col3', 'transform': color_map},\n",
    "          legend = {'field':'col3'}, alpha = 0.4, size = 10)\n",
    "p.border_fill_color = \"whitesmoke\"\n",
    "p.add_tools(HoverTool(tooltips= [(\"Article:\",\"@col3\")]))\n",
    "p.xaxis.axis_label = 'Dimension 1'\n",
    "p.yaxis.axis_label = 'Dimension 2'\n",
    "p.xgrid.grid_line_color = None\n",
    "p.ygrid.grid_line_color = None\n",
    "show(p)\n",
    "# docvec = model.docvecs[106]\n",
    "# similar_doc = model.docvecs.most_similar(4412) \n",
    "# docvec = model.infer_vector(pre_process_doc2vec(doc2))\n",
    "# model.docvecs.most_similar([docvec])"
   ]
  },
  {
   "cell_type": "code",
   "execution_count": 79,
   "metadata": {
    "scrolled": false
   },
   "outputs": [
    {
     "data": {
      "application/vnd.jupyter.widget-view+json": {
       "model_id": "4fd0ff1577934eb9b33aca97edfd9778",
       "version_major": 2,
       "version_minor": 0
      },
      "text/html": [
       "<p>Failed to display Jupyter Widget of type <code>HBox</code>.</p>\n",
       "<p>\n",
       "  If you're reading this message in the Jupyter Notebook or JupyterLab Notebook, it may mean\n",
       "  that the widgets JavaScript is still loading. If this message persists, it\n",
       "  likely means that the widgets JavaScript library is either not installed or\n",
       "  not enabled. See the <a href=\"https://ipywidgets.readthedocs.io/en/stable/user_install.html\">Jupyter\n",
       "  Widgets Documentation</a> for setup instructions.\n",
       "</p>\n",
       "<p>\n",
       "  If you're reading this message in another frontend (for example, a static\n",
       "  rendering on GitHub or <a href=\"https://nbviewer.jupyter.org/\">NBViewer</a>),\n",
       "  it may mean that your frontend doesn't currently support widgets.\n",
       "</p>\n"
      ],
      "text/plain": [
       "HBox(children=(VBox(children=(Label(value=''), HBox(children=(Text(value='', placeholder='Type a query for NY Times article listing'), Button(description='Search articles', style=ButtonStyle()))), Label(value=''))), Label(value=''), Label(value=''), VBox(children=(HBox(children=(Label(value='Username:'), Text(value='saket', placeholder='Enter your name'))), HBox(children=(Label(value='->->->->->'), Button(description='Get recommendations', layout=Layout(width='150px'), style=ButtonStyle()), Button(description='Reset Preferences', style=ButtonStyle())))))))"
      ]
     },
     "metadata": {},
     "output_type": "display_data"
    },
    {
     "data": {
      "text/html": [
       "<script>$('div.output_area > div.output_subarea.jupyter-widgets-view > div.p-Widget.p-Panel.jupyter-widgets.widget-container.widget-box.widget-vbox').fadeOut();</script>"
      ],
      "text/plain": [
       "<IPython.core.display.HTML object>"
      ]
     },
     "metadata": {},
     "output_type": "display_data"
    },
    {
     "data": {
      "application/vnd.jupyter.widget-view+json": {
       "model_id": "c803a9aa5d904cb08c2fa73ef1b8d83c",
       "version_major": 2,
       "version_minor": 0
      },
      "text/html": [
       "<p>Failed to display Jupyter Widget of type <code>VBox</code>.</p>\n",
       "<p>\n",
       "  If you're reading this message in the Jupyter Notebook or JupyterLab Notebook, it may mean\n",
       "  that the widgets JavaScript is still loading. If this message persists, it\n",
       "  likely means that the widgets JavaScript library is either not installed or\n",
       "  not enabled. See the <a href=\"https://ipywidgets.readthedocs.io/en/stable/user_install.html\">Jupyter\n",
       "  Widgets Documentation</a> for setup instructions.\n",
       "</p>\n",
       "<p>\n",
       "  If you're reading this message in another frontend (for example, a static\n",
       "  rendering on GitHub or <a href=\"https://nbviewer.jupyter.org/\">NBViewer</a>),\n",
       "  it may mean that your frontend doesn't currently support widgets.\n",
       "</p>\n"
      ],
      "text/plain": [
       "VBox(children=(VBox(children=(HBox(children=(Button(description='Twisted Priorities', layout=Layout(height='40px', width='80%'), style=ButtonStyle(button_color='SkyBlue', font_weight='bold')), SelectionSlider(continuous_update=False, description='Rate Article 1', index=1, options=('Less', 'Neutral', 'More'), value='Neutral'))), Textarea(value='In Florida, you need a prescription to buy certain drugs, and to be over 21 to buy alcohol, but want to buy a semiautomatic? No problem.', disabled=True, layout=Layout(height='50px', width='99.5%')))), VBox(children=(HBox(children=(Button(description='What Makes #NeverAgain Different?', layout=Layout(height='40px', width='80%'), style=ButtonStyle(button_color='SkyBlue', font_weight='bold')), SelectionSlider(continuous_update=False, description='Rate Article 2', index=1, options=('Less', 'Neutral', 'More'), value='Neutral'))), Textarea(value='The protests calling for stricter gun control measures come on the heels of other youth movements, but the momentum they have gained makes them stand out.', disabled=True, layout=Layout(height='50px', width='99.5%')))), VBox(children=(HBox(children=(Button(description='Background Gun Checks and Public Safety', layout=Layout(height='40px', width='80%'), style=ButtonStyle(button_color='SkyBlue', font_weight='bold')), SelectionSlider(continuous_update=False, description='Rate Article 3', index=1, options=('Less', 'Neutral', 'More'), value='Neutral'))), Textarea(value='Readers take issue with the gun rights advocate John R. Lott Jr.', disabled=True, layout=Layout(height='50px', width='99.5%')))), VBox(children=(HBox(children=(Button(description='A Message From the Club No One Wants to Join', layout=Layout(height='40px', width='80%'), style=ButtonStyle(button_color='SkyBlue', font_weight='bold')), SelectionSlider(continuous_update=False, description='Rate Article 4', index=1, options=('Less', 'Neutral', 'More'), value='Neutral'))), Textarea(value='My son was killed in a school shooting. No parent should have to endure this pain.', disabled=True, layout=Layout(height='50px', width='99.5%')))), VBox(children=(HBox(children=(Button(description='Gun Control', layout=Layout(height='40px', width='80%'), style=ButtonStyle(button_color='SkyBlue', font_weight='bold')), SelectionSlider(continuous_update=False, description='Rate Article 5', index=1, options=('Less', 'Neutral', 'More'), value='Neutral'))), Textarea(value='News about Guns and Gun Control, including commentary and archival articles published in The New York Times.', disabled=True, layout=Layout(height='50px', width='99.5%')))), VBox(children=(HBox(children=(Button(description='Gun Control', layout=Layout(height='40px', width='80%'), style=ButtonStyle(button_color='SkyBlue', font_weight='bold')), SelectionSlider(continuous_update=False, description='Rate Article 6', index=1, options=('Less', 'Neutral', 'More'), value='Neutral'))), Textarea(value='News about Guns and Gun Control, including commentary and archival articles published in The New York Times.', disabled=True, layout=Layout(height='50px', width='99.5%')))), VBox(children=(HBox(children=(Button(description='Limiting Access to Guns for Mentally Ill Is Complicated', layout=Layout(height='40px', width='80%'), style=ButtonStyle(button_color='SkyBlue', font_weight='bold')), SelectionSlider(continuous_update=False, description='Rate Article 7', index=1, options=('Less', 'Neutral', 'More'), value='Neutral'))), Textarea(value='After the shooting, Florida officials and President Trump stepped into the balancing act between public safety and the right to bear arms.', disabled=True, layout=Layout(height='50px', width='99.5%')))), VBox(children=(HBox(children=(Button(description='A Student’s Voice for Gun Control', layout=Layout(height='40px', width='80%'), style=ButtonStyle(button_color='SkyBlue', font_weight='bold')), SelectionSlider(continuous_update=False, description='Rate Article 8', index=1, options=('Less', 'Neutral', 'More'), value='Neutral'))), Textarea(value='A high school student asks, “Is a child’s freedom not more important than another’s hobby?”', disabled=True, layout=Layout(height='50px', width='99.5%')))), VBox(children=(HBox(children=(Button(description='The N.R.A. Can Be Beat', layout=Layout(height='40px', width='80%'), style=ButtonStyle(button_color='SkyBlue', font_weight='bold')), SelectionSlider(continuous_update=False, description='Rate Article 9', index=1, options=('Less', 'Neutral', 'More'), value='Neutral'))), Textarea(value='It’s time to vote the gun lobby out of office.', disabled=True, layout=Layout(height='50px', width='99.5%')))), VBox(children=(HBox(children=(Button(description='Judge Deals AT&amp;T a Setback: DealBook Briefing', layout=Layout(height='40px', width='80%'), style=ButtonStyle(button_color='SkyBlue', font_weight='bold')), SelectionSlider(continuous_update=False, description='Rate Article 10', index=1, options=('Less', 'Neutral', 'More'), value='Neutral'))), Textarea(value='The decision by a federal judge hampers the company’s argument that politics influenced the government’s move to block its $85 billion merger with Time Warner.', disabled=True, layout=Layout(height='50px', width='99.5%'))))), layout=Layout(border='solid'))"
      ]
     },
     "metadata": {},
     "output_type": "display_data"
    },
    {
     "data": {
      "text/html": [
       "<script>$('div.output_area > div.output_subarea.jupyter-widgets-view > div.p-Widget.p-Panel.jupyter-widgets.widget-container.widget-box.widget-vbox').fadeOut();</script>"
      ],
      "text/plain": [
       "<IPython.core.display.HTML object>"
      ]
     },
     "metadata": {},
     "output_type": "display_data"
    },
    {
     "data": {
      "application/vnd.jupyter.widget-view+json": {
       "model_id": "19f5598d5d22428db2a2c609c246fea2",
       "version_major": 2,
       "version_minor": 0
      },
      "text/html": [
       "<p>Failed to display Jupyter Widget of type <code>VBox</code>.</p>\n",
       "<p>\n",
       "  If you're reading this message in the Jupyter Notebook or JupyterLab Notebook, it may mean\n",
       "  that the widgets JavaScript is still loading. If this message persists, it\n",
       "  likely means that the widgets JavaScript library is either not installed or\n",
       "  not enabled. See the <a href=\"https://ipywidgets.readthedocs.io/en/stable/user_install.html\">Jupyter\n",
       "  Widgets Documentation</a> for setup instructions.\n",
       "</p>\n",
       "<p>\n",
       "  If you're reading this message in another frontend (for example, a static\n",
       "  rendering on GitHub or <a href=\"https://nbviewer.jupyter.org/\">NBViewer</a>),\n",
       "  it may mean that your frontend doesn't currently support widgets.\n",
       "</p>\n"
      ],
      "text/plain": [
       "VBox(children=(VBox(children=(HBox(children=(Button(description='Bitcoin', layout=Layout(height='40px', width='80%'), style=ButtonStyle(button_color='SkyBlue', font_weight='bold')), SelectionSlider(continuous_update=False, description='Rate Article 1', index=1, options=('Less', 'Neutral', 'More'), value='Neutral'))), Textarea(value='News about Bitcoin, including commentary and archival articles published in The New York Times.', disabled=True, layout=Layout(height='50px', width='99.5%')))), VBox(children=(HBox(children=(Button(description='Bubble, Bubble, Fraud and Trouble', layout=Layout(height='40px', width='80%'), style=ButtonStyle(button_color='SkyBlue', font_weight='bold')), SelectionSlider(continuous_update=False, description='Rate Article 2', index=1, options=('Less', 'Neutral', 'More'), value='Neutral'))), Textarea(value='It’s a mania! It’s a cult! It’s Bitcoin!', disabled=True, layout=Layout(height='50px', width='99.5%')))), VBox(children=(HBox(children=(Button(description='Apple, Alphabet, Amazon Reported Results. Here’s How They Fared: DealBook Briefing', layout=Layout(height='40px', width='80%'), style=ButtonStyle(button_color='SkyBlue', font_weight='bold')), SelectionSlider(continuous_update=False, description='Rate Article 3', index=1, options=('Less', 'Neutral', 'More'), value='Neutral'))), Textarea(value='Apple reported record profit and sales, Amazon easily beat expectations, and Google-parent Alphabet posted a loss because of the new tax law.', disabled=True, layout=Layout(height='50px', width='99.5%')))), VBox(children=(HBox(children=(Button(description='Why the I.R.S. Fears Bitcoin', layout=Layout(height='40px', width='80%'), style=ButtonStyle(button_color='SkyBlue', font_weight='bold')), SelectionSlider(continuous_update=False, description='Rate Article 4', index=1, options=('Less', 'Neutral', 'More'), value='Neutral'))), Textarea(value='Cryptocurrencies could lead to significant losses in tax revenue.', disabled=True, layout=Layout(height='50px', width='99.5%')))), VBox(children=(HBox(children=(Button(description='What Bitcoin Reveals About Financial Markets', layout=Layout(height='40px', width='80%'), style=ButtonStyle(button_color='SkyBlue', font_weight='bold')), SelectionSlider(continuous_update=False, description='Rate Article 5', index=1, options=('Less', 'Neutral', 'More'), value='Neutral'))), Textarea(value='The cryptocurrency bubble should finally destroy our faith that the market works as advertised.', disabled=True, layout=Layout(height='50px', width='99.5%')))), VBox(children=(HBox(children=(Button(description='G.E. Weighs Changes, but Investors Hear ‘Breakup’: DealBook Briefing', layout=Layout(height='40px', width='80%'), style=ButtonStyle(button_color='SkyBlue', font_weight='bold')), SelectionSlider(continuous_update=False, description='Rate Article 6', index=1, options=('Less', 'Neutral', 'More'), value='Neutral'))), Textarea(value='The conglomerate’s C.E.O., John Flannery, said that he was continuing to consider shifts in the company’s structure. That may not mean a big split.', disabled=True, layout=Layout(height='50px', width='99.5%')))), VBox(children=(HBox(children=(Button(description='Why Is South Korea Spooking the Global Bitcoin Market?', layout=Layout(height='40px', width='80%'), style=ButtonStyle(button_color='SkyBlue', font_weight='bold')), SelectionSlider(continuous_update=False, description='Rate Article 7', index=1, options=('Less', 'Neutral', 'More'), value='Neutral'))), Textarea(value='The government says it is looking at banning virtual currency trades. But it isn’t clear whether, or how quickly, it will follow through.', disabled=True, layout=Layout(height='50px', width='99.5%')))), VBox(children=(HBox(children=(Button(description='Six Great Reads for Australians on the Culture-Tech Collision', layout=Layout(height='40px', width='80%'), style=ButtonStyle(button_color='SkyBlue', font_weight='bold')), SelectionSlider(continuous_update=False, description='Rate Article 8', index=1, options=('Less', 'Neutral', 'More'), value='Neutral'))), Textarea(value='From reality-show drag queens to the Bitcoin bubble – here’s how the latest in culture and tech fits into the Australian discussion.', disabled=True, layout=Layout(height='50px', width='99.5%')))), VBox(children=(HBox(children=(Button(description='Worries Grow That the Price of Bitcoin Is Being Propped Up', layout=Layout(height='40px', width='80%'), style=ButtonStyle(button_color='SkyBlue', font_weight='bold')), SelectionSlider(continuous_update=False, description='Rate Article 9', index=1, options=('Less', 'Neutral', 'More'), value='Neutral'))), Textarea(value='When the price of Bitcoin goes down, activity on an influential exchange pumps it back up. That has investors and regulators asking questions.', disabled=True, layout=Layout(height='50px', width='99.5%')))), VBox(children=(HBox(children=(Button(description='A Bitcoin Hedge Fund’s Return: 25,004% (That Wasn’t a Typo)', layout=Layout(height='40px', width='80%'), style=ButtonStyle(button_color='SkyBlue', font_weight='bold')), SelectionSlider(continuous_update=False, description='Rate Article 10', index=1, options=('Less', 'Neutral', 'More'), value='Neutral'))), Textarea(value='The Pantera Bitcoin Fund was set up in 2013, when few on Wall Street were interested in cryptocurrencies. It has since ridden the Bitcoin wave to blockbuster returns.', disabled=True, layout=Layout(height='50px', width='99.5%'))))), layout=Layout(border='solid'))"
      ]
     },
     "metadata": {},
     "output_type": "display_data"
    }
   ],
   "source": [
    "from ipywidgets import widgets, HBox, VBox, Layout, Button, Label\n",
    "from IPython.display import display, HTML, clear_output\n",
    "import requests\n",
    "import webbrowser\n",
    "import pandas as pd\n",
    "import numpy as np\n",
    "\n",
    "def reset_pref(sender):\n",
    "    column_name = [str(i) for i in range(35)]\n",
    "    df = pd.DataFrame(columns = ['name'] + column_name)\n",
    "    df.to_csv('data/df.csv', index = False)\n",
    "\n",
    "htmlscript_ipywidget_disable_closing = '''<script>\n",
    "disable = true\n",
    "function disable_ipyw_close(){\n",
    "    if(disable){\n",
    "        $('div.widget-area > div.prompt > button.close').hide()\n",
    "    }\n",
    "    else{\n",
    "        $('div.widget-area > div.prompt > button.close').show()    \n",
    "    }\n",
    "    disable = !disable\n",
    "}\n",
    "$( document ).ready(disable_ipyw_close);\n",
    "</script>\n",
    "\n",
    "<form action=\"javascript:disable_ipyw_close()\"><input style=\"opacity: 0.5\" type=\"submit\" value=\"Disable ipywidget closing\"></form>'''\n",
    "\n",
    "wodget_hide = HTML('''<script>\n",
    "code_show=true; \n",
    "function code_toggle() {\n",
    "    if (code_show){\n",
    "        $('div.cell.code_cell.rendered.selected div.input').hide();\n",
    "    } else {\n",
    "        $('div.cell.code_cell.rendered.selected div.input').show();\n",
    "    }\n",
    "    code_show = !code_show\n",
    "} \n",
    "\n",
    "$( document ).ready(code_toggle);\n",
    "</script>\n",
    "\n",
    "To show/hide this cell's raw code input, click <a href=\"javascript:code_toggle()\">here</a>.''')\n",
    "\n",
    "widget_hide = HTML('''<script>$('div.output_area > div.output_subarea.jupyter-widgets-view > div.p-Widget.p-Panel.jupyter-widgets.widget-container.widget-box.widget-vbox').fadeOut();</script>''')\n",
    "    \n",
    "def rec_generate(sender):\n",
    "    if(text_user.value == ''):\n",
    "        js = \"<script>alert('Enter your username for recommendations!');</script>\"\n",
    "        display(HTML(js))\n",
    "        return\n",
    "    pref_data = pd.read_csv('data/df.csv')\n",
    "    usr = text_user.value\n",
    "    usr_data = pref_data.loc[pref_data['name'] == usr,]\n",
    "    usr_arr = usr_data.iloc[0].values[1:]\n",
    "    usr_arr = usr_data.iloc[0].values[1:]/sum(usr_arr)\n",
    "    \n",
    "    from sklearn.metrics.pairwise import cosine_similarity\n",
    "    def dot_product(arr1, arr2):\n",
    "        return(cosine_similarity(arr1.reshape(1,-1),arr2.reshape(1,-1))[0][0])\n",
    "    score = []\n",
    "    for i in range(topic_corpus.shape[0]):\n",
    "        score.append(dot_product(topic_corpus.iloc[i,].values, usr_arr))\n",
    "    \n",
    "    sorted_index = sorted(range(len(score)), key=lambda k: score[k], reverse = True)[:10]\n",
    "\n",
    "    def get_headline(url):\n",
    "        r = requests.get(url)\n",
    "        soup = BeautifulSoup(r.text, 'html.parser')\n",
    "        name_box = soup.findAll('h1')\n",
    "        return(name_box[0].text)\n",
    "\n",
    "    def get_snippet(url):\n",
    "        r = requests.get(url)\n",
    "        soup = BeautifulSoup(r.text, 'html.parser')\n",
    "        name_box = soup.findAll('p')\n",
    "        for i in name_box:\n",
    "            try:\n",
    "                if(len(i.text)>150):\n",
    "                    snipp = i.text\n",
    "                    return(snipp)\n",
    "            except:\n",
    "                return(\"No Snippet Available\")\n",
    "\n",
    "    url = [content_data['web_url'][i] for i in sorted_index]\n",
    "    hdls = [get_headline(i) for i in url]\n",
    "    snipps = [get_snippet(i) for i in url]\n",
    "    ui_fill(hdls, snipps, url)\n",
    "    \n",
    "def ui_fill(headlines, snippets, urls):\n",
    "    \n",
    "    display(widget_hide)\n",
    "    \n",
    "    def on_value_change(change):\n",
    "        if(text_user.value == ''):\n",
    "            js = \"<script>alert('Enter your name before giving preferences');</script>\"\n",
    "            display(HTML(js))            \n",
    "            return\n",
    "\n",
    "        scale = {'Less':-1, 'Neutral':0, 'More':1}\n",
    "        pref_data = pd.read_csv('data/df.csv')\n",
    "        user_list = list(pref_data['name'].values)\n",
    "        usr = text_user.value\n",
    "        article_topics = query_article_topic(urls)\n",
    "        article_topics.to_csv('data/waste.csv', index = False)\n",
    "        \n",
    "        if(usr not in user_list):\n",
    "            df = pd.DataFrame(columns = ['name'] + [str(i) for i in range(35)])\n",
    "            df.loc[0] = [usr] + [0 for i in range(35)]\n",
    "            pref_data = pd.concat([pref_data, df], axis = 0)\n",
    "            pref_data = pref_data.fillna(0)\n",
    "            pref_data.to_csv('data/df.csv', index = False)\n",
    "\n",
    "        pref_data = pd.read_csv('data/df.csv')\n",
    "        ind = items_rate.index(change['owner'])\n",
    "        pref_change = scale[change['new']] - scale[change['old']]               \n",
    "        for i in range(35):\n",
    "            pref_data.loc[pref_data['name'] == usr, str(i)] += pref_change*article_topics.loc[ind, i]\n",
    "        pref_data.to_csv('data/df.csv', index = False)\n",
    "    \n",
    "    def redirect_link(sender):\n",
    "        ind = items_hl.index(sender)\n",
    "        link = urls[ind]\n",
    "        webbrowser.open(link)\n",
    "        \n",
    "    items_hl = [Button(description=w, border = 'solid', layout = Layout(width='80%', height='40px')) for w in headlines]\n",
    "    for hl in items_hl:\n",
    "        hl.style.button_color = 'SkyBlue'\n",
    "        hl.style.font_weight = 'bold'\n",
    "        hl.on_click(redirect_link)\n",
    "        \n",
    "    items_sn = [widgets.Textarea(w, disabled = True, layout = Layout(width = '99.5%', height = '50px')) for w in snippets]\n",
    "\n",
    "    items_rate = [widgets.SelectionSlider(options=['Less', 'Neutral', 'More'], value = 'Neutral', \n",
    "                                          description='Rate Article '+str(i+1), disabled=False, \n",
    "                                          continuous_update=False, orientation='horizontal', readout=True) \n",
    "                  for i in range(len(headlines))]\n",
    "    for rt in items_rate:\n",
    "        rt.observe(on_value_change, names = 'value')\n",
    "\n",
    "    items = [VBox([HBox([items_hl[i], items_rate[i]]), items_sn[i]]) for i in range(len(headlines))]\n",
    "    box = VBox(items, layout = Layout(border = 'solid'))\n",
    "    display(box)\n",
    "\n",
    "    \n",
    "def onclick(sender):\n",
    "    \n",
    "    if(text_query.value == ''):\n",
    "        js = \"<script>alert('Input cannot be blank');</script>\"\n",
    "        display(HTML(js))\n",
    "        return\n",
    "    \n",
    "    base_url = 'https://api.nytimes.com/svc/search/v2/articlesearch.json?api-key=c77ddf1d1b594f76b2773928f324615f'\n",
    "    param_url = '&q='+str(text_query.value)+'&page=0'\n",
    "    url = base_url + param_url\n",
    "    \n",
    "    r = requests.get(url)\n",
    "    json_data = r.json()\n",
    "    article_meta_data = json_data['response']['docs']\n",
    "    \n",
    "    headlines = []\n",
    "    urls = []\n",
    "    snippets = []\n",
    "    for artc in article_meta_data:\n",
    "        url = artc['web_url']\n",
    "        headline = artc['headline']['main']\n",
    "        snippet = artc['snippet']\n",
    "        headlines.append(headline)\n",
    "        urls.append(url)\n",
    "        snippets.append(snippet)\n",
    "\n",
    "    ui_fill(headlines, snippets, urls)\n",
    "    \n",
    "text_query = widgets.Text(placeholder='Type a query for NY Times article listing')\n",
    "button_query = widgets.Button(description = 'Search articles')\n",
    "query = HBox([text_query, button_query])\n",
    "query = VBox([Label(\"\"), query, Label(\"\")])\n",
    "button_query.on_click(onclick)\n",
    "\n",
    "\n",
    "text_user = widgets.Text(placeholder='Enter your name', value = 'saket')\n",
    "user_input = HBox([Label(\"Username:\"),text_user])\n",
    "rec_button = widgets.Button(description = 'Get recommendations', layout = Layout(width = '150px'))\n",
    "reset_button = widgets.Button(description = 'Reset Preferences')\n",
    "user = VBox([user_input,HBox([Label(\"->->->->->\"),rec_button,reset_button])])\n",
    "rec_button.on_click(rec_generate)\n",
    "reset_button.on_click(reset_pref)\n",
    "\n",
    "display(HBox([query, Label(\"\"),Label(\"\"), user]))\n",
    "# HTML(htmlscript_ipywidget_disable_closing)"
   ]
  },
  {
   "cell_type": "code",
   "execution_count": 75,
   "metadata": {},
   "outputs": [
    {
     "data": {
      "text/plain": [
       "[(0,\n",
       "  '0.016*\"republican\" + 0.015*\"election\" + 0.012*\"democrat\" + 0.010*\"party\" + 0.010*\"vote\" + 0.008*\"trump\" + 0.008*\"political\" + 0.008*\"committee\" + 0.008*\"democratic\" + 0.007*\"official\"'),\n",
       " (1,\n",
       "  '0.018*\"saudi\" + 0.017*\"club\" + 0.015*\"wine\" + 0.014*\"player\" + 0.014*\"soccer\" + 0.014*\"league\" + 0.010*\"australia\" + 0.010*\"spain\" + 0.010*\"team\" + 0.008*\"international\"'),\n",
       " (2,\n",
       "  '0.014*\"book\" + 0.008*\"read\" + 0.005*\"word\" + 0.004*\"writer\" + 0.004*\"age\" + 0.004*\"character\" + 0.004*\"novel\" + 0.003*\"picture\" + 0.003*\"idea\" + 0.003*\"love\"'),\n",
       " (3,\n",
       "  '0.011*\"river\" + 0.009*\"mountain\" + 0.009*\"road\" + 0.008*\"park\" + 0.008*\"town\" + 0.008*\"century\" + 0.008*\"mile\" + 0.006*\"south\" + 0.006*\"diamond\" + 0.006*\"visit\"'),\n",
       " (4,\n",
       "  '0.016*\"war\" + 0.009*\"nation\" + 0.008*\"force\" + 0.007*\"official\" + 0.007*\"political\" + 0.006*\"control\" + 0.006*\"syria\" + 0.006*\"leader\" + 0.006*\"iraq\" + 0.006*\"minister\"'),\n",
       " (5,\n",
       "  '0.064*\"los\" + 0.039*\"del\" + 0.022*\"kelly\" + 0.021*\"las\" + 0.020*\"est\" + 0.012*\"texas\" + 0.010*\"pour\" + 0.010*\"artist\" + 0.010*\"son\" + 0.010*\"austin\"'),\n",
       " (6,\n",
       "  '0.009*\"friend\" + 0.006*\"man\" + 0.006*\"night\" + 0.006*\"hand\" + 0.006*\"love\" + 0.006*\"wear\" + 0.006*\"walk\" + 0.005*\"father\" + 0.005*\"mother\" + 0.005*\"saw\"'),\n",
       " (7,\n",
       "  '0.027*\"olympic\" + 0.025*\"sport\" + 0.024*\"athlete\" + 0.020*\"olympics\" + 0.019*\"winter\" + 0.018*\"russian\" + 0.017*\"ski\" + 0.016*\"game\" + 0.016*\"pyeongchang\" + 0.012*\"skate\"'),\n",
       " (8,\n",
       "  '0.022*\"china\" + 0.016*\"chinese\" + 0.013*\"soon\" + 0.012*\"wynn\" + 0.011*\"deal\" + 0.010*\"shiong\" + 0.008*\"angeles\" + 0.008*\"newspaper\" + 0.008*\"party\" + 0.007*\"taiwan\"'),\n",
       " (9,\n",
       "  '0.020*\"police\" + 0.014*\"military\" + 0.012*\"officer\" + 0.010*\"train\" + 0.008*\"attack\" + 0.008*\"arrest\" + 0.008*\"force\" + 0.007*\"security\" + 0.007*\"kill\" + 0.007*\"authority\"'),\n",
       " (10,\n",
       "  '0.050*\"sexual\" + 0.031*\"harassment\" + 0.018*\"men\" + 0.017*\"abuse\" + 0.011*\"sex\" + 0.011*\"assault\" + 0.011*\"victim\" + 0.010*\"metoo\" + 0.010*\"behavior\" + 0.009*\"allegation\"'),\n",
       " (11,\n",
       "  '0.039*\"gun\" + 0.017*\"mass\" + 0.014*\"violence\" + 0.012*\"atlanta\" + 0.011*\"shooting\" + 0.011*\"rapper\" + 0.009*\"black\" + 0.008*\"rap\" + 0.008*\"criminal\" + 0.008*\"shoot\"'),\n",
       " (12,\n",
       "  '0.045*\"fund\" + 0.044*\"bank\" + 0.019*\"mortgage\" + 0.017*\"investment\" + 0.016*\"risk\" + 0.015*\"loan\" + 0.015*\"volatility\" + 0.015*\"asset\" + 0.015*\"firm\" + 0.015*\"financial\"'),\n",
       " (13,\n",
       "  '0.014*\"housing\" + 0.014*\"building\" + 0.011*\"property\" + 0.010*\"apartment\" + 0.009*\"community\" + 0.009*\"estate\" + 0.008*\"street\" + 0.008*\"nurse\" + 0.007*\"neighborhood\" + 0.007*\"rent\"'),\n",
       " (14,\n",
       "  '0.021*\"stock\" + 0.014*\"rate\" + 0.013*\"price\" + 0.012*\"investor\" + 0.012*\"economy\" + 0.012*\"rise\" + 0.011*\"growth\" + 0.008*\"economic\" + 0.007*\"inflation\" + 0.007*\"financial\"'),\n",
       " (15,\n",
       "  '0.016*\"climate\" + 0.015*\"oil\" + 0.011*\"energy\" + 0.009*\"gas\" + 0.009*\"china\" + 0.008*\"water\" + 0.007*\"plant\" + 0.007*\"power\" + 0.007*\"environmental\" + 0.006*\"coal\"'),\n",
       " (16,\n",
       "  '0.026*\"film\" + 0.020*\"movie\" + 0.017*\"black\" + 0.014*\"theater\" + 0.011*\"award\" + 0.008*\"star\" + 0.008*\"broadway\" + 0.008*\"actor\" + 0.007*\"series\" + 0.007*\"production\"'),\n",
       " (17,\n",
       "  '0.034*\"travel\" + 0.030*\"hotel\" + 0.030*\"com\" + 0.018*\"www\" + 0.017*\"vacation\" + 0.017*\"trip\" + 0.016*\"site\" + 0.012*\"tour\" + 0.011*\"price\" + 0.011*\"ticket\"'),\n",
       " (18,\n",
       "  '0.027*\"puerto\" + 0.021*\"rico\" + 0.020*\"virus\" + 0.017*\"hurricane\" + 0.016*\"island\" + 0.014*\"brazil\" + 0.010*\"miami\" + 0.009*\"billion\" + 0.009*\"spread\" + 0.009*\"infect\"'),\n",
       " (19,\n",
       "  '0.030*\"uber\" + 0.026*\"rio\" + 0.023*\"texas\" + 0.019*\"driver\" + 0.018*\"arizona\" + 0.016*\"philadelphia\" + 0.015*\"pas\" + 0.010*\"kansa\" + 0.010*\"generic\" + 0.010*\"eagle\"'),\n",
       " (20,\n",
       "  '0.031*\"tax\" + 0.020*\"health\" + 0.014*\"care\" + 0.013*\"benefit\" + 0.011*\"policy\" + 0.009*\"income\" + 0.009*\"insurance\" + 0.009*\"cost\" + 0.007*\"cut\" + 0.007*\"increase\"'),\n",
       " (21,\n",
       "  '0.027*\"study\" + 0.024*\"patient\" + 0.022*\"health\" + 0.019*\"drug\" + 0.018*\"medical\" + 0.017*\"cancer\" + 0.015*\"doctor\" + 0.013*\"hospital\" + 0.011*\"care\" + 0.011*\"treatment\"'),\n",
       " (22,\n",
       "  '0.044*\"newsletter\" + 0.036*\"advertisement\" + 0.027*\"field\" + 0.019*\"box\" + 0.018*\"click\" + 0.017*\"robot\" + 0.016*\"email\" + 0.015*\"subscribe\" + 0.015*\"select\" + 0.014*\"verify\"'),\n",
       " (23,\n",
       "  '0.012*\"worker\" + 0.011*\"employee\" + 0.011*\"technology\" + 0.009*\"computer\" + 0.008*\"executive\" + 0.007*\"industry\" + 0.007*\"car\" + 0.007*\"product\" + 0.006*\"firm\" + 0.005*\"internet\"'),\n",
       " (24,\n",
       "  '0.031*\"music\" + 0.026*\"feb\" + 0.018*\"song\" + 0.015*\"com\" + 0.012*\"album\" + 0.012*\"org\" + 0.011*\"band\" + 0.010*\"perform\" + 0.010*\"212\" + 0.010*\"record\"'),\n",
       " (25,\n",
       "  '0.029*\"team\" + 0.025*\"game\" + 0.020*\"player\" + 0.017*\"season\" + 0.015*\"win\" + 0.012*\"coach\" + 0.009*\"league\" + 0.008*\"playoff\" + 0.007*\"super\" + 0.007*\"bowl\"'),\n",
       " (26,\n",
       "  '0.076*\"trump\" + 0.013*\"immigration\" + 0.011*\"administration\" + 0.010*\"obama\" + 0.010*\"deal\" + 0.010*\"budget\" + 0.008*\"republican\" + 0.008*\"immigrant\" + 0.008*\"democrat\" + 0.007*\"speech\"'),\n",
       " (27,\n",
       "  '0.019*\"court\" + 0.017*\"law\" + 0.014*\"lawyer\" + 0.012*\"body\" + 0.010*\"judge\" + 0.009*\"charge\" + 0.009*\"department\" + 0.008*\"police\" + 0.008*\"howe\" + 0.008*\"federal\"'),\n",
       " (28,\n",
       "  '0.014*\"billion\" + 0.012*\"revenue\" + 0.011*\"twitter\" + 0.010*\"quarter\" + 0.009*\"sale\" + 0.008*\"fashion\" + 0.008*\"facebook\" + 0.008*\"medium\" + 0.007*\"sell\" + 0.007*\"amazon\"'),\n",
       " (29,\n",
       "  '0.039*\"san\" + 0.031*\"mexico\" + 0.031*\"california\" + 0.019*\"border\" + 0.016*\"angeles\" + 0.014*\"los\" + 0.013*\"francisco\" + 0.013*\"diego\" + 0.011*\"canada\" + 0.010*\"venezuela\"'),\n",
       " (30,\n",
       "  '0.048*\"art\" + 0.034*\"museum\" + 0.023*\"artist\" + 0.010*\"design\" + 0.010*\"collection\" + 0.009*\"gallery\" + 0.009*\"exhibition\" + 0.008*\"paint\" + 0.007*\"painting\" + 0.006*\"chicago\"'),\n",
       " (31,\n",
       "  '0.034*\"student\" + 0.011*\"class\" + 0.011*\"college\" + 0.010*\"parent\" + 0.008*\"professor\" + 0.007*\"social\" + 0.007*\"career\" + 0.007*\"education\" + 0.007*\"graduate\" + 0.007*\"learn\"'),\n",
       " (32,\n",
       "  '0.061*\"north\" + 0.052*\"korea\" + 0.043*\"south\" + 0.040*\"korean\" + 0.019*\"kim\" + 0.016*\"olympics\" + 0.015*\"game\" + 0.014*\"missile\" + 0.012*\"nuclear\" + 0.008*\"moon\"'),\n",
       " (33,\n",
       "  '0.017*\"food\" + 0.015*\"restaurant\" + 0.009*\"street\" + 0.008*\"cook\" + 0.007*\"shop\" + 0.007*\"bar\" + 0.007*\"eat\" + 0.005*\"table\" + 0.005*\"water\" + 0.005*\"chef\"'),\n",
       " (34,\n",
       "  '0.035*\"dog\" + 0.017*\"flight\" + 0.016*\"airline\" + 0.014*\"breed\" + 0.013*\"fly\" + 0.012*\"plane\" + 0.011*\"getty\" + 0.011*\"airport\" + 0.011*\"image\" + 0.010*\"pilot\"')]"
      ]
     },
     "execution_count": 75,
     "metadata": {},
     "output_type": "execute_result"
    }
   ],
   "source": [
    "ldamodel.print_topics(num_topics = 35)\n",
    "# ldamodel[dct.doc2bow(pre_process(extract_content(\"https://www.nytimes.com/2018/01/31/travel/guillermo-de-toro-mexico.html\")))]"
   ]
  },
  {
   "cell_type": "code",
   "execution_count": null,
   "metadata": {},
   "outputs": [],
   "source": []
  }
 ],
 "metadata": {
  "kernelspec": {
   "display_name": "Python 3",
   "language": "python",
   "name": "python3"
  },
  "language_info": {
   "codemirror_mode": {
    "name": "ipython",
    "version": 3
   },
   "file_extension": ".py",
   "mimetype": "text/x-python",
   "name": "python",
   "nbconvert_exporter": "python",
   "pygments_lexer": "ipython3",
   "version": "3.6.1"
  },
  "widgets": {
   "application/vnd.jupyter.widget-state+json": {
    "state": {
     "034bd798c2114fe2831a226a49a83c7d": {
      "model_module": "@jupyter-widgets/controls",
      "model_module_version": "1.1.0",
      "model_name": "DescriptionStyleModel",
      "state": {
       "description_width": ""
      }
     },
     "0607b68614384343acc5f455a6b26e9c": {
      "model_module": "@jupyter-widgets/controls",
      "model_module_version": "1.1.0",
      "model_name": "ButtonModel",
      "state": {
       "description": "Tottenham Hotspur Versus Arsenal-Fans' View",
       "layout": "IPY_MODEL_9d6c4debc10145849a396ad26a502a65",
       "style": "IPY_MODEL_b73119d152ec4faea36cbbdbd5e038ac"
      }
     },
     "0640c90eb4ed46e3892c408ee39eba75": {
      "model_module": "@jupyter-widgets/controls",
      "model_module_version": "1.1.0",
      "model_name": "ButtonModel",
      "state": {
       "description": "Five Memorable Tottenham Hotspur Versus Arsenal Matches",
       "layout": "IPY_MODEL_a84fba61beab426287b843d996869b18",
       "style": "IPY_MODEL_f2261d1e7f6a4f98bab914bdf3e69518"
      }
     },
     "064d06c8c5f4478caed20443b237773a": {
      "model_module": "@jupyter-widgets/controls",
      "model_module_version": "1.1.0",
      "model_name": "DescriptionStyleModel",
      "state": {
       "description_width": ""
      }
     },
     "08a87bc3ab064c7f9597be033fc69eae": {
      "model_module": "@jupyter-widgets/base",
      "model_module_version": "1.0.0",
      "model_name": "LayoutModel",
      "state": {}
     },
     "09d238f2040b40dd9fe8849ca979fc3a": {
      "model_module": "@jupyter-widgets/controls",
      "model_module_version": "1.1.0",
      "model_name": "TextareaModel",
      "state": {
       "disabled": true,
       "layout": "IPY_MODEL_0b6d0c46c3b545478b88cd90437e7bc7",
       "style": "IPY_MODEL_064d06c8c5f4478caed20443b237773a",
       "value": "Manchester United reels in a star, but it (and Arsenal, and Chelsea) still has far to go to catch Pep Guardiola’s Manchester City."
      }
     },
     "0ab5f60ae6e0447d8a50c3c450bc8344": {
      "model_module": "@jupyter-widgets/controls",
      "model_module_version": "1.1.0",
      "model_name": "TextareaModel",
      "state": {
       "disabled": true,
       "layout": "IPY_MODEL_bc5bbf269434400e8cb6218e0437599e",
       "style": "IPY_MODEL_034bd798c2114fe2831a226a49a83c7d",
       "value": "Arsenal have bolstered their attacking line-up by signing striker Pierre-Emerick Aubameyang from Borussia Dortmund on a long-term contract for a club-record fee, the Premier League club said on Wednesday."
      }
     },
     "0b6d0c46c3b545478b88cd90437e7bc7": {
      "model_module": "@jupyter-widgets/base",
      "model_module_version": "1.0.0",
      "model_name": "LayoutModel",
      "state": {
       "height": "50px",
       "width": "99.5%"
      }
     },
     "113bdaa0404649bfba1198a2d7060221": {
      "model_module": "@jupyter-widgets/base",
      "model_module_version": "1.0.0",
      "model_name": "LayoutModel",
      "state": {}
     },
     "11dfda28769d44708f2b7b5c8c76cd6d": {
      "model_module": "@jupyter-widgets/base",
      "model_module_version": "1.0.0",
      "model_name": "LayoutModel",
      "state": {}
     },
     "141d3336137c47cb9d979d94d59a6787": {
      "model_module": "@jupyter-widgets/controls",
      "model_module_version": "1.1.0",
      "model_name": "VBoxModel",
      "state": {
       "children": [
        "IPY_MODEL_8a5247a8d8554ae590efef9c4a368ce5",
        "IPY_MODEL_fc034b892bd7486ea5dbda6e1fad5f08"
       ],
       "layout": "IPY_MODEL_4e494dd8130947e4a42253ce09c80208"
      }
     },
     "1806b95ce9f94cc4ac077479f9096dde": {
      "model_module": "@jupyter-widgets/base",
      "model_module_version": "1.0.0",
      "model_name": "LayoutModel",
      "state": {}
     },
     "1836c31967ca480a8708af46513ad703": {
      "model_module": "@jupyter-widgets/controls",
      "model_module_version": "1.1.0",
      "model_name": "DescriptionStyleModel",
      "state": {
       "description_width": ""
      }
     },
     "18edf19800eb41da8d3a6150549dd4d1": {
      "model_module": "@jupyter-widgets/controls",
      "model_module_version": "1.1.0",
      "model_name": "DescriptionStyleModel",
      "state": {
       "description_width": ""
      }
     },
     "1a46490460474521a7f26a401b2e48cc": {
      "model_module": "@jupyter-widgets/controls",
      "model_module_version": "1.1.0",
      "model_name": "VBoxModel",
      "state": {
       "children": [
        "IPY_MODEL_9e575bfb15804dcb8ba328e6260fd6f5",
        "IPY_MODEL_88b4294e16674fea8c4132e59ed5aa0d"
       ],
       "layout": "IPY_MODEL_c3643e881c284b5ebd8e3644088306e0"
      }
     },
     "1a5811168ed54199b6723520e7227d8d": {
      "model_module": "@jupyter-widgets/base",
      "model_module_version": "1.0.0",
      "model_name": "LayoutModel",
      "state": {}
     },
     "1c33b04bd2fa4bcabbf4933e748f4621": {
      "model_module": "@jupyter-widgets/base",
      "model_module_version": "1.0.0",
      "model_name": "LayoutModel",
      "state": {}
     },
     "1ca44567d2bd44b480271a7acb38a234": {
      "model_module": "@jupyter-widgets/base",
      "model_module_version": "1.0.0",
      "model_name": "LayoutModel",
      "state": {
       "height": "40px",
       "width": "80%"
      }
     },
     "1fd714f2a9ea4a938d0d823263742391": {
      "model_module": "@jupyter-widgets/controls",
      "model_module_version": "1.1.0",
      "model_name": "HBoxModel",
      "state": {
       "children": [
        "IPY_MODEL_98621e7af85749299fc52af4b205e808",
        "IPY_MODEL_46d2768b4efc44f8a2e769ce54c36f3c"
       ],
       "layout": "IPY_MODEL_81515883e6514a038b983f81f45b5152"
      }
     },
     "212e92c477da4a1ea68908f3fb94d3cf": {
      "model_module": "@jupyter-widgets/controls",
      "model_module_version": "1.1.0",
      "model_name": "DescriptionStyleModel",
      "state": {
       "description_width": ""
      }
     },
     "2174515f304949e28eefedf9badb545a": {
      "model_module": "@jupyter-widgets/controls",
      "model_module_version": "1.1.0",
      "model_name": "ButtonStyleModel",
      "state": {
       "button_color": "SkyBlue",
       "font_weight": "bold"
      }
     },
     "24ac415578494ea99af86279235a4c9d": {
      "model_module": "@jupyter-widgets/controls",
      "model_module_version": "1.1.0",
      "model_name": "ButtonModel",
      "state": {
       "description": "Statbox-Tottenham Hotspur Versus Arsenal",
       "layout": "IPY_MODEL_e47f03fa898b41aea03d60501ebd0e4f",
       "style": "IPY_MODEL_ea03e360da6746f48662a6d58acc6546"
      }
     },
     "25c2c8da510a4c44aa681d1fa034b981": {
      "model_module": "@jupyter-widgets/base",
      "model_module_version": "1.0.0",
      "model_name": "LayoutModel",
      "state": {}
     },
     "2874b942cdc14e25a589ada4901ed8e2": {
      "model_module": "@jupyter-widgets/controls",
      "model_module_version": "1.1.0",
      "model_name": "DescriptionStyleModel",
      "state": {
       "description_width": ""
      }
     },
     "291220dfa2154e699377a912aa5fab1e": {
      "model_module": "@jupyter-widgets/base",
      "model_module_version": "1.0.0",
      "model_name": "LayoutModel",
      "state": {
       "height": "40px",
       "width": "80%"
      }
     },
     "29131d56a2f743a7be00a96f379da498": {
      "model_module": "@jupyter-widgets/base",
      "model_module_version": "1.0.0",
      "model_name": "LayoutModel",
      "state": {}
     },
     "2b05191957ae42ba8a0489ba9fb7b226": {
      "model_module": "@jupyter-widgets/controls",
      "model_module_version": "1.1.0",
      "model_name": "HBoxModel",
      "state": {
       "children": [
        "IPY_MODEL_ae5a2c0f09934ccaa17aa950679b4626",
        "IPY_MODEL_71f6f5dc1e28443e9f59a5ee40a8d086"
       ],
       "layout": "IPY_MODEL_79e1ae102fd94dcbb2a61fd5285bde75"
      }
     },
     "2b25ab901c424e9fae769955ca1aa779": {
      "model_module": "@jupyter-widgets/controls",
      "model_module_version": "1.1.0",
      "model_name": "DescriptionStyleModel",
      "state": {
       "description_width": ""
      }
     },
     "2d5c96f0f845409d883afe625107ee74": {
      "model_module": "@jupyter-widgets/controls",
      "model_module_version": "1.1.0",
      "model_name": "ButtonModel",
      "state": {
       "description": "Arsenal Football Club",
       "layout": "IPY_MODEL_ea2be55cc31d427fb61bd8da6ab416df",
       "style": "IPY_MODEL_be816ba630d3443492b667728f0597cd"
      }
     },
     "302305cc436b49548104b75bc009215b": {
      "model_module": "@jupyter-widgets/base",
      "model_module_version": "1.0.0",
      "model_name": "LayoutModel",
      "state": {}
     },
     "3066604b5864479aa003c5aee22cfbc0": {
      "model_module": "@jupyter-widgets/base",
      "model_module_version": "1.0.0",
      "model_name": "LayoutModel",
      "state": {
       "height": "50px",
       "width": "99.5%"
      }
     },
     "317346f59ebb4a00af819ae19d38c39a": {
      "model_module": "@jupyter-widgets/controls",
      "model_module_version": "1.1.0",
      "model_name": "LabelModel",
      "state": {
       "layout": "IPY_MODEL_ff68a3c1aff34d0e8dd365dc0a2f57a0",
       "style": "IPY_MODEL_67fc09b6f7c2446399fbc4d59e7b50cf"
      }
     },
     "31d7411ce5e842c98aac607ca3cb5fa5": {
      "model_module": "@jupyter-widgets/controls",
      "model_module_version": "1.1.0",
      "model_name": "TextareaModel",
      "state": {
       "disabled": true,
       "layout": "IPY_MODEL_54b33c7d5aa1471e81199931d2bd0114",
       "style": "IPY_MODEL_2b25ab901c424e9fae769955ca1aa779",
       "value": "News about Arsenal Football Club, including commentary and archival articles published in The New York Times."
      }
     },
     "320e0e57d139485eadf463dac95ea8d1": {
      "model_module": "@jupyter-widgets/controls",
      "model_module_version": "1.1.0",
      "model_name": "ButtonStyleModel",
      "state": {
       "button_color": "SkyBlue",
       "font_weight": "bold"
      }
     },
     "32f08c555a204b30b4b7d5c8fd11a7c1": {
      "model_module": "@jupyter-widgets/base",
      "model_module_version": "1.0.0",
      "model_name": "LayoutModel",
      "state": {}
     },
     "3339c262054c418da9b5eae6b3f40f45": {
      "model_module": "@jupyter-widgets/controls",
      "model_module_version": "1.1.0",
      "model_name": "VBoxModel",
      "state": {
       "children": [
        "IPY_MODEL_5a5a4455589749e59010e4669245ab89",
        "IPY_MODEL_fc2e6c81aa85487bb51d380bf8b43dfd",
        "IPY_MODEL_317346f59ebb4a00af819ae19d38c39a"
       ],
       "layout": "IPY_MODEL_29131d56a2f743a7be00a96f379da498"
      }
     },
     "362b05b7242e43bcbaa851a4fc7265de": {
      "model_module": "@jupyter-widgets/controls",
      "model_module_version": "1.1.0",
      "model_name": "ButtonStyleModel",
      "state": {
       "button_color": "SkyBlue",
       "font_weight": "bold"
      }
     },
     "37091e29e2044f6fbb39bb0293795718": {
      "model_module": "@jupyter-widgets/base",
      "model_module_version": "1.0.0",
      "model_name": "LayoutModel",
      "state": {
       "height": "40px",
       "width": "80%"
      }
     },
     "388ee6d3a68b4f7a88be71a5a3c30b6b": {
      "model_module": "@jupyter-widgets/controls",
      "model_module_version": "1.1.0",
      "model_name": "DescriptionStyleModel",
      "state": {
       "description_width": ""
      }
     },
     "3982fb502cf340baad8375ac2663b8a3": {
      "model_module": "@jupyter-widgets/controls",
      "model_module_version": "1.1.0",
      "model_name": "TextareaModel",
      "state": {
       "disabled": true,
       "layout": "IPY_MODEL_4a3f45f9d7e745cb98f2271a3a12cef2",
       "style": "IPY_MODEL_d67e40396e774752bb6e61539f17b697",
       "value": "Tottenham Hotspur and Arsenal will meet for the 195th time in all competitions on Saturday. We look at some notable clashes between the sides."
      }
     },
     "3a4b418060ed470683c6c81a087d04ab": {
      "model_module": "@jupyter-widgets/controls",
      "model_module_version": "1.1.0",
      "model_name": "TextareaModel",
      "state": {
       "disabled": true,
       "layout": "IPY_MODEL_efd9fd49ed794f55bad729dc54b0b740",
       "style": "IPY_MODEL_99ca38838cfc44a2a8ac7888c1988931",
       "value": "Eight points out of a Champions League place, Arsenal ought to be in crisis. But the much-hyped signing of Pierre-Emerick Aubameyang soothed some critics, and obscured larger problems."
      }
     },
     "3a75af098249426abdf975c0d8860f72": {
      "model_module": "@jupyter-widgets/controls",
      "model_module_version": "1.1.0",
      "model_name": "HBoxModel",
      "state": {
       "children": [
        "IPY_MODEL_9d862706df8940edbd60cfa08f2b441d",
        "IPY_MODEL_cf8b2b28eee5438db73e44e1760ec747"
       ],
       "layout": "IPY_MODEL_45972ee37ac24723af5ff6b080ac500a"
      }
     },
     "3b7c56642ce141b5a5d4b4b66755f4cc": {
      "model_module": "@jupyter-widgets/controls",
      "model_module_version": "1.1.0",
      "model_name": "DescriptionStyleModel",
      "state": {
       "description_width": ""
      }
     },
     "3bfeffb9b29d48cfb83e2f2c76f6fedd": {
      "model_module": "@jupyter-widgets/controls",
      "model_module_version": "1.1.0",
      "model_name": "TextModel",
      "state": {
       "layout": "IPY_MODEL_aec28c23e4d34a96b49eed61df817e0e",
       "placeholder": "Type a query for NY Times article listing",
       "style": "IPY_MODEL_8409f51a19ac46aba2a12df73dd111c2",
       "value": "arsenal"
      }
     },
     "421aa87a684140bfa79390db15a60f4e": {
      "model_module": "@jupyter-widgets/base",
      "model_module_version": "1.0.0",
      "model_name": "LayoutModel",
      "state": {
       "height": "40px",
       "width": "80%"
      }
     },
     "4261a6fe5f87499bb66fdffc43b4720a": {
      "model_module": "@jupyter-widgets/controls",
      "model_module_version": "1.1.0",
      "model_name": "TextareaModel",
      "state": {
       "disabled": true,
       "layout": "IPY_MODEL_6a06a8e952a946128b36e6755b9e795e",
       "style": "IPY_MODEL_2874b942cdc14e25a589ada4901ed8e2",
       "value": "Facts and figures ahead of Saturday's Premier League match between Tottenham Hotspur and Arsenal at Wembley."
      }
     },
     "4397821267c5499fbcf819f4ded2aa4a": {
      "model_module": "@jupyter-widgets/controls",
      "model_module_version": "1.1.0",
      "model_name": "VBoxModel",
      "state": {
       "children": [
        "IPY_MODEL_7f133ab3f7204b27a8f17f8c808f7f9a",
        "IPY_MODEL_5022f37a764b4dc8a2c68a8e4f14c987"
       ],
       "layout": "IPY_MODEL_517d1a7273ce4667bbbd0909def7f055"
      }
     },
     "45972ee37ac24723af5ff6b080ac500a": {
      "model_module": "@jupyter-widgets/base",
      "model_module_version": "1.0.0",
      "model_name": "LayoutModel",
      "state": {}
     },
     "46d2768b4efc44f8a2e769ce54c36f3c": {
      "model_module": "@jupyter-widgets/controls",
      "model_module_version": "1.1.0",
      "model_name": "ButtonModel",
      "state": {
       "description": "Get recommendations",
       "layout": "IPY_MODEL_c7da13790cde413aa083f5ebee73cc53",
       "style": "IPY_MODEL_8edf65bd75be4582aad55d5390fab490"
      }
     },
     "4733e31d0f95441084b9ae4ecd986fc8": {
      "model_module": "@jupyter-widgets/controls",
      "model_module_version": "1.1.0",
      "model_name": "ButtonModel",
      "state": {
       "description": "Search articles",
       "layout": "IPY_MODEL_6b8b02a8653b48a995c5e9256a9c6027",
       "style": "IPY_MODEL_d8003360b55b46c391c609dc308e8094"
      }
     },
     "487ba081e1114c96966fc9a74c59ed22": {
      "model_module": "@jupyter-widgets/base",
      "model_module_version": "1.0.0",
      "model_name": "LayoutModel",
      "state": {}
     },
     "4890151849fa4539840744f6f5234db9": {
      "model_module": "@jupyter-widgets/controls",
      "model_module_version": "1.1.0",
      "model_name": "SelectionSliderModel",
      "state": {
       "_options_labels": [
        "Less",
        "Neutral",
        "More"
       ],
       "continuous_update": false,
       "description": "Rate Article 2",
       "index": 1,
       "layout": "IPY_MODEL_1806b95ce9f94cc4ac077479f9096dde",
       "style": "IPY_MODEL_a7581f90e3c8444d9aecbacc0be4192f"
      }
     },
     "4a3f45f9d7e745cb98f2271a3a12cef2": {
      "model_module": "@jupyter-widgets/base",
      "model_module_version": "1.0.0",
      "model_name": "LayoutModel",
      "state": {
       "height": "50px",
       "width": "99.5%"
      }
     },
     "4dd67686995443fdaac3298f6a54b456": {
      "model_module": "@jupyter-widgets/controls",
      "model_module_version": "1.1.0",
      "model_name": "VBoxModel",
      "state": {
       "children": [
        "IPY_MODEL_b1ef6bb779ca45048e976ffff84c9b6a",
        "IPY_MODEL_4261a6fe5f87499bb66fdffc43b4720a"
       ],
       "layout": "IPY_MODEL_113bdaa0404649bfba1198a2d7060221"
      }
     },
     "4e494dd8130947e4a42253ce09c80208": {
      "model_module": "@jupyter-widgets/base",
      "model_module_version": "1.0.0",
      "model_name": "LayoutModel",
      "state": {}
     },
     "501589ddfd044581a612c1ef63f828b2": {
      "model_module": "@jupyter-widgets/base",
      "model_module_version": "1.0.0",
      "model_name": "LayoutModel",
      "state": {
       "height": "40px",
       "width": "80%"
      }
     },
     "5022f37a764b4dc8a2c68a8e4f14c987": {
      "model_module": "@jupyter-widgets/controls",
      "model_module_version": "1.1.0",
      "model_name": "TextareaModel",
      "state": {
       "disabled": true,
       "layout": "IPY_MODEL_54f64f9b62b54eea9653a960b3b5a33f",
       "style": "IPY_MODEL_212e92c477da4a1ea68908f3fb94d3cf",
       "value": "News about Arsenal Football Club, including commentary and archival articles published in The New York Times."
      }
     },
     "514ea6d7b6ff4fccba0eb81e55eb2662": {
      "model_module": "@jupyter-widgets/controls",
      "model_module_version": "1.1.0",
      "model_name": "LabelModel",
      "state": {
       "layout": "IPY_MODEL_56dbf023f665482791aa0a20b59245f9",
       "style": "IPY_MODEL_3b7c56642ce141b5a5d4b4b66755f4cc"
      }
     },
     "517d1a7273ce4667bbbd0909def7f055": {
      "model_module": "@jupyter-widgets/base",
      "model_module_version": "1.0.0",
      "model_name": "LayoutModel",
      "state": {}
     },
     "54b33c7d5aa1471e81199931d2bd0114": {
      "model_module": "@jupyter-widgets/base",
      "model_module_version": "1.0.0",
      "model_name": "LayoutModel",
      "state": {
       "height": "50px",
       "width": "99.5%"
      }
     },
     "54f64f9b62b54eea9653a960b3b5a33f": {
      "model_module": "@jupyter-widgets/base",
      "model_module_version": "1.0.0",
      "model_name": "LayoutModel",
      "state": {
       "height": "50px",
       "width": "99.5%"
      }
     },
     "56dbf023f665482791aa0a20b59245f9": {
      "model_module": "@jupyter-widgets/base",
      "model_module_version": "1.0.0",
      "model_name": "LayoutModel",
      "state": {}
     },
     "58169b4f9dd048d0bbd19d912a6d353f": {
      "model_module": "@jupyter-widgets/controls",
      "model_module_version": "1.1.0",
      "model_name": "DescriptionStyleModel",
      "state": {
       "description_width": ""
      }
     },
     "58cde7fa83684cd3a2aa3cafe0ca6881": {
      "model_module": "@jupyter-widgets/controls",
      "model_module_version": "1.1.0",
      "model_name": "HBoxModel",
      "state": {
       "children": [
        "IPY_MODEL_0640c90eb4ed46e3892c408ee39eba75",
        "IPY_MODEL_72c6f0e0d115472290c8f36b370d4e12"
       ],
       "layout": "IPY_MODEL_302305cc436b49548104b75bc009215b"
      }
     },
     "591bc1800e924e1587aee762dce12d50": {
      "model_module": "@jupyter-widgets/controls",
      "model_module_version": "1.1.0",
      "model_name": "VBoxModel",
      "state": {
       "children": [
        "IPY_MODEL_62f4d5c07838479d89fab78dd854d513",
        "IPY_MODEL_4397821267c5499fbcf819f4ded2aa4a",
        "IPY_MODEL_621b1221cc294d34aeeb21c31c235f65",
        "IPY_MODEL_4dd67686995443fdaac3298f6a54b456",
        "IPY_MODEL_672936fb14f4448ab233a89252126963",
        "IPY_MODEL_1a46490460474521a7f26a401b2e48cc",
        "IPY_MODEL_bda7679ddafc4996a09eb2d55eb68455",
        "IPY_MODEL_141d3336137c47cb9d979d94d59a6787",
        "IPY_MODEL_859a4843e243444e8cadf4fb9937e226",
        "IPY_MODEL_dc9025af5ee145f2a1962559a3560c4d"
       ],
       "layout": "IPY_MODEL_cc2d5737915f4b05b94f043a9b388623"
      }
     },
     "5962ef79339e43ec9bd4efa4187ab459": {
      "model_module": "@jupyter-widgets/base",
      "model_module_version": "1.0.0",
      "model_name": "LayoutModel",
      "state": {}
     },
     "5a5a4455589749e59010e4669245ab89": {
      "model_module": "@jupyter-widgets/controls",
      "model_module_version": "1.1.0",
      "model_name": "LabelModel",
      "state": {
       "layout": "IPY_MODEL_f4e4800c920b432ca610c322dc4afc1b",
       "style": "IPY_MODEL_f1bcf7cf56714369a7fb28ee999f53be"
      }
     },
     "5a9c884563384108b93e661f021940a4": {
      "model_module": "@jupyter-widgets/base",
      "model_module_version": "1.0.0",
      "model_name": "LayoutModel",
      "state": {
       "height": "50px",
       "width": "99.5%"
      }
     },
     "5c04a715d7254f7cb3aa9695633d3298": {
      "model_module": "@jupyter-widgets/base",
      "model_module_version": "1.0.0",
      "model_name": "LayoutModel",
      "state": {}
     },
     "5db6fcd219194bb2aa2b9053a67ad351": {
      "model_module": "@jupyter-widgets/controls",
      "model_module_version": "1.1.0",
      "model_name": "DescriptionStyleModel",
      "state": {
       "description_width": ""
      }
     },
     "621b1221cc294d34aeeb21c31c235f65": {
      "model_module": "@jupyter-widgets/controls",
      "model_module_version": "1.1.0",
      "model_name": "VBoxModel",
      "state": {
       "children": [
        "IPY_MODEL_c312f1c55dd84288bf5899b1e49f6c57",
        "IPY_MODEL_31d7411ce5e842c98aac607ca3cb5fa5"
       ],
       "layout": "IPY_MODEL_1c33b04bd2fa4bcabbf4933e748f4621"
      }
     },
     "62f4d5c07838479d89fab78dd854d513": {
      "model_module": "@jupyter-widgets/controls",
      "model_module_version": "1.1.0",
      "model_name": "VBoxModel",
      "state": {
       "children": [
        "IPY_MODEL_9ba2b438bd7248199b50816abd123ba4",
        "IPY_MODEL_3a4b418060ed470683c6c81a087d04ab"
       ],
       "layout": "IPY_MODEL_11dfda28769d44708f2b7b5c8c76cd6d"
      }
     },
     "672936fb14f4448ab233a89252126963": {
      "model_module": "@jupyter-widgets/controls",
      "model_module_version": "1.1.0",
      "model_name": "VBoxModel",
      "state": {
       "children": [
        "IPY_MODEL_838487cfce63485eb9570b0c19f12ffd",
        "IPY_MODEL_0ab5f60ae6e0447d8a50c3c450bc8344"
       ],
       "layout": "IPY_MODEL_1a5811168ed54199b6723520e7227d8d"
      }
     },
     "67fc09b6f7c2446399fbc4d59e7b50cf": {
      "model_module": "@jupyter-widgets/controls",
      "model_module_version": "1.1.0",
      "model_name": "DescriptionStyleModel",
      "state": {
       "description_width": ""
      }
     },
     "6a06a8e952a946128b36e6755b9e795e": {
      "model_module": "@jupyter-widgets/base",
      "model_module_version": "1.0.0",
      "model_name": "LayoutModel",
      "state": {
       "height": "50px",
       "width": "99.5%"
      }
     },
     "6a98813256f44a8aaede73e2af5189a3": {
      "model_module": "@jupyter-widgets/base",
      "model_module_version": "1.0.0",
      "model_name": "LayoutModel",
      "state": {}
     },
     "6b8b02a8653b48a995c5e9256a9c6027": {
      "model_module": "@jupyter-widgets/base",
      "model_module_version": "1.0.0",
      "model_name": "LayoutModel",
      "state": {}
     },
     "6bfc60625e3b4794a02e192802657588": {
      "model_module": "@jupyter-widgets/controls",
      "model_module_version": "1.1.0",
      "model_name": "DescriptionStyleModel",
      "state": {
       "description_width": ""
      }
     },
     "6d0ac60d5d5d458e88f2fa152a992990": {
      "model_module": "@jupyter-widgets/controls",
      "model_module_version": "1.1.0",
      "model_name": "DescriptionStyleModel",
      "state": {
       "description_width": ""
      }
     },
     "70846d5171d84bc484d6a1979f9efb7c": {
      "model_module": "@jupyter-widgets/base",
      "model_module_version": "1.0.0",
      "model_name": "LayoutModel",
      "state": {}
     },
     "71698cbefab74b228123fbcd51390225": {
      "model_module": "@jupyter-widgets/base",
      "model_module_version": "1.0.0",
      "model_name": "LayoutModel",
      "state": {}
     },
     "717dac607e4e403c851b8c0e4ac65414": {
      "model_module": "@jupyter-widgets/base",
      "model_module_version": "1.0.0",
      "model_name": "LayoutModel",
      "state": {}
     },
     "71f6f5dc1e28443e9f59a5ee40a8d086": {
      "model_module": "@jupyter-widgets/controls",
      "model_module_version": "1.1.0",
      "model_name": "TextModel",
      "state": {
       "layout": "IPY_MODEL_5962ef79339e43ec9bd4efa4187ab459",
       "placeholder": "Enter your name",
       "style": "IPY_MODEL_6bfc60625e3b4794a02e192802657588",
       "value": "saket"
      }
     },
     "7284bf6863314315901193a0ec6d6e72": {
      "model_module": "@jupyter-widgets/base",
      "model_module_version": "1.0.0",
      "model_name": "LayoutModel",
      "state": {}
     },
     "72c6f0e0d115472290c8f36b370d4e12": {
      "model_module": "@jupyter-widgets/controls",
      "model_module_version": "1.1.0",
      "model_name": "SelectionSliderModel",
      "state": {
       "_options_labels": [
        "Less",
        "Neutral",
        "More"
       ],
       "continuous_update": false,
       "description": "Rate Article 7",
       "index": 1,
       "layout": "IPY_MODEL_487ba081e1114c96966fc9a74c59ed22",
       "style": "IPY_MODEL_18edf19800eb41da8d3a6150549dd4d1"
      }
     },
     "79a80ab1af974deb838b5543609a2e0d": {
      "model_module": "@jupyter-widgets/controls",
      "model_module_version": "1.1.0",
      "model_name": "TextareaModel",
      "state": {
       "disabled": true,
       "layout": "IPY_MODEL_e1c56d295b8440ce9c931f338cc80f07",
       "style": "IPY_MODEL_f138c963049c42cfa7a18fe2777148cc",
       "value": "Aaron Ramsey scored a hat-trick on Saturday as Arsenal thrashed Everton 5-1 in the Premier League at the Emirates with a display of free-flowing football that the Gunners have sorely lacked away from home this season."
      }
     },
     "79e1ae102fd94dcbb2a61fd5285bde75": {
      "model_module": "@jupyter-widgets/base",
      "model_module_version": "1.0.0",
      "model_name": "LayoutModel",
      "state": {}
     },
     "7a918da5ea584e7e985aaa0589604f31": {
      "model_module": "@jupyter-widgets/controls",
      "model_module_version": "1.1.0",
      "model_name": "SelectionSliderModel",
      "state": {
       "_options_labels": [
        "Less",
        "Neutral",
        "More"
       ],
       "continuous_update": false,
       "description": "Rate Article 3",
       "index": 1,
       "layout": "IPY_MODEL_ce38e8a6700345be85f150cecb3342ce",
       "style": "IPY_MODEL_f0c8bf10a7fb427ea4112cb991e76f92"
      }
     },
     "7d571f1b96a448fa8b561c5eac759226": {
      "model_module": "@jupyter-widgets/controls",
      "model_module_version": "1.1.0",
      "model_name": "SelectionSliderModel",
      "state": {
       "_options_labels": [
        "Less",
        "Neutral",
        "More"
       ],
       "continuous_update": false,
       "description": "Rate Article 6",
       "index": 1,
       "layout": "IPY_MODEL_e394526313924c9d9c7060acb2ae047a",
       "style": "IPY_MODEL_95f57cb6110440d595d2bea4c4edb72c"
      }
     },
     "7f133ab3f7204b27a8f17f8c808f7f9a": {
      "model_module": "@jupyter-widgets/controls",
      "model_module_version": "1.1.0",
      "model_name": "HBoxModel",
      "state": {
       "children": [
        "IPY_MODEL_c6fb469ed62c47d89bea6b967309ab35",
        "IPY_MODEL_4890151849fa4539840744f6f5234db9"
       ],
       "layout": "IPY_MODEL_cb67d971a3a84215873a1ada88b53757"
      }
     },
     "81515883e6514a038b983f81f45b5152": {
      "model_module": "@jupyter-widgets/base",
      "model_module_version": "1.0.0",
      "model_name": "LayoutModel",
      "state": {}
     },
     "81f4d4ec7246435392e0ef5cdde9e69b": {
      "model_module": "@jupyter-widgets/controls",
      "model_module_version": "1.1.0",
      "model_name": "ButtonModel",
      "state": {
       "description": "Arsenal Sign Aubameyang in Club-Record Transfer",
       "layout": "IPY_MODEL_1ca44567d2bd44b480271a7acb38a234",
       "style": "IPY_MODEL_ca50608368d64924a1b5b7766dd1e896"
      }
     },
     "838487cfce63485eb9570b0c19f12ffd": {
      "model_module": "@jupyter-widgets/controls",
      "model_module_version": "1.1.0",
      "model_name": "HBoxModel",
      "state": {
       "children": [
        "IPY_MODEL_81f4d4ec7246435392e0ef5cdde9e69b",
        "IPY_MODEL_86490f54531c4a2d94424aa21c5a8853"
       ],
       "layout": "IPY_MODEL_97a58a390828487b81aa0c0c2fdedc89"
      }
     },
     "8409f51a19ac46aba2a12df73dd111c2": {
      "model_module": "@jupyter-widgets/controls",
      "model_module_version": "1.1.0",
      "model_name": "DescriptionStyleModel",
      "state": {
       "description_width": ""
      }
     },
     "859a4843e243444e8cadf4fb9937e226": {
      "model_module": "@jupyter-widgets/controls",
      "model_module_version": "1.1.0",
      "model_name": "VBoxModel",
      "state": {
       "children": [
        "IPY_MODEL_c9c7471cf52e4f8b9e64f1b07d9c2a58",
        "IPY_MODEL_09d238f2040b40dd9fe8849ca979fc3a"
       ],
       "layout": "IPY_MODEL_bb97244de3f34e138eb880a1214a7dbe"
      }
     },
     "86490f54531c4a2d94424aa21c5a8853": {
      "model_module": "@jupyter-widgets/controls",
      "model_module_version": "1.1.0",
      "model_name": "SelectionSliderModel",
      "state": {
       "_options_labels": [
        "Less",
        "Neutral",
        "More"
       ],
       "continuous_update": false,
       "description": "Rate Article 5",
       "index": 1,
       "layout": "IPY_MODEL_eb130a1d9b1243d58ee7e34e194330f3",
       "style": "IPY_MODEL_d88f6a4178c3423eba8d6faa0198b3c9"
      }
     },
     "87de651633894cecae53340c6371e8f5": {
      "model_module": "@jupyter-widgets/controls",
      "model_module_version": "1.1.0",
      "model_name": "HBoxModel",
      "state": {
       "children": [
        "IPY_MODEL_3339c262054c418da9b5eae6b3f40f45",
        "IPY_MODEL_b2a0bdbd059c439d9cdc8563260aa59d",
        "IPY_MODEL_514ea6d7b6ff4fccba0eb81e55eb2662",
        "IPY_MODEL_c2d9b22cd1ce4f819ebc619aeb1a62c3"
       ],
       "layout": "IPY_MODEL_25c2c8da510a4c44aa681d1fa034b981"
      }
     },
     "88b4294e16674fea8c4132e59ed5aa0d": {
      "model_module": "@jupyter-widgets/controls",
      "model_module_version": "1.1.0",
      "model_name": "TextareaModel",
      "state": {
       "disabled": true,
       "layout": "IPY_MODEL_3066604b5864479aa003c5aee22cfbc0",
       "style": "IPY_MODEL_388ee6d3a68b4f7a88be71a5a3c30b6b",
       "value": "Arsenal midfielder Mesut Ozil has signed a new contract to extend his stay in north London, the Premier League club said on Thursday."
      }
     },
     "8a5247a8d8554ae590efef9c4a368ce5": {
      "model_module": "@jupyter-widgets/controls",
      "model_module_version": "1.1.0",
      "model_name": "HBoxModel",
      "state": {
       "children": [
        "IPY_MODEL_0607b68614384343acc5f455a6b26e9c",
        "IPY_MODEL_c2d92adf968b450585ca864be2f3ce07"
       ],
       "layout": "IPY_MODEL_71698cbefab74b228123fbcd51390225"
      }
     },
     "8ae8fc5be85b421eb7182e3e3807d628": {
      "model_module": "@jupyter-widgets/base",
      "model_module_version": "1.0.0",
      "model_name": "LayoutModel",
      "state": {}
     },
     "8edf65bd75be4582aad55d5390fab490": {
      "model_module": "@jupyter-widgets/controls",
      "model_module_version": "1.1.0",
      "model_name": "ButtonStyleModel",
      "state": {}
     },
     "91da4509b6fb48c78805be55cd566af6": {
      "model_module": "@jupyter-widgets/controls",
      "model_module_version": "1.1.0",
      "model_name": "DescriptionStyleModel",
      "state": {
       "description_width": ""
      }
     },
     "95f57cb6110440d595d2bea4c4edb72c": {
      "model_module": "@jupyter-widgets/controls",
      "model_module_version": "1.1.0",
      "model_name": "DescriptionStyleModel",
      "state": {
       "description_width": ""
      }
     },
     "97210ec589b6415685f9569751dd72da": {
      "model_module": "@jupyter-widgets/controls",
      "model_module_version": "1.1.0",
      "model_name": "ButtonModel",
      "state": {
       "description": "Arsenal Is in Crisis, but a Signing Changes the Mood",
       "layout": "IPY_MODEL_37091e29e2044f6fbb39bb0293795718",
       "style": "IPY_MODEL_b2c3b0b1679245a8bacbdc81f704f86d"
      }
     },
     "97a58a390828487b81aa0c0c2fdedc89": {
      "model_module": "@jupyter-widgets/base",
      "model_module_version": "1.0.0",
      "model_name": "LayoutModel",
      "state": {}
     },
     "98621e7af85749299fc52af4b205e808": {
      "model_module": "@jupyter-widgets/controls",
      "model_module_version": "1.1.0",
      "model_name": "LabelModel",
      "state": {
       "layout": "IPY_MODEL_717dac607e4e403c851b8c0e4ac65414",
       "style": "IPY_MODEL_e67fc41ff64340ae9fbff7292d66c106",
       "value": "->->->->->"
      }
     },
     "9954c574e737460d997833eb0930f80d": {
      "model_module": "@jupyter-widgets/controls",
      "model_module_version": "1.1.0",
      "model_name": "ButtonStyleModel",
      "state": {
       "button_color": "SkyBlue",
       "font_weight": "bold"
      }
     },
     "99a083ae15fa4ba4bd48e71b32fd9906": {
      "model_module": "@jupyter-widgets/base",
      "model_module_version": "1.0.0",
      "model_name": "LayoutModel",
      "state": {}
     },
     "99ca38838cfc44a2a8ac7888c1988931": {
      "model_module": "@jupyter-widgets/controls",
      "model_module_version": "1.1.0",
      "model_name": "DescriptionStyleModel",
      "state": {
       "description_width": ""
      }
     },
     "9ba2b438bd7248199b50816abd123ba4": {
      "model_module": "@jupyter-widgets/controls",
      "model_module_version": "1.1.0",
      "model_name": "HBoxModel",
      "state": {
       "children": [
        "IPY_MODEL_97210ec589b6415685f9569751dd72da",
        "IPY_MODEL_f12dd77679d845d79d7c829993a05593"
       ],
       "layout": "IPY_MODEL_99a083ae15fa4ba4bd48e71b32fd9906"
      }
     },
     "9d6c4debc10145849a396ad26a502a65": {
      "model_module": "@jupyter-widgets/base",
      "model_module_version": "1.0.0",
      "model_name": "LayoutModel",
      "state": {
       "height": "40px",
       "width": "80%"
      }
     },
     "9d862706df8940edbd60cfa08f2b441d": {
      "model_module": "@jupyter-widgets/controls",
      "model_module_version": "1.1.0",
      "model_name": "ButtonModel",
      "state": {
       "description": "Ramsey Hat-Trick Helps Arsenal to Thrash Everton 5-1",
       "layout": "IPY_MODEL_d8aa4c5e5b854c789ca241627b3380ec",
       "style": "IPY_MODEL_362b05b7242e43bcbaa851a4fc7265de"
      }
     },
     "9dca0d9d41dd47f1913404d4d8233a59": {
      "model_module": "@jupyter-widgets/controls",
      "model_module_version": "1.1.0",
      "model_name": "ButtonModel",
      "state": {
       "description": "Ozil Commits Long-Term Future to Arsenal",
       "layout": "IPY_MODEL_291220dfa2154e699377a912aa5fab1e",
       "style": "IPY_MODEL_9954c574e737460d997833eb0930f80d"
      }
     },
     "9e575bfb15804dcb8ba328e6260fd6f5": {
      "model_module": "@jupyter-widgets/controls",
      "model_module_version": "1.1.0",
      "model_name": "HBoxModel",
      "state": {
       "children": [
        "IPY_MODEL_9dca0d9d41dd47f1913404d4d8233a59",
        "IPY_MODEL_7d571f1b96a448fa8b561c5eac759226"
       ],
       "layout": "IPY_MODEL_cb1022644b744565901e0db6ffdc3ea5"
      }
     },
     "a3bca117f35b4e38abdf20311bd93609": {
      "model_module": "@jupyter-widgets/base",
      "model_module_version": "1.0.0",
      "model_name": "LayoutModel",
      "state": {}
     },
     "a51fbaa1875742cd99e449a1b1ecf6c8": {
      "model_module": "@jupyter-widgets/base",
      "model_module_version": "1.0.0",
      "model_name": "LayoutModel",
      "state": {}
     },
     "a7581f90e3c8444d9aecbacc0be4192f": {
      "model_module": "@jupyter-widgets/controls",
      "model_module_version": "1.1.0",
      "model_name": "DescriptionStyleModel",
      "state": {
       "description_width": ""
      }
     },
     "a84fba61beab426287b843d996869b18": {
      "model_module": "@jupyter-widgets/base",
      "model_module_version": "1.0.0",
      "model_name": "LayoutModel",
      "state": {
       "height": "40px",
       "width": "80%"
      }
     },
     "acb920cebde74aaf881d297b2ae963d0": {
      "model_module": "@jupyter-widgets/controls",
      "model_module_version": "1.1.0",
      "model_name": "DescriptionStyleModel",
      "state": {
       "description_width": ""
      }
     },
     "ae5a2c0f09934ccaa17aa950679b4626": {
      "model_module": "@jupyter-widgets/controls",
      "model_module_version": "1.1.0",
      "model_name": "LabelModel",
      "state": {
       "layout": "IPY_MODEL_d2dd19d17043410ab0c18ef4fe4f28bd",
       "style": "IPY_MODEL_6d0ac60d5d5d458e88f2fa152a992990",
       "value": "Username:"
      }
     },
     "aec28c23e4d34a96b49eed61df817e0e": {
      "model_module": "@jupyter-widgets/base",
      "model_module_version": "1.0.0",
      "model_name": "LayoutModel",
      "state": {}
     },
     "b1ef6bb779ca45048e976ffff84c9b6a": {
      "model_module": "@jupyter-widgets/controls",
      "model_module_version": "1.1.0",
      "model_name": "HBoxModel",
      "state": {
       "children": [
        "IPY_MODEL_24ac415578494ea99af86279235a4c9d",
        "IPY_MODEL_f79b744e6cf140a6a31abb2e42b0e584"
       ],
       "layout": "IPY_MODEL_08a87bc3ab064c7f9597be033fc69eae"
      }
     },
     "b2629113a4b74816931e0b4a2d771bb2": {
      "model_module": "@jupyter-widgets/base",
      "model_module_version": "1.0.0",
      "model_name": "LayoutModel",
      "state": {}
     },
     "b2a0bdbd059c439d9cdc8563260aa59d": {
      "model_module": "@jupyter-widgets/controls",
      "model_module_version": "1.1.0",
      "model_name": "LabelModel",
      "state": {
       "layout": "IPY_MODEL_5c04a715d7254f7cb3aa9695633d3298",
       "style": "IPY_MODEL_ecac2debbf584251bb18574ee295e293"
      }
     },
     "b2c0ed71d20d4453b7fe31c17b5caac2": {
      "model_module": "@jupyter-widgets/base",
      "model_module_version": "1.0.0",
      "model_name": "LayoutModel",
      "state": {}
     },
     "b2c3b0b1679245a8bacbdc81f704f86d": {
      "model_module": "@jupyter-widgets/controls",
      "model_module_version": "1.1.0",
      "model_name": "ButtonStyleModel",
      "state": {
       "button_color": "SkyBlue",
       "font_weight": "bold"
      }
     },
     "b73119d152ec4faea36cbbdbd5e038ac": {
      "model_module": "@jupyter-widgets/controls",
      "model_module_version": "1.1.0",
      "model_name": "ButtonStyleModel",
      "state": {
       "button_color": "SkyBlue",
       "font_weight": "bold"
      }
     },
     "bb97244de3f34e138eb880a1214a7dbe": {
      "model_module": "@jupyter-widgets/base",
      "model_module_version": "1.0.0",
      "model_name": "LayoutModel",
      "state": {}
     },
     "bc5bbf269434400e8cb6218e0437599e": {
      "model_module": "@jupyter-widgets/base",
      "model_module_version": "1.0.0",
      "model_name": "LayoutModel",
      "state": {
       "height": "50px",
       "width": "99.5%"
      }
     },
     "bda7679ddafc4996a09eb2d55eb68455": {
      "model_module": "@jupyter-widgets/controls",
      "model_module_version": "1.1.0",
      "model_name": "VBoxModel",
      "state": {
       "children": [
        "IPY_MODEL_58cde7fa83684cd3a2aa3cafe0ca6881",
        "IPY_MODEL_3982fb502cf340baad8375ac2663b8a3"
       ],
       "layout": "IPY_MODEL_a3bca117f35b4e38abdf20311bd93609"
      }
     },
     "be816ba630d3443492b667728f0597cd": {
      "model_module": "@jupyter-widgets/controls",
      "model_module_version": "1.1.0",
      "model_name": "ButtonStyleModel",
      "state": {
       "button_color": "SkyBlue",
       "font_weight": "bold"
      }
     },
     "c2d92adf968b450585ca864be2f3ce07": {
      "model_module": "@jupyter-widgets/controls",
      "model_module_version": "1.1.0",
      "model_name": "SelectionSliderModel",
      "state": {
       "_options_labels": [
        "Less",
        "Neutral",
        "More"
       ],
       "continuous_update": false,
       "description": "Rate Article 8",
       "index": 1,
       "layout": "IPY_MODEL_7284bf6863314315901193a0ec6d6e72",
       "style": "IPY_MODEL_f0d14bb309754883a0c79faceb79cd48"
      }
     },
     "c2d9b22cd1ce4f819ebc619aeb1a62c3": {
      "model_module": "@jupyter-widgets/controls",
      "model_module_version": "1.1.0",
      "model_name": "VBoxModel",
      "state": {
       "children": [
        "IPY_MODEL_2b05191957ae42ba8a0489ba9fb7b226",
        "IPY_MODEL_1fd714f2a9ea4a938d0d823263742391"
       ],
       "layout": "IPY_MODEL_6a98813256f44a8aaede73e2af5189a3"
      }
     },
     "c312f1c55dd84288bf5899b1e49f6c57": {
      "model_module": "@jupyter-widgets/controls",
      "model_module_version": "1.1.0",
      "model_name": "HBoxModel",
      "state": {
       "children": [
        "IPY_MODEL_2d5c96f0f845409d883afe625107ee74",
        "IPY_MODEL_7a918da5ea584e7e985aaa0589604f31"
       ],
       "layout": "IPY_MODEL_32f08c555a204b30b4b7d5c8fd11a7c1"
      }
     },
     "c3643e881c284b5ebd8e3644088306e0": {
      "model_module": "@jupyter-widgets/base",
      "model_module_version": "1.0.0",
      "model_name": "LayoutModel",
      "state": {}
     },
     "c6fb469ed62c47d89bea6b967309ab35": {
      "model_module": "@jupyter-widgets/controls",
      "model_module_version": "1.1.0",
      "model_name": "ButtonModel",
      "state": {
       "description": "Arsenal Football Club",
       "layout": "IPY_MODEL_421aa87a684140bfa79390db15a60f4e",
       "style": "IPY_MODEL_2174515f304949e28eefedf9badb545a"
      }
     },
     "c7da13790cde413aa083f5ebee73cc53": {
      "model_module": "@jupyter-widgets/base",
      "model_module_version": "1.0.0",
      "model_name": "LayoutModel",
      "state": {
       "width": "150px"
      }
     },
     "c9c7471cf52e4f8b9e64f1b07d9c2a58": {
      "model_module": "@jupyter-widgets/controls",
      "model_module_version": "1.1.0",
      "model_name": "HBoxModel",
      "state": {
       "children": [
        "IPY_MODEL_d64c9fb96ce3469e9dbc36e94c65addb",
        "IPY_MODEL_e9b3a3ad140b4309a6ee0358c2a5072c"
       ],
       "layout": "IPY_MODEL_b2629113a4b74816931e0b4a2d771bb2"
      }
     },
     "ca50608368d64924a1b5b7766dd1e896": {
      "model_module": "@jupyter-widgets/controls",
      "model_module_version": "1.1.0",
      "model_name": "ButtonStyleModel",
      "state": {
       "button_color": "SkyBlue",
       "font_weight": "bold"
      }
     },
     "cb1022644b744565901e0db6ffdc3ea5": {
      "model_module": "@jupyter-widgets/base",
      "model_module_version": "1.0.0",
      "model_name": "LayoutModel",
      "state": {}
     },
     "cb67d971a3a84215873a1ada88b53757": {
      "model_module": "@jupyter-widgets/base",
      "model_module_version": "1.0.0",
      "model_name": "LayoutModel",
      "state": {}
     },
     "cc2d5737915f4b05b94f043a9b388623": {
      "model_module": "@jupyter-widgets/base",
      "model_module_version": "1.0.0",
      "model_name": "LayoutModel",
      "state": {
       "border": "solid"
      }
     },
     "ce38e8a6700345be85f150cecb3342ce": {
      "model_module": "@jupyter-widgets/base",
      "model_module_version": "1.0.0",
      "model_name": "LayoutModel",
      "state": {}
     },
     "cf8b2b28eee5438db73e44e1760ec747": {
      "model_module": "@jupyter-widgets/controls",
      "model_module_version": "1.1.0",
      "model_name": "SelectionSliderModel",
      "state": {
       "_options_labels": [
        "Less",
        "Neutral",
        "More"
       ],
       "continuous_update": false,
       "description": "Rate Article 10",
       "index": 1,
       "layout": "IPY_MODEL_ee075eef81e94834bb985da532bbfc6a",
       "style": "IPY_MODEL_91da4509b6fb48c78805be55cd566af6"
      }
     },
     "d2dd19d17043410ab0c18ef4fe4f28bd": {
      "model_module": "@jupyter-widgets/base",
      "model_module_version": "1.0.0",
      "model_name": "LayoutModel",
      "state": {}
     },
     "d64c9fb96ce3469e9dbc36e94c65addb": {
      "model_module": "@jupyter-widgets/controls",
      "model_module_version": "1.1.0",
      "model_name": "ButtonModel",
      "state": {
       "description": "On Sánchez, City Passes and United Strikes",
       "layout": "IPY_MODEL_501589ddfd044581a612c1ef63f828b2",
       "style": "IPY_MODEL_320e0e57d139485eadf463dac95ea8d1"
      }
     },
     "d67e40396e774752bb6e61539f17b697": {
      "model_module": "@jupyter-widgets/controls",
      "model_module_version": "1.1.0",
      "model_name": "DescriptionStyleModel",
      "state": {
       "description_width": ""
      }
     },
     "d8003360b55b46c391c609dc308e8094": {
      "model_module": "@jupyter-widgets/controls",
      "model_module_version": "1.1.0",
      "model_name": "ButtonStyleModel",
      "state": {}
     },
     "d88f6a4178c3423eba8d6faa0198b3c9": {
      "model_module": "@jupyter-widgets/controls",
      "model_module_version": "1.1.0",
      "model_name": "DescriptionStyleModel",
      "state": {
       "description_width": ""
      }
     },
     "d8aa4c5e5b854c789ca241627b3380ec": {
      "model_module": "@jupyter-widgets/base",
      "model_module_version": "1.0.0",
      "model_name": "LayoutModel",
      "state": {
       "height": "40px",
       "width": "80%"
      }
     },
     "dc9025af5ee145f2a1962559a3560c4d": {
      "model_module": "@jupyter-widgets/controls",
      "model_module_version": "1.1.0",
      "model_name": "VBoxModel",
      "state": {
       "children": [
        "IPY_MODEL_3a75af098249426abdf975c0d8860f72",
        "IPY_MODEL_79a80ab1af974deb838b5543609a2e0d"
       ],
       "layout": "IPY_MODEL_b2c0ed71d20d4453b7fe31c17b5caac2"
      }
     },
     "e1c56d295b8440ce9c931f338cc80f07": {
      "model_module": "@jupyter-widgets/base",
      "model_module_version": "1.0.0",
      "model_name": "LayoutModel",
      "state": {
       "height": "50px",
       "width": "99.5%"
      }
     },
     "e394526313924c9d9c7060acb2ae047a": {
      "model_module": "@jupyter-widgets/base",
      "model_module_version": "1.0.0",
      "model_name": "LayoutModel",
      "state": {}
     },
     "e47f03fa898b41aea03d60501ebd0e4f": {
      "model_module": "@jupyter-widgets/base",
      "model_module_version": "1.0.0",
      "model_name": "LayoutModel",
      "state": {
       "height": "40px",
       "width": "80%"
      }
     },
     "e67fc41ff64340ae9fbff7292d66c106": {
      "model_module": "@jupyter-widgets/controls",
      "model_module_version": "1.1.0",
      "model_name": "DescriptionStyleModel",
      "state": {
       "description_width": ""
      }
     },
     "e9b3a3ad140b4309a6ee0358c2a5072c": {
      "model_module": "@jupyter-widgets/controls",
      "model_module_version": "1.1.0",
      "model_name": "SelectionSliderModel",
      "state": {
       "_options_labels": [
        "Less",
        "Neutral",
        "More"
       ],
       "continuous_update": false,
       "description": "Rate Article 9",
       "index": 1,
       "layout": "IPY_MODEL_70846d5171d84bc484d6a1979f9efb7c",
       "style": "IPY_MODEL_acb920cebde74aaf881d297b2ae963d0"
      }
     },
     "ea03e360da6746f48662a6d58acc6546": {
      "model_module": "@jupyter-widgets/controls",
      "model_module_version": "1.1.0",
      "model_name": "ButtonStyleModel",
      "state": {
       "button_color": "SkyBlue",
       "font_weight": "bold"
      }
     },
     "ea2be55cc31d427fb61bd8da6ab416df": {
      "model_module": "@jupyter-widgets/base",
      "model_module_version": "1.0.0",
      "model_name": "LayoutModel",
      "state": {
       "height": "40px",
       "width": "80%"
      }
     },
     "eb130a1d9b1243d58ee7e34e194330f3": {
      "model_module": "@jupyter-widgets/base",
      "model_module_version": "1.0.0",
      "model_name": "LayoutModel",
      "state": {}
     },
     "ecac2debbf584251bb18574ee295e293": {
      "model_module": "@jupyter-widgets/controls",
      "model_module_version": "1.1.0",
      "model_name": "DescriptionStyleModel",
      "state": {
       "description_width": ""
      }
     },
     "ee075eef81e94834bb985da532bbfc6a": {
      "model_module": "@jupyter-widgets/base",
      "model_module_version": "1.0.0",
      "model_name": "LayoutModel",
      "state": {}
     },
     "efd9fd49ed794f55bad729dc54b0b740": {
      "model_module": "@jupyter-widgets/base",
      "model_module_version": "1.0.0",
      "model_name": "LayoutModel",
      "state": {
       "height": "50px",
       "width": "99.5%"
      }
     },
     "f0c8bf10a7fb427ea4112cb991e76f92": {
      "model_module": "@jupyter-widgets/controls",
      "model_module_version": "1.1.0",
      "model_name": "DescriptionStyleModel",
      "state": {
       "description_width": ""
      }
     },
     "f0d14bb309754883a0c79faceb79cd48": {
      "model_module": "@jupyter-widgets/controls",
      "model_module_version": "1.1.0",
      "model_name": "DescriptionStyleModel",
      "state": {
       "description_width": ""
      }
     },
     "f12dd77679d845d79d7c829993a05593": {
      "model_module": "@jupyter-widgets/controls",
      "model_module_version": "1.1.0",
      "model_name": "SelectionSliderModel",
      "state": {
       "_options_labels": [
        "Less",
        "Neutral",
        "More"
       ],
       "continuous_update": false,
       "description": "Rate Article 1",
       "index": 1,
       "layout": "IPY_MODEL_f77b071fc4f547669b76eab3d04c6ba3",
       "style": "IPY_MODEL_58169b4f9dd048d0bbd19d912a6d353f"
      }
     },
     "f138c963049c42cfa7a18fe2777148cc": {
      "model_module": "@jupyter-widgets/controls",
      "model_module_version": "1.1.0",
      "model_name": "DescriptionStyleModel",
      "state": {
       "description_width": ""
      }
     },
     "f1bcf7cf56714369a7fb28ee999f53be": {
      "model_module": "@jupyter-widgets/controls",
      "model_module_version": "1.1.0",
      "model_name": "DescriptionStyleModel",
      "state": {
       "description_width": ""
      }
     },
     "f2261d1e7f6a4f98bab914bdf3e69518": {
      "model_module": "@jupyter-widgets/controls",
      "model_module_version": "1.1.0",
      "model_name": "ButtonStyleModel",
      "state": {
       "button_color": "SkyBlue",
       "font_weight": "bold"
      }
     },
     "f4e4800c920b432ca610c322dc4afc1b": {
      "model_module": "@jupyter-widgets/base",
      "model_module_version": "1.0.0",
      "model_name": "LayoutModel",
      "state": {}
     },
     "f77b071fc4f547669b76eab3d04c6ba3": {
      "model_module": "@jupyter-widgets/base",
      "model_module_version": "1.0.0",
      "model_name": "LayoutModel",
      "state": {}
     },
     "f79b744e6cf140a6a31abb2e42b0e584": {
      "model_module": "@jupyter-widgets/controls",
      "model_module_version": "1.1.0",
      "model_name": "SelectionSliderModel",
      "state": {
       "_options_labels": [
        "Less",
        "Neutral",
        "More"
       ],
       "continuous_update": false,
       "description": "Rate Article 4",
       "index": 1,
       "layout": "IPY_MODEL_8ae8fc5be85b421eb7182e3e3807d628",
       "style": "IPY_MODEL_1836c31967ca480a8708af46513ad703"
      }
     },
     "fc034b892bd7486ea5dbda6e1fad5f08": {
      "model_module": "@jupyter-widgets/controls",
      "model_module_version": "1.1.0",
      "model_name": "TextareaModel",
      "state": {
       "disabled": true,
       "layout": "IPY_MODEL_5a9c884563384108b93e661f021940a4",
       "style": "IPY_MODEL_5db6fcd219194bb2aa2b9053a67ad351",
       "value": "Tottenham Hotspur host North London neighbours Arsenal in the early Saturday kickoff at Wembley.    "
      }
     },
     "fc2e6c81aa85487bb51d380bf8b43dfd": {
      "model_module": "@jupyter-widgets/controls",
      "model_module_version": "1.1.0",
      "model_name": "HBoxModel",
      "state": {
       "children": [
        "IPY_MODEL_3bfeffb9b29d48cfb83e2f2c76f6fedd",
        "IPY_MODEL_4733e31d0f95441084b9ae4ecd986fc8"
       ],
       "layout": "IPY_MODEL_a51fbaa1875742cd99e449a1b1ecf6c8"
      }
     },
     "ff68a3c1aff34d0e8dd365dc0a2f57a0": {
      "model_module": "@jupyter-widgets/base",
      "model_module_version": "1.0.0",
      "model_name": "LayoutModel",
      "state": {}
     }
    },
    "version_major": 2,
    "version_minor": 0
   }
  }
 },
 "nbformat": 4,
 "nbformat_minor": 2
}
